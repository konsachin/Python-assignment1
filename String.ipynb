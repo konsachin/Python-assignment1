{
 "cells": [
  {
   "cell_type": "code",
   "execution_count": 1,
   "id": "5f25855a-b000-4b83-9cf8-bed92bceaf5c",
   "metadata": {},
   "outputs": [],
   "source": [
    "#Strings >> string is a sequence of character\n",
    "#characters are represented using numerical values \n",
    "#ASCII ( 7 BITS) and UNICODE (16 BITS)"
   ]
  },
  {
   "cell_type": "code",
   "execution_count": 4,
   "id": "e01f86af-170c-4130-bd84-f58007b2694e",
   "metadata": {},
   "outputs": [
    {
     "data": {
      "text/plain": [
       "65"
      ]
     },
     "execution_count": 4,
     "metadata": {},
     "output_type": "execute_result"
    }
   ],
   "source": [
    "char = \"A\"\n",
    "ord(char)"
   ]
  },
  {
   "cell_type": "code",
   "execution_count": 6,
   "id": "3011a161-afee-401a-8984-d4280b5170a4",
   "metadata": {},
   "outputs": [
    {
     "data": {
      "text/plain": [
       "'Ω'"
      ]
     },
     "execution_count": 6,
     "metadata": {},
     "output_type": "execute_result"
    }
   ],
   "source": [
    "#UNICODE representation \n",
    "#omega\n",
    "'\\u03a9'"
   ]
  },
  {
   "cell_type": "code",
   "execution_count": 7,
   "id": "922a3bb4-d99e-4d63-80d4-9bc85156b269",
   "metadata": {},
   "outputs": [
    {
     "data": {
      "text/plain": [
       "str"
      ]
     },
     "execution_count": 7,
     "metadata": {},
     "output_type": "execute_result"
    }
   ],
   "source": [
    "#Strings \n",
    "s = \"string1\"\n",
    "type(s)"
   ]
  },
  {
   "cell_type": "code",
   "execution_count": 8,
   "id": "6c91a8ff-9e69-413b-b211-ef23ca08e5a9",
   "metadata": {},
   "outputs": [
    {
     "data": {
      "text/plain": [
       "\"'I'm a good student'\""
      ]
     },
     "execution_count": 8,
     "metadata": {},
     "output_type": "execute_result"
    }
   ],
   "source": [
    "\"'I'm a good student'\""
   ]
  },
  {
   "cell_type": "code",
   "execution_count": 9,
   "id": "126d1591-ab30-4189-9d14-fe9127c68f61",
   "metadata": {},
   "outputs": [
    {
     "data": {
      "text/plain": [
       "\"'I'm a good student'\""
      ]
     },
     "execution_count": 9,
     "metadata": {},
     "output_type": "execute_result"
    }
   ],
   "source": [
    "\"'I'm a good student'\""
   ]
  },
  {
   "cell_type": "code",
   "execution_count": null,
   "id": "0ae93b40-69a6-43a6-998c-9849be9f0644",
   "metadata": {},
   "outputs": [],
   "source": []
  }
 ],
 "metadata": {
  "kernelspec": {
   "display_name": "Python 3 (ipykernel)",
   "language": "python",
   "name": "python3"
  },
  "language_info": {
   "codemirror_mode": {
    "name": "ipython",
    "version": 3
   },
   "file_extension": ".py",
   "mimetype": "text/x-python",
   "name": "python",
   "nbconvert_exporter": "python",
   "pygments_lexer": "ipython3",
   "version": "3.10.8"
  }
 },
 "nbformat": 4,
 "nbformat_minor": 5
}
