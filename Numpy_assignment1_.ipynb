{
  "cells": [
    {
      "cell_type": "code",
      "execution_count": null,
      "id": "04cc2794-c50a-474d-9a17-a715a1d3bd1f",
      "metadata": {
        "id": "04cc2794-c50a-474d-9a17-a715a1d3bd1f",
        "outputId": "c372c172-c24f-4638-9187-a6f650f0091d"
      },
      "outputs": [
        {
          "data": {
            "text/plain": [
              "list"
            ]
          },
          "execution_count": 4,
          "metadata": {},
          "output_type": "execute_result"
        }
      ],
      "source": [
        "#Q1). Create a NumPy array 'arr' of integers from 0 to 5 and print its data type.\n",
        "import numpy as np\n",
        "np.arr = ([0, 1, 2, 3, 4, 5])\n",
        "arr\n",
        "type(arr)"
      ]
    },
    {
      "cell_type": "code",
      "execution_count": null,
      "id": "e03c1431-62a0-493c-90da-f8b88ccd3ada",
      "metadata": {
        "id": "e03c1431-62a0-493c-90da-f8b88ccd3ada"
      },
      "outputs": [],
      "source": [
        "# Q2)Given a NumPy array 'arr', check if its data type is float64.\n",
        "arr = np.array([1.5, 2.6, 3.7])\n",
        "arr = is_float64 = arr.dtype == np.float64\n",
        ""
      ]
    },
    {
      "cell_type": "code",
      "execution_count": null,
      "id": "f81fdddb-4f9c-48ef-9f4f-e4f6d149cece",
      "metadata": {
        "id": "f81fdddb-4f9c-48ef-9f4f-e4f6d149cece",
        "outputId": "11475ec0-79f6-47c1-d8dc-f2ec41cda945"
      },
      "outputs": [
        {
          "data": {
            "text/plain": [
              "True"
            ]
          },
          "execution_count": 15,
          "metadata": {},
          "output_type": "execute_result"
        }
      ],
      "source": [
        "arr"
      ]
    },
    {
      "cell_type": "code",
      "execution_count": null,
      "id": "2a76baaf-4941-4daf-a28d-01c573c412c2",
      "metadata": {
        "id": "2a76baaf-4941-4daf-a28d-01c573c412c2",
        "outputId": "61b8c8ce-b70b-4f82-8943-830b7d7adf45"
      },
      "outputs": [
        {
          "name": "stdout",
          "output_type": "stream",
          "text": [
            "[1.+2.j 3.+4.j 5.+6.j]\n",
            "complex128\n"
          ]
        }
      ],
      "source": [
        "#Q3). Create a NumPy array 'arr' with a data type of complex128 containing three complex numbers.\n",
        "import numpy as np\n",
        "\n",
        "# Create a NumPy array with a data type of complex128 containing three complex numbers\n",
        "arr = np.array([1+2j, 3+4j, 5+6j], dtype=np.complex128)\n",
        "\n",
        "# Print the array and its data type\n",
        "print(arr)\n",
        "print(arr.dtype)\n"
      ]
    },
    {
      "cell_type": "code",
      "execution_count": null,
      "id": "5b2ee6d0-5872-4632-8f26-dfc0b27d9d45",
      "metadata": {
        "id": "5b2ee6d0-5872-4632-8f26-dfc0b27d9d45",
        "outputId": "ae5f04de-3b17-41e4-d793-5a72f94fb902"
      },
      "outputs": [
        {
          "name": "stdout",
          "output_type": "stream",
          "text": [
            "[1. 2. 3. 4. 5.]\n",
            "float32\n"
          ]
        }
      ],
      "source": [
        "#Q4). Convert an existing NumPy array 'arr' of integers to float32 data type.\n",
        "\n",
        "arr = np.array([1, 2, 3, 4, 5])\n",
        "arr_float32 = arr.astype(np.float32)\n",
        "\n",
        "# Print the converted array and its data type\n",
        "print(arr_float32)\n",
        "print(arr_float32.dtype)\n"
      ]
    },
    {
      "cell_type": "code",
      "execution_count": null,
      "id": "2d0fd5de-939a-400b-a3b1-d7f55cc864e1",
      "metadata": {
        "id": "2d0fd5de-939a-400b-a3b1-d7f55cc864e1",
        "outputId": "57c5801d-ee25-4fec-bee3-839eab0f1f9c"
      },
      "outputs": [
        {
          "name": "stdout",
          "output_type": "stream",
          "text": [
            "[1.1234568 2.1234567 3.1234567]\n",
            "float32\n"
          ]
        }
      ],
      "source": [
        "#Q5). Given a NumPy array 'arr' with float64 data type, convert it to float32 to reduce decimal precision.\n",
        "\n",
        "\n",
        "arr = np.array([1.123456789, 2.123456789, 3.123456789], dtype=np.float64)\n",
        "arr_float32 = arr.astype(np.float32)\n",
        "\n",
        "\n",
        "print(arr_float32)\n",
        "print(arr_float32.dtype)\n"
      ]
    },
    {
      "cell_type": "code",
      "execution_count": null,
      "id": "e821ef0b-4706-4ba2-af61-a9a8163b9aff",
      "metadata": {
        "id": "e821ef0b-4706-4ba2-af61-a9a8163b9aff",
        "outputId": "52cfdb86-009d-4f92-ebed-0bbfde2d85bf"
      },
      "outputs": [
        {
          "name": "stdout",
          "output_type": "stream",
          "text": [
            "Shape: (2, 3)\n",
            "Size: 6\n",
            "Data Type: int64\n"
          ]
        }
      ],
      "source": [
        "#Q6) Write a function array_attributes that takes a NumPy array as input and returns its shape, size, and data type\n",
        "def array_attributes(arr):\n",
        "    shape = arr.shape\n",
        "    size = arr.size\n",
        "    dtype = arr.dtype\n",
        "\n",
        "    return shape, size, dtype\n",
        "arr = np.array([[1, 2, 3], [4, 5, 6]])\n",
        "shape, size, dtype = array_attributes(arr)\n",
        "print(\"Shape:\", shape)\n",
        "print(\"Size:\", size)\n",
        "print(\"Data Type:\", dtype)"
      ]
    },
    {
      "cell_type": "code",
      "execution_count": null,
      "id": "cc034137-8e59-4567-b59a-19c6b768c2b6",
      "metadata": {
        "id": "cc034137-8e59-4567-b59a-19c6b768c2b6",
        "outputId": "c22df366-4214-454a-e58c-36563513114b"
      },
      "outputs": [
        {
          "name": "stdout",
          "output_type": "stream",
          "text": [
            "Dimensionality: 2\n"
          ]
        }
      ],
      "source": [
        "#Q7). Create a function array_dimension that takes a NumPy array as input and returns its dimensionality.\n",
        "import numpy as np\n",
        "\n",
        "def array_dimension(arr):\n",
        "    \"\"\"\n",
        "    Takes a NumPy array as input and returns its dimensionality.\n",
        "\n",
        "    Parameters:\n",
        "    arr (np.ndarray): Input NumPy array\n",
        "\n",
        "    Returns:\n",
        "    int: The dimensionality of the array\n",
        "    \"\"\"\n",
        "    return arr.ndim\n",
        "\n",
        "# Example usage:\n",
        "arr = np.array([[1, 2, 3], [4, 5, 6]])\n",
        "dimensionality = array_dimension(arr)\n",
        "print(\"Dimensionality:\", dimensionality)\n"
      ]
    },
    {
      "cell_type": "code",
      "execution_count": null,
      "id": "16746156-398d-4fb7-8d10-d5cb0f9a1277",
      "metadata": {
        "id": "16746156-398d-4fb7-8d10-d5cb0f9a1277"
      },
      "outputs": [],
      "source": [
        "#Q8). Design a function item_size_info that takes a NumPy array as input and returns the item size and the total size in bytes.\n",
        "def item_size_info(arr):\n",
        "    item_size = arr.itemsize\n",
        "    total_size = arr.nbytes\n",
        "\n",
        "    return item_size, total_size\n"
      ]
    },
    {
      "cell_type": "code",
      "execution_count": null,
      "id": "02946714-c475-41b1-a975-616eb11c95b6",
      "metadata": {
        "id": "02946714-c475-41b1-a975-616eb11c95b6",
        "outputId": "65592a29-8ae9-48f7-973e-1fc27bfa3248"
      },
      "outputs": [
        {
          "name": "stdout",
          "output_type": "stream",
          "text": [
            "Item Size (bytes): 8\n",
            "Total Size (bytes): 48\n"
          ]
        }
      ],
      "source": [
        "arr = np.array([[1, 2, 3], [4, 5, 6]])\n",
        "item_size, total_size = item_size_info(arr)\n",
        "print(\"Item Size (bytes):\", item_size)\n",
        "print(\"Total Size (bytes):\", total_size)"
      ]
    },
    {
      "cell_type": "code",
      "execution_count": null,
      "id": "972b0d2a-dbfc-4488-a1de-c4f68ae605cf",
      "metadata": {
        "id": "972b0d2a-dbfc-4488-a1de-c4f68ae605cf",
        "outputId": "5215a88c-52f8-4d1d-bd3c-eda6277917bd"
      },
      "outputs": [
        {
          "name": "stdout",
          "output_type": "stream",
          "text": [
            "(24, 8)\n"
          ]
        }
      ],
      "source": [
        "#Q9). Create a function array_strides that takes a NumPy array as input and returns the strides of the array.\n",
        "import numpy as np\n",
        "\n",
        "def array_strides(arr):\n",
        "    return arr.strides\n",
        "\n",
        "arr = np.array([[1, 2, 3], [4, 5, 6]])\n",
        "print(array_strides(arr))\n"
      ]
    },
    {
      "cell_type": "code",
      "execution_count": null,
      "id": "e736d83c-abf3-4b40-bfec-254610c519b1",
      "metadata": {
        "id": "e736d83c-abf3-4b40-bfec-254610c519b1",
        "outputId": "c5d34137-ac22-4309-bfe9-4748a74bf6b6"
      },
      "outputs": [
        {
          "name": "stdout",
          "output_type": "stream",
          "text": [
            "Shape: (2, 3)\n",
            "Strides: (24, 8)\n"
          ]
        }
      ],
      "source": [
        "#Q10). Design a function shape_stride_relationship that takes a NumPy array as input and returns the shape and strides of the array.\n",
        "import numpy as np\n",
        "\n",
        "def shape_stride_relationship(arr):\n",
        "    return arr.shape, arr.strides\n",
        "\n",
        "# Example usage\n",
        "arr = np.array([[1, 2, 3], [4, 5, 6]])\n",
        "shape, strides = shape_stride_relationship(arr)\n",
        "print(f\"Shape: {shape}\")\n",
        "print(f\"Strides: {strides}\")\n"
      ]
    },
    {
      "cell_type": "code",
      "execution_count": null,
      "id": "e4239ef2-07c3-45b2-b2b8-9f00e3084cc6",
      "metadata": {
        "id": "e4239ef2-07c3-45b2-b2b8-9f00e3084cc6",
        "outputId": "a62df1a9-ec99-4782-8bbd-682f129651c6"
      },
      "outputs": [
        {
          "name": "stdout",
          "output_type": "stream",
          "text": [
            "[0. 0. 0. 0. 0. 0. 0. 0.]\n"
          ]
        }
      ],
      "source": [
        "#11. Create a function `create_zeros_array` that takes an integer `n` as input and returns a NumPy array of zeros with `n` elements.\n",
        "import numpy as np\n",
        "\n",
        "def create_zeros_array(n):\n",
        "    return np.zeros(n)\n",
        "\n",
        "# Example usage\n",
        "n = 8\n",
        "zeros_array = create_zeros_array(n)\n",
        "print(zeros_array)\n"
      ]
    },
    {
      "cell_type": "code",
      "execution_count": null,
      "id": "aa53b444-d070-431c-b0ba-036086b918d8",
      "metadata": {
        "id": "aa53b444-d070-431c-b0ba-036086b918d8",
        "outputId": "998be7f7-8ebd-42d0-ae42-2f528f77c996"
      },
      "outputs": [
        {
          "name": "stdout",
          "output_type": "stream",
          "text": [
            "[[1. 1. 1. 1. 1. 1. 1.]\n",
            " [1. 1. 1. 1. 1. 1. 1.]\n",
            " [1. 1. 1. 1. 1. 1. 1.]\n",
            " [1. 1. 1. 1. 1. 1. 1.]\n",
            " [1. 1. 1. 1. 1. 1. 1.]]\n"
          ]
        }
      ],
      "source": [
        "#12. Write a function `create_ones_matrix` that takes integers `rows` and `cols` as inputs and generates a 2D NumPy array filled with ones of size `rows x cols`.\n",
        "import numpy as np\n",
        "\n",
        "def create_ones_matrix(rows, cols):\n",
        "    return np.ones((rows, cols))\n",
        "\n",
        "# Example usage\n",
        "rows = 5\n",
        "cols = 7\n",
        "ones_matrix = create_ones_matrix(rows, cols)\n",
        "print(ones_matrix)\n"
      ]
    },
    {
      "cell_type": "code",
      "execution_count": null,
      "id": "3bfcf89b-080d-4c30-9363-d1750da22c71",
      "metadata": {
        "id": "3bfcf89b-080d-4c30-9363-d1750da22c71",
        "outputId": "f8ffacbb-0a9f-4da7-ad04-20fc62484ef6"
      },
      "outputs": [
        {
          "name": "stdout",
          "output_type": "stream",
          "text": [
            "[1 3 5 7 9]\n"
          ]
        }
      ],
      "source": [
        "#13. Write a function `generate_range_array` that takes three integers start, stop, and step as arguments and creates a NumPy array with a range starting from `start`, ending at stop (exclusive), and with the specified `step`.\n",
        "import numpy as np\n",
        "\n",
        "def generate_range_array(start, stop, step):\n",
        "    return np.arange(start, stop, step)\n",
        "\n",
        "# Example usage\n",
        "start = 1\n",
        "stop = 10\n",
        "step = 2\n",
        "range_array = generate_range_array(start, stop, step)\n",
        "print(range_array)\n"
      ]
    },
    {
      "cell_type": "code",
      "execution_count": null,
      "id": "38420855-19ed-40fb-b63c-b976aaae4a54",
      "metadata": {
        "id": "38420855-19ed-40fb-b63c-b976aaae4a54",
        "outputId": "d0bbfba1-33cc-41fc-ebe6-c97af7b4e311"
      },
      "outputs": [
        {
          "name": "stdout",
          "output_type": "stream",
          "text": [
            "[0.   0.25 0.5  0.75 1.  ]\n"
          ]
        }
      ],
      "source": [
        "#14. Design a function `generate_linear_space` that takes two floats `start`, `stop`, and an integer `num` as arguments and generates a NumPy array with num equally spaced values between `start` and `stop` (inclusive).\n",
        "import numpy as np\n",
        "\n",
        "def generate_linear_space(start, stop, num):\n",
        "    return np.linspace(start, stop, num)\n",
        "\n",
        "# Example usage\n",
        "start = 0.0\n",
        "stop = 1.0\n",
        "num = 5\n",
        "linear_space_array = generate_linear_space(start, stop, num)\n",
        "print(linear_space_array)\n"
      ]
    },
    {
      "cell_type": "code",
      "execution_count": null,
      "id": "522772bf-4894-4311-9c77-f27ee2019fe0",
      "metadata": {
        "id": "522772bf-4894-4311-9c77-f27ee2019fe0",
        "outputId": "3a4d3f23-0946-4085-dcab-3f983aa8f353"
      },
      "outputs": [
        {
          "name": "stdout",
          "output_type": "stream",
          "text": [
            "[[1. 0. 0. 0.]\n",
            " [0. 1. 0. 0.]\n",
            " [0. 0. 1. 0.]\n",
            " [0. 0. 0. 1.]]\n"
          ]
        }
      ],
      "source": [
        "#15. Create a function `create_identity_matrix` that takes an integer `n` as input and generates a square identity matrix of size `n x n` using `numpy.eye`.\n",
        "import numpy as np\n",
        "\n",
        "def create_identity_matrix(n):\n",
        "    return np.eye(n)\n",
        "\n",
        "# Example usage\n",
        "n = 4\n",
        "identity_matrix = create_identity_matrix(n)\n",
        "print(identity_matrix)\n"
      ]
    },
    {
      "cell_type": "code",
      "execution_count": null,
      "id": "0dd54f75-d514-4431-9a74-3244c169d09e",
      "metadata": {
        "id": "0dd54f75-d514-4431-9a74-3244c169d09e",
        "outputId": "611808c0-930f-4586-a529-377dee9d7d0c"
      },
      "outputs": [
        {
          "name": "stdout",
          "output_type": "stream",
          "text": [
            "[1 2 3 4 5]\n"
          ]
        }
      ],
      "source": [
        "#16. Write a function that takes a Python list and converts it into a NumPy array.\n",
        "import numpy as np\n",
        "\n",
        "def list_to_numpy_array(py_list):\n",
        "    return np.array(py_list)\n",
        "\n",
        "# Example usage\n",
        "py_list = [1, 2, 3, 4, 5]\n",
        "numpy_array = list_to_numpy_array(py_list)\n",
        "print(numpy_array)\n"
      ]
    },
    {
      "cell_type": "code",
      "execution_count": null,
      "id": "6bf6faeb-870e-42c9-af0e-493d9c6441ce",
      "metadata": {
        "id": "6bf6faeb-870e-42c9-af0e-493d9c6441ce"
      },
      "outputs": [],
      "source": [
        "#17. Create a NumPy array and demonstrate the use of `numpy.view` to create a new array object with the same data.\n"
      ]
    },
    {
      "cell_type": "code",
      "execution_count": null,
      "id": "e8840f76-e86a-497b-8ee8-e11d90c73c38",
      "metadata": {
        "id": "e8840f76-e86a-497b-8ee8-e11d90c73c38",
        "outputId": "d38eff4d-b17c-4dc5-f402-1317a9201cdb"
      },
      "outputs": [
        {
          "name": "stdout",
          "output_type": "stream",
          "text": [
            "Concatenated along axis 0:\n",
            " [[1 2]\n",
            " [3 4]\n",
            " [5 6]\n",
            " [7 8]]\n",
            "Concatenated along axis 1:\n",
            " [[1 2 5 6]\n",
            " [3 4 7 8]]\n"
          ]
        }
      ],
      "source": [
        "#18. Write a function that takes two NumPy arrays and concatenates them along a specified axis.\n",
        "import numpy as np\n",
        "\n",
        "def concatenate_arrays(arr1, arr2, axis=0):\n",
        "    return np.concatenate((arr1, arr2), axis=axis)\n",
        "\n",
        "# Example usage\n",
        "arr1 = np.array([[1, 2], [3, 4]])\n",
        "arr2 = np.array([[5, 6], [7, 8]])\n",
        "\n",
        "# Concatenate along the first axis (rows)\n",
        "concatenated_array_axis_0 = concatenate_arrays(arr1, arr2, axis=0)\n",
        "print(\"Concatenated along axis 0:\\n\", concatenated_array_axis_0)\n",
        "\n",
        "# Concatenate along the second axis (columns)\n",
        "concatenated_array_axis_1 = concatenate_arrays(arr1, arr2, axis=1)\n",
        "print(\"Concatenated along axis 1:\\n\", concatenated_array_axis_1)\n"
      ]
    },
    {
      "cell_type": "code",
      "execution_count": null,
      "id": "9e63f988-e241-4968-aa97-77324412f74d",
      "metadata": {
        "id": "9e63f988-e241-4968-aa97-77324412f74d",
        "outputId": "150f5831-e7c3-4344-a01e-9d4318f6920f"
      },
      "outputs": [
        {
          "name": "stdout",
          "output_type": "stream",
          "text": [
            "Array 1:\n",
            " [[1 2]\n",
            " [3 4]]\n",
            "Array 2:\n",
            " [[5]\n",
            " [6]]\n",
            "Concatenated array horizontally:\n",
            " [[1 2 5]\n",
            " [3 4 6]]\n"
          ]
        }
      ],
      "source": [
        "#19.  Create two NumPy arrays with different shapes and concatenate them horizontally using `numpy. concatenate`.\n",
        "import numpy as np\n",
        "\n",
        "# Create two NumPy arrays with different shapes\n",
        "arr1 = np.array([[1, 2], [3, 4]])  # shape: (2, 2)\n",
        "arr2 = np.array([[5], [6]])       # shape: (2, 1)\n",
        "\n",
        "# Concatenate along the second axis (horizontally)\n",
        "concatenated_array = np.concatenate((arr1, arr2), axis=1)\n",
        "\n",
        "# Print the original arrays and the concatenated array\n",
        "print(\"Array 1:\\n\", arr1)\n",
        "print(\"Array 2:\\n\", arr2)\n",
        "print(\"Concatenated array horizontally:\\n\", concatenated_array)\n"
      ]
    },
    {
      "cell_type": "code",
      "execution_count": null,
      "id": "475257ff-cf7d-45e7-9a30-c52f1162aa43",
      "metadata": {
        "id": "475257ff-cf7d-45e7-9a30-c52f1162aa43",
        "outputId": "2c968715-7ddc-4600-b7dd-e444c2e20689"
      },
      "outputs": [
        {
          "name": "stdout",
          "output_type": "stream",
          "text": [
            "Stacked array:\n",
            " [[1 2]\n",
            " [3 4]\n",
            " [5 6]]\n"
          ]
        }
      ],
      "source": [
        "#20. Write a function that vertically stacks multiple NumPy arrays given as a list.\n",
        "import numpy as np\n",
        "\n",
        "def stack_arrays_vertically(arrays):\n",
        "    return np.vstack(arrays)\n",
        "\n",
        "# Example usage\n",
        "arr1 = np.array([[1, 2], [3, 4]])\n",
        "arr2 = np.array([[5, 6]])\n",
        "\n",
        "stacked_array = stack_arrays_vertically([arr1, arr2])\n",
        "print(\"Stacked array:\\n\", stacked_array)\n"
      ]
    },
    {
      "cell_type": "code",
      "execution_count": null,
      "id": "37c6b356-0358-4aec-a580-55b7f86ce238",
      "metadata": {
        "id": "37c6b356-0358-4aec-a580-55b7f86ce238",
        "outputId": "fef26d68-02ed-454c-d88d-bb2171b87b60"
      },
      "outputs": [
        {
          "name": "stdout",
          "output_type": "stream",
          "text": [
            "[1 3 5 7 9]\n"
          ]
        }
      ],
      "source": [
        "#21. Write a Python function using NumPy to create an array of integers within a specified range (inclusive) with a given step size. import numpy as np\n",
        "\n",
        "def generate_integer_range(start, stop, step=1):\n",
        "    return np.arange(start, stop + 1, step, dtype=int)\n",
        "\n",
        "# Example usage\n",
        "start = 1\n",
        "stop = 10\n",
        "step = 2\n",
        "result_array = generate_integer_range(start, stop, step)\n",
        "print(result_array)\n"
      ]
    },
    {
      "cell_type": "code",
      "execution_count": null,
      "id": "cd314a05-12ad-47ca-8de1-40e175ed57f5",
      "metadata": {
        "id": "cd314a05-12ad-47ca-8de1-40e175ed57f5",
        "outputId": "cb66f2bf-f361-4fd9-995d-6b8ce5b1778e"
      },
      "outputs": [
        {
          "name": "stdout",
          "output_type": "stream",
          "text": [
            "[0.         0.11111111 0.22222222 0.33333333 0.44444444 0.55555556\n",
            " 0.66666667 0.77777778 0.88888889 1.        ]\n"
          ]
        }
      ],
      "source": [
        "#22. Write a Python function using NumPy to generate an array of 10 equally spaced values between 0 and 1 (inclusive).\n",
        "import numpy as np\n",
        "\n",
        "def generate_equally_spaced_values():\n",
        "    return np.linspace(0, 1, 10)\n",
        "\n",
        "# Example usage\n",
        "result_array = generate_equally_spaced_values()\n",
        "print(result_array)\n"
      ]
    },
    {
      "cell_type": "code",
      "execution_count": null,
      "id": "8557c511-4c80-417d-bf40-4111178d6a0f",
      "metadata": {
        "id": "8557c511-4c80-417d-bf40-4111178d6a0f",
        "outputId": "869ca2e0-51c0-4c23-dace-62086beb12c5"
      },
      "outputs": [
        {
          "name": "stdout",
          "output_type": "stream",
          "text": [
            "[   1.            5.62341325   31.6227766   177.827941   1000.        ]\n"
          ]
        }
      ],
      "source": [
        "#23. Write a Python function using NumPy to create an array of 5 logarithmically spaced values between 1 and 1000 (inclusive)\n",
        "import numpy as np\n",
        "\n",
        "def generate_logarithmically_spaced_values():\n",
        "    return np.logspace(0, 3, 5)\n",
        "\n",
        "# Example usage\n",
        "result_array = generate_logarithmically_spaced_values()\n",
        "print(result_array)\n"
      ]
    },
    {
      "cell_type": "code",
      "execution_count": null,
      "id": "b251ddc4-23cd-4ba4-bd08-c6671fb569f1",
      "metadata": {
        "id": "b251ddc4-23cd-4ba4-bd08-c6671fb569f1",
        "outputId": "e874ba91-8cd1-47ef-c517-dac3cd027559"
      },
      "outputs": [
        {
          "name": "stdout",
          "output_type": "stream",
          "text": [
            "    A   B   C\n",
            "0  45  48  65\n",
            "1  68  68  10\n",
            "2  84  22  37\n",
            "3  88  71  89\n",
            "4  89  13  59\n"
          ]
        }
      ],
      "source": [
        "#24. Create a Pandas DataFrame using a NumPy array that contains 5 rows and 3 columns, where the values are random integers between 1 and 100.\n",
        "import numpy as np\n",
        "import pandas as pd\n",
        "\n",
        "np.random.seed(0)  # Setting seed for reproducibility\n",
        "random_array = np.random.randint(1, 101, size=(5, 3))\n",
        "df = pd.DataFrame(random_array, columns=['A', 'B', 'C'])\n",
        "print(df)"
      ]
    },
    {
      "cell_type": "code",
      "execution_count": null,
      "id": "d1aaa9e0-bd3e-479b-8628-6083771e7a1f",
      "metadata": {
        "id": "d1aaa9e0-bd3e-479b-8628-6083771e7a1f",
        "outputId": "e7f86027-8bad-4570-f991-879c6deaab0d"
      },
      "outputs": [
        {
          "name": "stdout",
          "output_type": "stream",
          "text": [
            "Original DataFrame:\n",
            "   A   B\n",
            "0  1  10\n",
            "1  2 -20\n",
            "2 -3  30\n",
            "3  4 -40\n",
            "4 -5  50\n",
            "\n",
            "DataFrame after replacing negatives with zeros in column 'B':\n",
            "   A   B\n",
            "0  1  10\n",
            "1  2   0\n",
            "2 -3  30\n",
            "3  4   0\n",
            "4 -5  50\n"
          ]
        }
      ],
      "source": [
        "#25. Write a function that takes a Pandas DataFrame and replaces all negative values in a specific column with zeros. Use NumPy operations within the Pandas DataFrame.\n",
        "\n",
        "\n",
        "def replace_negatives_with_zeros(df, column_name):\n",
        "    df[column_name] = np.where(df[column_name] < 0, 0, df[column_name])\n",
        "    return df\n",
        "\n",
        "\n",
        "data = {\n",
        "    'A': [1, 2, -3, 4, -5],\n",
        "    'B': [10, -20, 30, -40, 50]\n",
        "}\n",
        "df = pd.DataFrame(data)\n",
        "\n",
        "print(\"Original DataFrame:\")\n",
        "print(df)\n",
        "\n",
        "\n",
        "df_modified = replace_negatives_with_zeros(df, 'B')\n",
        "\n",
        "print(\"\\nDataFrame after replacing negatives with zeros in column 'B':\")\n",
        "print(df_modified)\n"
      ]
    },
    {
      "cell_type": "code",
      "execution_count": null,
      "id": "bfcd9db8-98cf-453a-a567-927e05328d2f",
      "metadata": {
        "id": "bfcd9db8-98cf-453a-a567-927e05328d2f",
        "outputId": "e93ec474-eda5-4de0-d8c7-2af04f1f589a"
      },
      "outputs": [
        {
          "name": "stdout",
          "output_type": "stream",
          "text": [
            "Third element: 30\n"
          ]
        }
      ],
      "source": [
        "#26. Access the 3rd element from the given NumPy array. arr = np.array([10, 20, 30, 40, 50])\n",
        "\n",
        "\n",
        "arr = np.array([10, 20, 30, 40, 50])\n",
        "\n",
        "# Access the 3rd element (index 2)\n",
        "third_element = arr[2]\n",
        "\n",
        "print(\"Third element:\", third_element)\n"
      ]
    },
    {
      "cell_type": "code",
      "execution_count": null,
      "id": "439e67bb-1c4b-49f5-bc33-ba5a2738c3aa",
      "metadata": {
        "id": "439e67bb-1c4b-49f5-bc33-ba5a2738c3aa",
        "outputId": "6d477a95-6d50-4d41-a662-776c37b7a59d"
      },
      "outputs": [
        {
          "name": "stdout",
          "output_type": "stream",
          "text": [
            "Element at index (1, 2): 6\n"
          ]
        },
        {
          "name": "stderr",
          "output_type": "stream",
          "text": [
            "/opt/conda/lib/python3.10/site-packages/IPython/core/inputtransformer2.py:604: UserWarning: `make_tokens_by_line` received a list of lines which do not have lineending markers ('\\n', '\\r', '\\r\\n', '\\x0b', '\\x0c'), behavior will be unspecified\n",
            "  tokens_by_line = make_tokens_by_line(lines)\n"
          ]
        }
      ],
      "source": [
        "#27. Retrieve the element at index (1, 2) from the 2D NumPy array. arr_2d = np.array([[1, 2, 3],\n",
        " [4, 5, 6],\n",
        " [7, 8, 9]])\n",
        "\n",
        "\n",
        "arr_2d = np.array([[1, 2, 3],\n",
        "                   [4, 5, 6],\n",
        "                   [7, 8, 9]])\n",
        "\n",
        "# Access the element at index (1, 2)\n",
        "element_12 = arr_2d[1, 2]\n",
        "\n",
        "print(\"Element at index (1, 2):\", element_12)\n"
      ]
    },
    {
      "cell_type": "code",
      "execution_count": null,
      "id": "836483a5-c419-434e-a6f4-731a5e79d4a1",
      "metadata": {
        "id": "836483a5-c419-434e-a6f4-731a5e79d4a1",
        "outputId": "2f125d99-8963-4602-e9fe-e9e4aa24cee3"
      },
      "outputs": [
        {
          "name": "stdout",
          "output_type": "stream",
          "text": [
            "Elements greater than 5: [ 8 10  7]\n"
          ]
        }
      ],
      "source": [
        "#28. Using boolean indexing, extract elements greater than 5 from the given NumPy array. arr = np.array([3, 8, 2, 10, 5, 7])\n",
        "\n",
        "arr = np.array([3, 8, 2, 10, 5, 7])\n",
        "mask = arr > 5\n",
        "result = arr[mask]\n",
        "\n",
        "print(\"Elements greater than 5:\", result)\n"
      ]
    },
    {
      "cell_type": "code",
      "execution_count": null,
      "id": "6c326a66-80f1-4063-92bd-14fae517451d",
      "metadata": {
        "id": "6c326a66-80f1-4063-92bd-14fae517451d",
        "outputId": "98a5cf61-b75c-494c-d89a-3f32ac363dbd"
      },
      "outputs": [
        {
          "name": "stdout",
          "output_type": "stream",
          "text": [
            "Sliced array: [3 4 5 6]\n"
          ]
        }
      ],
      "source": [
        "#29. Perform basic slicing to extract elements from index 2 to 5 (inclusive) from the given NumPy array. arr = np.array([1, 2, 3, 4, 5, 6, 7, 8, 9])\n",
        "import numpy as np\n",
        "\n",
        "arr = np.array([1, 2, 3, 4, 5, 6, 7, 8, 9])\n",
        "\n",
        "# Perform basic slicing to extract elements from index 2 to 5 (inclusive)\n",
        "sliced_array = arr[2:6]\n",
        "\n",
        "print(\"Sliced array:\", sliced_array)\n"
      ]
    },
    {
      "cell_type": "code",
      "execution_count": null,
      "id": "faa12713-86e4-442b-9142-25e827162d2a",
      "metadata": {
        "id": "faa12713-86e4-442b-9142-25e827162d2a",
        "outputId": "2e37db51-d042-4b24-f3da-8b4c443254e2"
      },
      "outputs": [
        {
          "name": "stdout",
          "output_type": "stream",
          "text": [
            "Sub-array [[2, 3], [5, 6]]:\n",
            "[[2 3]\n",
            " [5 6]]\n"
          ]
        }
      ],
      "source": [
        "#30. Slice the 2D NumPy array to extract the sub-array `[[2, 3], [5, 6]]` from the given array. arr_2d = np.array([[1, 2, 3],\n",
        " [4, 5, 6],\n",
        " [7, 8, 9]])\n",
        "import numpy as np\n",
        "\n",
        "arr_2d = np.array([[1, 2, 3],\n",
        "                   [4, 5, 6],\n",
        "                   [7, 8, 9]])\n",
        "\n",
        "# Slice the 2D array to extract the sub-array [[2, 3], [5, 6]]\n",
        "sub_array = arr_2d[0:2, 1:3]\n",
        "\n",
        "print(\"Sub-array [[2, 3], [5, 6]]:\")\n",
        "print(sub_array)\n"
      ]
    },
    {
      "cell_type": "code",
      "execution_count": null,
      "id": "69761f80-47ab-4bfe-9050-28b0670546c1",
      "metadata": {
        "id": "69761f80-47ab-4bfe-9050-28b0670546c1",
        "outputId": "d7d3b0c9-4d2f-4c4a-e0c6-07fb473545c4"
      },
      "outputs": [
        {
          "name": "stdout",
          "output_type": "stream",
          "text": [
            "Extracted elements based on indices:\n",
            "[1 6 8]\n"
          ]
        }
      ],
      "source": [
        "#31.Write a NumPy function to extract elements in specific order from a given 2D array based on indices provided in another array.\n",
        "import numpy as np\n",
        "\n",
        "def extract_elements_from_indices(arr_2d, indices):\n",
        "    # Use advanced indexing to extract elements from arr_2d based on indices\n",
        "    return arr_2d[indices[:, 0], indices[:, 1]]\n",
        "\n",
        "# Example usage\n",
        "arr_2d = np.array([[1, 2, 3],\n",
        "                   [4, 5, 6],\n",
        "                   [7, 8, 9]])\n",
        "\n",
        "# Indices array specifying row and column indices\n",
        "indices = np.array([[0, 0],\n",
        "                    [1, 2],\n",
        "                    [2, 1]])\n",
        "\n",
        "# Extract elements from arr_2d based on indices\n",
        "result = extract_elements_from_indices(arr_2d, indices)\n",
        "\n",
        "print(\"Extracted elements based on indices:\")\n",
        "print(result)\n"
      ]
    },
    {
      "cell_type": "code",
      "execution_count": null,
      "id": "4bafe065-a839-458d-92b5-57ea8986515e",
      "metadata": {
        "id": "4bafe065-a839-458d-92b5-57ea8986515e",
        "outputId": "b78cf68b-ad4f-458f-eace-8b555a3dd21a"
      },
      "outputs": [
        {
          "name": "stdout",
          "output_type": "stream",
          "text": [
            "Filtered elements greater than 10 : [20 30]\n"
          ]
        }
      ],
      "source": [
        "#32. Create a NumPy function that filters elements greater than a threshold from a given 1D array using boolean indexing.\n",
        "\n",
        "\n",
        "def filter_elements_above_threshold(arr, threshold):\n",
        "    # Create a boolean mask for elements greater than the threshold\n",
        "    mask = arr > threshold\n",
        "\n",
        "    # Use boolean indexing to filter elements\n",
        "    filtered_array = arr[mask]\n",
        "\n",
        "    return filtered_array\n",
        "\n",
        "# Example usage\n",
        "arr = np.array([1, 10, 3, 20, 5, 30])\n",
        "threshold = 10\n",
        "\n",
        "filtered_elements = filter_elements_above_threshold(arr, threshold)\n",
        "print(\"Filtered elements greater than\", threshold, \":\", filtered_elements)\n"
      ]
    },
    {
      "cell_type": "code",
      "execution_count": null,
      "id": "af62dcb5-2611-4157-b8f1-a8e5a72e6d3e",
      "metadata": {
        "id": "af62dcb5-2611-4157-b8f1-a8e5a72e6d3e",
        "outputId": "20cfdea8-2ae3-4d05-9428-230055936092"
      },
      "outputs": [
        {
          "name": "stdout",
          "output_type": "stream",
          "text": [
            "Extracted elements based on indices:\n",
            "[[ 2 16]\n",
            " [15  6]]\n"
          ]
        }
      ],
      "source": [
        "#33. Develop a NumPy function that extracts specific elements from a 3D array using indices provided in three separate arrays for each dimension.\n",
        "import numpy as np\n",
        "\n",
        "def extract_elements_3d(arr_3d, indices_dim1, indices_dim2, indices_dim3):\n",
        "    # Use advanced indexing to extract elements from arr_3d based on indices\n",
        "    return arr_3d[indices_dim1, indices_dim2, indices_dim3]\n",
        "\n",
        "# Example usage\n",
        "arr_3d = np.array([[[ 1,  2,  3],\n",
        "                    [ 4,  5,  6],\n",
        "                    [ 7,  8,  9]],\n",
        "\n",
        "                   [[10, 11, 12],\n",
        "                    [13, 14, 15],\n",
        "                    [16, 17, 18]]])\n",
        "\n",
        "# Indices arrays specifying indices for each dimension\n",
        "indices_dim1 = np.array([[0, 1],\n",
        "                         [1, 0]])\n",
        "\n",
        "indices_dim2 = np.array([[0, 2],\n",
        "                         [1, 1]])\n",
        "\n",
        "indices_dim3 = np.array([[1, 0],\n",
        "                         [2, 2]])\n",
        "\n",
        "# Extract elements from arr_3d based on indices\n",
        "result = extract_elements_3d(arr_3d, indices_dim1, indices_dim2, indices_dim3)\n",
        "\n",
        "print(\"Extracted elements based on indices:\")\n",
        "print(result)\n"
      ]
    },
    {
      "cell_type": "code",
      "execution_count": 2,
      "id": "4635fa87-32c5-404d-80c7-71617506c498",
      "metadata": {
        "colab": {
          "base_uri": "https://localhost:8080/"
        },
        "id": "4635fa87-32c5-404d-80c7-71617506c498",
        "outputId": "3a92faa3-703f-47b9-82f7-19eb1172c419"
      },
      "outputs": [
        {
          "output_type": "stream",
          "name": "stdout",
          "text": [
            "[10 15]\n"
          ]
        }
      ],
      "source": [
        "#34. Write a NumPy function that returns elements from an array where both two conditions are satisfied using boolean indexing.\n",
        "import numpy as np\n",
        "import numpy as np\n",
        "\n",
        "def filter_elements(arr, a, b):\n",
        "    \"\"\"\n",
        "    Returns elements from the array `arr` that are greater than `a` and less than `b`.\n",
        "\n",
        "    Parameters:\n",
        "    arr (np.ndarray): Input array\n",
        "    a (float): Lower bound condition\n",
        "    b (float): Upper bound condition\n",
        "\n",
        "    Returns:\n",
        "    np.ndarray: Array with elements satisfying both conditions\n",
        "    \"\"\"\n",
        "    return arr[(arr > a) & (arr < b)]\n",
        "\n",
        "# Example usage:\n",
        "arr = np.array([1, 5, 10, 15, 20, 25])\n",
        "a = 5\n",
        "b = 20\n",
        "\n",
        "filtered_elements = filter_elements(arr, a, b)\n",
        "print(filtered_elements)\n"
      ]
    },
    {
      "cell_type": "code",
      "source": [
        "#35. Create a NumPy function that extracts elements from a 2D array using row and column indices provided in separate arrays.\n",
        "import numpy as np\n",
        "\n",
        "def extract_elements(arr, row_indices, col_indices):\n",
        "\n",
        "    return arr[row_indices, col_indices]\n",
        "\n",
        "# Example usage:\n",
        "arr = np.array([[1, 2, 3],\n",
        "                [4, 5, 6],\n",
        "                [7, 8, 9]])\n",
        "\n",
        "row_indices = np.array([0, 1, 2])\n",
        "col_indices = np.array([2, 1, 0])\n",
        "\n",
        "extracted_elements = extract_elements(arr, row_indices, col_indices)\n",
        "print(extracted_elements)\n"
      ],
      "metadata": {
        "colab": {
          "base_uri": "https://localhost:8080/"
        },
        "id": "Cdx6owDUOau6",
        "outputId": "2b4491fa-4215-4174-f4b3-3f01c0e647f5"
      },
      "id": "Cdx6owDUOau6",
      "execution_count": 3,
      "outputs": [
        {
          "output_type": "stream",
          "name": "stdout",
          "text": [
            "[3 5 7]\n"
          ]
        }
      ]
    },
    {
      "cell_type": "code",
      "source": [
        "#36. Given an array arr of shape (3, 3), add a scalar value of 5 to each element using NumPy broadcasting.\n",
        "import numpy as np\n",
        "\n",
        "def add_scalar(arr, scalar):\n",
        "\n",
        "    return arr + scalar\n",
        "\n",
        "# Example usage:\n",
        "arr = np.array([[1, 2, 3],\n",
        "                [4, 5, 6],\n",
        "                [7, 8, 9]])\n",
        "\n",
        "scalar = 5\n",
        "\n",
        "new_arr = add_scalar(arr, scalar)\n",
        "print(new_arr)\n"
      ],
      "metadata": {
        "colab": {
          "base_uri": "https://localhost:8080/"
        },
        "id": "UTmuoA6qO1Xt",
        "outputId": "e87827d3-e7a3-4e60-f7f5-ca7c2dc2b522"
      },
      "id": "UTmuoA6qO1Xt",
      "execution_count": 5,
      "outputs": [
        {
          "output_type": "stream",
          "name": "stdout",
          "text": [
            "[[ 6  7  8]\n",
            " [ 9 10 11]\n",
            " [12 13 14]]\n"
          ]
        }
      ]
    },
    {
      "cell_type": "code",
      "source": [
        "#37. Consider two arrays arr1 of shape (1, 3) and arr2 of shape (3, 4). Multiply each row of arr2 by the corresponding element in arr1 using NumPy broadcasting.\n",
        "import numpy as np\n",
        "\n",
        "def multiply_rows(arr1, arr2):\n",
        "\n",
        "    return arr1.T * arr2\n",
        "\n",
        "# Example usage:\n",
        "arr1 = np.array([[1, 2, 3]])\n",
        "arr2 = np.array([[1, 2, 3, 4],\n",
        "                 [5, 6, 7, 8],\n",
        "                 [9, 10, 11, 12]])\n",
        "\n",
        "result = multiply_rows(arr1, arr2)\n",
        "print(result)\n"
      ],
      "metadata": {
        "colab": {
          "base_uri": "https://localhost:8080/"
        },
        "id": "eu8YbDZnPEKj",
        "outputId": "f64268ef-2077-493c-a32e-1eac4830800d"
      },
      "id": "eu8YbDZnPEKj",
      "execution_count": 6,
      "outputs": [
        {
          "output_type": "stream",
          "name": "stdout",
          "text": [
            "[[ 1  2  3  4]\n",
            " [10 12 14 16]\n",
            " [27 30 33 36]]\n"
          ]
        }
      ]
    },
    {
      "cell_type": "code",
      "source": [
        "#38. Given a 1D array arr1 of shape (1, 4) and a 2D array arr2 of shape (4, 3), add arr1 to each row of arr2 using NumPy broadcasting.\n",
        "import numpy as np\n",
        "\n",
        "def add_to_rows(arr1, arr2):\n",
        "\n",
        "    return arr1.T + arr2\n",
        "\n",
        "# Example usage:\n",
        "arr1 = np.array([[1, 2, 3, 4]])\n",
        "arr2 = np.array([[1, 2, 3],\n",
        "                 [4, 5, 6],\n",
        "                 [7, 8, 9],\n",
        "                 [10, 11, 12]])\n",
        "\n",
        "# Reshape arr1 to match broadcasting rules\n",
        "arr1_reshaped = arr1.T\n",
        "\n",
        "result = add_to_rows(arr1_reshaped, arr2)\n",
        "print(result)\n"
      ],
      "metadata": {
        "colab": {
          "base_uri": "https://localhost:8080/",
          "height": 315
        },
        "id": "yeLih8sLPaq9",
        "outputId": "2bc0c452-e911-41cc-bde9-acc4216601c5"
      },
      "id": "yeLih8sLPaq9",
      "execution_count": 8,
      "outputs": [
        {
          "output_type": "error",
          "ename": "ValueError",
          "evalue": "operands could not be broadcast together with shapes (1,4) (4,3) ",
          "traceback": [
            "\u001b[0;31m---------------------------------------------------------------------------\u001b[0m",
            "\u001b[0;31mValueError\u001b[0m                                Traceback (most recent call last)",
            "\u001b[0;32m<ipython-input-8-5d7ace612603>\u001b[0m in \u001b[0;36m<cell line: 18>\u001b[0;34m()\u001b[0m\n\u001b[1;32m     16\u001b[0m \u001b[0marr1_reshaped\u001b[0m \u001b[0;34m=\u001b[0m \u001b[0marr1\u001b[0m\u001b[0;34m.\u001b[0m\u001b[0mT\u001b[0m\u001b[0;34m\u001b[0m\u001b[0;34m\u001b[0m\u001b[0m\n\u001b[1;32m     17\u001b[0m \u001b[0;34m\u001b[0m\u001b[0m\n\u001b[0;32m---> 18\u001b[0;31m \u001b[0mresult\u001b[0m \u001b[0;34m=\u001b[0m \u001b[0madd_to_rows\u001b[0m\u001b[0;34m(\u001b[0m\u001b[0marr1_reshaped\u001b[0m\u001b[0;34m,\u001b[0m \u001b[0marr2\u001b[0m\u001b[0;34m)\u001b[0m\u001b[0;34m\u001b[0m\u001b[0;34m\u001b[0m\u001b[0m\n\u001b[0m\u001b[1;32m     19\u001b[0m \u001b[0mprint\u001b[0m\u001b[0;34m(\u001b[0m\u001b[0mresult\u001b[0m\u001b[0;34m)\u001b[0m\u001b[0;34m\u001b[0m\u001b[0;34m\u001b[0m\u001b[0m\n",
            "\u001b[0;32m<ipython-input-8-5d7ace612603>\u001b[0m in \u001b[0;36madd_to_rows\u001b[0;34m(arr1, arr2)\u001b[0m\n\u001b[1;32m      4\u001b[0m \u001b[0;32mdef\u001b[0m \u001b[0madd_to_rows\u001b[0m\u001b[0;34m(\u001b[0m\u001b[0marr1\u001b[0m\u001b[0;34m,\u001b[0m \u001b[0marr2\u001b[0m\u001b[0;34m)\u001b[0m\u001b[0;34m:\u001b[0m\u001b[0;34m\u001b[0m\u001b[0;34m\u001b[0m\u001b[0m\n\u001b[1;32m      5\u001b[0m \u001b[0;34m\u001b[0m\u001b[0m\n\u001b[0;32m----> 6\u001b[0;31m   \u001b[0;32mreturn\u001b[0m \u001b[0marr1\u001b[0m\u001b[0;34m.\u001b[0m\u001b[0mT\u001b[0m \u001b[0;34m+\u001b[0m \u001b[0marr2\u001b[0m\u001b[0;34m\u001b[0m\u001b[0;34m\u001b[0m\u001b[0m\n\u001b[0m\u001b[1;32m      7\u001b[0m \u001b[0;34m\u001b[0m\u001b[0m\n\u001b[1;32m      8\u001b[0m \u001b[0;31m# Example usage:\u001b[0m\u001b[0;34m\u001b[0m\u001b[0;34m\u001b[0m\u001b[0m\n",
            "\u001b[0;31mValueError\u001b[0m: operands could not be broadcast together with shapes (1,4) (4,3) "
          ]
        }
      ]
    },
    {
      "cell_type": "code",
      "source": [
        "#39. Consider two arrays arr1 of shape (3, 1) and arr2 of shape (1, 3). Add these arrays using NumPy broadcasting.\n",
        "import numpy as np\n",
        "\n",
        "def add_arrays(arr1, arr2):\n",
        "\n",
        "\n",
        "    return arr1 + arr2\n",
        "\n",
        "# Example usage:\n",
        "arr1 = np.array([[1],\n",
        "                 [2],\n",
        "                 [3]])\n",
        "\n",
        "arr2 = np.array([[4, 5, 6]])\n",
        "\n",
        "result = add_arrays(arr1, arr2)\n",
        "print(result)\n"
      ],
      "metadata": {
        "colab": {
          "base_uri": "https://localhost:8080/"
        },
        "id": "2pEt7wzOPpmR",
        "outputId": "ddb95165-a820-4612-c214-ae4c22810d25"
      },
      "id": "2pEt7wzOPpmR",
      "execution_count": 9,
      "outputs": [
        {
          "output_type": "stream",
          "name": "stdout",
          "text": [
            "[[5 6 7]\n",
            " [6 7 8]\n",
            " [7 8 9]]\n"
          ]
        }
      ]
    },
    {
      "cell_type": "code",
      "source": [
        "#40. Given arrays arr1 of shape (2, 3) and arr2 of shape (2, 2), perform multiplication using NumPy broadcasting. Handle the shape incompatibility.\n",
        "import numpy as np\n",
        "\n",
        "def multiply_arrays(arr1, arr2):\n",
        "\n",
        "    # Reshape arr2 to (2, 2, 1) to broadcast correctly with arr1 of shape (2, 3)\n",
        "    arr2_expanded = arr2[:, :, np.newaxis]\n",
        "\n",
        "    # Perform element-wise multiplication using broadcasting\n",
        "    result = arr1 * arr2_expanded\n",
        "\n",
        "    return result\n",
        "\n",
        "# Example usage:\n",
        "arr1 = np.array([[1, 2, 3],\n",
        "                 [4, 5, 6]])\n",
        "\n",
        "arr2 = np.array([[7, 8],\n",
        "                 [9, 10]])\n",
        "\n",
        "result = multiply_arrays(arr1, arr2)\n",
        "print(result)\n"
      ],
      "metadata": {
        "colab": {
          "base_uri": "https://localhost:8080/"
        },
        "id": "92JksverQEWs",
        "outputId": "b07278c6-e7b2-42fa-cb7c-e23b7c337e3b"
      },
      "id": "92JksverQEWs",
      "execution_count": 10,
      "outputs": [
        {
          "output_type": "stream",
          "name": "stdout",
          "text": [
            "[[[ 7 14 21]\n",
            "  [32 40 48]]\n",
            "\n",
            " [[ 9 18 27]\n",
            "  [40 50 60]]]\n"
          ]
        }
      ]
    },
    {
      "cell_type": "code",
      "source": [
        "#41. Calculate column-wise mean for the given array: arr = np.array([[1, 2, 3], [4, 5, 6]])\n",
        "import numpy as np\n",
        "\n",
        "def column_wise_mean(arr):\n",
        "\n",
        "    return np.mean(arr, axis=0)\n",
        "\n",
        "# Example usage:\n",
        "arr = np.array([[1, 2, 3],\n",
        "                [4, 5, 6]])\n",
        "\n",
        "column_means = column_wise_mean(arr)\n",
        "print(column_means)\n"
      ],
      "metadata": {
        "colab": {
          "base_uri": "https://localhost:8080/"
        },
        "id": "sCji8XncQSpY",
        "outputId": "f85b9b19-8e80-449f-b12a-7e634a0a9295"
      },
      "id": "sCji8XncQSpY",
      "execution_count": 11,
      "outputs": [
        {
          "output_type": "stream",
          "name": "stdout",
          "text": [
            "[2.5 3.5 4.5]\n"
          ]
        }
      ]
    },
    {
      "cell_type": "code",
      "source": [
        "#42. Find maximum value in each row of the given array: arr = np.array([[1, 2, 3], [4, 5, 6]])\n",
        "import numpy as np\n",
        "\n",
        "def row_wise_max(arr):\n",
        "\n",
        "    return np.max(arr, axis=1)\n",
        "\n",
        "# Example usage:\n",
        "arr = np.array([[1, 2, 3],\n",
        "                [4, 5, 6]])\n",
        "\n",
        "row_max = row_wise_max(arr)\n",
        "print(row_max)\n"
      ],
      "metadata": {
        "colab": {
          "base_uri": "https://localhost:8080/"
        },
        "id": "1_O3f6UvQgCH",
        "outputId": "33493070-a99a-4ac6-925f-6d4fc237529a"
      },
      "id": "1_O3f6UvQgCH",
      "execution_count": 12,
      "outputs": [
        {
          "output_type": "stream",
          "name": "stdout",
          "text": [
            "[3 6]\n"
          ]
        }
      ]
    },
    {
      "cell_type": "code",
      "source": [
        "#43. For the given array, find indices of maximum value in each column. arr = np.array([[1, 2, 3], [4, 5, 6]])\n",
        "import numpy as np\n",
        "\n",
        "def column_wise_max_indices(arr):\n",
        "\n",
        "    return np.argmax(arr, axis=0)\n",
        "\n",
        "# Example usage:\n",
        "arr = np.array([[1, 2, 3],\n",
        "                [4, 5, 6]])\n",
        "\n",
        "col_max_indices = column_wise_max_indices(arr)\n",
        "print(col_max_indices)\n"
      ],
      "metadata": {
        "colab": {
          "base_uri": "https://localhost:8080/"
        },
        "id": "2XfH6vzkRFrS",
        "outputId": "a4ff2b1c-36d2-48f9-c0b1-3f3eb0782f86"
      },
      "id": "2XfH6vzkRFrS",
      "execution_count": 13,
      "outputs": [
        {
          "output_type": "stream",
          "name": "stdout",
          "text": [
            "[1 1 1]\n"
          ]
        }
      ]
    },
    {
      "cell_type": "code",
      "source": [
        "#44. For the given array, apply custom function to calculate moving sum along rows. arr = np.array([[1, 2, 3], [4, 5, 6]])\n",
        "import numpy as np\n",
        "\n",
        "def moving_sum_along_rows(arr, window_size):\n",
        "\n",
        "    # Initialize an array to store the results\n",
        "    result = np.zeros_like(arr, dtype=np.float64)\n",
        "\n",
        "    # Iterate over each row\n",
        "    for i in range(arr.shape[0]):\n",
        "        # Calculate cumulative sum with specified window size\n",
        "        cumsum = np.cumsum(arr[i])\n",
        "\n",
        "        # Calculate moving sum by shifting the cumulative sum\n",
        "        result[i, window_size-1:] = cumsum[window_size-1:] - cumsum[:-window_size]\n",
        "\n",
        "    return result\n",
        "\n",
        "# Example usage:\n",
        "arr = np.array([[1, 2, 3],\n",
        "                [4, 5, 6]])\n",
        "window_size = 2\n",
        "\n",
        "moving_sum = moving_sum_along_rows(arr, window_size)\n",
        "print(moving_sum)\n"
      ],
      "metadata": {
        "colab": {
          "base_uri": "https://localhost:8080/"
        },
        "id": "88su2A3KRPvM",
        "outputId": "5d938e38-7b53-49e9-b33f-a1f42a8de9d9"
      },
      "id": "88su2A3KRPvM",
      "execution_count": 14,
      "outputs": [
        {
          "output_type": "stream",
          "name": "stdout",
          "text": [
            "[[ 0.  2.  5.]\n",
            " [ 0.  5. 11.]]\n"
          ]
        }
      ]
    },
    {
      "cell_type": "code",
      "source": [
        "#45. In the given array, check if all elements in each column are even. arr = np.array([[2, 4, 6], [3, 5, 7]])\n",
        "import numpy as np\n",
        "\n",
        "def check_all_even_columns(arr):\n",
        "\n",
        "    # Check if all elements in each column are even\n",
        "    all_even = np.all(arr % 2 == 0, axis=0)\n",
        "\n",
        "    return all_even\n",
        "\n",
        "# Example usage:\n",
        "arr = np.array([[2, 4, 6],\n",
        "                [3, 5, 7]])\n",
        "\n",
        "all_even_columns = check_all_even_columns(arr)\n",
        "print(all_even_columns)\n"
      ],
      "metadata": {
        "colab": {
          "base_uri": "https://localhost:8080/"
        },
        "id": "RgMMZdRjRZag",
        "outputId": "e0ecc8f1-f568-4a54-c2d9-c6ef6e2ca6e3"
      },
      "id": "RgMMZdRjRZag",
      "execution_count": 15,
      "outputs": [
        {
          "output_type": "stream",
          "name": "stdout",
          "text": [
            "[False False False]\n"
          ]
        }
      ]
    },
    {
      "cell_type": "code",
      "source": [
        "#46. Given a NumPy array arr, reshape it into a matrix of dimensions `m` rows and `n` columns. Return the reshaped matrix. original_array = np.array([1, 2, 3, 4, 5, 6])\n",
        "import numpy as np\n",
        "\n",
        "def reshape_array(arr, m, n):\n",
        "\n",
        "    return np.reshape(arr, (m, n))\n",
        "\n",
        "# Example usage:\n",
        "original_array = np.array([1, 2, 3, 4, 5, 6])\n",
        "m = 2\n",
        "n = 3\n",
        "\n",
        "reshaped_matrix = reshape_array(original_array, m, n)\n",
        "print(reshaped_matrix)\n"
      ],
      "metadata": {
        "colab": {
          "base_uri": "https://localhost:8080/"
        },
        "id": "xbTVtn_fRj5U",
        "outputId": "7b1ce34f-4575-428a-b369-6d90b6f8516b"
      },
      "id": "xbTVtn_fRj5U",
      "execution_count": 16,
      "outputs": [
        {
          "output_type": "stream",
          "name": "stdout",
          "text": [
            "[[1 2 3]\n",
            " [4 5 6]]\n"
          ]
        }
      ]
    },
    {
      "cell_type": "code",
      "source": [
        "#47. Create a function that takes a matrix as input and returns the flattened array. input_matrix = np.array([[1, 2, 3], [4, 5, 6]])\n",
        "import numpy as np\n",
        "\n",
        "def flatten_matrix(matrix):\n",
        "\n",
        "    return matrix.flatten()\n",
        "\n",
        "# Example usage:\n",
        "input_matrix = np.array([[1, 2, 3],\n",
        "                         [4, 5, 6]])\n",
        "\n",
        "flattened_array = flatten_matrix(input_matrix)\n",
        "print(flattened_array)\n"
      ],
      "metadata": {
        "colab": {
          "base_uri": "https://localhost:8080/"
        },
        "id": "Ve7JBYKaRrX1",
        "outputId": "6e2b9958-611d-4b4c-8559-85f869fd8b18"
      },
      "id": "Ve7JBYKaRrX1",
      "execution_count": 17,
      "outputs": [
        {
          "output_type": "stream",
          "name": "stdout",
          "text": [
            "[1 2 3 4 5 6]\n"
          ]
        }
      ]
    },
    {
      "cell_type": "code",
      "source": [
        "#48. Write a function that concatenates two given arrays along a specified axis. array1 = np.array([[1, 2], [3, 4]])  array2 = np.array([[5, 6], [7, 8]])\n",
        "import numpy as np\n",
        "\n",
        "def concatenate_arrays(array1, array2, axis=0):\n",
        "\n",
        "    return np.concatenate((array1, array2), axis=axis)\n",
        "\n",
        "# Example usage:\n",
        "array1 = np.array([[1, 2],\n",
        "                   [3, 4]])\n",
        "\n",
        "array2 = np.array([[5, 6],\n",
        "                   [7, 8]])\n",
        "\n",
        "# Concatenate along axis 0 (rows)\n",
        "concatenated_axis0 = concatenate_arrays(array1, array2, axis=0)\n",
        "print(\"Concatenated along axis 0:\")\n",
        "print(concatenated_axis0)\n",
        "\n",
        "# Concatenate along axis 1 (columns)\n",
        "concatenated_axis1 = concatenate_arrays(array1, array2, axis=1)\n",
        "print(\"\\nConcatenated along axis 1:\")\n",
        "print(concatenated_axis1)\n"
      ],
      "metadata": {
        "colab": {
          "base_uri": "https://localhost:8080/"
        },
        "id": "shVei0L8Rykj",
        "outputId": "3c3ff6ca-a634-40f8-87fb-7ba89924b6b1"
      },
      "id": "shVei0L8Rykj",
      "execution_count": 18,
      "outputs": [
        {
          "output_type": "stream",
          "name": "stdout",
          "text": [
            "Concatenated along axis 0:\n",
            "[[1 2]\n",
            " [3 4]\n",
            " [5 6]\n",
            " [7 8]]\n",
            "\n",
            "Concatenated along axis 1:\n",
            "[[1 2 5 6]\n",
            " [3 4 7 8]]\n"
          ]
        },
        {
          "output_type": "stream",
          "name": "stderr",
          "text": [
            "/usr/local/lib/python3.10/dist-packages/IPython/core/inputtransformer2.py:478: UserWarning: `make_tokens_by_line` received a list of lines which do not have lineending markers ('\\n', '\\r', '\\r\\n', '\\x0b', '\\x0c'), behavior will be unspecified\n",
            "  warnings.warn(\"`make_tokens_by_line` received a list of lines which do not have lineending markers ('\\\\n', '\\\\r', '\\\\r\\\\n', '\\\\x0b', '\\\\x0c'), behavior will be unspecified\")\n"
          ]
        }
      ]
    },
    {
      "cell_type": "code",
      "source": [
        "#49. Create a function that splits an array into multiple sub-arrays along a specified axis. original_array = np.array([[1, 2, 3], [4, 5, 6], [7, 8, 9]])\n",
        "import numpy as np\n",
        "\n",
        "def split_array(original_array, axis=0, indices_or_sections=2):\n",
        "\n",
        "\n",
        "    return np.split(original_array, indices_or_sections, axis=axis)\n",
        "\n",
        "# Example usage:\n",
        "original_array = np.array([[1, 2, 3],\n",
        "                           [4, 5, 6],\n",
        "                           [7, 8, 9]])\n",
        "\n",
        "# Split along axis 0 (rows) into 3 sub-arrays\n",
        "split_arrays_axis0 = split_array(original_array, axis=0, indices_or_sections=3)\n",
        "print(\"Split along axis 0:\")\n",
        "for arr in split_arrays_axis0:\n",
        "    print(arr)\n",
        "\n",
        "# Split along axis 1 (columns) into 3 sub-arrays\n",
        "split_arrays_axis1 = split_array(original_array, axis=1, indices_or_sections=3)\n",
        "print(\"\\nSplit along axis 1:\")\n",
        "for arr in split_arrays_axis1:\n",
        "    print(arr)\n"
      ],
      "metadata": {
        "colab": {
          "base_uri": "https://localhost:8080/"
        },
        "id": "lN6nNbtlR9yB",
        "outputId": "1b70f448-b582-4857-bbdd-725b628e3bb3"
      },
      "id": "lN6nNbtlR9yB",
      "execution_count": 19,
      "outputs": [
        {
          "output_type": "stream",
          "name": "stdout",
          "text": [
            "Split along axis 0:\n",
            "[[1 2 3]]\n",
            "[[4 5 6]]\n",
            "[[7 8 9]]\n",
            "\n",
            "Split along axis 1:\n",
            "[[1]\n",
            " [4]\n",
            " [7]]\n",
            "[[2]\n",
            " [5]\n",
            " [8]]\n",
            "[[3]\n",
            " [6]\n",
            " [9]]\n"
          ]
        }
      ]
    },
    {
      "cell_type": "code",
      "source": [
        "#50. Write a function that inserts and then deletes elements from a given array at specified indices. original_array = np.array([1, 2, 3, 4, 5])  indices_to_insert = [2, 4]  values_to_insert = [10, 11]  indices_to_delete = [1, 3]\n",
        "import numpy as np\n",
        "\n",
        "def insert_delete_elements(original_array, indices_to_insert, values_to_insert, indices_to_delete):\n",
        "\n",
        "    # Insert elements at specified indices\n",
        "    for idx, value in zip(indices_to_insert, values_to_insert):\n",
        "        original_array = np.insert(original_array, idx, value)\n",
        "\n",
        "    # Delete elements at specified indices\n",
        "    original_array = np.delete(original_array, indices_to_delete)\n",
        "\n",
        "    return original_array\n",
        "\n",
        "# Example usage:\n",
        "original_array = np.array([1, 2, 3, 4, 5])\n",
        "indices_to_insert = [2, 4]\n",
        "values_to_insert = [10, 11]\n",
        "indices_to_delete = [1, 3]\n",
        "\n",
        "modified_array = insert_delete_elements(original_array, indices_to_insert, values_to_insert, indices_to_delete)\n",
        "print(modified_array)\n"
      ],
      "metadata": {
        "colab": {
          "base_uri": "https://localhost:8080/"
        },
        "id": "6NbPEvdjSIO1",
        "outputId": "9ea71fbb-c3ab-45c7-e3a0-a27fa9d47149"
      },
      "id": "6NbPEvdjSIO1",
      "execution_count": 20,
      "outputs": [
        {
          "output_type": "stream",
          "name": "stdout",
          "text": [
            "[ 1 10 11  4  5]\n"
          ]
        }
      ]
    },
    {
      "cell_type": "code",
      "source": [
        "#51. Create a NumPy array `arr1` with random integers and another array `arr2` with integers from 1 to 10. Perform element-wise addition between `arr1` and `arr2`.\n",
        "import numpy as np\n",
        "\n",
        "# Generate arr1 with random integers\n",
        "arr1 = np.random.randint(1, 100, size=(5, 5))  # Example: random integers between 1 and 100, 5x5 array\n",
        "\n",
        "# Create arr2 with integers from 1 to 10\n",
        "arr2 = np.arange(1, 11)\n",
        "\n",
        "# Perform element-wise addition between arr1 and arr2\n",
        "result = arr1 + arr2\n",
        "\n",
        "print(\"arr1:\")\n",
        "print(arr1)\n",
        "print(\"\\narr2:\")\n",
        "print(arr2)\n",
        "print(\"\\nResult of element-wise addition:\")\n",
        "print(result)\n"
      ],
      "metadata": {
        "colab": {
          "base_uri": "https://localhost:8080/",
          "height": 211
        },
        "id": "pkwk-bdRScAh",
        "outputId": "706bdbec-13eb-40e0-c309-40963f0e9002"
      },
      "id": "pkwk-bdRScAh",
      "execution_count": 23,
      "outputs": [
        {
          "output_type": "error",
          "ename": "ValueError",
          "evalue": "operands could not be broadcast together with shapes (5,5) (10,) ",
          "traceback": [
            "\u001b[0;31m---------------------------------------------------------------------------\u001b[0m",
            "\u001b[0;31mValueError\u001b[0m                                Traceback (most recent call last)",
            "\u001b[0;32m<ipython-input-23-ef04bf109bfe>\u001b[0m in \u001b[0;36m<cell line: 11>\u001b[0;34m()\u001b[0m\n\u001b[1;32m      9\u001b[0m \u001b[0;34m\u001b[0m\u001b[0m\n\u001b[1;32m     10\u001b[0m \u001b[0;31m# Perform element-wise addition between arr1 and arr2\u001b[0m\u001b[0;34m\u001b[0m\u001b[0;34m\u001b[0m\u001b[0m\n\u001b[0;32m---> 11\u001b[0;31m \u001b[0mresult\u001b[0m \u001b[0;34m=\u001b[0m \u001b[0marr1\u001b[0m \u001b[0;34m+\u001b[0m \u001b[0marr2\u001b[0m\u001b[0;34m\u001b[0m\u001b[0;34m\u001b[0m\u001b[0m\n\u001b[0m\u001b[1;32m     12\u001b[0m \u001b[0;34m\u001b[0m\u001b[0m\n\u001b[1;32m     13\u001b[0m \u001b[0mprint\u001b[0m\u001b[0;34m(\u001b[0m\u001b[0;34m\"arr1:\"\u001b[0m\u001b[0;34m)\u001b[0m\u001b[0;34m\u001b[0m\u001b[0;34m\u001b[0m\u001b[0m\n",
            "\u001b[0;31mValueError\u001b[0m: operands could not be broadcast together with shapes (5,5) (10,) "
          ]
        }
      ]
    },
    {
      "cell_type": "code",
      "source": [
        "import numpy as np\n",
        "\n",
        "# Generate arr1 with random integers\n",
        "arr1 = np.random.randint(1, 100, size=(5, 5))  # Example: random integers between 1 and 100, 5x5 array\n",
        "\n",
        "# Create arr2 with integers from 1 to 10\n",
        "arr2 = np.arange(1, 11).reshape((1,10)) # Reshape arr2 to be compatible for broadcasting\n",
        "\n",
        "# Perform element-wise addition between arr1 and arr2\n",
        "result = arr1 + arr2\n",
        "\n",
        "print(\"arr1:\")\n",
        "print(arr1)\n",
        "print(\"\\narr2:\")\n",
        "print(arr2)\n",
        "print(\"\\nResult of element-wise addition:\")\n",
        "print(result)"
      ],
      "metadata": {
        "colab": {
          "base_uri": "https://localhost:8080/",
          "height": 211
        },
        "id": "LvfEt19NTOoa",
        "outputId": "46415b65-ce3c-457d-be92-79dede7775d9"
      },
      "id": "LvfEt19NTOoa",
      "execution_count": 24,
      "outputs": [
        {
          "output_type": "error",
          "ename": "ValueError",
          "evalue": "operands could not be broadcast together with shapes (5,5) (1,10) ",
          "traceback": [
            "\u001b[0;31m---------------------------------------------------------------------------\u001b[0m",
            "\u001b[0;31mValueError\u001b[0m                                Traceback (most recent call last)",
            "\u001b[0;32m<ipython-input-24-01bfc2c58485>\u001b[0m in \u001b[0;36m<cell line: 10>\u001b[0;34m()\u001b[0m\n\u001b[1;32m      8\u001b[0m \u001b[0;34m\u001b[0m\u001b[0m\n\u001b[1;32m      9\u001b[0m \u001b[0;31m# Perform element-wise addition between arr1 and arr2\u001b[0m\u001b[0;34m\u001b[0m\u001b[0;34m\u001b[0m\u001b[0m\n\u001b[0;32m---> 10\u001b[0;31m \u001b[0mresult\u001b[0m \u001b[0;34m=\u001b[0m \u001b[0marr1\u001b[0m \u001b[0;34m+\u001b[0m \u001b[0marr2\u001b[0m\u001b[0;34m\u001b[0m\u001b[0;34m\u001b[0m\u001b[0m\n\u001b[0m\u001b[1;32m     11\u001b[0m \u001b[0;34m\u001b[0m\u001b[0m\n\u001b[1;32m     12\u001b[0m \u001b[0mprint\u001b[0m\u001b[0;34m(\u001b[0m\u001b[0;34m\"arr1:\"\u001b[0m\u001b[0;34m)\u001b[0m\u001b[0;34m\u001b[0m\u001b[0;34m\u001b[0m\u001b[0m\n",
            "\u001b[0;31mValueError\u001b[0m: operands could not be broadcast together with shapes (5,5) (1,10) "
          ]
        }
      ]
    },
    {
      "cell_type": "code",
      "source": [
        "#52. Generate a NumPy array `arr1` with sequential integers from 10 to 1 and another array `arr2` with integers from 1 to 10. Subtract `arr2` from `arr1` element-wise.\n",
        "import numpy as np\n",
        "\n",
        "# Generate arr1 with sequential integers from 10 to 1\n",
        "arr1 = np.arange(10, 0, -1)\n",
        "\n",
        "# Create arr2 with integers from 1 to 10\n",
        "arr2 = np.arange(1, 11)\n",
        "\n",
        "# Perform element-wise subtraction between arr1 and arr2\n",
        "result = arr1 - arr2\n",
        "\n",
        "print(\"arr1:\")\n",
        "print(arr1)\n",
        "print(\"\\narr2:\")\n",
        "print(arr2)\n",
        "print(\"\\nResult of element-wise subtraction:\")\n",
        "print(result)\n"
      ],
      "metadata": {
        "colab": {
          "base_uri": "https://localhost:8080/"
        },
        "id": "DJC07FNZSpvH",
        "outputId": "0d2cff20-627d-4b54-d34d-86fcc821a486"
      },
      "id": "DJC07FNZSpvH",
      "execution_count": 25,
      "outputs": [
        {
          "output_type": "stream",
          "name": "stdout",
          "text": [
            "arr1:\n",
            "[10  9  8  7  6  5  4  3  2  1]\n",
            "\n",
            "arr2:\n",
            "[ 1  2  3  4  5  6  7  8  9 10]\n",
            "\n",
            "Result of element-wise subtraction:\n",
            "[ 9  7  5  3  1 -1 -3 -5 -7 -9]\n"
          ]
        }
      ]
    },
    {
      "cell_type": "code",
      "source": [
        "#53. Create a NumPy array `arr1` with random integers and another array `arr2` with integers from 1 to 5. Perform element-wise multiplication between `arr1` and `arr2`.\n",
        "import numpy as np\n",
        "\n",
        "# Generate arr1 with random integers\n",
        "arr1 = np.random.randint(1, 10, size=(5, 5))  # Example: random integers between 1 and 10, 5x5 array\n",
        "\n",
        "# Create arr2 with integers from 1 to 5\n",
        "arr2 = np.arange(1, 6)\n",
        "\n",
        "# Perform element-wise multiplication between arr1 and arr2\n",
        "result = arr1 * arr2\n",
        "\n",
        "print(\"arr1:\")\n",
        "print(arr1)\n",
        "print(\"\\narr2:\")\n",
        "print(arr2)\n",
        "print(\"\\nResult of element-wise multiplication:\")\n",
        "print(result)\n"
      ],
      "metadata": {
        "colab": {
          "base_uri": "https://localhost:8080/"
        },
        "id": "2ZkRlhu2TlXG",
        "outputId": "65cd3d19-16a3-4143-bc11-9f9037722adf"
      },
      "id": "2ZkRlhu2TlXG",
      "execution_count": 26,
      "outputs": [
        {
          "output_type": "stream",
          "name": "stdout",
          "text": [
            "arr1:\n",
            "[[5 1 9 2 7]\n",
            " [2 5 9 9 1]\n",
            " [5 2 2 8 5]\n",
            " [2 3 4 4 1]\n",
            " [3 4 3 5 2]]\n",
            "\n",
            "arr2:\n",
            "[1 2 3 4 5]\n",
            "\n",
            "Result of element-wise multiplication:\n",
            "[[ 5  2 27  8 35]\n",
            " [ 2 10 27 36  5]\n",
            " [ 5  4  6 32 25]\n",
            " [ 2  6 12 16  5]\n",
            " [ 3  8  9 20 10]]\n"
          ]
        }
      ]
    },
    {
      "cell_type": "code",
      "source": [
        "#54. Generate a NumPy array `arr1` with even integers from 2 to 10 and another array `arr2` with integers from 1 to 5. Perform element-wise division of `arr1` by `arr2`.\n",
        "import numpy as np\n",
        "\n",
        "# Generate arr1 with even integers from 2 to 10\n",
        "arr1 = np.arange(2, 11, 2)\n",
        "\n",
        "# Create arr2 with integers from 1 to 5\n",
        "arr2 = np.arange(1, 6)\n",
        "\n",
        "# Perform element-wise division between arr1 and arr2\n",
        "result = arr1 / arr2\n",
        "\n",
        "print(\"arr1:\")\n",
        "print(arr1)\n",
        "print(\"\\narr2:\")\n",
        "print(arr2)\n",
        "print(\"\\nResult of element-wise division:\")\n",
        "print(result)\n"
      ],
      "metadata": {
        "colab": {
          "base_uri": "https://localhost:8080/"
        },
        "id": "t36QMaoATwxI",
        "outputId": "52335291-13fa-4552-bac5-670b8165825c"
      },
      "id": "t36QMaoATwxI",
      "execution_count": 27,
      "outputs": [
        {
          "output_type": "stream",
          "name": "stdout",
          "text": [
            "arr1:\n",
            "[ 2  4  6  8 10]\n",
            "\n",
            "arr2:\n",
            "[1 2 3 4 5]\n",
            "\n",
            "Result of element-wise division:\n",
            "[2. 2. 2. 2. 2.]\n"
          ]
        }
      ]
    },
    {
      "cell_type": "code",
      "source": [
        "#55. Create a NumPy array `arr1` with integers from 1 to 5 and another array `arr2` with the same numbers reversed. Calculate the exponentiation of `arr1` raised to the power of `arr2` element-wise.\n",
        "import numpy as np\n",
        "\n",
        "# Create arr1 with integers from 1 to 5\n",
        "arr1 = np.array([1, 2, 3, 4, 5])\n",
        "\n",
        "# Create arr2 as the reverse of arr1\n",
        "arr2 = arr1[::-1]\n",
        "\n",
        "# Perform element-wise exponentiation between arr1 and arr2\n",
        "result = arr1 ** arr2  # or np.power(arr1, arr2)\n",
        "\n",
        "print(\"arr1:\")\n",
        "print(arr1)\n",
        "print(\"\\narr2:\")\n",
        "print(arr2)\n",
        "print(\"\\nResult of element-wise exponentiation:\")\n",
        "print(result)\n"
      ],
      "metadata": {
        "colab": {
          "base_uri": "https://localhost:8080/"
        },
        "id": "hnYHVb6bT35T",
        "outputId": "bb4f8bab-648c-4edf-c84c-3cf6c625b2d1"
      },
      "id": "hnYHVb6bT35T",
      "execution_count": 28,
      "outputs": [
        {
          "output_type": "stream",
          "name": "stdout",
          "text": [
            "arr1:\n",
            "[1 2 3 4 5]\n",
            "\n",
            "arr2:\n",
            "[5 4 3 2 1]\n",
            "\n",
            "Result of element-wise exponentiation:\n",
            "[ 1 16 27 16  5]\n"
          ]
        }
      ]
    },
    {
      "cell_type": "code",
      "source": [
        "#56. Write a function that counts the occurrences of a specific substring within a NumPy array of strings. arr = np.array(['hello', 'world', 'hello', 'numpy', 'hello'])\n",
        "import numpy as np\n",
        "\n",
        "def count_substring_occurrences(arr, substring):\n",
        "\n",
        "    # Vectorized operation to count occurrences of substring in each element of arr\n",
        "    counts = np.char.count(arr.astype(str), substring)\n",
        "\n",
        "    # Summing up the counts across all elements in the array\n",
        "    total_count = np.sum(counts)\n",
        "\n",
        "    return total_count\n",
        "\n",
        "# Example usage:\n",
        "arr = np.array(['hello', 'world', 'hello', 'numpy', 'hello'])\n",
        "substring = 'hello'\n",
        "\n",
        "occurrences = count_substring_occurrences(arr, substring)\n",
        "print(f\"Occurrences of '{substring}' in the array: {occurrences}\")\n"
      ],
      "metadata": {
        "colab": {
          "base_uri": "https://localhost:8080/"
        },
        "id": "A-bsCvJwUAs3",
        "outputId": "90a6c21e-0e25-4375-d210-5560624d4d17"
      },
      "id": "A-bsCvJwUAs3",
      "execution_count": 29,
      "outputs": [
        {
          "output_type": "stream",
          "name": "stdout",
          "text": [
            "Occurrences of 'hello' in the array: 3\n"
          ]
        }
      ]
    },
    {
      "cell_type": "code",
      "source": [
        "#57. Write a function that extracts uppercase characters from a NumPy array of strings. arr = np.array(['Hello', 'World', 'OpenAI', 'GPT']) arr = np.array(['Hello', 'World', 'OpenAI', 'GPT'])\n",
        "import numpy as np\n",
        "\n",
        "def extract_uppercase_chars(arr):\n",
        "\n",
        "    # Initialize an empty list to store uppercase characters\n",
        "    uppercase_chars = []\n",
        "\n",
        "    # Iterate through each string in the array\n",
        "    for string in arr:\n",
        "        # Iterate through each character in the string\n",
        "        for char in string:\n",
        "            # Check if the character is uppercase\n",
        "            if char.isupper():\n",
        "                # Append the uppercase character to the list\n",
        "                uppercase_chars.append(char)\n",
        "\n",
        "    return uppercase_chars\n",
        "\n",
        "# Example usage:\n",
        "arr = np.array(['Hello', 'World', 'OpenAI', 'GPT'])\n",
        "\n",
        "uppercase_chars = extract_uppercase_chars(arr)\n",
        "print(\"Uppercase characters extracted:\", uppercase_chars)\n"
      ],
      "metadata": {
        "colab": {
          "base_uri": "https://localhost:8080/"
        },
        "id": "q9MyrPZaUMH5",
        "outputId": "71322e02-d19c-46ee-c1f1-8d26db1b0d9e"
      },
      "id": "q9MyrPZaUMH5",
      "execution_count": 30,
      "outputs": [
        {
          "output_type": "stream",
          "name": "stdout",
          "text": [
            "Uppercase characters extracted: ['H', 'W', 'O', 'A', 'I', 'G', 'P', 'T']\n"
          ]
        }
      ]
    },
    {
      "cell_type": "code",
      "source": [
        "#58. Write a function that replaces occurrences of a substring in a NumPy array of strings with a new string. arr = np.array(['apple', 'banana', 'grape', 'pineapple'])\n",
        "import numpy as np\n",
        "\n",
        "def replace_substring(arr, old_substring, new_substring):\n",
        "\n",
        "    # Vectorized operation to replace old_substring with new_substring in each element of arr\n",
        "    return np.char.replace(arr, old_substring, new_substring)\n",
        "\n",
        "# Example usage:\n",
        "arr = np.array(['apple', 'banana', 'grape', 'pineapple'])\n",
        "old_substring = 'apple'\n",
        "new_substring = 'orange'\n",
        "\n",
        "modified_arr = replace_substring(arr, old_substring, new_substring)\n",
        "print(\"Modified array:\")\n",
        "print(modified_arr)\n"
      ],
      "metadata": {
        "colab": {
          "base_uri": "https://localhost:8080/"
        },
        "id": "gysvzqpNUXb-",
        "outputId": "e1bf8715-cd4d-4146-d53f-4b180a1f9560"
      },
      "id": "gysvzqpNUXb-",
      "execution_count": 31,
      "outputs": [
        {
          "output_type": "stream",
          "name": "stdout",
          "text": [
            "Modified array:\n",
            "['orange' 'banana' 'grape' 'pineorange']\n"
          ]
        }
      ]
    },
    {
      "cell_type": "code",
      "source": [
        "#59. Write a function that concatenates strings in a NumPy array element-wise. arr1 = np.array(['Hello', 'World'])  arr2 = np.array(['Open', 'AI'])\n",
        "import numpy as np\n",
        "\n",
        "def concatenate_strings(arr1, arr2):\n",
        "\n",
        "    # Vectorized operation to concatenate strings element-wise\n",
        "    return np.char.add(arr1, arr2)\n",
        "\n",
        "# Example usage:\n",
        "arr1 = np.array(['Hello', 'World'])\n",
        "arr2 = np.array(['Open', 'AI'])\n",
        "\n",
        "concatenated_arr = concatenate_strings(arr1, arr2)\n",
        "print(\"Concatenated array:\")\n",
        "print(concatenated_arr)\n"
      ],
      "metadata": {
        "colab": {
          "base_uri": "https://localhost:8080/"
        },
        "id": "MspxD381UiS6",
        "outputId": "c8fdef91-e24c-4704-f812-eafbd40fb7fd"
      },
      "id": "MspxD381UiS6",
      "execution_count": 32,
      "outputs": [
        {
          "output_type": "stream",
          "name": "stdout",
          "text": [
            "Concatenated array:\n",
            "['HelloOpen' 'WorldAI']\n"
          ]
        },
        {
          "output_type": "stream",
          "name": "stderr",
          "text": [
            "/usr/local/lib/python3.10/dist-packages/IPython/core/inputtransformer2.py:478: UserWarning: `make_tokens_by_line` received a list of lines which do not have lineending markers ('\\n', '\\r', '\\r\\n', '\\x0b', '\\x0c'), behavior will be unspecified\n",
            "  warnings.warn(\"`make_tokens_by_line` received a list of lines which do not have lineending markers ('\\\\n', '\\\\r', '\\\\r\\\\n', '\\\\x0b', '\\\\x0c'), behavior will be unspecified\")\n"
          ]
        }
      ]
    },
    {
      "cell_type": "code",
      "source": [
        "#60. Write a function that finds the length of the longest string in a NumPy array. arr = np.array(['apple', 'banana', 'grape', 'pineapple']) arr = np.array(['apple', 'banana', 'grape', 'pineapple'])\n",
        "import numpy as np\n",
        "\n",
        "def longest_string_length(arr):\n",
        "\n",
        "    # Vectorized operation to compute lengths of all strings in arr\n",
        "    lengths = np.vectorize(len)(arr)\n",
        "\n",
        "    # Find and return the maximum length\n",
        "    return np.max(lengths)\n",
        "\n",
        "# Example usage:\n",
        "arr = np.array(['apple', 'banana', 'grape', 'pineapple'])\n",
        "\n",
        "longest_length = longest_string_length(arr)\n",
        "print(f\"Length of the longest string in the array: {longest_length}\")\n"
      ],
      "metadata": {
        "colab": {
          "base_uri": "https://localhost:8080/"
        },
        "id": "BBvZbi6sUqs0",
        "outputId": "909f049f-e963-40e2-eee9-ad49ec64a278"
      },
      "id": "BBvZbi6sUqs0",
      "execution_count": 33,
      "outputs": [
        {
          "output_type": "stream",
          "name": "stdout",
          "text": [
            "Length of the longest string in the array: 9\n"
          ]
        }
      ]
    },
    {
      "cell_type": "code",
      "source": [
        "#61. Create a dataset of 100 random integers between 1 and 1000. Compute the mean, median, variance, and standard deviation of the dataset using NumPy's functions.\n",
        "import numpy as np\n",
        "\n",
        "# Set seed for reproducibility\n",
        "np.random.seed(0)\n",
        "\n",
        "# Generate dataset of 100 random integers between 1 and 1000\n",
        "dataset = np.random.randint(1, 1001, size=100)\n",
        "\n",
        "# Compute mean, median, variance, and standard deviation\n",
        "mean = np.mean(dataset)\n",
        "median = np.median(dataset)\n",
        "variance = np.var(dataset)\n",
        "std_deviation = np.std(dataset)\n",
        "\n",
        "# Print results\n",
        "print(\"Dataset:\", dataset)\n",
        "print(\"Mean:\", mean)\n",
        "print(\"Median:\", median)\n",
        "print(\"Variance:\", variance)\n",
        "print(\"Standard Deviation:\", std_deviation)\n"
      ],
      "metadata": {
        "colab": {
          "base_uri": "https://localhost:8080/"
        },
        "id": "NInDxht9U07R",
        "outputId": "cd2808cb-9068-4fa9-9266-62b7f2e73795"
      },
      "id": "NInDxht9U07R",
      "execution_count": 34,
      "outputs": [
        {
          "output_type": "stream",
          "name": "stdout",
          "text": [
            "Dataset: [ 685  560  630  193  836  764  708  360   10  724  278  755  805  600\n",
            "   71  473  601  397  315  706  487  552   88  175  601  850  678  538\n",
            "  846   73  778  917  116  977  756  710  848  432  449  851  100  985\n",
            "  178  756  798  660  148  911  424  289  962  266  698  640  545  544\n",
            "  715  245  152  676  511  460  883  184   29  803  129  129  933   54\n",
            "  902  551  489  757  274  336  389  618   43  443  544  889  258  322\n",
            " 1000  938   58  292  871  120  780  431   83   92  897  399  612  566\n",
            "  909  634]\n",
            "Mean: 524.97\n",
            "Median: 551.5\n",
            "Variance: 82414.08910000001\n",
            "Standard Deviation: 287.07854169199067\n"
          ]
        }
      ]
    },
    {
      "cell_type": "code",
      "source": [
        "#62. Generate an array of 50 random numbers between 1 and 100. Find the 25th and 75th percentiles of the dataset.\n",
        "import numpy as np\n",
        "\n",
        "# Set seed for reproducibility\n",
        "np.random.seed(0)\n",
        "\n",
        "# Generate array of 50 random numbers between 1 and 100\n",
        "dataset = np.random.randint(1, 101, size=50)\n",
        "\n",
        "# Calculate 25th and 75th percentiles\n",
        "percentile_25th = np.percentile(dataset, 25)\n",
        "percentile_75th = np.percentile(dataset, 75)\n",
        "\n",
        "# Print results\n",
        "print(\"Dataset:\", dataset)\n",
        "print(\"25th Percentile:\", percentile_25th)\n",
        "print(\"75th Percentile:\", percentile_75th)\n"
      ],
      "metadata": {
        "colab": {
          "base_uri": "https://localhost:8080/"
        },
        "id": "zX-PsY-mV_VC",
        "outputId": "ae4a2538-3b3e-423a-8039-83f2ff939bcb"
      },
      "id": "zX-PsY-mV_VC",
      "execution_count": 35,
      "outputs": [
        {
          "output_type": "stream",
          "name": "stdout",
          "text": [
            "Dataset: [ 45  48  65  68  68  10  84  22  37  88  71  89  89  13  59  66  40  88\n",
            "  47  89  82  38  26  78  73  10  21  81  70  80  48  65  83 100  89  50\n",
            "  30  20  20  15  40  33  66  10  58  33  32  75  24  36]\n",
            "25th Percentile: 32.25\n",
            "75th Percentile: 77.25\n"
          ]
        }
      ]
    },
    {
      "cell_type": "code",
      "source": [
        "#63. Create two arrays representing two sets of variables. Compute the correlation coefficient between these arrays using NumPy's `corrcoef` function.\n",
        "import numpy as np\n",
        "\n",
        "# Example arrays representing two sets of variables\n",
        "array1 = np.array([1, 2, 3, 4, 5])\n",
        "array2 = np.array([5, 4, 3, 2, 1])\n",
        "\n",
        "# Compute correlation coefficient between array1 and array2\n",
        "correlation_matrix = np.corrcoef(array1, array2)\n",
        "\n",
        "# Extract the correlation coefficient from the matrix\n",
        "correlation_coefficient = correlation_matrix[0, 1]\n",
        "\n",
        "print(\"Array 1:\", array1)\n",
        "print(\"Array 2:\", array2)\n",
        "print(\"Correlation Coefficient between array1 and array2:\", correlation_coefficient)\n"
      ],
      "metadata": {
        "colab": {
          "base_uri": "https://localhost:8080/"
        },
        "id": "uNyKlorbWJ5I",
        "outputId": "3fc1afb4-a72d-4fbc-cf80-e3de9c790d87"
      },
      "id": "uNyKlorbWJ5I",
      "execution_count": 36,
      "outputs": [
        {
          "output_type": "stream",
          "name": "stdout",
          "text": [
            "Array 1: [1 2 3 4 5]\n",
            "Array 2: [5 4 3 2 1]\n",
            "Correlation Coefficient between array1 and array2: -0.9999999999999999\n"
          ]
        }
      ]
    },
    {
      "cell_type": "code",
      "source": [
        "#64. Create two matrices and perform matrix multiplication using NumPy's `dot` function\n",
        "import numpy as np\n",
        "\n",
        "# Create two matrices\n",
        "matrix1 = np.array([[1, 2, 3],\n",
        "                    [4, 5, 6]])\n",
        "\n",
        "matrix2 = np.array([[7, 8],\n",
        "                    [9, 10],\n",
        "                    [11, 12]])\n",
        "\n",
        "# Perform matrix multiplication using dot function\n",
        "result_matrix = np.dot(matrix1, matrix2)\n",
        "\n",
        "# Print the matrices and the result\n",
        "print(\"Matrix 1:\")\n",
        "print(matrix1)\n",
        "print(\"\\nMatrix 2:\")\n",
        "print(matrix2)\n",
        "print(\"\\nResult of matrix multiplication:\")\n",
        "print(result_matrix)\n"
      ],
      "metadata": {
        "colab": {
          "base_uri": "https://localhost:8080/"
        },
        "id": "ePBH8c0UWUx-",
        "outputId": "d1c63c42-72d7-4c1d-c5c5-60887d5a3616"
      },
      "id": "ePBH8c0UWUx-",
      "execution_count": 37,
      "outputs": [
        {
          "output_type": "stream",
          "name": "stdout",
          "text": [
            "Matrix 1:\n",
            "[[1 2 3]\n",
            " [4 5 6]]\n",
            "\n",
            "Matrix 2:\n",
            "[[ 7  8]\n",
            " [ 9 10]\n",
            " [11 12]]\n",
            "\n",
            "Result of matrix multiplication:\n",
            "[[ 58  64]\n",
            " [139 154]]\n"
          ]
        }
      ]
    },
    {
      "cell_type": "code",
      "source": [
        "#65. Create an array of 50 integers between 10 and 1000. Calculate the 10th, 50th (median), and 90th percentiles along with the first and third quartiles.\n",
        "import numpy as np\n",
        "\n",
        "# Set seed for reproducibility\n",
        "np.random.seed(0)\n",
        "\n",
        "# Generate array of 50 random integers between 10 and 1000\n",
        "dataset = np.random.randint(10, 1001, size=50)\n",
        "\n",
        "# Calculate percentiles and quartiles\n",
        "percentile_10th = np.percentile(dataset, 10)\n",
        "percentile_50th = np.percentile(dataset, 50)  # Median\n",
        "percentile_90th = np.percentile(dataset, 90)\n",
        "quartile_1st = np.percentile(dataset, 25)  # First quartile (25th percentile)\n",
        "quartile_3rd = np.percentile(dataset, 75)  # Third quartile (75th percentile)\n",
        "\n",
        "# Print results\n",
        "print(\"Dataset:\", dataset)\n",
        "print(\"10th Percentile:\", percentile_10th)\n",
        "print(\"50th Percentile (Median):\", percentile_50th)\n",
        "print(\"90th Percentile:\", percentile_90th)\n",
        "print(\"First Quartile (25th Percentile):\", quartile_1st)\n",
        "print(\"Third Quartile (75th Percentile):\", quartile_3rd)\n"
      ],
      "metadata": {
        "colab": {
          "base_uri": "https://localhost:8080/"
        },
        "id": "gwov3_vgWbTt",
        "outputId": "2af975da-f405-4649-b7cc-76a2b22f27bd"
      },
      "id": "gwov3_vgWbTt",
      "execution_count": 38,
      "outputs": [
        {
          "output_type": "stream",
          "name": "stdout",
          "text": [
            "Dataset: [694 569 639 202 845 773 717 369  19 733 287 764 814 609  80 482 610 406\n",
            " 324 715 496 561  97 184 610 859 687 547 855  82 787 926 125 986 765 719\n",
            " 857 441 458 860 109 994 187 765 807 669 157 920 433 298]\n",
            "10th Percentile: 123.4\n",
            "50th Percentile (Median): 610.0\n",
            "90th Percentile: 859.1\n",
            "First Quartile (25th Percentile): 335.25\n",
            "Third Quartile (75th Percentile): 771.0\n"
          ]
        }
      ]
    },
    {
      "cell_type": "code",
      "source": [
        "#66. Create a NumPy array of integers and find the index of a specific element.\n",
        "import numpy as np\n",
        "\n",
        "# Example NumPy array of integers\n",
        "arr = np.array([2, 4, 6, 8, 10, 12, 14])\n",
        "\n",
        "# Element to find the index\n",
        "element = 10\n",
        "\n",
        "# Find index of the element using np.where\n",
        "index = np.where(arr == element)[0]\n",
        "\n",
        "# Print the index\n",
        "if len(index) > 0:\n",
        "    print(f\"Index of {element}:\", index[0])\n",
        "else:\n",
        "    print(f\"{element} not found in the array.\")\n"
      ],
      "metadata": {
        "colab": {
          "base_uri": "https://localhost:8080/"
        },
        "id": "ntu3MFU6WhVg",
        "outputId": "8993a33b-64a8-4335-9227-ba3abf677e7b"
      },
      "id": "ntu3MFU6WhVg",
      "execution_count": 39,
      "outputs": [
        {
          "output_type": "stream",
          "name": "stdout",
          "text": [
            "Index of 10: 4\n"
          ]
        }
      ]
    },
    {
      "cell_type": "code",
      "source": [
        "#67. Generate a random NumPy array and sort it in ascending order.\n",
        "import numpy as np\n",
        "\n",
        "# Generate a random NumPy array\n",
        "np.random.seed(0)  # Set seed for reproducibility\n",
        "random_array = np.random.randint(1, 100, size=10)  # Generating 10 random integers between 1 and 100\n",
        "\n",
        "# Sort the array in ascending order\n",
        "sorted_array = np.sort(random_array)\n",
        "\n",
        "# Print the original and sorted arrays\n",
        "print(\"Original array:\")\n",
        "print(random_array)\n",
        "print(\"\\nSorted array in ascending order:\")\n",
        "print(sorted_array)\n"
      ],
      "metadata": {
        "colab": {
          "base_uri": "https://localhost:8080/"
        },
        "id": "93wVQKqOWnbs",
        "outputId": "4938164f-7d58-4b27-dcb1-6180d32eea88"
      },
      "id": "93wVQKqOWnbs",
      "execution_count": 40,
      "outputs": [
        {
          "output_type": "stream",
          "name": "stdout",
          "text": [
            "Original array:\n",
            "[45 48 65 68 68 10 84 22 37 88]\n",
            "\n",
            "Sorted array in ascending order:\n",
            "[10 22 37 45 48 65 68 68 84 88]\n"
          ]
        }
      ]
    },
    {
      "cell_type": "code",
      "source": [
        "#68. Filter elements >20  in the given NumPy array. arr = np.array([12, 25, 6, 42, 8, 30])\n",
        "import numpy as np\n",
        "\n",
        "# Given NumPy array\n",
        "arr = np.array([12, 25, 6, 42, 8, 30])\n",
        "\n",
        "# Filter elements greater than 20\n",
        "filtered_array = arr[arr > 20]\n",
        "\n",
        "# Print the filtered array\n",
        "print(\"Filtered elements greater than 20:\")\n",
        "print(filtered_array)\n"
      ],
      "metadata": {
        "colab": {
          "base_uri": "https://localhost:8080/"
        },
        "id": "TePKlEXkWvOH",
        "outputId": "0f531068-366f-4314-c624-964b63ea10ca"
      },
      "id": "TePKlEXkWvOH",
      "execution_count": 41,
      "outputs": [
        {
          "output_type": "stream",
          "name": "stdout",
          "text": [
            "Filtered elements greater than 20:\n",
            "[25 42 30]\n"
          ]
        }
      ]
    },
    {
      "cell_type": "code",
      "source": [
        "#69. Filter elements which are divisible by 3 from a given NumPy array. arr = np.array([1, 5, 8, 12, 15])\n",
        "import numpy as np\n",
        "\n",
        "# Given NumPy array\n",
        "arr = np.array([1, 5, 8, 12, 15])\n",
        "\n",
        "# Filter elements divisible by 3\n",
        "filtered_array = arr[arr % 3 == 0]\n",
        "\n",
        "# Print the filtered array\n",
        "print(\"Elements divisible by 3:\")\n",
        "print(filtered_array)\n"
      ],
      "metadata": {
        "colab": {
          "base_uri": "https://localhost:8080/"
        },
        "id": "85Bt8e_EW12I",
        "outputId": "82eb3683-7e56-40a5-f0f9-d4c1521d2457"
      },
      "id": "85Bt8e_EW12I",
      "execution_count": 42,
      "outputs": [
        {
          "output_type": "stream",
          "name": "stdout",
          "text": [
            "Elements divisible by 3:\n",
            "[12 15]\n"
          ]
        }
      ]
    },
    {
      "cell_type": "code",
      "source": [
        "#70. Filter elements which are ≥ 20 and ≤ 40 from a given NumPy array. arr = np.array([10, 20, 30, 40, 50])\n",
        "import numpy as np\n",
        "\n",
        "# Given NumPy array\n",
        "arr = np.array([10, 20, 30, 40, 50])\n",
        "\n",
        "# Filter elements between 20 and 40 (inclusive)\n",
        "filtered_array = arr[(arr >= 20) & (arr <= 40)]\n",
        "\n",
        "# Print the filtered array\n",
        "print(\"Elements between 20 and 40 (inclusive):\")\n",
        "print(filtered_array)\n"
      ],
      "metadata": {
        "colab": {
          "base_uri": "https://localhost:8080/"
        },
        "id": "t9xN9P3kW8SL",
        "outputId": "88d535d8-7f97-49e7-a4ca-b89938fbb3ee"
      },
      "id": "t9xN9P3kW8SL",
      "execution_count": 43,
      "outputs": [
        {
          "output_type": "stream",
          "name": "stdout",
          "text": [
            "Elements between 20 and 40 (inclusive):\n",
            "[20 30 40]\n"
          ]
        }
      ]
    },
    {
      "cell_type": "code",
      "source": [
        "#71. For the given NumPy array, check its byte order using the `dtype` attribute byteorder. arr = np.array([1, 2, 3])\n",
        "import numpy as np\n",
        "\n",
        "# Given NumPy array\n",
        "arr = np.array([1, 2, 3])\n",
        "\n",
        "# Check the byte order using dtype attribute byteorder\n",
        "byte_order = arr.dtype.byteorder\n",
        "\n",
        "# Print the byte order\n",
        "print(\"Byte order of the array:\", byte_order)\n"
      ],
      "metadata": {
        "colab": {
          "base_uri": "https://localhost:8080/"
        },
        "id": "V27F8XAFXCSN",
        "outputId": "06356290-0faa-4325-ed3d-1917e3a97665"
      },
      "id": "V27F8XAFXCSN",
      "execution_count": 44,
      "outputs": [
        {
          "output_type": "stream",
          "name": "stdout",
          "text": [
            "Byte order of the array: =\n"
          ]
        }
      ]
    },
    {
      "cell_type": "code",
      "source": [
        "#72. For the given NumPy array, perform byte swapping in place using `byteswap()`. arr = np.array([1, 2, 3], dtype=np.int32)\n",
        "import numpy as np\n",
        "\n",
        "# Given NumPy array\n",
        "arr = np.array([1, 2, 3], dtype=np.int32)\n",
        "\n",
        "# Perform byte swapping in place\n",
        "arr.byteswap(inplace=True)\n",
        "\n",
        "# Print the array after byte swapping\n",
        "print(\"Array after byte swapping:\")\n",
        "print(arr)\n"
      ],
      "metadata": {
        "colab": {
          "base_uri": "https://localhost:8080/"
        },
        "id": "EPk5hrNrXL-L",
        "outputId": "b7bfd5f6-4cf9-4705-e9fc-05381804a775"
      },
      "id": "EPk5hrNrXL-L",
      "execution_count": 45,
      "outputs": [
        {
          "output_type": "stream",
          "name": "stdout",
          "text": [
            "Array after byte swapping:\n",
            "[16777216 33554432 50331648]\n"
          ]
        }
      ]
    },
    {
      "cell_type": "code",
      "source": [
        "#73. For the given NumPy array, swap its byte order without modifying the original array using `newbyteorder()`. arr = np.array([1, 2, 3], dtype=np.int32)\n",
        "import numpy as np\n",
        "\n",
        "# Given NumPy array\n",
        "arr = np.array([1, 2, 3], dtype=np.int32)\n",
        "\n",
        "# Swap byte order without modifying the original array\n",
        "arr_swapped = arr.newbyteorder()\n",
        "\n",
        "# Print the original and swapped arrays\n",
        "print(\"Original array:\")\n",
        "print(arr)\n",
        "print(\"\\nArray with swapped byte order:\")\n",
        "print(arr_swapped)\n"
      ],
      "metadata": {
        "colab": {
          "base_uri": "https://localhost:8080/"
        },
        "id": "g_ZsOB6LXTBg",
        "outputId": "a4e564f1-c080-4fbc-9417-90d687646ddd"
      },
      "id": "g_ZsOB6LXTBg",
      "execution_count": 46,
      "outputs": [
        {
          "output_type": "stream",
          "name": "stdout",
          "text": [
            "Original array:\n",
            "[1 2 3]\n",
            "\n",
            "Array with swapped byte order:\n",
            "[16777216 33554432 50331648]\n"
          ]
        }
      ]
    },
    {
      "cell_type": "code",
      "source": [
        "#74. For the given NumPy array and swap its byte order conditionally based on system endianness using `newbyteorder()`. arr = np.array([1, 2, 3], dtype=np.int32)\n",
        "import numpy as np\n",
        "import sys\n",
        "\n",
        "# Given NumPy array\n",
        "arr = np.array([1, 2, 3], dtype=np.int32)\n",
        "\n",
        "# Check system byte order\n",
        "system_byteorder = sys.byteorder\n",
        "\n",
        "# Swap byte order conditionally based on system endianness\n",
        "if system_byteorder == 'little':\n",
        "    arr_swapped = arr.newbyteorder('big')\n",
        "else:\n",
        "    arr_swapped = arr.newbyteorder('little')\n",
        "\n",
        "# Print the original and swapped arrays\n",
        "print(\"Original array:\")\n",
        "print(arr)\n",
        "print(\"\\nArray with swapped byte order based on system endianness:\")\n",
        "print(arr_swapped)\n"
      ],
      "metadata": {
        "colab": {
          "base_uri": "https://localhost:8080/"
        },
        "id": "gF6Xv4dDXzSa",
        "outputId": "0f1ab41a-f3af-4cd3-bf97-8e322cf273d2"
      },
      "id": "gF6Xv4dDXzSa",
      "execution_count": 47,
      "outputs": [
        {
          "output_type": "stream",
          "name": "stdout",
          "text": [
            "Original array:\n",
            "[1 2 3]\n",
            "\n",
            "Array with swapped byte order based on system endianness:\n",
            "[16777216 33554432 50331648]\n"
          ]
        }
      ]
    },
    {
      "cell_type": "code",
      "source": [
        "#75. For the given NumPy array, check if byte swapping is necessary for the current system using `dtype` attribute `byteorder`. arr = np.array([1, 2, 3], dtype=np.int32)\n",
        "import numpy as np\n",
        "\n",
        "# Given NumPy array\n",
        "arr = np.array([1, 2, 3], dtype=np.int32)\n",
        "\n",
        "# Check if byte swapping is necessary based on system byte order\n",
        "current_byteorder = arr.dtype.byteorder\n",
        "system_byteorder = np.dtype(np.int32).byteorder\n",
        "\n",
        "# Determine if byte swapping is necessary\n",
        "byte_swapping_needed = (current_byteorder != system_byteorder)\n",
        "\n",
        "# Print the result\n",
        "if byte_swapping_needed:\n",
        "    print(\"Byte swapping is necessary.\")\n",
        "else:\n",
        "    print(\"Byte swapping is not necessary.\")\n"
      ],
      "metadata": {
        "colab": {
          "base_uri": "https://localhost:8080/"
        },
        "id": "pH-NLUIfX6gt",
        "outputId": "45939919-bf23-422d-dfa0-e21e1cb355da"
      },
      "id": "pH-NLUIfX6gt",
      "execution_count": 48,
      "outputs": [
        {
          "output_type": "stream",
          "name": "stdout",
          "text": [
            "Byte swapping is not necessary.\n"
          ]
        }
      ]
    },
    {
      "cell_type": "code",
      "source": [
        "#76. Create a NumPy array `arr1` with values from 1 to 10. Create a copy of `arr1` named `copy_arr` and modify an element in `copy_arr`. Check if modifying `copy_arr` affects `arr1`.\n",
        "import numpy as np\n",
        "\n",
        "# Create arr1 with values from 1 to 10\n",
        "arr1 = np.array([1, 2, 3, 4, 5, 6, 7, 8, 9, 10])\n",
        "\n",
        "# Create a deep copy of arr1\n",
        "copy_arr = arr1.copy()\n",
        "\n",
        "# Modify an element in copy_arr\n",
        "copy_arr[0] = 100\n",
        "\n",
        "# Check if modifying copy_arr affects arr1\n",
        "print(\"arr1:\", arr1)\n",
        "print(\"copy_arr:\", copy_arr)\n"
      ],
      "metadata": {
        "colab": {
          "base_uri": "https://localhost:8080/"
        },
        "id": "1-9D1RtbYFQm",
        "outputId": "31899589-b386-410e-a163-39089249af38"
      },
      "id": "1-9D1RtbYFQm",
      "execution_count": 49,
      "outputs": [
        {
          "output_type": "stream",
          "name": "stdout",
          "text": [
            "arr1: [ 1  2  3  4  5  6  7  8  9 10]\n",
            "copy_arr: [100   2   3   4   5   6   7   8   9  10]\n"
          ]
        }
      ]
    },
    {
      "cell_type": "code",
      "source": [
        "#77. Create a 2D NumPy array `matrix` of shape (3, 3) with random integers. Extract a slice `view_slice` from the matrix. Modify an element in `view_slice` and observe if it changes the original `matrix`.\n",
        "import numpy as np\n",
        "\n",
        "# Create a 2D NumPy array matrix of shape (3, 3) with random integers\n",
        "matrix = np.random.randint(1, 10, size=(3, 3))\n",
        "print(\"Original matrix:\")\n",
        "print(matrix)\n",
        "\n",
        "# Extract a slice view_slice from the matrix\n",
        "view_slice = matrix[1:, 1:]\n",
        "\n",
        "# Modify an element in view_slice\n",
        "view_slice[0, 0] = 100\n",
        "\n",
        "# Print the modified view_slice and the original matrix\n",
        "print(\"\\nModified view_slice:\")\n",
        "print(view_slice)\n",
        "\n",
        "print(\"\\nOriginal matrix after modification:\")\n",
        "print(matrix)\n"
      ],
      "metadata": {
        "colab": {
          "base_uri": "https://localhost:8080/"
        },
        "id": "z8ux3qrcYXdZ",
        "outputId": "f36fa16f-bd3c-423e-f7ba-798c46bda16c"
      },
      "id": "z8ux3qrcYXdZ",
      "execution_count": 50,
      "outputs": [
        {
          "output_type": "stream",
          "name": "stdout",
          "text": [
            "Original matrix:\n",
            "[[7 9 9]\n",
            " [2 7 8]\n",
            " [8 9 2]]\n",
            "\n",
            "Modified view_slice:\n",
            "[[100   8]\n",
            " [  9   2]]\n",
            "\n",
            "Original matrix after modification:\n",
            "[[  7   9   9]\n",
            " [  2 100   8]\n",
            " [  8   9   2]]\n"
          ]
        }
      ]
    },
    {
      "cell_type": "code",
      "source": [
        "#78. Create a NumPy array `array_a` of shape (4, 3) with sequential integers from 1 to 12. Extract a slice `view_b` from `array_a` and broadcast the addition of 5 to view_b. Check if it alters the original `array_a`.\n",
        "import numpy as np\n",
        "\n",
        "# Create a NumPy array array_a of shape (4, 3) with sequential integers from 1 to 12\n",
        "array_a = np.arange(1, 13).reshape(4, 3)\n",
        "print(\"Original array_a:\")\n",
        "print(array_a)\n",
        "\n",
        "# Extract a slice view_b from array_a\n",
        "view_b = array_a[1:3, 1:3]\n",
        "print(\"\\nSlice view_b:\")\n",
        "print(view_b)\n",
        "\n",
        "# Broadcast addition of 5 to view_b\n",
        "view_b += 5\n",
        "\n",
        "# Print modified view_b and original array_a\n",
        "print(\"\\nModified view_b after broadcasting addition of 5:\")\n",
        "print(view_b)\n",
        "\n",
        "print(\"\\nOriginal array_a after modification:\")\n",
        "print(array_a)\n"
      ],
      "metadata": {
        "colab": {
          "base_uri": "https://localhost:8080/"
        },
        "id": "Supy6ms0YfD_",
        "outputId": "443c9432-88df-498d-db96-5990f7c184fc"
      },
      "id": "Supy6ms0YfD_",
      "execution_count": 51,
      "outputs": [
        {
          "output_type": "stream",
          "name": "stdout",
          "text": [
            "Original array_a:\n",
            "[[ 1  2  3]\n",
            " [ 4  5  6]\n",
            " [ 7  8  9]\n",
            " [10 11 12]]\n",
            "\n",
            "Slice view_b:\n",
            "[[5 6]\n",
            " [8 9]]\n",
            "\n",
            "Modified view_b after broadcasting addition of 5:\n",
            "[[10 11]\n",
            " [13 14]]\n",
            "\n",
            "Original array_a after modification:\n",
            "[[ 1  2  3]\n",
            " [ 4 10 11]\n",
            " [ 7 13 14]\n",
            " [10 11 12]]\n"
          ]
        }
      ]
    },
    {
      "cell_type": "code",
      "source": [
        "#79. Create a NumPy array `orig_array` of shape (2, 4) with values from 1 to 8. Create a reshaped view `reshaped_view` of shape (4, 2) from orig_array. Modify an element in `reshaped_view` and check if it reflects changes in the original `orig_array`.\n",
        "import numpy as np\n",
        "\n",
        "# Create a NumPy array orig_array of shape (2, 4) with values from 1 to 8\n",
        "orig_array = np.arange(1, 9).reshape(2, 4)\n",
        "print(\"Original orig_array:\")\n",
        "print(orig_array)\n",
        "\n",
        "# Create a reshaped view reshaped_view of shape (4, 2) from orig_array\n",
        "reshaped_view = orig_array.reshape(4, 2)\n",
        "print(\"\\nReshaped view reshaped_view:\")\n",
        "print(reshaped_view)\n",
        "\n",
        "# Modify an element in reshaped_view\n",
        "reshaped_view[0, 0] = 100\n",
        "\n",
        "# Print modified reshaped_view and original orig_array\n",
        "print(\"\\nModified reshaped_view:\")\n",
        "print(reshaped_view)\n",
        "\n",
        "print(\"\\nOriginal orig_array after modification:\")\n",
        "print(orig_array)\n"
      ],
      "metadata": {
        "colab": {
          "base_uri": "https://localhost:8080/"
        },
        "id": "uNo3kMQuYlLO",
        "outputId": "b42168d8-30db-492d-8346-cd083893caf2"
      },
      "id": "uNo3kMQuYlLO",
      "execution_count": 52,
      "outputs": [
        {
          "output_type": "stream",
          "name": "stdout",
          "text": [
            "Original orig_array:\n",
            "[[1 2 3 4]\n",
            " [5 6 7 8]]\n",
            "\n",
            "Reshaped view reshaped_view:\n",
            "[[1 2]\n",
            " [3 4]\n",
            " [5 6]\n",
            " [7 8]]\n",
            "\n",
            "Modified reshaped_view:\n",
            "[[100   2]\n",
            " [  3   4]\n",
            " [  5   6]\n",
            " [  7   8]]\n",
            "\n",
            "Original orig_array after modification:\n",
            "[[100   2   3   4]\n",
            " [  5   6   7   8]]\n"
          ]
        }
      ]
    },
    {
      "cell_type": "code",
      "source": [
        "#80. Create a NumPy array `data` of shape (3, 4) with random integers. Extract a copy `data_copy` of elements greater than 5. Modify an element in `data_copy` and verify if it affects the original `data\n",
        "import numpy as np\n",
        "\n",
        "# Create a NumPy array data of shape (3, 4) with random integers\n",
        "data = np.random.randint(1, 10, size=(3, 4))\n",
        "print(\"Original data:\")\n",
        "print(data)\n",
        "\n",
        "# Create a copy data_copy of elements greater than 5\n",
        "data_copy = data[data > 5].copy()\n",
        "print(\"\\nCopy data_copy of elements greater than 5:\")\n",
        "print(data_copy)\n",
        "\n",
        "# Modify an element in data_copy\n",
        "data_copy[0] = 100\n",
        "\n",
        "# Verify if modifying data_copy affects the original data\n",
        "print(\"\\nModified data_copy:\")\n",
        "print(data_copy)\n",
        "\n",
        "print(\"\\nOriginal data after modification:\")\n",
        "print(data)\n"
      ],
      "metadata": {
        "colab": {
          "base_uri": "https://localhost:8080/"
        },
        "id": "X5MrOFjnYwP7",
        "outputId": "c5b16c7b-fb98-42b8-ebf6-b3374b50e58d"
      },
      "id": "X5MrOFjnYwP7",
      "execution_count": 53,
      "outputs": [
        {
          "output_type": "stream",
          "name": "stdout",
          "text": [
            "Original data:\n",
            "[[6 9 5 4]\n",
            " [1 4 6 1]\n",
            " [3 4 9 2]]\n",
            "\n",
            "Copy data_copy of elements greater than 5:\n",
            "[6 9 6 9]\n",
            "\n",
            "Modified data_copy:\n",
            "[100   9   6   9]\n",
            "\n",
            "Original data after modification:\n",
            "[[6 9 5 4]\n",
            " [1 4 6 1]\n",
            " [3 4 9 2]]\n"
          ]
        }
      ]
    },
    {
      "cell_type": "code",
      "source": [
        "#81. Create two matrices A and B of identical shape containing integers and perform addition and subtraction operations between them.\n",
        "import numpy as np\n",
        "\n",
        "# Create matrices A and B of identical shape containing integers\n",
        "A = np.array([[1, 2, 3],\n",
        "              [4, 5, 6]])\n",
        "\n",
        "B = np.array([[7, 8, 9],\n",
        "              [10, 11, 12]])\n",
        "\n",
        "# Perform addition and subtraction operations between A and B\n",
        "addition_result = A + B\n",
        "subtraction_result = A - B\n",
        "\n",
        "# Print the results\n",
        "print(\"Matrix A:\")\n",
        "print(A)\n",
        "\n",
        "print(\"\\nMatrix B:\")\n",
        "print(B)\n",
        "\n",
        "print(\"\\nAddition Result (A + B):\")\n",
        "print(addition_result)\n",
        "\n",
        "print(\"\\nSubtraction Result (A - B):\")\n",
        "print(subtraction_result)\n"
      ],
      "metadata": {
        "colab": {
          "base_uri": "https://localhost:8080/"
        },
        "id": "SPRZCAa3Y3fy",
        "outputId": "11c9fbf1-74ff-46eb-aa6b-02731d3be865"
      },
      "id": "SPRZCAa3Y3fy",
      "execution_count": 55,
      "outputs": [
        {
          "output_type": "stream",
          "name": "stdout",
          "text": [
            "Matrix A:\n",
            "[[1 2 3]\n",
            " [4 5 6]]\n",
            "\n",
            "Matrix B:\n",
            "[[ 7  8  9]\n",
            " [10 11 12]]\n",
            "\n",
            "Addition Result (A + B):\n",
            "[[ 8 10 12]\n",
            " [14 16 18]]\n",
            "\n",
            "Subtraction Result (A - B):\n",
            "[[-6 -6 -6]\n",
            " [-6 -6 -6]]\n"
          ]
        }
      ]
    },
    {
      "cell_type": "code",
      "source": [
        "#82. Generate two matrices `C` (3x2) and `D` (2x4) and perform matrix multiplication.\n",
        "import numpy as np\n",
        "\n",
        "# Generate matrices C (3x2) and D (2x4)\n",
        "C = np.array([[1, 2],\n",
        "              [3, 4],\n",
        "              [5, 6]])\n",
        "\n",
        "D = np.array([[7, 8, 9, 10],\n",
        "              [11, 12, 13, 14]])\n",
        "\n",
        "# Perform matrix multiplication using np.dot()\n",
        "result = np.dot(C, D)\n",
        "\n",
        "# Print the matrices and the result\n",
        "print(\"Matrix C (3x2):\")\n",
        "print(C)\n",
        "\n",
        "print(\"\\nMatrix D (2x4):\")\n",
        "print(D)\n",
        "\n",
        "print(\"\\nMatrix Multiplication Result (C dot D):\")\n",
        "print(result)\n"
      ],
      "metadata": {
        "colab": {
          "base_uri": "https://localhost:8080/"
        },
        "id": "X95HOZMWZB38",
        "outputId": "ef79619a-f885-4ed4-8fa0-c953ae011740"
      },
      "id": "X95HOZMWZB38",
      "execution_count": 56,
      "outputs": [
        {
          "output_type": "stream",
          "name": "stdout",
          "text": [
            "Matrix C (3x2):\n",
            "[[1 2]\n",
            " [3 4]\n",
            " [5 6]]\n",
            "\n",
            "Matrix D (2x4):\n",
            "[[ 7  8  9 10]\n",
            " [11 12 13 14]]\n",
            "\n",
            "Matrix Multiplication Result (C dot D):\n",
            "[[ 29  32  35  38]\n",
            " [ 65  72  79  86]\n",
            " [101 112 123 134]]\n"
          ]
        }
      ]
    },
    {
      "cell_type": "code",
      "source": [
        "#83. Create a matrix `E` and find its transpose.\n",
        "import numpy as np\n",
        "\n",
        "# Create a matrix E\n",
        "E = np.array([[1, 2, 3],\n",
        "              [4, 5, 6]])\n",
        "\n",
        "# Find the transpose of matrix E using .T attribute\n",
        "E_transpose = E.T\n",
        "\n",
        "# Alternatively, find the transpose of matrix E using np.transpose()\n",
        "# E_transpose = np.transpose(E)\n",
        "\n",
        "# Print the original matrix and its transpose\n",
        "print(\"Matrix E:\")\n",
        "print(E)\n",
        "\n",
        "print(\"\\nTranspose of E:\")\n",
        "print(E_transpose)\n"
      ],
      "metadata": {
        "colab": {
          "base_uri": "https://localhost:8080/"
        },
        "id": "eszlQk_5ZKHT",
        "outputId": "773d69cd-00b5-4246-84ab-d0d5f336548c"
      },
      "id": "eszlQk_5ZKHT",
      "execution_count": 57,
      "outputs": [
        {
          "output_type": "stream",
          "name": "stdout",
          "text": [
            "Matrix E:\n",
            "[[1 2 3]\n",
            " [4 5 6]]\n",
            "\n",
            "Transpose of E:\n",
            "[[1 4]\n",
            " [2 5]\n",
            " [3 6]]\n"
          ]
        }
      ]
    },
    {
      "cell_type": "code",
      "source": [
        "#84. Generate a square matrix `F` and compute its determinant.\n",
        "import numpy as np\n",
        "\n",
        "# Generate a square matrix F\n",
        "F = np.array([[1, 2],\n",
        "              [3, 4]])\n",
        "\n",
        "# Compute the determinant of matrix F\n",
        "determinant_F = np.linalg.det(F)\n",
        "\n",
        "# Print the matrix and its determinant\n",
        "print(\"Matrix F:\")\n",
        "print(F)\n",
        "\n",
        "print(\"\\nDeterminant of F:\")\n",
        "print(determinant_F)\n"
      ],
      "metadata": {
        "colab": {
          "base_uri": "https://localhost:8080/"
        },
        "id": "mSRDhv-QZRBH",
        "outputId": "3ca7e4e3-de20-43b3-fdff-7bec71d0c4ff"
      },
      "id": "mSRDhv-QZRBH",
      "execution_count": 58,
      "outputs": [
        {
          "output_type": "stream",
          "name": "stdout",
          "text": [
            "Matrix F:\n",
            "[[1 2]\n",
            " [3 4]]\n",
            "\n",
            "Determinant of F:\n",
            "-2.0000000000000004\n"
          ]
        }
      ]
    },
    {
      "cell_type": "code",
      "source": [
        "#85. Create a square matrix `G` and find its inverse.\n",
        "import numpy as np\n",
        "\n",
        "# Create a square matrix G\n",
        "G = np.array([[1, 2],\n",
        "              [3, 4]])\n",
        "\n",
        "# Find the inverse of matrix G using np.linalg.inv()\n",
        "inverse_G = np.linalg.inv(G)\n",
        "\n",
        "# Print the matrix and its inverse\n",
        "print(\"Matrix G:\")\n",
        "print(G)\n",
        "\n",
        "print(\"\\nInverse of G:\")\n",
        "print(inverse_G)\n"
      ],
      "metadata": {
        "colab": {
          "base_uri": "https://localhost:8080/"
        },
        "id": "RJ2c__piZZNW",
        "outputId": "4c2d1d0b-52dd-47d2-f659-84679221eb30"
      },
      "id": "RJ2c__piZZNW",
      "execution_count": 59,
      "outputs": [
        {
          "output_type": "stream",
          "name": "stdout",
          "text": [
            "Matrix G:\n",
            "[[1 2]\n",
            " [3 4]]\n",
            "\n",
            "Inverse of G:\n",
            "[[-2.   1. ]\n",
            " [ 1.5 -0.5]]\n"
          ]
        }
      ]
    },
    {
      "cell_type": "code",
      "source": [],
      "metadata": {
        "id": "kQvUtMCfZhKb"
      },
      "id": "kQvUtMCfZhKb",
      "execution_count": null,
      "outputs": []
    }
  ],
  "metadata": {
    "kernelspec": {
      "display_name": "Python 3 (ipykernel)",
      "language": "python",
      "name": "python3"
    },
    "language_info": {
      "codemirror_mode": {
        "name": "ipython",
        "version": 3
      },
      "file_extension": ".py",
      "mimetype": "text/x-python",
      "name": "python",
      "nbconvert_exporter": "python",
      "pygments_lexer": "ipython3",
      "version": "3.10.8"
    },
    "colab": {
      "provenance": []
    }
  },
  "nbformat": 4,
  "nbformat_minor": 5
}