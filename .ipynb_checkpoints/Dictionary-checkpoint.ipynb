{
 "cells": [
  {
   "cell_type": "code",
   "execution_count": 1,
   "id": "56996f60-53d0-40c8-afea-3afa1f81bd9a",
   "metadata": {},
   "outputs": [],
   "source": [
    "#dictionary >> is a data structures that stores the data in key value pair \n",
    "#unordered, keys are unique and immutable"
   ]
  },
  {
   "cell_type": "code",
   "execution_count": 2,
   "id": "69d8900a-c023-455c-8c55-08dc4a00db8a",
   "metadata": {},
   "outputs": [
    {
     "data": {
      "text/plain": [
       "dict"
      ]
     },
     "execution_count": 2,
     "metadata": {},
     "output_type": "execute_result"
    }
   ],
   "source": [
    "d = {}\n",
    "type(d)"
   ]
  },
  {
   "cell_type": "code",
   "execution_count": 4,
   "id": "ea3dd31e-ccd3-40fe-a4f0-4e4f0b6104ab",
   "metadata": {},
   "outputs": [
    {
     "data": {
      "text/plain": [
       "dict"
      ]
     },
     "execution_count": 4,
     "metadata": {},
     "output_type": "execute_result"
    }
   ],
   "source": [
    "d = {\"name\": \"Sachin\"}\n",
    "type(d)"
   ]
  },
  {
   "cell_type": "code",
   "execution_count": 6,
   "id": "add9e8f9-ef31-4b26-aff2-5fbf0eff8954",
   "metadata": {},
   "outputs": [
    {
     "data": {
      "text/plain": [
       "dict"
      ]
     },
     "execution_count": 6,
     "metadata": {},
     "output_type": "execute_result"
    }
   ],
   "source": [
    "d = {\"name\": \"sachin\", \"email\" : \"sachin@gamil.com\", \"contact\" : 1233}\n",
    "type(d)"
   ]
  },
  {
   "cell_type": "code",
   "execution_count": 7,
   "id": "8360d0da-6387-4533-997c-ee63f1720e04",
   "metadata": {},
   "outputs": [],
   "source": [
    "l = [100, \"Ajay\", \"Bijay\", \"sanjay\"]"
   ]
  },
  {
   "cell_type": "code",
   "execution_count": 8,
   "id": "635e46cc-80bb-45cc-9114-bb897c5d1a3a",
   "metadata": {},
   "outputs": [
    {
     "data": {
      "text/plain": [
       "'sachin'"
      ]
     },
     "execution_count": 8,
     "metadata": {},
     "output_type": "execute_result"
    }
   ],
   "source": [
    "d[\"name\"]"
   ]
  },
  {
   "cell_type": "code",
   "execution_count": 9,
   "id": "d2b4bacc-44f4-427d-9b49-0752bdc97b22",
   "metadata": {},
   "outputs": [
    {
     "data": {
      "text/plain": [
       "'sachin@gamil.com'"
      ]
     },
     "execution_count": 9,
     "metadata": {},
     "output_type": "execute_result"
    }
   ],
   "source": [
    "d[\"email\"]"
   ]
  },
  {
   "cell_type": "code",
   "execution_count": 10,
   "id": "f15c8841-8da1-41b4-a2f9-f80b6e19118c",
   "metadata": {},
   "outputs": [
    {
     "data": {
      "text/plain": [
       "1233"
      ]
     },
     "execution_count": 10,
     "metadata": {},
     "output_type": "execute_result"
    }
   ],
   "source": [
    "d[\"contact\"]"
   ]
  },
  {
   "cell_type": "code",
   "execution_count": 12,
   "id": "d1fd9536-6ae5-40c2-b33c-827a1cb78c98",
   "metadata": {},
   "outputs": [
    {
     "data": {
      "text/plain": [
       "{'name': 'sachin', 'email': 'sachin@gamil.com', 'contact': 1233}"
      ]
     },
     "execution_count": 12,
     "metadata": {},
     "output_type": "execute_result"
    }
   ],
   "source": [
    "d"
   ]
  },
  {
   "cell_type": "code",
   "execution_count": 13,
   "id": "b63b8271-7d49-4bb1-b70f-c9a873cb56e7",
   "metadata": {},
   "outputs": [
    {
     "data": {
      "text/plain": [
       "{1: 'ajay'}"
      ]
     },
     "execution_count": 13,
     "metadata": {},
     "output_type": "execute_result"
    }
   ],
   "source": [
    "#key in dictionary can be any no \n",
    "d1 = {1:\"ajay\"}\n",
    "d1"
   ]
  },
  {
   "cell_type": "code",
   "execution_count": 14,
   "id": "2d2002d5-6795-4810-ba1a-1fa40f34812d",
   "metadata": {},
   "outputs": [
    {
     "data": {
      "text/plain": [
       "{2.2: 'Bijay'}"
      ]
     },
     "execution_count": 14,
     "metadata": {},
     "output_type": "execute_result"
    }
   ],
   "source": [
    "d2 = {2.2: \"Bijay\"}\n",
    "d2"
   ]
  },
  {
   "cell_type": "code",
   "execution_count": 15,
   "id": "af8d0a85-1532-46b4-975b-f31ec1b2f6f8",
   "metadata": {},
   "outputs": [],
   "source": [
    "d3 = {True: \"aabra ka dabra\"}"
   ]
  },
  {
   "cell_type": "code",
   "execution_count": 16,
   "id": "1b73465a-3d7d-46f2-a39c-ec38261794db",
   "metadata": {},
   "outputs": [
    {
     "data": {
      "text/plain": [
       "{True: 'aabra ka dabra'}"
      ]
     },
     "execution_count": 16,
     "metadata": {},
     "output_type": "execute_result"
    }
   ],
   "source": [
    "d3"
   ]
  },
  {
   "cell_type": "code",
   "execution_count": 19,
   "id": "ed36a30b-10b6-40dd-adb2-d6aa09b14e8e",
   "metadata": {},
   "outputs": [],
   "source": [
    "d4={\"#\": \"aabra\"}"
   ]
  },
  {
   "cell_type": "code",
   "execution_count": 20,
   "id": "4f730bb8-aa6a-42d4-b694-4219798cf617",
   "metadata": {},
   "outputs": [
    {
     "data": {
      "text/plain": [
       "{'#': 'aabra'}"
      ]
     },
     "execution_count": 20,
     "metadata": {},
     "output_type": "execute_result"
    }
   ],
   "source": [
    "d4"
   ]
  },
  {
   "cell_type": "code",
   "execution_count": 21,
   "id": "8f06eb80-c84e-466f-a40f-4d27d6118c49",
   "metadata": {},
   "outputs": [
    {
     "ename": "SyntaxError",
     "evalue": "invalid syntax (3638177276.py, line 1)",
     "output_type": "error",
     "traceback": [
      "\u001b[0;36m  Cell \u001b[0;32mIn[21], line 1\u001b[0;36m\u001b[0m\n\u001b[0;31m    d = {@:123}\u001b[0m\n\u001b[0m         ^\u001b[0m\n\u001b[0;31mSyntaxError\u001b[0m\u001b[0;31m:\u001b[0m invalid syntax\n"
     ]
    }
   ],
   "source": [
    "d = {@:123}"
   ]
  },
  {
   "cell_type": "code",
   "execution_count": 22,
   "id": "bf7ab7b2-0112-4f4f-8eae-f1071a586bca",
   "metadata": {},
   "outputs": [
    {
     "ename": "TypeError",
     "evalue": "unhashable type: 'list'",
     "output_type": "error",
     "traceback": [
      "\u001b[0;31m---------------------------------------------------------------------------\u001b[0m",
      "\u001b[0;31mTypeError\u001b[0m                                 Traceback (most recent call last)",
      "Cell \u001b[0;32mIn[22], line 1\u001b[0m\n\u001b[0;32m----> 1\u001b[0m d \u001b[38;5;241m=\u001b[39m {[\u001b[38;5;241m1\u001b[39m, \u001b[38;5;241m2\u001b[39m, \u001b[38;5;241m3\u001b[39m]: \u001b[38;5;124m\"\u001b[39m\u001b[38;5;124mabc\u001b[39m\u001b[38;5;124m\"\u001b[39m}\n",
      "\u001b[0;31mTypeError\u001b[0m: unhashable type: 'list'"
     ]
    }
   ],
   "source": [
    "d = {[1, 2, 3]: \"abc\"}"
   ]
  },
  {
   "cell_type": "code",
   "execution_count": 23,
   "id": "bf83f9ee-edb6-4514-bcaf-b2796a0f009d",
   "metadata": {},
   "outputs": [
    {
     "ename": "SyntaxError",
     "evalue": "invalid syntax. Perhaps you forgot a comma? (1169670111.py, line 1)",
     "output_type": "error",
     "traceback": [
      "\u001b[0;36m  Cell \u001b[0;32mIn[23], line 1\u001b[0;36m\u001b[0m\n\u001b[0;31m    d = {{1,2 3}: \"cde\"}\u001b[0m\n\u001b[0m            ^\u001b[0m\n\u001b[0;31mSyntaxError\u001b[0m\u001b[0;31m:\u001b[0m invalid syntax. Perhaps you forgot a comma?\n"
     ]
    }
   ],
   "source": [
    "d = {{1,2 3}: \"cde\"}"
   ]
  },
  {
   "cell_type": "code",
   "execution_count": 24,
   "id": "c486db16-fa71-4567-8c10-bc42d3d8cc73",
   "metadata": {},
   "outputs": [],
   "source": [
    "d = {(1,2,3): \"abc\"}"
   ]
  },
  {
   "cell_type": "code",
   "execution_count": 25,
   "id": "769f9694-a32f-44bb-b355-63601ac5b32a",
   "metadata": {},
   "outputs": [
    {
     "data": {
      "text/plain": [
       "{(1, 2, 3): 'abc'}"
      ]
     },
     "execution_count": 25,
     "metadata": {},
     "output_type": "execute_result"
    }
   ],
   "source": [
    "d"
   ]
  },
  {
   "cell_type": "code",
   "execution_count": 26,
   "id": "64503a38-2e41-4566-857a-ac4cbb4a67c4",
   "metadata": {},
   "outputs": [
    {
     "data": {
      "text/plain": [
       "{(1, 2, 3): 'abc'}"
      ]
     },
     "execution_count": 26,
     "metadata": {},
     "output_type": "execute_result"
    }
   ],
   "source": [
    "d #keys can be immutable data structure "
   ]
  },
  {
   "cell_type": "code",
   "execution_count": 27,
   "id": "dba1925c-6cce-4484-b17d-57fc71092286",
   "metadata": {},
   "outputs": [
    {
     "data": {
      "text/plain": [
       "{'name': 'sachin', 'email': 'sachin@gamil.com', 'contact': 1233}"
      ]
     },
     "execution_count": 27,
     "metadata": {},
     "output_type": "execute_result"
    }
   ],
   "source": [
    "d = {\"name\": \"sachin\", \"email\" : \"sachin@gamil.com\", \"contact\" : 1233}\n",
    "d"
   ]
  },
  {
   "cell_type": "code",
   "execution_count": 29,
   "id": "78e44bd5-a398-4eff-a071-59774a146aa3",
   "metadata": {},
   "outputs": [],
   "source": [
    "d[\"name\"] = \"Binod\"  #change the value if dictionary \n",
    "#dictionary value is mutable "
   ]
  },
  {
   "cell_type": "code",
   "execution_count": 30,
   "id": "85ea197b-2e66-4080-8dec-de3be70eb1c8",
   "metadata": {},
   "outputs": [
    {
     "data": {
      "text/plain": [
       "{'name': 'Binod', 'email': 'sachin@gamil.com', 'contact': 1233}"
      ]
     },
     "execution_count": 30,
     "metadata": {},
     "output_type": "execute_result"
    }
   ],
   "source": [
    "d"
   ]
  },
  {
   "cell_type": "code",
   "execution_count": 31,
   "id": "ae08dfd6-b338-4def-ba71-3865b7a9a032",
   "metadata": {},
   "outputs": [
    {
     "ename": "KeyError",
     "evalue": "'Binod'",
     "output_type": "error",
     "traceback": [
      "\u001b[0;31m---------------------------------------------------------------------------\u001b[0m",
      "\u001b[0;31mKeyError\u001b[0m                                  Traceback (most recent call last)",
      "Cell \u001b[0;32mIn[31], line 1\u001b[0m\n\u001b[0;32m----> 1\u001b[0m \u001b[43md\u001b[49m\u001b[43m[\u001b[49m\u001b[38;5;124;43m\"\u001b[39;49m\u001b[38;5;124;43mBinod\u001b[39;49m\u001b[38;5;124;43m\"\u001b[39;49m\u001b[43m]\u001b[49m\n",
      "\u001b[0;31mKeyError\u001b[0m: 'Binod'"
     ]
    }
   ],
   "source": [
    "d[\"Binod\"] #you can not access key using value"
   ]
  },
  {
   "cell_type": "code",
   "execution_count": 32,
   "id": "dc0e228f-f8e3-410b-8cff-9ce68b52d7bb",
   "metadata": {},
   "outputs": [],
   "source": [
    "d = {\"name\" : [\"Ajay\", \"Bijay\", \"Sanjay\"], \"course\": (\"ds\", \"ml\")}"
   ]
  },
  {
   "cell_type": "code",
   "execution_count": 33,
   "id": "13165ed2-b0d3-44af-8be4-b1801e3d4d66",
   "metadata": {},
   "outputs": [
    {
     "data": {
      "text/plain": [
       "{'name': ['Ajay', 'Bijay', 'Sanjay'], 'course': ('ds', 'ml')}"
      ]
     },
     "execution_count": 33,
     "metadata": {},
     "output_type": "execute_result"
    }
   ],
   "source": [
    "d"
   ]
  },
  {
   "cell_type": "code",
   "execution_count": 34,
   "id": "5573a191-541b-4175-b9f1-c91ff6554abe",
   "metadata": {},
   "outputs": [
    {
     "data": {
      "text/plain": [
       "['Ajay', 'Bijay', 'Sanjay']"
      ]
     },
     "execution_count": 34,
     "metadata": {},
     "output_type": "execute_result"
    }
   ],
   "source": [
    "d[\"name\"]"
   ]
  },
  {
   "cell_type": "code",
   "execution_count": 35,
   "id": "caadb50a-3587-43e9-b2d1-64050db47f96",
   "metadata": {},
   "outputs": [
    {
     "data": {
      "text/plain": [
       "'Bijay'"
      ]
     },
     "execution_count": 35,
     "metadata": {},
     "output_type": "execute_result"
    }
   ],
   "source": [
    "d[\"name\"] [1]"
   ]
  },
  {
   "cell_type": "code",
   "execution_count": 36,
   "id": "ef2bff7d-ad9f-4ab6-b63e-58a30e9d7ac6",
   "metadata": {},
   "outputs": [
    {
     "data": {
      "text/plain": [
       "('ds', 'ml')"
      ]
     },
     "execution_count": 36,
     "metadata": {},
     "output_type": "execute_result"
    }
   ],
   "source": [
    "d [\"course\"] "
   ]
  },
  {
   "cell_type": "code",
   "execution_count": 37,
   "id": "e9870248-4c89-444f-9960-e51c766a4501",
   "metadata": {},
   "outputs": [
    {
     "data": {
      "text/plain": [
       "{'name': ['Ajay', 'Bijay', 'Sanjay'], 'course': ('ds', 'ml')}"
      ]
     },
     "execution_count": 37,
     "metadata": {},
     "output_type": "execute_result"
    }
   ],
   "source": [
    "d"
   ]
  },
  {
   "cell_type": "code",
   "execution_count": 38,
   "id": "331703e6-a7c7-4bf8-b61c-d82a9ec1dfcc",
   "metadata": {},
   "outputs": [],
   "source": [
    "d[\"date_of_start\"] = \"15th july\""
   ]
  },
  {
   "cell_type": "code",
   "execution_count": 39,
   "id": "baea06e9-fd70-4eec-8f55-1d503eec5e8a",
   "metadata": {},
   "outputs": [
    {
     "data": {
      "text/plain": [
       "{'name': ['Ajay', 'Bijay', 'Sanjay'],\n",
       " 'course': ('ds', 'ml'),\n",
       " 'date_of_start': '15th july'}"
      ]
     },
     "execution_count": 39,
     "metadata": {},
     "output_type": "execute_result"
    }
   ],
   "source": [
    "d"
   ]
  },
  {
   "cell_type": "code",
   "execution_count": 40,
   "id": "adf13b56-1a4e-41a7-a109-432fe25a6fa7",
   "metadata": {},
   "outputs": [],
   "source": [
    "del d[\"date_of_start\"] "
   ]
  },
  {
   "cell_type": "code",
   "execution_count": 41,
   "id": "84bc25ff-48cf-4465-a20c-cf238d603b24",
   "metadata": {},
   "outputs": [
    {
     "data": {
      "text/plain": [
       "{'name': ['Ajay', 'Bijay', 'Sanjay'], 'course': ('ds', 'ml')}"
      ]
     },
     "execution_count": 41,
     "metadata": {},
     "output_type": "execute_result"
    }
   ],
   "source": [
    "d"
   ]
  },
  {
   "cell_type": "code",
   "execution_count": 42,
   "id": "9a11c72c-e596-4c19-a3c2-c0b12388b930",
   "metadata": {},
   "outputs": [],
   "source": [
    "d.clear()"
   ]
  },
  {
   "cell_type": "code",
   "execution_count": 43,
   "id": "fb364ad7-dbc2-40bc-9c1a-573882e59fb9",
   "metadata": {},
   "outputs": [
    {
     "data": {
      "text/plain": [
       "{}"
      ]
     },
     "execution_count": 43,
     "metadata": {},
     "output_type": "execute_result"
    }
   ],
   "source": [
    "d"
   ]
  },
  {
   "cell_type": "code",
   "execution_count": 44,
   "id": "107e4dc2-cee3-4cac-ba72-afc4a4e5926f",
   "metadata": {},
   "outputs": [],
   "source": [
    "del d"
   ]
  },
  {
   "cell_type": "code",
   "execution_count": 45,
   "id": "3a05a630-6f54-474e-a674-dac40b1fd15a",
   "metadata": {},
   "outputs": [
    {
     "ename": "NameError",
     "evalue": "name 'd' is not defined",
     "output_type": "error",
     "traceback": [
      "\u001b[0;31m---------------------------------------------------------------------------\u001b[0m",
      "\u001b[0;31mNameError\u001b[0m                                 Traceback (most recent call last)",
      "Cell \u001b[0;32mIn[45], line 1\u001b[0m\n\u001b[0;32m----> 1\u001b[0m \u001b[43md\u001b[49m\n",
      "\u001b[0;31mNameError\u001b[0m: name 'd' is not defined"
     ]
    }
   ],
   "source": [
    "d"
   ]
  },
  {
   "cell_type": "code",
   "execution_count": 46,
   "id": "9af3df9f-7a46-476e-b7dc-ce6f96110661",
   "metadata": {},
   "outputs": [],
   "source": [
    "d = {\"name\" : [\"Ajay\", \"Bijay\", \"Sanjay\"], \"course\": (\"ds\", \"ml\")}"
   ]
  },
  {
   "cell_type": "code",
   "execution_count": 47,
   "id": "4b46a18f-6caf-4df6-920b-f4a8e771bde4",
   "metadata": {},
   "outputs": [
    {
     "data": {
      "text/plain": [
       "{'name': ['Ajay', 'Bijay', 'Sanjay'], 'course': ('ds', 'ml')}"
      ]
     },
     "execution_count": 47,
     "metadata": {},
     "output_type": "execute_result"
    }
   ],
   "source": [
    "d"
   ]
  },
  {
   "cell_type": "code",
   "execution_count": 48,
   "id": "038bd692-2cd3-4227-a2ab-a9cbe5b6da14",
   "metadata": {},
   "outputs": [
    {
     "data": {
      "text/plain": [
       "dict_keys(['name', 'course'])"
      ]
     },
     "execution_count": 48,
     "metadata": {},
     "output_type": "execute_result"
    }
   ],
   "source": [
    "d.keys()"
   ]
  },
  {
   "cell_type": "code",
   "execution_count": 49,
   "id": "c22c5d08-5609-4e97-84de-1a730e710704",
   "metadata": {},
   "outputs": [
    {
     "data": {
      "text/plain": [
       "dict_values([['Ajay', 'Bijay', 'Sanjay'], ('ds', 'ml')])"
      ]
     },
     "execution_count": 49,
     "metadata": {},
     "output_type": "execute_result"
    }
   ],
   "source": [
    "d.values()"
   ]
  },
  {
   "cell_type": "code",
   "execution_count": 50,
   "id": "fc92a65d-7c47-4896-aa51-ecb08aba9de3",
   "metadata": {},
   "outputs": [
    {
     "data": {
      "text/plain": [
       "dict_items([('name', ['Ajay', 'Bijay', 'Sanjay']), ('course', ('ds', 'ml'))])"
      ]
     },
     "execution_count": 50,
     "metadata": {},
     "output_type": "execute_result"
    }
   ],
   "source": [
    "d.items()"
   ]
  },
  {
   "cell_type": "code",
   "execution_count": 54,
   "id": "41b2e505-ed3d-414e-bad0-6cccf3a17fc1",
   "metadata": {},
   "outputs": [
    {
     "data": {
      "text/plain": [
       "('ds', 'ml')"
      ]
     },
     "execution_count": 54,
     "metadata": {},
     "output_type": "execute_result"
    }
   ],
   "source": [
    "d.pop('course')"
   ]
  },
  {
   "cell_type": "code",
   "execution_count": 55,
   "id": "0052a85b-7311-42b0-a03a-9d7b3b51cd19",
   "metadata": {},
   "outputs": [
    {
     "data": {
      "text/plain": [
       "{'name': ['Ajay', 'Bijay', 'Sanjay']}"
      ]
     },
     "execution_count": 55,
     "metadata": {},
     "output_type": "execute_result"
    }
   ],
   "source": [
    "d"
   ]
  },
  {
   "cell_type": "code",
   "execution_count": 56,
   "id": "7aff2f1c-00ab-4b67-a772-4d3e3ebce323",
   "metadata": {},
   "outputs": [],
   "source": [
    "d[\"course\" ] = \"ds\", \"ml\""
   ]
  },
  {
   "cell_type": "code",
   "execution_count": 57,
   "id": "a1bf80d5-45c1-4fe6-a9b3-294bd8f7c3ad",
   "metadata": {},
   "outputs": [
    {
     "data": {
      "text/plain": [
       "{'name': ['Ajay', 'Bijay', 'Sanjay'], 'course': ('ds', 'ml')}"
      ]
     },
     "execution_count": 57,
     "metadata": {},
     "output_type": "execute_result"
    }
   ],
   "source": [
    "d"
   ]
  },
  {
   "cell_type": "code",
   "execution_count": 60,
   "id": "60a80206-89e4-4a5a-9188-b4d7dc468902",
   "metadata": {},
   "outputs": [],
   "source": [
    "d1 = {\"add\" : \"1234, marthalli\", \"disct\" : \"bangalore urban\"}"
   ]
  },
  {
   "cell_type": "code",
   "execution_count": 61,
   "id": "0f9414ab-d1a7-441c-8906-67edf60c4423",
   "metadata": {},
   "outputs": [
    {
     "data": {
      "text/plain": [
       "{'add': '1234, marthalli', 'disct': 'bangalore urban'}"
      ]
     },
     "execution_count": 61,
     "metadata": {},
     "output_type": "execute_result"
    }
   ],
   "source": [
    "d1"
   ]
  },
  {
   "cell_type": "code",
   "execution_count": 62,
   "id": "dd86b78a-7186-46a5-aa32-e9c16baf120e",
   "metadata": {},
   "outputs": [
    {
     "data": {
      "text/plain": [
       "{'name': ['Ajay', 'Bijay', 'Sanjay'], 'course': ('ds', 'ml')}"
      ]
     },
     "execution_count": 62,
     "metadata": {},
     "output_type": "execute_result"
    }
   ],
   "source": [
    "d"
   ]
  },
  {
   "cell_type": "code",
   "execution_count": 63,
   "id": "5b517099-2973-4ac2-8d08-43431f120f03",
   "metadata": {},
   "outputs": [],
   "source": [
    "d.update(d1)"
   ]
  },
  {
   "cell_type": "code",
   "execution_count": 64,
   "id": "cfc1692b-59c4-4c47-b63f-34a7bc6725fc",
   "metadata": {},
   "outputs": [
    {
     "data": {
      "text/plain": [
       "{'name': ['Ajay', 'Bijay', 'Sanjay'],\n",
       " 'course': ('ds', 'ml'),\n",
       " 'add': '1234, marthalli',\n",
       " 'disct': 'bangalore urban'}"
      ]
     },
     "execution_count": 64,
     "metadata": {},
     "output_type": "execute_result"
    }
   ],
   "source": [
    "d"
   ]
  },
  {
   "cell_type": "code",
   "execution_count": 65,
   "id": "7bb6bb78-9ead-46c9-be7f-c9c0d9e6ac38",
   "metadata": {},
   "outputs": [
    {
     "data": {
      "text/plain": [
       "['Ajay', 'Bijay', 'Sanjay']"
      ]
     },
     "execution_count": 65,
     "metadata": {},
     "output_type": "execute_result"
    }
   ],
   "source": [
    "d[\"name\"]"
   ]
  },
  {
   "cell_type": "code",
   "execution_count": 66,
   "id": "d15ef619-5654-48b8-b00b-5673e949cc8f",
   "metadata": {},
   "outputs": [
    {
     "data": {
      "text/plain": [
       "['Ajay', 'Bijay', 'Sanjay']"
      ]
     },
     "execution_count": 66,
     "metadata": {},
     "output_type": "execute_result"
    }
   ],
   "source": [
    "d.get(\"name\")"
   ]
  },
  {
   "cell_type": "code",
   "execution_count": 67,
   "id": "db4fe41c-bf13-44a9-8084-3c5cd92b8651",
   "metadata": {},
   "outputs": [],
   "source": [
    "# d+d1 >> throw on error "
   ]
  },
  {
   "cell_type": "code",
   "execution_count": 68,
   "id": "1bafcf43-0ba9-4583-a6aa-eaa7a025ca5a",
   "metadata": {},
   "outputs": [
    {
     "data": {
      "text/plain": [
       "{1: ('Ajay', 'Bijay', 'Sanjay'),\n",
       " 2: ('Ajay', 'Bijay', 'Sanjay'),\n",
       " 3: ('Ajay', 'Bijay', 'Sanjay')}"
      ]
     },
     "execution_count": 68,
     "metadata": {},
     "output_type": "execute_result"
    }
   ],
   "source": [
    "d.fromkeys((1,2,3), (\"Ajay\", \"Bijay\", \"Sanjay\"))"
   ]
  },
  {
   "cell_type": "code",
   "execution_count": 69,
   "id": "4b96f3fb-af02-4484-abec-a7db0e12f6ec",
   "metadata": {},
   "outputs": [],
   "source": [
    "#dictionary comprehension\n",
    "\n",
    "students = [\"Piyush\", \"Neeraj\", \"Bhushan\"]\n",
    "marks = [80,90,99]"
   ]
  },
  {
   "cell_type": "code",
   "execution_count": 71,
   "id": "046ebc91-f382-4434-8daf-c3da388c19a0",
   "metadata": {},
   "outputs": [
    {
     "name": "stdout",
     "output_type": "stream",
     "text": [
      "('Piyush', 80)\n",
      "('Neeraj', 90)\n",
      "('Bhushan', 99)\n"
     ]
    }
   ],
   "source": [
    "for i in zip(students, marks):\n",
    "    print(i)"
   ]
  },
  {
   "cell_type": "code",
   "execution_count": 72,
   "id": "1999810b-8e9f-4fdb-b09e-53059ab3d854",
   "metadata": {},
   "outputs": [
    {
     "data": {
      "text/plain": [
       "[('Piyush', 80), ('Neeraj', 90), ('Bhushan', 99)]"
      ]
     },
     "execution_count": 72,
     "metadata": {},
     "output_type": "execute_result"
    }
   ],
   "source": [
    "list(zip(students, marks))"
   ]
  },
  {
   "cell_type": "code",
   "execution_count": 79,
   "id": "f113de70-a367-419c-85a6-195a60b93db6",
   "metadata": {},
   "outputs": [
    {
     "ename": "NameError",
     "evalue": "name 'students_marks' is not defined",
     "output_type": "error",
     "traceback": [
      "\u001b[0;31m---------------------------------------------------------------------------\u001b[0m",
      "\u001b[0;31mNameError\u001b[0m                                 Traceback (most recent call last)",
      "Cell \u001b[0;32mIn[79], line 5\u001b[0m\n\u001b[1;32m      3\u001b[0m Students_marks \u001b[38;5;241m=\u001b[39m {}\n\u001b[1;32m      4\u001b[0m \u001b[38;5;28;01mfor\u001b[39;00m student, mark \u001b[38;5;129;01min\u001b[39;00m \u001b[38;5;28mzip\u001b[39m(students, marks):\n\u001b[0;32m----> 5\u001b[0m     \u001b[43mstudents_marks\u001b[49m[student] \u001b[38;5;241m=\u001b[39m mark\n\u001b[1;32m      6\u001b[0m students_mark  \n",
      "\u001b[0;31mNameError\u001b[0m: name 'students_marks' is not defined"
     ]
    }
   ],
   "source": [
    "students = [\"Piyush\", \"Neeraj\", \"Bhushan\"]\n",
    "marks = [80,90,99]\n",
    "Students_marks = {}\n",
    "for student, mark in zip(students, marks):\n",
    "    students_marks[student] = mark\n",
    "students_mark  \n",
    "    "
   ]
  },
  {
   "cell_type": "code",
   "execution_count": null,
   "id": "f7ab32d6-ca22-49a2-88c6-f5d16e32177f",
   "metadata": {},
   "outputs": [],
   "source": [
    "#dictionary comprehension \n"
   ]
  }
 ],
 "metadata": {
  "kernelspec": {
   "display_name": "Python 3 (ipykernel)",
   "language": "python",
   "name": "python3"
  },
  "language_info": {
   "codemirror_mode": {
    "name": "ipython",
    "version": 3
   },
   "file_extension": ".py",
   "mimetype": "text/x-python",
   "name": "python",
   "nbconvert_exporter": "python",
   "pygments_lexer": "ipython3",
   "version": "3.10.8"
  }
 },
 "nbformat": 4,
 "nbformat_minor": 5
}
