{
 "cells": [
  {
   "cell_type": "code",
   "execution_count": 2,
   "id": "777ce190-904d-42eb-b9f6-b22c0777f47e",
   "metadata": {},
   "outputs": [
    {
     "name": "stdout",
     "output_type": "stream",
     "text": [
      "hello world\n"
     ]
    }
   ],
   "source": [
    "print(\"hello world\")"
   ]
  },
  {
   "cell_type": "code",
   "execution_count": 3,
   "id": "ca23b937-440a-46af-9bdf-6f70d7a86d1e",
   "metadata": {},
   "outputs": [],
   "source": [
    "# data Structures >> Way of organizing and storing data \n",
    "#why? it can accessed and manipulated effeciently "
   ]
  },
  {
   "cell_type": "code",
   "execution_count": 4,
   "id": "e65cfb7f-433f-4b1b-afcd-ead01bec1360",
   "metadata": {},
   "outputs": [],
   "source": [
    "#list>> it is an ordered collection of elements that can be anything\n",
    "#heterogenous  data >> int, float, bool\n",
    "#[]"
   ]
  },
  {
   "cell_type": "code",
   "execution_count": 5,
   "id": "b6c75c56-454d-424b-a922-7afddadc7452",
   "metadata": {},
   "outputs": [],
   "source": [
    "l =  [1, 1.2, True, False, \"Ajay\", \"pwskills\", 3+5j, \"baingan\"]"
   ]
  },
  {
   "cell_type": "code",
   "execution_count": 6,
   "id": "3e21dcf8-51e9-4830-a7ff-192a8b4c2608",
   "metadata": {},
   "outputs": [
    {
     "data": {
      "text/plain": [
       "list"
      ]
     },
     "execution_count": 6,
     "metadata": {},
     "output_type": "execute_result"
    }
   ],
   "source": [
    "type(l)"
   ]
  },
  {
   "cell_type": "code",
   "execution_count": 7,
   "id": "6b7368fb-6fd1-4b12-8801-942ae9c4f143",
   "metadata": {},
   "outputs": [
    {
     "data": {
      "text/plain": [
       "1"
      ]
     },
     "execution_count": 7,
     "metadata": {},
     "output_type": "execute_result"
    }
   ],
   "source": [
    "l[0]"
   ]
  },
  {
   "cell_type": "code",
   "execution_count": 8,
   "id": "72e92e0c-33d9-41cd-9d0b-6b55c6a176b8",
   "metadata": {},
   "outputs": [
    {
     "data": {
      "text/plain": [
       "'Ajay'"
      ]
     },
     "execution_count": 8,
     "metadata": {},
     "output_type": "execute_result"
    }
   ],
   "source": [
    "l[4]"
   ]
  },
  {
   "cell_type": "code",
   "execution_count": 9,
   "id": "378125df-5e1c-4179-92b3-eeed518d2551",
   "metadata": {},
   "outputs": [
    {
     "data": {
      "text/plain": [
       "'baingan'"
      ]
     },
     "execution_count": 9,
     "metadata": {},
     "output_type": "execute_result"
    }
   ],
   "source": [
    "l[-1]"
   ]
  },
  {
   "cell_type": "code",
   "execution_count": 10,
   "id": "f7b31335-4f50-4949-aff4-f1deab04a880",
   "metadata": {},
   "outputs": [
    {
     "ename": "IndexError",
     "evalue": "list index out of range",
     "output_type": "error",
     "traceback": [
      "\u001b[0;31m---------------------------------------------------------------------------\u001b[0m",
      "\u001b[0;31mIndexError\u001b[0m                                Traceback (most recent call last)",
      "Cell \u001b[0;32mIn[10], line 1\u001b[0m\n\u001b[0;32m----> 1\u001b[0m \u001b[43ml\u001b[49m\u001b[43m[\u001b[49m\u001b[38;5;241;43m8\u001b[39;49m\u001b[43m]\u001b[49m\n",
      "\u001b[0;31mIndexError\u001b[0m: list index out of range"
     ]
    }
   ],
   "source": [
    "l[8]#throw an error"
   ]
  },
  {
   "cell_type": "code",
   "execution_count": 11,
   "id": "63c28a24-c3ec-4674-a1e9-bce1d86ab6a0",
   "metadata": {},
   "outputs": [],
   "source": [
    "lis = [1, 2, \"Ajay\", \"Subhash\"]"
   ]
  },
  {
   "cell_type": "code",
   "execution_count": 12,
   "id": "60b81f88-cf97-4edd-bb30-d657fe8eac52",
   "metadata": {},
   "outputs": [
    {
     "data": {
      "text/plain": [
       "[1, 2, 'Ajay', 'Subhash']"
      ]
     },
     "execution_count": 12,
     "metadata": {},
     "output_type": "execute_result"
    }
   ],
   "source": [
    "lis"
   ]
  },
  {
   "cell_type": "code",
   "execution_count": 13,
   "id": "8e369574-cba4-4d1a-9521-eb796f0959bf",
   "metadata": {},
   "outputs": [
    {
     "data": {
      "text/plain": [
       "list"
      ]
     },
     "execution_count": 13,
     "metadata": {},
     "output_type": "execute_result"
    }
   ],
   "source": [
    "type(lis)"
   ]
  },
  {
   "cell_type": "code",
   "execution_count": 15,
   "id": "855cda98-ac98-4daf-bafb-c7ce53336dd4",
   "metadata": {},
   "outputs": [],
   "source": [
    "lis.append(\"sachin\") #add elements in the last"
   ]
  },
  {
   "cell_type": "code",
   "execution_count": 16,
   "id": "5cc8c391-f266-4d03-8e94-ab8dfaa1b1d3",
   "metadata": {},
   "outputs": [
    {
     "data": {
      "text/plain": [
       "[1, 2, 'Ajay', 'Subhash', 'sachin']"
      ]
     },
     "execution_count": 16,
     "metadata": {},
     "output_type": "execute_result"
    }
   ],
   "source": [
    "lis"
   ]
  },
  {
   "cell_type": "code",
   "execution_count": 17,
   "id": "588dcf75-ed90-42f5-8ad4-c1e96cd10c2c",
   "metadata": {},
   "outputs": [],
   "source": [
    "lis.remove(\"Ajay\")"
   ]
  },
  {
   "cell_type": "code",
   "execution_count": 18,
   "id": "9f1d8890-67e6-4b6f-bb04-e1a4a2cb464d",
   "metadata": {},
   "outputs": [
    {
     "data": {
      "text/plain": [
       "[1, 2, 'Subhash', 'sachin']"
      ]
     },
     "execution_count": 18,
     "metadata": {},
     "output_type": "execute_result"
    }
   ],
   "source": [
    "lis"
   ]
  },
  {
   "cell_type": "code",
   "execution_count": 19,
   "id": "60eaaa4b-7238-4328-857e-862130c28e6f",
   "metadata": {},
   "outputs": [],
   "source": [
    "lis.remove(\"sachin\")"
   ]
  },
  {
   "cell_type": "code",
   "execution_count": 20,
   "id": "327e34eb-5f79-4d73-98f0-1d4f9ad8ce21",
   "metadata": {},
   "outputs": [
    {
     "data": {
      "text/plain": [
       "[1, 2, 'Subhash']"
      ]
     },
     "execution_count": 20,
     "metadata": {},
     "output_type": "execute_result"
    }
   ],
   "source": [
    "lis"
   ]
  },
  {
   "cell_type": "code",
   "execution_count": 21,
   "id": "7b69efd8-9f82-46e9-b677-66c0e9ee2dc3",
   "metadata": {},
   "outputs": [
    {
     "data": {
      "text/plain": [
       "[1, 2, 'Subhash']"
      ]
     },
     "execution_count": 21,
     "metadata": {},
     "output_type": "execute_result"
    }
   ],
   "source": [
    "lis"
   ]
  },
  {
   "cell_type": "code",
   "execution_count": 23,
   "id": "3ef0e579-a14d-4282-bbf1-91b912a0a695",
   "metadata": {},
   "outputs": [],
   "source": [
    "lis[0] = \"shubham\""
   ]
  },
  {
   "cell_type": "code",
   "execution_count": 24,
   "id": "990ccf4b-c30f-4d53-9df3-1528eafcc475",
   "metadata": {},
   "outputs": [
    {
     "data": {
      "text/plain": [
       "['shubham', 2, 'Subhash']"
      ]
     },
     "execution_count": 24,
     "metadata": {},
     "output_type": "execute_result"
    }
   ],
   "source": [
    "lis #list is mutablel"
   ]
  },
  {
   "cell_type": "code",
   "execution_count": 26,
   "id": "e8350a45-07ea-4165-9446-bcd7cf026b5f",
   "metadata": {},
   "outputs": [],
   "source": [
    "lis = [[1,2,3],[4,5,6],[7,8,9]]"
   ]
  },
  {
   "cell_type": "code",
   "execution_count": 27,
   "id": "38b03be1-8b15-4383-9684-ba2c0adb4556",
   "metadata": {},
   "outputs": [
    {
     "data": {
      "text/plain": [
       "[[1, 2, 3], [4, 5, 6], [7, 8, 9]]"
      ]
     },
     "execution_count": 27,
     "metadata": {},
     "output_type": "execute_result"
    }
   ],
   "source": [
    "lis"
   ]
  },
  {
   "cell_type": "code",
   "execution_count": 29,
   "id": "cc69d47b-4ae2-4bd0-bd0d-edc15bb24128",
   "metadata": {},
   "outputs": [
    {
     "data": {
      "text/plain": [
       "4"
      ]
     },
     "execution_count": 29,
     "metadata": {},
     "output_type": "execute_result"
    }
   ],
   "source": [
    "lis[1][0]"
   ]
  },
  {
   "cell_type": "code",
   "execution_count": 30,
   "id": "64f441f2-67a7-4eab-bc7a-8fa27c2992e3",
   "metadata": {},
   "outputs": [
    {
     "data": {
      "text/plain": [
       "9"
      ]
     },
     "execution_count": 30,
     "metadata": {},
     "output_type": "execute_result"
    }
   ],
   "source": [
    "lis[2][2]"
   ]
  },
  {
   "cell_type": "code",
   "execution_count": 31,
   "id": "1016b044-51f8-4762-afd0-2c69ffa919c4",
   "metadata": {},
   "outputs": [
    {
     "data": {
      "text/plain": [
       "list"
      ]
     },
     "execution_count": 31,
     "metadata": {},
     "output_type": "execute_result"
    }
   ],
   "source": [
    "#use case of list \n",
    "shopping_list = [\"banana\", \"Apple\", 100, 200]\n",
    "type(shopping_list)"
   ]
  },
  {
   "cell_type": "code",
   "execution_count": 32,
   "id": "9f65f57e-a4db-4054-a6f4-8ff24d3b4afb",
   "metadata": {},
   "outputs": [
    {
     "data": {
      "text/plain": [
       "list"
      ]
     },
     "execution_count": 32,
     "metadata": {},
     "output_type": "execute_result"
    }
   ],
   "source": [
    "world_cup_team = [\"Canada\", \"USA\", \"Ireland\",\"Pakistan\"]\n",
    "type(world_cup_team)"
   ]
  },
  {
   "cell_type": "code",
   "execution_count": 34,
   "id": "e783d54d-7ea9-4eaa-b03b-02d008cda512",
   "metadata": {},
   "outputs": [
    {
     "name": "stdout",
     "output_type": "stream",
     "text": [
      "banana\n",
      "Apple\n",
      "100\n",
      "200\n"
     ]
    }
   ],
   "source": [
    "# loop with list \n",
    "for item in shopping_list:\n",
    "    print(item)"
   ]
  },
  {
   "cell_type": "code",
   "execution_count": 35,
   "id": "5963f0c6-7ef0-48da-9367-547d061b4dd1",
   "metadata": {},
   "outputs": [
    {
     "data": {
      "text/plain": [
       "tuple"
      ]
     },
     "execution_count": 35,
     "metadata": {},
     "output_type": "execute_result"
    }
   ],
   "source": [
    "#tuples >> immutable \n",
    "#()\n",
    "point = (2, 4)\n",
    "type(point)"
   ]
  },
  {
   "cell_type": "code",
   "execution_count": 36,
   "id": "11653680-965f-44c7-8d92-589ff5dd5324",
   "metadata": {},
   "outputs": [],
   "source": [
    "t = (\"Ajay\", 1, 1, 2.2, 3, 3.3, 2+3j)"
   ]
  },
  {
   "cell_type": "code",
   "execution_count": 37,
   "id": "6fe9d1f4-03d0-4dd6-a6cd-44d3743c36ca",
   "metadata": {},
   "outputs": [
    {
     "data": {
      "text/plain": [
       "tuple"
      ]
     },
     "execution_count": 37,
     "metadata": {},
     "output_type": "execute_result"
    }
   ],
   "source": [
    "type(t)"
   ]
  },
  {
   "cell_type": "code",
   "execution_count": 38,
   "id": "19e7c07e-3648-46e5-836e-e5b5007cbe45",
   "metadata": {},
   "outputs": [
    {
     "data": {
      "text/plain": [
       "('Ajay', 1, 1, 2.2, 3, 3.3, (2+3j))"
      ]
     },
     "execution_count": 38,
     "metadata": {},
     "output_type": "execute_result"
    }
   ],
   "source": [
    "t"
   ]
  },
  {
   "cell_type": "code",
   "execution_count": 39,
   "id": "94da3a5a-0320-4203-8f12-4b325008b000",
   "metadata": {},
   "outputs": [
    {
     "data": {
      "text/plain": [
       "'Ajay'"
      ]
     },
     "execution_count": 39,
     "metadata": {},
     "output_type": "execute_result"
    }
   ],
   "source": [
    "t[0]"
   ]
  },
  {
   "cell_type": "code",
   "execution_count": 40,
   "id": "d68079e3-892c-45fa-9169-16fe3c2d244a",
   "metadata": {},
   "outputs": [
    {
     "data": {
      "text/plain": [
       "(2+3j)"
      ]
     },
     "execution_count": 40,
     "metadata": {},
     "output_type": "execute_result"
    }
   ],
   "source": [
    "t[-1]"
   ]
  },
  {
   "cell_type": "code",
   "execution_count": 41,
   "id": "a9795e35-87b7-4bcb-a255-d103b74c82ba",
   "metadata": {},
   "outputs": [
    {
     "ename": "TypeError",
     "evalue": "'tuple' object does not support item assignment",
     "output_type": "error",
     "traceback": [
      "\u001b[0;31m---------------------------------------------------------------------------\u001b[0m",
      "\u001b[0;31mTypeError\u001b[0m                                 Traceback (most recent call last)",
      "Cell \u001b[0;32mIn[41], line 1\u001b[0m\n\u001b[0;32m----> 1\u001b[0m \u001b[43mt\u001b[49m\u001b[43m[\u001b[49m\u001b[38;5;241;43m0\u001b[39;49m\u001b[43m]\u001b[49m \u001b[38;5;241m=\u001b[39m \u001b[38;5;124m\"\u001b[39m\u001b[38;5;124mVijay\u001b[39m\u001b[38;5;124m\"\u001b[39m\n",
      "\u001b[0;31mTypeError\u001b[0m: 'tuple' object does not support item assignment"
     ]
    }
   ],
   "source": [
    "t[0] = \"Vijay\" #tuple is immutable "
   ]
  },
  {
   "cell_type": "code",
   "execution_count": 42,
   "id": "540eb9d2-4536-4e3d-a9d7-f33d69ea689d",
   "metadata": {},
   "outputs": [],
   "source": [
    "box1 = (\"kitkat\", \"dairy_milk\")\n",
    "box2 = (\"silk\", \"munch\")"
   ]
  },
  {
   "cell_type": "code",
   "execution_count": 43,
   "id": "6fde8eca-8964-4588-9b08-e09b6306c9fb",
   "metadata": {},
   "outputs": [
    {
     "data": {
      "text/plain": [
       "('kitkat', 'dairy_milk')"
      ]
     },
     "execution_count": 43,
     "metadata": {},
     "output_type": "execute_result"
    }
   ],
   "source": [
    "box1"
   ]
  },
  {
   "cell_type": "code",
   "execution_count": 44,
   "id": "74255b2c-a5bf-4cc2-8ea3-c4f540d37a69",
   "metadata": {},
   "outputs": [
    {
     "data": {
      "text/plain": [
       "('silk', 'munch')"
      ]
     },
     "execution_count": 44,
     "metadata": {},
     "output_type": "execute_result"
    }
   ],
   "source": [
    "box2"
   ]
  },
  {
   "cell_type": "code",
   "execution_count": 45,
   "id": "16590f3c-ce80-404f-afd1-eb340b39e339",
   "metadata": {},
   "outputs": [
    {
     "data": {
      "text/plain": [
       "tuple"
      ]
     },
     "execution_count": 45,
     "metadata": {},
     "output_type": "execute_result"
    }
   ],
   "source": [
    "choclate_bag = (box1, box2)\n",
    "type(choclate_bag)"
   ]
  },
  {
   "cell_type": "code",
   "execution_count": 46,
   "id": "922e2dc2-631e-47db-9508-bae9ca946e8f",
   "metadata": {},
   "outputs": [
    {
     "data": {
      "text/plain": [
       "(('kitkat', 'dairy_milk'), ('silk', 'munch'))"
      ]
     },
     "execution_count": 46,
     "metadata": {},
     "output_type": "execute_result"
    }
   ],
   "source": [
    "choclate_bag"
   ]
  },
  {
   "cell_type": "code",
   "execution_count": 47,
   "id": "0d686919-a132-460f-88f0-cf052a4358b0",
   "metadata": {},
   "outputs": [],
   "source": [
    "t1 = (121, \"Ajay\"), (122, \"Bijay\")"
   ]
  },
  {
   "cell_type": "code",
   "execution_count": 48,
   "id": "158244b2-b502-4992-a64f-21b4d6dd7f17",
   "metadata": {},
   "outputs": [
    {
     "data": {
      "text/plain": [
       "tuple"
      ]
     },
     "execution_count": 48,
     "metadata": {},
     "output_type": "execute_result"
    }
   ],
   "source": [
    "type(t1)"
   ]
  },
  {
   "cell_type": "code",
   "execution_count": 49,
   "id": "cd08d000-983c-4c40-9054-4689cb4efbb1",
   "metadata": {},
   "outputs": [
    {
     "data": {
      "text/plain": [
       "(('kitkat', 'dairy_milk'), ('silk', 'munch'))"
      ]
     },
     "execution_count": 49,
     "metadata": {},
     "output_type": "execute_result"
    }
   ],
   "source": [
    "choclate_bag"
   ]
  },
  {
   "cell_type": "code",
   "execution_count": 53,
   "id": "3e189092-4f6d-4a1b-bd64-91c713dc3212",
   "metadata": {},
   "outputs": [
    {
     "name": "stdout",
     "output_type": "stream",
     "text": [
      "kitkat\n",
      "dairy_milk\n",
      "silk\n",
      "munch\n"
     ]
    }
   ],
   "source": [
    "for bag in choclate_bag:\n",
    "    for choc in bag:\n",
    "        print(choc)\n",
    "    "
   ]
  },
  {
   "cell_type": "code",
   "execution_count": 54,
   "id": "f6996a08-b2ea-4cea-b692-74f0604b42ac",
   "metadata": {},
   "outputs": [],
   "source": [
    "#sets >> sets are unordered collection of unique elements "
   ]
  },
  {
   "cell_type": "code",
   "execution_count": 58,
   "id": "acdb27c7-66aa-4e9a-84b6-9c5666e8eb3f",
   "metadata": {},
   "outputs": [],
   "source": [
    "s = {\"red\", \"blue\"}"
   ]
  },
  {
   "cell_type": "code",
   "execution_count": 59,
   "id": "1af1c435-60f6-4204-be0f-84233f605ec6",
   "metadata": {},
   "outputs": [
    {
     "data": {
      "text/plain": [
       "set"
      ]
     },
     "execution_count": 59,
     "metadata": {},
     "output_type": "execute_result"
    }
   ],
   "source": [
    "type(s)"
   ]
  },
  {
   "cell_type": "code",
   "execution_count": 60,
   "id": "d2d2516a-cc0a-4536-9cfc-a17a6a92d909",
   "metadata": {},
   "outputs": [],
   "source": [
    "s = {\"a\", \"a\", \"b\", \"b\", 1, 1, 2.2, 2.2}"
   ]
  },
  {
   "cell_type": "code",
   "execution_count": 61,
   "id": "a14184e0-270f-4aed-ad61-4325f525912b",
   "metadata": {},
   "outputs": [
    {
     "data": {
      "text/plain": [
       "{1, 2.2, 'a', 'b'}"
      ]
     },
     "execution_count": 61,
     "metadata": {},
     "output_type": "execute_result"
    }
   ],
   "source": [
    "s"
   ]
  },
  {
   "cell_type": "code",
   "execution_count": 62,
   "id": "2151519b-12b0-4249-9c3b-7fda627a774c",
   "metadata": {},
   "outputs": [
    {
     "ename": "TypeError",
     "evalue": "'set' object is not subscriptable",
     "output_type": "error",
     "traceback": [
      "\u001b[0;31m---------------------------------------------------------------------------\u001b[0m",
      "\u001b[0;31mTypeError\u001b[0m                                 Traceback (most recent call last)",
      "Cell \u001b[0;32mIn[62], line 1\u001b[0m\n\u001b[0;32m----> 1\u001b[0m \u001b[43ms\u001b[49m\u001b[43m[\u001b[49m\u001b[38;5;241;43m0\u001b[39;49m\u001b[43m]\u001b[49m\n",
      "\u001b[0;31mTypeError\u001b[0m: 'set' object is not subscriptable"
     ]
    }
   ],
   "source": [
    "s[0] #unordered >> unindexed "
   ]
  },
  {
   "cell_type": "code",
   "execution_count": 64,
   "id": "29dbbb87-515b-4ca9-b017-8f4e27f4ecc0",
   "metadata": {},
   "outputs": [
    {
     "data": {
      "text/plain": [
       "{1, 2.2, 'a', 'b'}"
      ]
     },
     "execution_count": 64,
     "metadata": {},
     "output_type": "execute_result"
    }
   ],
   "source": [
    "s"
   ]
  },
  {
   "cell_type": "code",
   "execution_count": 65,
   "id": "fdde09ed-e056-45fb-8274-a6c21368b2a2",
   "metadata": {},
   "outputs": [],
   "source": [
    "s.add(\"ajay\")"
   ]
  },
  {
   "cell_type": "code",
   "execution_count": 66,
   "id": "3cd95ab5-0d17-458f-aa29-b326de8c3a40",
   "metadata": {},
   "outputs": [
    {
     "data": {
      "text/plain": [
       "{1, 2.2, 'a', 'ajay', 'b'}"
      ]
     },
     "execution_count": 66,
     "metadata": {},
     "output_type": "execute_result"
    }
   ],
   "source": [
    "s"
   ]
  },
  {
   "cell_type": "code",
   "execution_count": 67,
   "id": "f7397f66-1869-484f-a021-ce25bfa4881a",
   "metadata": {},
   "outputs": [],
   "source": [
    "s.add(\"Bijay\")"
   ]
  },
  {
   "cell_type": "code",
   "execution_count": 68,
   "id": "d6a980dd-0c32-4dd9-98ae-793c0308f106",
   "metadata": {},
   "outputs": [
    {
     "data": {
      "text/plain": [
       "{1, 2.2, 'Bijay', 'a', 'ajay', 'b'}"
      ]
     },
     "execution_count": 68,
     "metadata": {},
     "output_type": "execute_result"
    }
   ],
   "source": [
    "s"
   ]
  },
  {
   "cell_type": "code",
   "execution_count": 69,
   "id": "b8c3c942-f1fa-4fb7-a718-64df7749e9dd",
   "metadata": {},
   "outputs": [],
   "source": [
    "s.add(\"ajay\")"
   ]
  },
  {
   "cell_type": "code",
   "execution_count": 70,
   "id": "bd658bbc-b180-4cdf-82b6-a2593a8c8d85",
   "metadata": {},
   "outputs": [
    {
     "data": {
      "text/plain": [
       "{1, 2.2, 'Bijay', 'a', 'ajay', 'b'}"
      ]
     },
     "execution_count": 70,
     "metadata": {},
     "output_type": "execute_result"
    }
   ],
   "source": [
    "s"
   ]
  },
  {
   "cell_type": "code",
   "execution_count": 71,
   "id": "0ce33d1f-48ba-4b52-8848-3aaba3b16439",
   "metadata": {},
   "outputs": [],
   "source": [
    "s.remove(\"ajay\")"
   ]
  },
  {
   "cell_type": "code",
   "execution_count": 72,
   "id": "fa29c4c9-9231-466e-8514-a7058364a913",
   "metadata": {},
   "outputs": [
    {
     "data": {
      "text/plain": [
       "{1, 2.2, 'Bijay', 'a', 'b'}"
      ]
     },
     "execution_count": 72,
     "metadata": {},
     "output_type": "execute_result"
    }
   ],
   "source": [
    "s"
   ]
  },
  {
   "cell_type": "code",
   "execution_count": 73,
   "id": "83ec3d0b-68c0-4846-9c26-0ff82d6805f6",
   "metadata": {},
   "outputs": [
    {
     "data": {
      "text/plain": [
       "{'apple', 'banana', 'orange', 'potato'}"
      ]
     },
     "execution_count": 73,
     "metadata": {},
     "output_type": "execute_result"
    }
   ],
   "source": [
    "#use case \n",
    "grocery_list = {\"apple\", \"banana\", \"orange\", \"banana\", \"apple\", \"potato\"}\n",
    "grocery_list"
   ]
  },
  {
   "cell_type": "code",
   "execution_count": 74,
   "id": "857a26d0-d0ec-437d-852b-a568f39f8ed2",
   "metadata": {},
   "outputs": [
    {
     "data": {
      "text/plain": [
       "{'aj@gmail.com', 'bj@gmail.com'}"
      ]
     },
     "execution_count": 74,
     "metadata": {},
     "output_type": "execute_result"
    }
   ],
   "source": [
    "#subscription \n",
    "email_ids = {\"aj@gmail.com\", \"bj@gmail.com\",\"aj@gmail.com\"}\n",
    "email_ids"
   ]
  },
  {
   "cell_type": "code",
   "execution_count": 75,
   "id": "23f3ee5a-60fd-4df5-9dfc-c36f7e369c32",
   "metadata": {},
   "outputs": [
    {
     "data": {
      "text/plain": [
       "dict"
      ]
     },
     "execution_count": 75,
     "metadata": {},
     "output_type": "execute_result"
    }
   ],
   "source": [
    "# dictionary >> key-value pair\n",
    "my_dict = {\"name\" : \"sachin\" , \"course\": \"data_analytics\"}\n",
    "type(my_dict)"
   ]
  },
  {
   "cell_type": "code",
   "execution_count": 76,
   "id": "02ec5b43-3d33-4638-909a-74ee83d97b07",
   "metadata": {},
   "outputs": [
    {
     "data": {
      "text/plain": [
       "{'name': 'sachin', 'course': 'data_analytics'}"
      ]
     },
     "execution_count": 76,
     "metadata": {},
     "output_type": "execute_result"
    }
   ],
   "source": [
    "my_dict"
   ]
  },
  {
   "cell_type": "code",
   "execution_count": 77,
   "id": "2d14d8a4-351b-4e06-aa14-4a7d5944aad2",
   "metadata": {},
   "outputs": [
    {
     "data": {
      "text/plain": [
       "'sachin'"
      ]
     },
     "execution_count": 77,
     "metadata": {},
     "output_type": "execute_result"
    }
   ],
   "source": [
    "my_dict['name']"
   ]
  },
  {
   "cell_type": "code",
   "execution_count": 78,
   "id": "cf4bf140-7beb-4263-9354-3e7206fb0219",
   "metadata": {},
   "outputs": [
    {
     "data": {
      "text/plain": [
       "'data_analytics'"
      ]
     },
     "execution_count": 78,
     "metadata": {},
     "output_type": "execute_result"
    }
   ],
   "source": [
    "my_dict['course']"
   ]
  },
  {
   "cell_type": "code",
   "execution_count": 82,
   "id": "394402f6-7114-47b4-864e-ee242cb3f39d",
   "metadata": {},
   "outputs": [],
   "source": [
    "phonebook = {\"Dad\":1234, \"mom\":456, \"Dad\":8973}"
   ]
  },
  {
   "cell_type": "code",
   "execution_count": 83,
   "id": "fcbf92f6-ecbb-4f17-bc08-1ba25d5550a1",
   "metadata": {},
   "outputs": [
    {
     "data": {
      "text/plain": [
       "{'Dad': 8973, 'mom': 456}"
      ]
     },
     "execution_count": 83,
     "metadata": {},
     "output_type": "execute_result"
    }
   ],
   "source": [
    "phonebook "
   ]
  },
  {
   "cell_type": "code",
   "execution_count": 84,
   "id": "7ec520a4-5a0b-4499-8576-d42f1c5a640f",
   "metadata": {},
   "outputs": [],
   "source": [
    "phonebook[\"Dad\"] = \"i will change my no again\""
   ]
  },
  {
   "cell_type": "code",
   "execution_count": 85,
   "id": "5eec3432-878b-40a6-a984-aef2f29840a6",
   "metadata": {},
   "outputs": [
    {
     "data": {
      "text/plain": [
       "{'Dad': 'i will change my no again', 'mom': 456}"
      ]
     },
     "execution_count": 85,
     "metadata": {},
     "output_type": "execute_result"
    }
   ],
   "source": [
    "phonebook #dic is mutable"
   ]
  },
  {
   "cell_type": "code",
   "execution_count": 86,
   "id": "3169e334-ebc9-416e-92e7-20ce7a482581",
   "metadata": {},
   "outputs": [
    {
     "data": {
      "text/plain": [
       "dict_keys(['Dad', 'mom'])"
      ]
     },
     "execution_count": 86,
     "metadata": {},
     "output_type": "execute_result"
    }
   ],
   "source": [
    "phonebook.keys()"
   ]
  },
  {
   "cell_type": "code",
   "execution_count": 87,
   "id": "c4a46fff-9714-4fad-b4ce-aa7b2c3c3387",
   "metadata": {},
   "outputs": [
    {
     "data": {
      "text/plain": [
       "dict_values(['i will change my no again', 456])"
      ]
     },
     "execution_count": 87,
     "metadata": {},
     "output_type": "execute_result"
    }
   ],
   "source": [
    "phonebook.values()"
   ]
  },
  {
   "cell_type": "code",
   "execution_count": 89,
   "id": "a3d9c3fb-7402-4d1c-9400-b04c715e6ee7",
   "metadata": {},
   "outputs": [],
   "source": [
    "#array >> array is similar to list >> homogenous data\n",
    "from array import array \n",
    "a = array('i', [1,2,3,4])"
   ]
  },
  {
   "cell_type": "code",
   "execution_count": 90,
   "id": "8873bec0-c50d-46ef-a30f-ca5a2aee63ea",
   "metadata": {},
   "outputs": [
    {
     "data": {
      "text/plain": [
       "array.array"
      ]
     },
     "execution_count": 90,
     "metadata": {},
     "output_type": "execute_result"
    }
   ],
   "source": [
    "type(a)"
   ]
  },
  {
   "cell_type": "code",
   "execution_count": null,
   "id": "9297fd8a-fd5e-4766-af58-734c9ca59b18",
   "metadata": {},
   "outputs": [],
   "source": []
  }
 ],
 "metadata": {
  "kernelspec": {
   "display_name": "Python 3 (ipykernel)",
   "language": "python",
   "name": "python3"
  },
  "language_info": {
   "codemirror_mode": {
    "name": "ipython",
    "version": 3
   },
   "file_extension": ".py",
   "mimetype": "text/x-python",
   "name": "python",
   "nbconvert_exporter": "python",
   "pygments_lexer": "ipython3",
   "version": "3.10.8"
  }
 },
 "nbformat": 4,
 "nbformat_minor": 5
}
