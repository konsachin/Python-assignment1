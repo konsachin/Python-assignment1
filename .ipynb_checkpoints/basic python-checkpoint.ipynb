{
 "cells": [
  {
   "cell_type": "code",
   "execution_count": 1,
   "id": "ef546efa-5c1b-4648-8b53-34191e3a3999",
   "metadata": {},
   "outputs": [
    {
     "name": "stdout",
     "output_type": "stream",
     "text": [
      "hello world\n"
     ]
    }
   ],
   "source": [
    "print(\"hello world\")"
   ]
  },
  {
   "cell_type": "code",
   "execution_count": 2,
   "id": "d7557c61-69a0-43af-901d-6142d027e40a",
   "metadata": {},
   "outputs": [
    {
     "name": "stdout",
     "output_type": "stream",
     "text": [
      "1\n"
     ]
    }
   ],
   "source": [
    "a = 1\n",
    "print(a)"
   ]
  },
  {
   "cell_type": "code",
   "execution_count": 4,
   "id": "24ba4940-c6a7-4d53-8800-8cad87c9b08a",
   "metadata": {},
   "outputs": [
    {
     "name": "stdout",
     "output_type": "stream",
     "text": [
      "<class 'int'>\n"
     ]
    }
   ],
   "source": [
    "print(type(a))"
   ]
  },
  {
   "cell_type": "markdown",
   "id": "968b8000-da86-4d3f-b8ea-b47ceda92bf0",
   "metadata": {},
   "source": [
    "a is variable,  variables are placeholders where we will keep variety of data using which we can write "
   ]
  },
  {
   "cell_type": "markdown",
   "id": "9d08f335-e3ac-4827-8565-3418495fb6fa",
   "metadata": {},
   "source": [
    "# Basics\n",
    "\n",
    " - variables\n",
    " - keywords"
   ]
  },
  {
   "cell_type": "code",
   "execution_count": 6,
   "id": "e60de60f-0e4a-43da-94c7-9c9b132543b8",
   "metadata": {},
   "outputs": [],
   "source": [
    "a = 3 "
   ]
  },
  {
   "cell_type": "code",
   "execution_count": 7,
   "id": "aae33c89-12fb-45e1-9b07-2430d019fdd1",
   "metadata": {},
   "outputs": [
    {
     "data": {
      "text/plain": [
       "int"
      ]
     },
     "execution_count": 7,
     "metadata": {},
     "output_type": "execute_result"
    }
   ],
   "source": [
    "type(a)"
   ]
  },
  {
   "cell_type": "code",
   "execution_count": 8,
   "id": "51bc7f2e-8db5-4a46-aa0e-d8c9bcde74b5",
   "metadata": {},
   "outputs": [],
   "source": [
    "c = 0.3 "
   ]
  },
  {
   "cell_type": "code",
   "execution_count": 9,
   "id": "359456d2-2da4-45df-a532-f8750e1d561d",
   "metadata": {},
   "outputs": [
    {
     "data": {
      "text/plain": [
       "float"
      ]
     },
     "execution_count": 9,
     "metadata": {},
     "output_type": "execute_result"
    }
   ],
   "source": [
    "type(c)"
   ]
  },
  {
   "cell_type": "code",
   "execution_count": 10,
   "id": "49f5249b-3cfc-47af-a1c8-ccb4c4ff913a",
   "metadata": {},
   "outputs": [],
   "source": [
    "d = \"Sachin\""
   ]
  },
  {
   "cell_type": "code",
   "execution_count": 11,
   "id": "76c2365d-aef7-4578-90d9-d16d5d8981b5",
   "metadata": {},
   "outputs": [
    {
     "data": {
      "text/plain": [
       "str"
      ]
     },
     "execution_count": 11,
     "metadata": {},
     "output_type": "execute_result"
    }
   ],
   "source": [
    "type(d)"
   ]
  },
  {
   "cell_type": "code",
   "execution_count": 12,
   "id": "eb4d0ffb-eced-4eff-af25-627318efd984",
   "metadata": {},
   "outputs": [],
   "source": [
    "a = 5j"
   ]
  },
  {
   "cell_type": "code",
   "execution_count": 13,
   "id": "47724be5-6071-46c2-99ea-6c7b7d4d7fde",
   "metadata": {},
   "outputs": [
    {
     "data": {
      "text/plain": [
       "complex"
      ]
     },
     "execution_count": 13,
     "metadata": {},
     "output_type": "execute_result"
    }
   ],
   "source": [
    "type(a)"
   ]
  },
  {
   "cell_type": "code",
   "execution_count": 14,
   "id": "6deb3172-f0f8-4d26-b3c5-69cce79cc4a1",
   "metadata": {},
   "outputs": [],
   "source": [
    "a = True"
   ]
  },
  {
   "cell_type": "code",
   "execution_count": 15,
   "id": "c3452beb-1c71-47a9-9246-ac1beed81c5a",
   "metadata": {},
   "outputs": [
    {
     "data": {
      "text/plain": [
       "bool"
      ]
     },
     "execution_count": 15,
     "metadata": {},
     "output_type": "execute_result"
    }
   ],
   "source": [
    "type(a)"
   ]
  },
  {
   "cell_type": "code",
   "execution_count": 16,
   "id": "aa1e687b-50f5-4d42-a335-1e64012abfd3",
   "metadata": {},
   "outputs": [
    {
     "data": {
      "text/plain": [
       "complex"
      ]
     },
     "execution_count": 16,
     "metadata": {},
     "output_type": "execute_result"
    }
   ],
   "source": [
    "c = 5+6j\n",
    "type(c)"
   ]
  },
  {
   "cell_type": "code",
   "execution_count": 17,
   "id": "97a53c55-08ab-4213-a5ab-aece7331db1f",
   "metadata": {},
   "outputs": [
    {
     "data": {
      "text/plain": [
       "5.0"
      ]
     },
     "execution_count": 17,
     "metadata": {},
     "output_type": "execute_result"
    }
   ],
   "source": [
    "c.real"
   ]
  },
  {
   "cell_type": "code",
   "execution_count": 18,
   "id": "2ca09fad-cdbc-498e-b0d7-686baba132e0",
   "metadata": {},
   "outputs": [
    {
     "data": {
      "text/plain": [
       "6.0"
      ]
     },
     "execution_count": 18,
     "metadata": {},
     "output_type": "execute_result"
    }
   ],
   "source": [
    "c.imag"
   ]
  },
  {
   "cell_type": "code",
   "execution_count": 19,
   "id": "5571d6aa-ae33-4836-87d3-3862e9027683",
   "metadata": {},
   "outputs": [],
   "source": [
    "# rules of defining a variables \n",
    "\n",
    "#variable should only start with a letter or underscore"
   ]
  },
  {
   "cell_type": "code",
   "execution_count": 20,
   "id": "d6d8254b-1810-4220-8d52-d290d445629d",
   "metadata": {},
   "outputs": [
    {
     "name": "stdout",
     "output_type": "stream",
     "text": [
      "\n",
      "Here is a list of the Python keywords.  Enter any keyword to get more help.\n",
      "\n",
      "False               class               from                or\n",
      "None                continue            global              pass\n",
      "True                def                 if                  raise\n",
      "and                 del                 import              return\n",
      "as                  elif                in                  try\n",
      "assert              else                is                  while\n",
      "async               except              lambda              with\n",
      "await               finally             nonlocal            yield\n",
      "break               for                 not                 \n",
      "\n"
     ]
    }
   ],
   "source": [
    "help('keywords')"
   ]
  },
  {
   "cell_type": "code",
   "execution_count": 21,
   "id": "ecc389e1-b730-4e90-a571-9c628f168e21",
   "metadata": {},
   "outputs": [
    {
     "data": {
      "text/plain": [
       "str"
      ]
     },
     "execution_count": 21,
     "metadata": {},
     "output_type": "execute_result"
    }
   ],
   "source": [
    "a = \"7.8\"\n",
    "type(a)"
   ]
  },
  {
   "cell_type": "code",
   "execution_count": 22,
   "id": "9ee124e6-e6d6-4c91-a472-97f7860aa2de",
   "metadata": {},
   "outputs": [
    {
     "data": {
      "text/plain": [
       "str"
      ]
     },
     "execution_count": 22,
     "metadata": {},
     "output_type": "execute_result"
    }
   ],
   "source": [
    "a = \"5\"\n",
    "type(a)"
   ]
  },
  {
   "cell_type": "code",
   "execution_count": 24,
   "id": "ad075c53-e99b-4c93-af7b-f908869e6643",
   "metadata": {},
   "outputs": [],
   "source": [
    "# python is a case sensitive langauge "
   ]
  },
  {
   "cell_type": "code",
   "execution_count": 25,
   "id": "d5eda838-8b71-4c55-a561-7e616267371d",
   "metadata": {},
   "outputs": [],
   "source": [
    "#mutability and immutability "
   ]
  },
  {
   "cell_type": "code",
   "execution_count": 30,
   "id": "f7b06417-65a8-4e20-bab7-c64a2372b955",
   "metadata": {},
   "outputs": [],
   "source": [
    "a = \"ajay\""
   ]
  },
  {
   "cell_type": "code",
   "execution_count": 31,
   "id": "863073de-148f-441d-9e6f-b00c4cb2d62f",
   "metadata": {},
   "outputs": [
    {
     "data": {
      "text/plain": [
       "'j'"
      ]
     },
     "execution_count": 31,
     "metadata": {},
     "output_type": "execute_result"
    }
   ],
   "source": [
    "a[1]"
   ]
  },
  {
   "cell_type": "code",
   "execution_count": 32,
   "id": "53eaf908-8155-4aba-b020-8b9b5146be76",
   "metadata": {},
   "outputs": [
    {
     "data": {
      "text/plain": [
       "'j'"
      ]
     },
     "execution_count": 32,
     "metadata": {},
     "output_type": "execute_result"
    }
   ],
   "source": [
    "a[-3]"
   ]
  },
  {
   "cell_type": "code",
   "execution_count": 33,
   "id": "86e45890-a8e0-4567-8a3c-fccc970c2167",
   "metadata": {},
   "outputs": [
    {
     "ename": "TypeError",
     "evalue": "'str' object does not support item assignment",
     "output_type": "error",
     "traceback": [
      "\u001b[0;31m---------------------------------------------------------------------------\u001b[0m",
      "\u001b[0;31mTypeError\u001b[0m                                 Traceback (most recent call last)",
      "Cell \u001b[0;32mIn[33], line 1\u001b[0m\n\u001b[0;32m----> 1\u001b[0m \u001b[43ma\u001b[49m\u001b[43m[\u001b[49m\u001b[38;5;241;43m0\u001b[39;49m\u001b[43m]\u001b[49m \u001b[38;5;241m=\u001b[39m \u001b[38;5;124m\"\u001b[39m\u001b[38;5;124mw\u001b[39m\u001b[38;5;124m\"\u001b[39m\n",
      "\u001b[0;31mTypeError\u001b[0m: 'str' object does not support item assignment"
     ]
    }
   ],
   "source": [
    "a[0] = \"w\""
   ]
  },
  {
   "cell_type": "code",
   "execution_count": 37,
   "id": "05ca77a0-ad29-4c10-802b-2eecf9619563",
   "metadata": {},
   "outputs": [],
   "source": [
    "l = [\"sachin\", \"pavan\", 5, 9.0]"
   ]
  },
  {
   "cell_type": "code",
   "execution_count": 38,
   "id": "6af2978b-a18d-4121-9646-03b7924a2757",
   "metadata": {},
   "outputs": [
    {
     "data": {
      "text/plain": [
       "list"
      ]
     },
     "execution_count": 38,
     "metadata": {},
     "output_type": "execute_result"
    }
   ],
   "source": [
    "type(l)"
   ]
  },
  {
   "cell_type": "code",
   "execution_count": 39,
   "id": "5e8f2802-6283-47ad-bcb1-bcdb049ecee0",
   "metadata": {},
   "outputs": [
    {
     "data": {
      "text/plain": [
       "'sachin'"
      ]
     },
     "execution_count": 39,
     "metadata": {},
     "output_type": "execute_result"
    }
   ],
   "source": [
    "l[0]"
   ]
  },
  {
   "cell_type": "code",
   "execution_count": 40,
   "id": "cf752f1c-8e5b-4df3-abc9-01f2efb7288a",
   "metadata": {},
   "outputs": [
    {
     "data": {
      "text/plain": [
       "6"
      ]
     },
     "execution_count": 40,
     "metadata": {},
     "output_type": "execute_result"
    }
   ],
   "source": [
    "# Operators \n",
    "# python operators\n",
    "#1) Arithmatic operator (+,-,*,/)\n",
    "#2) comparison operator \n",
    "#3) logical operator \n",
    "#4) bitwise operator\n",
    "#5) membership operator\n",
    "#6) identity operator \n"
   ]
  },
  {
   "cell_type": "code",
   "execution_count": 41,
   "id": "1125913b-f982-4c6a-b8c5-958ed92646f8",
   "metadata": {},
   "outputs": [],
   "source": [
    "a = 5\n",
    "b = 6 "
   ]
  },
  {
   "cell_type": "code",
   "execution_count": 42,
   "id": "360d3a2f-ddff-45b0-873d-c3ff46c597e2",
   "metadata": {},
   "outputs": [
    {
     "data": {
      "text/plain": [
       "11"
      ]
     },
     "execution_count": 42,
     "metadata": {},
     "output_type": "execute_result"
    }
   ],
   "source": [
    "# Arithmatic operators \n",
    "a+b "
   ]
  },
  {
   "cell_type": "code",
   "execution_count": 43,
   "id": "1b5aa9fc-35bc-4846-93e4-b10fded81cb8",
   "metadata": {},
   "outputs": [
    {
     "data": {
      "text/plain": [
       "11"
      ]
     },
     "execution_count": 43,
     "metadata": {},
     "output_type": "execute_result"
    }
   ],
   "source": [
    "add = a+b\n",
    "add"
   ]
  },
  {
   "cell_type": "code",
   "execution_count": 44,
   "id": "6187f3dd-97c9-4802-8bf2-b86336800760",
   "metadata": {},
   "outputs": [
    {
     "data": {
      "text/plain": [
       "2"
      ]
     },
     "execution_count": 44,
     "metadata": {},
     "output_type": "execute_result"
    }
   ],
   "source": [
    "3-1"
   ]
  },
  {
   "cell_type": "code",
   "execution_count": 45,
   "id": "1efadfe1-78c3-4baa-8552-652de3c0d785",
   "metadata": {},
   "outputs": [
    {
     "data": {
      "text/plain": [
       "9"
      ]
     },
     "execution_count": 45,
     "metadata": {},
     "output_type": "execute_result"
    }
   ],
   "source": [
    "3 * 3"
   ]
  },
  {
   "cell_type": "code",
   "execution_count": 46,
   "id": "02e1fb1b-9eec-4dfc-99cf-2d1e95dd0096",
   "metadata": {},
   "outputs": [
    {
     "data": {
      "text/plain": [
       "40"
      ]
     },
     "execution_count": 46,
     "metadata": {},
     "output_type": "execute_result"
    }
   ],
   "source": [
    "5*8"
   ]
  },
  {
   "cell_type": "code",
   "execution_count": 47,
   "id": "88f32432-c456-4b1c-befd-c21b979d94ca",
   "metadata": {},
   "outputs": [
    {
     "data": {
      "text/plain": [
       "5.25"
      ]
     },
     "execution_count": 47,
     "metadata": {},
     "output_type": "execute_result"
    }
   ],
   "source": [
    "21 / 4"
   ]
  },
  {
   "cell_type": "code",
   "execution_count": 49,
   "id": "d9fd6766-2fc8-4100-b9ab-24fec767ad93",
   "metadata": {},
   "outputs": [
    {
     "ename": "IndentationError",
     "evalue": "unexpected indent (645780101.py, line 2)",
     "output_type": "error",
     "traceback": [
      "\u001b[0;36m  Cell \u001b[0;32mIn[49], line 2\u001b[0;36m\u001b[0m\n\u001b[0;31m    17 % 4\u001b[0m\n\u001b[0m    ^\u001b[0m\n\u001b[0;31mIndentationError\u001b[0m\u001b[0;31m:\u001b[0m unexpected indent\n"
     ]
    }
   ],
   "source": [
    "# modulus operator \n",
    " 17 % 4 "
   ]
  },
  {
   "cell_type": "code",
   "execution_count": 50,
   "id": "114b5de3-3f61-4b5f-b03f-f9c4cf1fcba8",
   "metadata": {},
   "outputs": [
    {
     "data": {
      "text/plain": [
       "16"
      ]
     },
     "execution_count": 50,
     "metadata": {},
     "output_type": "execute_result"
    }
   ],
   "source": [
    "2 ** 4"
   ]
  },
  {
   "cell_type": "code",
   "execution_count": 51,
   "id": "5a654688-305a-416e-b4fa-f26cdc775cac",
   "metadata": {},
   "outputs": [
    {
     "data": {
      "text/plain": [
       "True"
      ]
     },
     "execution_count": 51,
     "metadata": {},
     "output_type": "execute_result"
    }
   ],
   "source": [
    "#comparison operator > compare two values/objects >\n",
    "\n",
    "2 == 2\n"
   ]
  },
  {
   "cell_type": "code",
   "execution_count": 52,
   "id": "c97ca52e-d469-4b1c-949c-1a0c1128d7fd",
   "metadata": {},
   "outputs": [
    {
     "data": {
      "text/plain": [
       "False"
      ]
     },
     "execution_count": 52,
     "metadata": {},
     "output_type": "execute_result"
    }
   ],
   "source": [
    "2 != 2"
   ]
  },
  {
   "cell_type": "code",
   "execution_count": 53,
   "id": "b81c9e89-31b9-44ab-9d10-7f0a27e2a9a6",
   "metadata": {},
   "outputs": [
    {
     "data": {
      "text/plain": [
       "True"
      ]
     },
     "execution_count": 53,
     "metadata": {},
     "output_type": "execute_result"
    }
   ],
   "source": [
    "5 != 2"
   ]
  },
  {
   "cell_type": "code",
   "execution_count": 54,
   "id": "b9bdd9ed-b23e-4569-9a78-741c8d41fa9f",
   "metadata": {},
   "outputs": [
    {
     "data": {
      "text/plain": [
       "True"
      ]
     },
     "execution_count": 54,
     "metadata": {},
     "output_type": "execute_result"
    }
   ],
   "source": [
    "5 > 2"
   ]
  },
  {
   "cell_type": "code",
   "execution_count": 55,
   "id": "7f76b890-23cd-4b70-9853-c997078fbfc7",
   "metadata": {},
   "outputs": [
    {
     "data": {
      "text/plain": [
       "False"
      ]
     },
     "execution_count": 55,
     "metadata": {},
     "output_type": "execute_result"
    }
   ],
   "source": [
    "5 > 5 "
   ]
  },
  {
   "cell_type": "code",
   "execution_count": 56,
   "id": "4d1368a0-cb78-472e-b686-ab07f1aada4d",
   "metadata": {},
   "outputs": [
    {
     "data": {
      "text/plain": [
       "True"
      ]
     },
     "execution_count": 56,
     "metadata": {},
     "output_type": "execute_result"
    }
   ],
   "source": [
    "5 >= 5"
   ]
  },
  {
   "cell_type": "code",
   "execution_count": 57,
   "id": "a8343230-54ef-4a05-9917-e2c66cfefce6",
   "metadata": {},
   "outputs": [
    {
     "data": {
      "text/plain": [
       "True"
      ]
     },
     "execution_count": 57,
     "metadata": {},
     "output_type": "execute_result"
    }
   ],
   "source": [
    "# logical operator = and or \n",
    "\n",
    "True and True"
   ]
  },
  {
   "cell_type": "code",
   "execution_count": 58,
   "id": "19fa847e-d790-4af4-8fa2-215068c3272a",
   "metadata": {},
   "outputs": [
    {
     "data": {
      "text/plain": [
       "False"
      ]
     },
     "execution_count": 58,
     "metadata": {},
     "output_type": "execute_result"
    }
   ],
   "source": [
    "False and False"
   ]
  },
  {
   "cell_type": "code",
   "execution_count": 59,
   "id": "339e9c7f-d8f9-44be-99a9-42279153f11d",
   "metadata": {},
   "outputs": [
    {
     "data": {
      "text/plain": [
       "True"
      ]
     },
     "execution_count": 59,
     "metadata": {},
     "output_type": "execute_result"
    }
   ],
   "source": [
    "True or False"
   ]
  },
  {
   "cell_type": "code",
   "execution_count": null,
   "id": "790e1584-7ccd-4f62-a31e-7e1955679cf3",
   "metadata": {},
   "outputs": [],
   "source": []
  }
 ],
 "metadata": {
  "kernelspec": {
   "display_name": "Python 3 (ipykernel)",
   "language": "python",
   "name": "python3"
  },
  "language_info": {
   "codemirror_mode": {
    "name": "ipython",
    "version": 3
   },
   "file_extension": ".py",
   "mimetype": "text/x-python",
   "name": "python",
   "nbconvert_exporter": "python",
   "pygments_lexer": "ipython3",
   "version": "3.10.8"
  }
 },
 "nbformat": 4,
 "nbformat_minor": 5
}
