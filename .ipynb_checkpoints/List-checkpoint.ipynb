{
 "cells": [
  {
   "cell_type": "code",
   "execution_count": 1,
   "id": "6a25226e-e00c-4b36-bb1b-16edaa77ee39",
   "metadata": {},
   "outputs": [],
   "source": [
    "#List >> are ordered collection of elements \n",
    "#[]\n",
    "#List is like a bag \n",
    "#Heterogenous data "
   ]
  },
  {
   "cell_type": "code",
   "execution_count": 31,
   "id": "168104cd-8977-4e86-b3ee-0452b57fd23c",
   "metadata": {},
   "outputs": [],
   "source": [
    "l = [\"ram\", \"shaym\", \"aallo\", \"tamatar\", 2000, -1000, True]"
   ]
  },
  {
   "cell_type": "code",
   "execution_count": 32,
   "id": "1aa0fbf4-ee47-4117-a9af-896faf0d01a6",
   "metadata": {},
   "outputs": [
    {
     "data": {
      "text/plain": [
       "list"
      ]
     },
     "execution_count": 32,
     "metadata": {},
     "output_type": "execute_result"
    }
   ],
   "source": [
    "type(l)"
   ]
  },
  {
   "cell_type": "code",
   "execution_count": 33,
   "id": "6dbf0398-aa20-4cf3-b8e0-abf9caca8ab8",
   "metadata": {},
   "outputs": [
    {
     "data": {
      "text/plain": [
       "'ram'"
      ]
     },
     "execution_count": 33,
     "metadata": {},
     "output_type": "execute_result"
    }
   ],
   "source": [
    "#list are mutable\n",
    "l[0]"
   ]
  },
  {
   "cell_type": "code",
   "execution_count": 34,
   "id": "9ee52966-024d-463f-9afd-5ea03f2237ce",
   "metadata": {},
   "outputs": [
    {
     "data": {
      "text/plain": [
       "2000"
      ]
     },
     "execution_count": 34,
     "metadata": {},
     "output_type": "execute_result"
    }
   ],
   "source": [
    "l[4]"
   ]
  },
  {
   "cell_type": "code",
   "execution_count": 6,
   "id": "2658ac7d-1e46-42a5-a605-37d900aecbaf",
   "metadata": {},
   "outputs": [
    {
     "data": {
      "text/plain": [
       "'a'"
      ]
     },
     "execution_count": 6,
     "metadata": {},
     "output_type": "execute_result"
    }
   ],
   "source": [
    "l[0] [1]"
   ]
  },
  {
   "cell_type": "code",
   "execution_count": 7,
   "id": "b2fb35a6-eae2-484e-bd7a-9ee6bb71c779",
   "metadata": {},
   "outputs": [
    {
     "data": {
      "text/plain": [
       "True"
      ]
     },
     "execution_count": 7,
     "metadata": {},
     "output_type": "execute_result"
    }
   ],
   "source": [
    "l[-1]"
   ]
  },
  {
   "cell_type": "code",
   "execution_count": 8,
   "id": "187b7bc1-557c-4b52-934b-c02119b9e1ad",
   "metadata": {},
   "outputs": [
    {
     "data": {
      "text/plain": [
       "[]"
      ]
     },
     "execution_count": 8,
     "metadata": {},
     "output_type": "execute_result"
    }
   ],
   "source": [
    "l[:0]"
   ]
  },
  {
   "cell_type": "code",
   "execution_count": 9,
   "id": "35588b58-69ef-41bc-82d1-ba8eb2d96ec0",
   "metadata": {},
   "outputs": [
    {
     "data": {
      "text/plain": [
       "['ram', 'shaym', 'aallo', 'tamatar', 2000, -1000, True]"
      ]
     },
     "execution_count": 9,
     "metadata": {},
     "output_type": "execute_result"
    }
   ],
   "source": [
    "l[:]"
   ]
  },
  {
   "cell_type": "code",
   "execution_count": 10,
   "id": "207eaeb3-c395-41b3-ac0c-f4406bab9a62",
   "metadata": {},
   "outputs": [
    {
     "data": {
      "text/plain": [
       "['shaym', 'aallo', 'tamatar', 2000, -1000, True]"
      ]
     },
     "execution_count": 10,
     "metadata": {},
     "output_type": "execute_result"
    }
   ],
   "source": [
    "l[1:]"
   ]
  },
  {
   "cell_type": "code",
   "execution_count": 11,
   "id": "dc77bc88-11fd-454c-9f81-95fd606576cf",
   "metadata": {},
   "outputs": [],
   "source": [
    "l[2] = \"pyaj\" #lists are mutable "
   ]
  },
  {
   "cell_type": "code",
   "execution_count": 12,
   "id": "1eb962cb-c46f-4d26-afb5-1b0fd7fa891f",
   "metadata": {},
   "outputs": [
    {
     "data": {
      "text/plain": [
       "['ram', 'shaym', 'pyaj', 'tamatar', 2000, -1000, True]"
      ]
     },
     "execution_count": 12,
     "metadata": {},
     "output_type": "execute_result"
    }
   ],
   "source": [
    "l"
   ]
  },
  {
   "cell_type": "code",
   "execution_count": 13,
   "id": "d282064d-5e68-498a-83fa-6271309da3b6",
   "metadata": {},
   "outputs": [
    {
     "data": {
      "text/plain": [
       "['ram', 'shaym', 'pyaj', 'tamatar']"
      ]
     },
     "execution_count": 13,
     "metadata": {},
     "output_type": "execute_result"
    }
   ],
   "source": [
    "l[0:4]"
   ]
  },
  {
   "cell_type": "code",
   "execution_count": 15,
   "id": "e372bd47-811a-485a-b7d6-a40225c99cbd",
   "metadata": {},
   "outputs": [],
   "source": [
    "#use cases \n",
    "book = [\"Introduction\", \"preface\", \"chap1\", \"chap2\", \"refrences\"]"
   ]
  },
  {
   "cell_type": "code",
   "execution_count": 16,
   "id": "de898cbc-c3fc-4748-9b21-f4bba8d35c2a",
   "metadata": {},
   "outputs": [
    {
     "data": {
      "text/plain": [
       "'refrences'"
      ]
     },
     "execution_count": 16,
     "metadata": {},
     "output_type": "execute_result"
    }
   ],
   "source": [
    "book[-1]"
   ]
  },
  {
   "cell_type": "code",
   "execution_count": 17,
   "id": "8159ca54-b2ec-4734-8098-e6b6505f0914",
   "metadata": {},
   "outputs": [],
   "source": [
    "#use case -2\n",
    "queue = [\"Ajay\", \"Bijay\", \"sanjay\", \"bhavesh\"]"
   ]
  },
  {
   "cell_type": "code",
   "execution_count": 18,
   "id": "5e76f146-8e8b-4763-8991-55659011582e",
   "metadata": {},
   "outputs": [
    {
     "data": {
      "text/plain": [
       "'bhavesh'"
      ]
     },
     "execution_count": 18,
     "metadata": {},
     "output_type": "execute_result"
    }
   ],
   "source": [
    "queue[-1]"
   ]
  },
  {
   "cell_type": "code",
   "execution_count": 19,
   "id": "cb512b77-a8ef-4b98-a83d-0b3485523f95",
   "metadata": {},
   "outputs": [
    {
     "data": {
      "text/plain": [
       "'sanjay'"
      ]
     },
     "execution_count": 19,
     "metadata": {},
     "output_type": "execute_result"
    }
   ],
   "source": [
    "queue[-2]"
   ]
  },
  {
   "cell_type": "code",
   "execution_count": 20,
   "id": "a90b5978-369c-4b17-9f45-144dbc765940",
   "metadata": {},
   "outputs": [],
   "source": [
    "#append >> add element in the end of a list"
   ]
  },
  {
   "cell_type": "code",
   "execution_count": 21,
   "id": "8d834620-ad30-4a91-9711-5ab4a2232938",
   "metadata": {},
   "outputs": [
    {
     "data": {
      "text/plain": [
       "['ram', 'shaym', 'pyaj', 'tamatar', 2000, -1000, True]"
      ]
     },
     "execution_count": 21,
     "metadata": {},
     "output_type": "execute_result"
    }
   ],
   "source": [
    "l"
   ]
  },
  {
   "cell_type": "code",
   "execution_count": 22,
   "id": "a0e55f3d-a600-4677-8c29-6ece06752b26",
   "metadata": {},
   "outputs": [],
   "source": [
    "l.append(\"Binod\")"
   ]
  },
  {
   "cell_type": "code",
   "execution_count": 23,
   "id": "5de00fe4-8c45-40a7-897f-ea721ec38634",
   "metadata": {},
   "outputs": [
    {
     "data": {
      "text/plain": [
       "['ram', 'shaym', 'pyaj', 'tamatar', 2000, -1000, True, 'Binod']"
      ]
     },
     "execution_count": 23,
     "metadata": {},
     "output_type": "execute_result"
    }
   ],
   "source": [
    "l"
   ]
  },
  {
   "cell_type": "code",
   "execution_count": 35,
   "id": "71144c69-c472-46f0-a998-2e719a93de2e",
   "metadata": {},
   "outputs": [
    {
     "data": {
      "text/plain": [
       "['sare jahan se acha', 'Ae mere watan ke logo']"
      ]
     },
     "execution_count": 35,
     "metadata": {},
     "output_type": "execute_result"
    }
   ],
   "source": [
    "playlist = []\n",
    "playlist.append(\"sare jahan se acha\")\n",
    "playlist.append(\"Ae mere watan ke logo\")\n",
    "\n",
    "playlist"
   ]
  },
  {
   "cell_type": "code",
   "execution_count": 36,
   "id": "90727f02-30ac-4092-a8b7-05685e3a66b0",
   "metadata": {},
   "outputs": [],
   "source": [
    "#another use case\n",
    "bookshelf = []\n",
    "bookshelf.append(\"book1\")\n",
    "bookshelf.append(\"book2\")"
   ]
  },
  {
   "cell_type": "code",
   "execution_count": 37,
   "id": "a642a181-3fa0-44b3-82a5-c02a85a3cfa0",
   "metadata": {},
   "outputs": [
    {
     "data": {
      "text/plain": [
       "['book1', 'book2']"
      ]
     },
     "execution_count": 37,
     "metadata": {},
     "output_type": "execute_result"
    }
   ],
   "source": [
    "bookshelf"
   ]
  },
  {
   "cell_type": "code",
   "execution_count": 38,
   "id": "d49883a2-6bf8-4d35-8f47-69411a0799ca",
   "metadata": {},
   "outputs": [],
   "source": [
    "seat = [\"Ajay\", \"Bijay\", \"Binod\", \"piysh\", \"pooja\"]"
   ]
  },
  {
   "cell_type": "code",
   "execution_count": 39,
   "id": "a38190aa-22dc-48d5-bd20-da4d0680a047",
   "metadata": {},
   "outputs": [
    {
     "data": {
      "text/plain": [
       "['Ajay', 'Bijay', 'Binod', 'piysh', 'pooja']"
      ]
     },
     "execution_count": 39,
     "metadata": {},
     "output_type": "execute_result"
    }
   ],
   "source": [
    "seat"
   ]
  },
  {
   "cell_type": "code",
   "execution_count": 40,
   "id": "05744516-99e2-4320-ae79-989a14a984d8",
   "metadata": {},
   "outputs": [
    {
     "data": {
      "text/plain": [
       "['Ajay', 'Bijay', 'Binod', 'piysh', 'pooja']"
      ]
     },
     "execution_count": 40,
     "metadata": {},
     "output_type": "execute_result"
    }
   ],
   "source": [
    "seat"
   ]
  },
  {
   "cell_type": "code",
   "execution_count": 41,
   "id": "68020d95-6de1-49d3-af08-a4d94c67b8ed",
   "metadata": {},
   "outputs": [],
   "source": [
    "seat.insert(1,\"Neeraj\")"
   ]
  },
  {
   "cell_type": "code",
   "execution_count": 42,
   "id": "6f4dd042-5462-46e7-8677-411fafa24c31",
   "metadata": {},
   "outputs": [
    {
     "data": {
      "text/plain": [
       "['Ajay', 'Neeraj', 'Bijay', 'Binod', 'piysh', 'pooja']"
      ]
     },
     "execution_count": 42,
     "metadata": {},
     "output_type": "execute_result"
    }
   ],
   "source": [
    "seat"
   ]
  },
  {
   "cell_type": "code",
   "execution_count": 43,
   "id": "0a229109-7350-44a2-8132-accdd9dba362",
   "metadata": {},
   "outputs": [],
   "source": [
    "seat.insert(2,\"Sanjay\")"
   ]
  },
  {
   "cell_type": "code",
   "execution_count": 44,
   "id": "d2ed3ab0-c469-4d0f-9b87-597712fe0a33",
   "metadata": {},
   "outputs": [
    {
     "data": {
      "text/plain": [
       "['Ajay', 'Neeraj', 'Sanjay', 'Bijay', 'Binod', 'piysh', 'pooja']"
      ]
     },
     "execution_count": 44,
     "metadata": {},
     "output_type": "execute_result"
    }
   ],
   "source": [
    "seat"
   ]
  },
  {
   "cell_type": "code",
   "execution_count": 45,
   "id": "c3d02f0c-0a56-4e36-83eb-8af17c7c76e2",
   "metadata": {},
   "outputs": [],
   "source": [
    "#extend >> used to append many elements \n",
    "\n",
    "my_list = [\"banana\", \"shake\", \"aaloo\"]\n",
    "mom_list = [\"agarbatti\", \"aata\"]\n",
    "\n",
    "my_list.extend(mom_list)"
   ]
  },
  {
   "cell_type": "code",
   "execution_count": 46,
   "id": "f9987c24-d8c7-424f-a34f-c6edb8ce0795",
   "metadata": {},
   "outputs": [
    {
     "data": {
      "text/plain": [
       "['banana', 'shake', 'aaloo', 'agarbatti', 'aata']"
      ]
     },
     "execution_count": 46,
     "metadata": {},
     "output_type": "execute_result"
    }
   ],
   "source": [
    "my_list"
   ]
  },
  {
   "cell_type": "code",
   "execution_count": 47,
   "id": "02e736ca-91fd-4ed1-b895-636aaf74b5ef",
   "metadata": {},
   "outputs": [],
   "source": [
    "mom_list.extend(my_list)"
   ]
  },
  {
   "cell_type": "code",
   "execution_count": 48,
   "id": "2ab4d4f9-a0ad-4aa0-abf6-fb9642544da8",
   "metadata": {},
   "outputs": [
    {
     "data": {
      "text/plain": [
       "['agarbatti', 'aata', 'banana', 'shake', 'aaloo', 'agarbatti', 'aata']"
      ]
     },
     "execution_count": 48,
     "metadata": {},
     "output_type": "execute_result"
    }
   ],
   "source": [
    "mom_list"
   ]
  },
  {
   "cell_type": "code",
   "execution_count": 49,
   "id": "b2bde5bb-c419-4100-b45d-b909da7c300b",
   "metadata": {},
   "outputs": [
    {
     "data": {
      "text/plain": [
       "'**********'"
      ]
     },
     "execution_count": 49,
     "metadata": {},
     "output_type": "execute_result"
    }
   ],
   "source": [
    "#concatention \n",
    "\"*\" * 10"
   ]
  },
  {
   "cell_type": "code",
   "execution_count": 50,
   "id": "e74665e8-25d5-4b18-ad3b-ccb64abaeaf5",
   "metadata": {},
   "outputs": [
    {
     "data": {
      "text/plain": [
       "[0]"
      ]
     },
     "execution_count": 50,
     "metadata": {},
     "output_type": "execute_result"
    }
   ],
   "source": [
    "[0]"
   ]
  },
  {
   "cell_type": "code",
   "execution_count": 52,
   "id": "96bec3ce-85db-4422-85ce-80e71b08ae97",
   "metadata": {},
   "outputs": [
    {
     "data": {
      "text/plain": [
       "[1,\n",
       " 2,\n",
       " 3,\n",
       " 1,\n",
       " 2,\n",
       " 3,\n",
       " 1,\n",
       " 2,\n",
       " 3,\n",
       " 1,\n",
       " 2,\n",
       " 3,\n",
       " 1,\n",
       " 2,\n",
       " 3,\n",
       " 1,\n",
       " 2,\n",
       " 3,\n",
       " 1,\n",
       " 2,\n",
       " 3,\n",
       " 1,\n",
       " 2,\n",
       " 3,\n",
       " 1,\n",
       " 2,\n",
       " 3,\n",
       " 1,\n",
       " 2,\n",
       " 3]"
      ]
     },
     "execution_count": 52,
     "metadata": {},
     "output_type": "execute_result"
    }
   ],
   "source": [
    "[1, 2, 3] * 10"
   ]
  },
  {
   "cell_type": "code",
   "execution_count": 53,
   "id": "20bb807d-c909-4e07-9323-e793c732c594",
   "metadata": {},
   "outputs": [
    {
     "name": "stdout",
     "output_type": "stream",
     "text": [
      "1\n",
      "2\n",
      "3\n",
      "4\n",
      "5\n"
     ]
    }
   ],
   "source": [
    "for i in range(1,6):\n",
    "    print(i)"
   ]
  },
  {
   "cell_type": "code",
   "execution_count": 55,
   "id": "81463158-8ffd-4cf4-85e8-ba5bee23b027",
   "metadata": {},
   "outputs": [
    {
     "name": "stdout",
     "output_type": "stream",
     "text": [
      "Your appointment is tomorrow \n",
      "Your appointment is tomorrow \n",
      "Your appointment is tomorrow \n",
      "Your appointment is tomorrow \n",
      "Your appointment is tomorrow \n",
      "\n"
     ]
    }
   ],
   "source": [
    "msg = \"Your appointment is tomorrow \\n\"\n",
    "print(msg*5)"
   ]
  },
  {
   "cell_type": "code",
   "execution_count": 56,
   "id": "792657db-1f39-4261-b287-b3c765c0d3d9",
   "metadata": {},
   "outputs": [
    {
     "data": {
      "text/plain": [
       "['ram', 'shaym', 'aallo', 'tamatar', 2000, -1000, True]"
      ]
     },
     "execution_count": 56,
     "metadata": {},
     "output_type": "execute_result"
    }
   ],
   "source": [
    "#membership in, not in \n",
    "l"
   ]
  },
  {
   "cell_type": "code",
   "execution_count": 57,
   "id": "3287b8d7-0f88-4161-8d72-53412e9619d2",
   "metadata": {},
   "outputs": [
    {
     "data": {
      "text/plain": [
       "True"
      ]
     },
     "execution_count": 57,
     "metadata": {},
     "output_type": "execute_result"
    }
   ],
   "source": [
    "\"ram\" in l"
   ]
  },
  {
   "cell_type": "code",
   "execution_count": 58,
   "id": "6b165d98-3d05-481e-9fd1-7e1763a70446",
   "metadata": {},
   "outputs": [
    {
     "data": {
      "text/plain": [
       "False"
      ]
     },
     "execution_count": 58,
     "metadata": {},
     "output_type": "execute_result"
    }
   ],
   "source": [
    "\"Shyam\" in l"
   ]
  },
  {
   "cell_type": "code",
   "execution_count": 59,
   "id": "de3c99cd-a4b4-4cb7-8dee-d6c6f5357fd3",
   "metadata": {},
   "outputs": [
    {
     "data": {
      "text/plain": [
       "True"
      ]
     },
     "execution_count": 59,
     "metadata": {},
     "output_type": "execute_result"
    }
   ],
   "source": [
    "\"shyam\" not in l"
   ]
  },
  {
   "cell_type": "code",
   "execution_count": 60,
   "id": "cdaf7007-8b34-4503-82ba-f4905fe1ae96",
   "metadata": {},
   "outputs": [
    {
     "data": {
      "text/plain": [
       "True"
      ]
     },
     "execution_count": 60,
     "metadata": {},
     "output_type": "execute_result"
    }
   ],
   "source": [
    "\"shaym\" in l"
   ]
  },
  {
   "cell_type": "code",
   "execution_count": 65,
   "id": "47a87bf2-21e2-4ae5-91d2-8f8a86d9f17d",
   "metadata": {},
   "outputs": [],
   "source": [
    "# interview deep copy and shallow copy\n",
    "# Shallow copy >> value will change in another list\n",
    "l = ['ram', 'shaym', 'aallo']\n",
    "a = l"
   ]
  },
  {
   "cell_type": "code",
   "execution_count": 66,
   "id": "104bb5a4-ae54-4c80-b10c-8c1749983241",
   "metadata": {},
   "outputs": [
    {
     "data": {
      "text/plain": [
       "['ram', 'shaym', 'aallo']"
      ]
     },
     "execution_count": 66,
     "metadata": {},
     "output_type": "execute_result"
    }
   ],
   "source": [
    "l"
   ]
  },
  {
   "cell_type": "code",
   "execution_count": 67,
   "id": "0b80ecb2-3f77-4c6e-8eff-73861bff1909",
   "metadata": {},
   "outputs": [],
   "source": [
    "l[0] = \"Ajay\""
   ]
  },
  {
   "cell_type": "code",
   "execution_count": 68,
   "id": "453b3f35-8f9e-4fed-8f6f-38ccf0d7278f",
   "metadata": {},
   "outputs": [
    {
     "data": {
      "text/plain": [
       "['Ajay', 'shaym', 'aallo']"
      ]
     },
     "execution_count": 68,
     "metadata": {},
     "output_type": "execute_result"
    }
   ],
   "source": [
    "l"
   ]
  },
  {
   "cell_type": "code",
   "execution_count": 69,
   "id": "d31d4884-1373-468f-9d90-95d7595c9b4f",
   "metadata": {},
   "outputs": [
    {
     "data": {
      "text/plain": [
       "['Ajay', 'shaym', 'aallo']"
      ]
     },
     "execution_count": 69,
     "metadata": {},
     "output_type": "execute_result"
    }
   ],
   "source": [
    "a"
   ]
  },
  {
   "cell_type": "code",
   "execution_count": 70,
   "id": "630cc45d-b05b-42d7-8e28-a7bb51d4b990",
   "metadata": {},
   "outputs": [],
   "source": [
    "#deep copy >> will not change due to change in another list \n",
    "#shallow reference, deep reference \n",
    "l = ['ram', 'shaym', 'aallo']\n",
    "a = l.copy()"
   ]
  },
  {
   "cell_type": "code",
   "execution_count": 71,
   "id": "074b314d-0a4f-4ca9-abd1-2303b0e1396b",
   "metadata": {},
   "outputs": [
    {
     "data": {
      "text/plain": [
       "['ram', 'shaym', 'aallo']"
      ]
     },
     "execution_count": 71,
     "metadata": {},
     "output_type": "execute_result"
    }
   ],
   "source": [
    "a"
   ]
  },
  {
   "cell_type": "code",
   "execution_count": 72,
   "id": "bac22d48-2d3b-4c3e-b29b-bdc153d851c8",
   "metadata": {},
   "outputs": [
    {
     "data": {
      "text/plain": [
       "['ram', 'shaym', 'aallo']"
      ]
     },
     "execution_count": 72,
     "metadata": {},
     "output_type": "execute_result"
    }
   ],
   "source": [
    "l"
   ]
  },
  {
   "cell_type": "code",
   "execution_count": 73,
   "id": "39a11c0d-8f6b-42c3-908c-edaa1b062fa0",
   "metadata": {},
   "outputs": [],
   "source": [
    "l[0] = \"Ajay\""
   ]
  },
  {
   "cell_type": "code",
   "execution_count": 74,
   "id": "fd92c9fc-a383-45f7-b96c-e75da993485e",
   "metadata": {},
   "outputs": [
    {
     "data": {
      "text/plain": [
       "['Ajay', 'shaym', 'aallo']"
      ]
     },
     "execution_count": 74,
     "metadata": {},
     "output_type": "execute_result"
    }
   ],
   "source": [
    "l"
   ]
  },
  {
   "cell_type": "code",
   "execution_count": 75,
   "id": "0820faa7-7d89-45b3-a11d-6a4c282f6a0d",
   "metadata": {},
   "outputs": [
    {
     "data": {
      "text/plain": [
       "['ram', 'shaym', 'aallo']"
      ]
     },
     "execution_count": 75,
     "metadata": {},
     "output_type": "execute_result"
    }
   ],
   "source": [
    "a"
   ]
  },
  {
   "cell_type": "code",
   "execution_count": 76,
   "id": "8eae3444-2432-4ace-aca8-5a9f4f8a1cea",
   "metadata": {},
   "outputs": [],
   "source": [
    "#Use case \n",
    "a = l\n",
    "a = l.copy()"
   ]
  },
  {
   "cell_type": "code",
   "execution_count": 77,
   "id": "fd8c0193-53ca-41ed-bdcd-630e3746a3e9",
   "metadata": {},
   "outputs": [
    {
     "data": {
      "text/plain": [
       "['Ajay', 'shaym', 'aallo']"
      ]
     },
     "execution_count": 77,
     "metadata": {},
     "output_type": "execute_result"
    }
   ],
   "source": [
    "a"
   ]
  },
  {
   "cell_type": "code",
   "execution_count": 78,
   "id": "75e6b7b2-50f9-4655-8896-33b767788645",
   "metadata": {},
   "outputs": [
    {
     "data": {
      "text/plain": [
       "['Ajay', 'shaym', 'aallo']"
      ]
     },
     "execution_count": 78,
     "metadata": {},
     "output_type": "execute_result"
    }
   ],
   "source": [
    "l"
   ]
  },
  {
   "cell_type": "code",
   "execution_count": 79,
   "id": "f8806fbe-f836-43bb-a198-2198325d45d2",
   "metadata": {},
   "outputs": [
    {
     "data": {
      "text/plain": [
       "['Algorithms', 'Data Structure', 'webdev']"
      ]
     },
     "execution_count": 79,
     "metadata": {},
     "output_type": "execute_result"
    }
   ],
   "source": [
    "#sorting list \n",
    "book_list = [\"Data Structure\", \"Algorithms\", \"webdev\"]\n",
    "sorted(book_list)"
   ]
  },
  {
   "cell_type": "code",
   "execution_count": 81,
   "id": "67e401c7-0c51-40f3-aeaf-0308e45f13fa",
   "metadata": {},
   "outputs": [],
   "source": [
    "l[0] = \"Sanjay\""
   ]
  },
  {
   "cell_type": "code",
   "execution_count": 82,
   "id": "6a128c34-af3e-4818-9220-c6f056ba5c23",
   "metadata": {},
   "outputs": [
    {
     "data": {
      "text/plain": [
       "['Sanjay', 'shaym', 'aallo']"
      ]
     },
     "execution_count": 82,
     "metadata": {},
     "output_type": "execute_result"
    }
   ],
   "source": [
    "l"
   ]
  },
  {
   "cell_type": "code",
   "execution_count": 83,
   "id": "ca520385-6467-4be1-9ae5-dd92d1012e28",
   "metadata": {},
   "outputs": [
    {
     "data": {
      "text/plain": [
       "1"
      ]
     },
     "execution_count": 83,
     "metadata": {},
     "output_type": "execute_result"
    }
   ],
   "source": [
    "book_list.index(\"Algorithms\")"
   ]
  },
  {
   "cell_type": "code",
   "execution_count": 84,
   "id": "1741c7b9-564c-434d-8a42-73f3f00a145b",
   "metadata": {},
   "outputs": [
    {
     "data": {
      "text/plain": [
       "2"
      ]
     },
     "execution_count": 84,
     "metadata": {},
     "output_type": "execute_result"
    }
   ],
   "source": [
    "book_list.index(\"webdev\")"
   ]
  },
  {
   "cell_type": "code",
   "execution_count": 85,
   "id": "deb04bda-45a9-496e-867f-6dcaaaa7ef59",
   "metadata": {},
   "outputs": [],
   "source": [
    "book_list[2] = \"new_book\""
   ]
  },
  {
   "cell_type": "code",
   "execution_count": 86,
   "id": "60491e55-8522-4e17-9614-cd7150cee2b0",
   "metadata": {},
   "outputs": [
    {
     "data": {
      "text/plain": [
       "['Data Structure', 'Algorithms', 'new_book']"
      ]
     },
     "execution_count": 86,
     "metadata": {},
     "output_type": "execute_result"
    }
   ],
   "source": [
    "book_list"
   ]
  },
  {
   "cell_type": "code",
   "execution_count": 87,
   "id": "9e96ac7e-65c8-46cf-a295-295db1240560",
   "metadata": {},
   "outputs": [],
   "source": [
    "book_list = ['Data Structure', 'Algorithms', 'new_book', \"new_book\"]"
   ]
  },
  {
   "cell_type": "code",
   "execution_count": 88,
   "id": "14e151a3-e120-40df-bd99-a37d8f181b89",
   "metadata": {},
   "outputs": [
    {
     "data": {
      "text/plain": [
       "2"
      ]
     },
     "execution_count": 88,
     "metadata": {},
     "output_type": "execute_result"
    }
   ],
   "source": [
    "book_list.index(\"new_book\")"
   ]
  },
  {
   "cell_type": "code",
   "execution_count": 89,
   "id": "c4fad6b2-58cf-4f82-b295-eb5436075c47",
   "metadata": {},
   "outputs": [
    {
     "data": {
      "text/plain": [
       "2"
      ]
     },
     "execution_count": 89,
     "metadata": {},
     "output_type": "execute_result"
    }
   ],
   "source": [
    "book_list.count(\"new_book\")"
   ]
  },
  {
   "cell_type": "code",
   "execution_count": 90,
   "id": "9ab905ab-ad20-465e-ba0c-d60129e3e22b",
   "metadata": {},
   "outputs": [
    {
     "data": {
      "text/plain": [
       "['Data Structure', 'Algorithms', 'new_book', 'new_book']"
      ]
     },
     "execution_count": 90,
     "metadata": {},
     "output_type": "execute_result"
    }
   ],
   "source": [
    "book_list"
   ]
  },
  {
   "cell_type": "code",
   "execution_count": 91,
   "id": "d34d063c-fc6a-4df7-ad99-bbfb4fa4d9e3",
   "metadata": {},
   "outputs": [],
   "source": [
    "book_list.remove(\"Data Structure\")"
   ]
  },
  {
   "cell_type": "code",
   "execution_count": 92,
   "id": "aa0a298f-6083-458a-a440-3b440989fa0c",
   "metadata": {},
   "outputs": [
    {
     "data": {
      "text/plain": [
       "['Algorithms', 'new_book', 'new_book']"
      ]
     },
     "execution_count": 92,
     "metadata": {},
     "output_type": "execute_result"
    }
   ],
   "source": [
    "book_list"
   ]
  },
  {
   "cell_type": "code",
   "execution_count": 93,
   "id": "f659b7b8-343a-42d7-9302-ce7c7c4bb32e",
   "metadata": {},
   "outputs": [],
   "source": [
    "book_list.sort()"
   ]
  },
  {
   "cell_type": "code",
   "execution_count": 94,
   "id": "e7d20566-aa7d-4d19-91d6-51f40eeea365",
   "metadata": {},
   "outputs": [
    {
     "data": {
      "text/plain": [
       "['Algorithms', 'new_book', 'new_book']"
      ]
     },
     "execution_count": 94,
     "metadata": {},
     "output_type": "execute_result"
    }
   ],
   "source": [
    "book_list"
   ]
  },
  {
   "cell_type": "code",
   "execution_count": 95,
   "id": "3c6230e5-85a7-4990-8430-3876ad2511f0",
   "metadata": {},
   "outputs": [],
   "source": [
    "book_list.clear()"
   ]
  },
  {
   "cell_type": "code",
   "execution_count": 96,
   "id": "5390a9c2-bb30-40d6-ad68-d556c5de9eee",
   "metadata": {},
   "outputs": [
    {
     "data": {
      "text/plain": [
       "[]"
      ]
     },
     "execution_count": 96,
     "metadata": {},
     "output_type": "execute_result"
    }
   ],
   "source": [
    "book_list"
   ]
  },
  {
   "cell_type": "code",
   "execution_count": 97,
   "id": "9cfd554c-f743-4672-ba2b-6e3cdc6ca7d1",
   "metadata": {},
   "outputs": [],
   "source": [
    "del book_list"
   ]
  },
  {
   "cell_type": "code",
   "execution_count": 98,
   "id": "107fa8ef-2617-4a31-aa88-742823b26351",
   "metadata": {},
   "outputs": [
    {
     "ename": "NameError",
     "evalue": "name 'book_list' is not defined",
     "output_type": "error",
     "traceback": [
      "\u001b[0;31m---------------------------------------------------------------------------\u001b[0m",
      "\u001b[0;31mNameError\u001b[0m                                 Traceback (most recent call last)",
      "Cell \u001b[0;32mIn[98], line 1\u001b[0m\n\u001b[0;32m----> 1\u001b[0m \u001b[43mbook_list\u001b[49m\n",
      "\u001b[0;31mNameError\u001b[0m: name 'book_list' is not defined"
     ]
    }
   ],
   "source": [
    "book_list"
   ]
  },
  {
   "cell_type": "code",
   "execution_count": 99,
   "id": "ffe5c965-69ad-443d-9f48-e98d288dc7e2",
   "metadata": {},
   "outputs": [
    {
     "data": {
      "text/plain": [
       "['Introduction', 'preface', 'chap1', 'chap2', 'refrences']"
      ]
     },
     "execution_count": 99,
     "metadata": {},
     "output_type": "execute_result"
    }
   ],
   "source": [
    "book"
   ]
  },
  {
   "cell_type": "code",
   "execution_count": 100,
   "id": "56b01302-fe8b-490b-9cb9-abdf40ee6cde",
   "metadata": {},
   "outputs": [
    {
     "data": {
      "text/plain": [
       "'refrences'"
      ]
     },
     "execution_count": 100,
     "metadata": {},
     "output_type": "execute_result"
    }
   ],
   "source": [
    "book.pop() #deletes the last element of a list"
   ]
  },
  {
   "cell_type": "code",
   "execution_count": 101,
   "id": "7fdc6315-e66a-4548-89ae-d7d2649c1812",
   "metadata": {},
   "outputs": [
    {
     "data": {
      "text/plain": [
       "['Introduction', 'preface', 'chap1', 'chap2']"
      ]
     },
     "execution_count": 101,
     "metadata": {},
     "output_type": "execute_result"
    }
   ],
   "source": [
    "book"
   ]
  },
  {
   "cell_type": "code",
   "execution_count": 102,
   "id": "713a55aa-453b-482e-bb4b-1655c5c6570d",
   "metadata": {},
   "outputs": [
    {
     "data": {
      "text/plain": [
       "'preface'"
      ]
     },
     "execution_count": 102,
     "metadata": {},
     "output_type": "execute_result"
    }
   ],
   "source": [
    "book.pop(1)"
   ]
  },
  {
   "cell_type": "code",
   "execution_count": 103,
   "id": "e5f714e8-77d4-49ab-b81d-c7cb0430d680",
   "metadata": {},
   "outputs": [
    {
     "data": {
      "text/plain": [
       "['Introduction', 'chap1', 'chap2']"
      ]
     },
     "execution_count": 103,
     "metadata": {},
     "output_type": "execute_result"
    }
   ],
   "source": [
    "book"
   ]
  },
  {
   "cell_type": "code",
   "execution_count": 1,
   "id": "87c51a06-68ef-4551-98b4-c9430529fa40",
   "metadata": {},
   "outputs": [
    {
     "name": "stdout",
     "output_type": "stream",
     "text": [
      "10\n",
      "20\n",
      "30\n",
      "40\n",
      "50\n"
     ]
    }
   ],
   "source": [
    "prices = [10, 20, 30, 40, 50]\n",
    "doubled_price = []\n",
    "for i in prices:\n",
    "    doubled_price.append(i*2)\n",
    "    print(i)"
   ]
  },
  {
   "cell_type": "code",
   "execution_count": 3,
   "id": "8a361969-60e5-4fc5-a439-3d227cec7af0",
   "metadata": {},
   "outputs": [
    {
     "data": {
      "text/plain": [
       "[20, 40, 60, 80, 100]"
      ]
     },
     "execution_count": 3,
     "metadata": {},
     "output_type": "execute_result"
    }
   ],
   "source": [
    "doubled_price"
   ]
  },
  {
   "cell_type": "code",
   "execution_count": 5,
   "id": "e8f1387f-3dba-4a74-9d25-67e0fbe318d8",
   "metadata": {},
   "outputs": [
    {
     "data": {
      "text/plain": [
       "[20, 40, 60, 80, 100]"
      ]
     },
     "execution_count": 5,
     "metadata": {},
     "output_type": "execute_result"
    }
   ],
   "source": [
    "#list comprehension \n",
    "\n",
    "[i*2 for i  in prices]"
   ]
  },
  {
   "cell_type": "code",
   "execution_count": 9,
   "id": "5addc638-7b60-4423-8fa5-e0dddba50bb5",
   "metadata": {},
   "outputs": [],
   "source": [
    "names = [\"Ajay\", \"bijay\", \"sanjay\"]"
   ]
  },
  {
   "cell_type": "code",
   "execution_count": 10,
   "id": "6bb6b69f-6e7c-40fc-a220-633617ee0115",
   "metadata": {},
   "outputs": [
    {
     "data": {
      "text/plain": [
       "['Ajay', 'Bijay', 'Sanjay']"
      ]
     },
     "execution_count": 10,
     "metadata": {},
     "output_type": "execute_result"
    }
   ],
   "source": [
    "[name.capitalize()for name in names]"
   ]
  },
  {
   "cell_type": "code",
   "execution_count": 13,
   "id": "41c533ef-290a-4eca-aa7e-9b9da46ca5aa",
   "metadata": {},
   "outputs": [
    {
     "data": {
      "text/plain": [
       "[1, 4, 9, 16, 25]"
      ]
     },
     "execution_count": 13,
     "metadata": {},
     "output_type": "execute_result"
    }
   ],
   "source": [
    "numbers = [1, 2, 3, 4, 5]\n",
    "[num**2 for num in numbers]\n",
    "    "
   ]
  },
  {
   "cell_type": "code",
   "execution_count": 18,
   "id": "3c9d2b36-bc56-4af9-b104-48b71215a2ba",
   "metadata": {},
   "outputs": [
    {
     "data": {
      "text/plain": [
       "'ppt'"
      ]
     },
     "execution_count": 18,
     "metadata": {},
     "output_type": "execute_result"
    }
   ],
   "source": [
    "str1 = \"doc1.ppt\"\n",
    "str1.split(\".\") [-1]"
   ]
  },
  {
   "cell_type": "code",
   "execution_count": 22,
   "id": "0dbec3ea-3b5a-4217-94f2-a2346be2f574",
   "metadata": {},
   "outputs": [
    {
     "data": {
      "text/plain": [
       "{'jpeg', 'jpg', 'ppt', 'py'}"
      ]
     },
     "execution_count": 22,
     "metadata": {},
     "output_type": "execute_result"
    }
   ],
   "source": [
    "file_name = [\"doc1.ppt\", \"doc2.ppt\", \"doc3.jpg\", \"doc4.py\", \"doc5.jpeg\"]\n",
    "#[file.difference() for file in file_name]\n",
    "set([file.split(\".\")[-1]for file in file_name])"
   ]
  },
  {
   "cell_type": "code",
   "execution_count": 23,
   "id": "431efed6-ffa0-4d72-bf11-6d194d615da9",
   "metadata": {},
   "outputs": [
    {
     "data": {
      "text/plain": [
       "['cj@yahoo.com', 'dj@yahoo.com']"
      ]
     },
     "execution_count": 23,
     "metadata": {},
     "output_type": "execute_result"
    }
   ],
   "source": [
    "#conditional list comprehension\n",
    "email_address = [\"aj@gamil.com\", \"rj@hotmail.com\", \"cj@yahoo.com\", \"dj@yahoo.com\"]\n",
    "[email for email in email_address if email.endswith(\"@yahoo.com\")]"
   ]
  },
  {
   "cell_type": "code",
   "execution_count": null,
   "id": "9b306144-a8aa-4bd6-b431-1b45f668cb30",
   "metadata": {},
   "outputs": [],
   "source": []
  }
 ],
 "metadata": {
  "kernelspec": {
   "display_name": "Python 3 (ipykernel)",
   "language": "python",
   "name": "python3"
  },
  "language_info": {
   "codemirror_mode": {
    "name": "ipython",
    "version": 3
   },
   "file_extension": ".py",
   "mimetype": "text/x-python",
   "name": "python",
   "nbconvert_exporter": "python",
   "pygments_lexer": "ipython3",
   "version": "3.10.8"
  }
 },
 "nbformat": 4,
 "nbformat_minor": 5
}
