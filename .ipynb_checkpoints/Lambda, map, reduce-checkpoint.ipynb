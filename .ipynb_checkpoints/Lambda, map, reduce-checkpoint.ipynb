{
 "cells": [
  {
   "cell_type": "code",
   "execution_count": 1,
   "id": "2fe0380a-a805-46fe-84d4-ef8d426b8c94",
   "metadata": {},
   "outputs": [],
   "source": [
    "#lambda >> annoymous function\n",
    "#syntax : Lambda arguments : expresion "
   ]
  },
  {
   "cell_type": "code",
   "execution_count": 2,
   "id": "62f0eb6c-87d0-4e86-9a26-a3ec61157dc7",
   "metadata": {},
   "outputs": [],
   "source": [
    "def square(x):\n",
    "    return x ** 2 "
   ]
  },
  {
   "cell_type": "code",
   "execution_count": 4,
   "id": "b2ac4c07-684f-47c1-a86c-64c91197139c",
   "metadata": {},
   "outputs": [
    {
     "data": {
      "text/plain": [
       "10000"
      ]
     },
     "execution_count": 4,
     "metadata": {},
     "output_type": "execute_result"
    }
   ],
   "source": [
    "square(100)\n",
    "      "
   ]
  },
  {
   "cell_type": "code",
   "execution_count": 5,
   "id": "4f9504be-8c59-438f-bca8-717e74eb2d6a",
   "metadata": {},
   "outputs": [],
   "source": [
    "sq_lamb = lambda x: x**2"
   ]
  },
  {
   "cell_type": "code",
   "execution_count": 6,
   "id": "db539337-5abf-4a13-895e-a2490d2b71e3",
   "metadata": {},
   "outputs": [
    {
     "data": {
      "text/plain": [
       "289"
      ]
     },
     "execution_count": 6,
     "metadata": {},
     "output_type": "execute_result"
    }
   ],
   "source": [
    "sq_lamb(17)"
   ]
  },
  {
   "cell_type": "code",
   "execution_count": 12,
   "id": "23ee3f16-9f46-4563-9f7d-539cc88fba8e",
   "metadata": {},
   "outputs": [],
   "source": [
    "# write a lambda fun to add two no \n",
    "add_lamb = lambda x, z: x+z"
   ]
  },
  {
   "cell_type": "code",
   "execution_count": 13,
   "id": "d9a7fcc7-1d1c-4d43-9970-bb07d059a21e",
   "metadata": {},
   "outputs": [
    {
     "data": {
      "text/plain": [
       "38"
      ]
     },
     "execution_count": 13,
     "metadata": {},
     "output_type": "execute_result"
    }
   ],
   "source": [
    "add_lamb(18 , 20)"
   ]
  },
  {
   "cell_type": "code",
   "execution_count": 14,
   "id": "a5e63895-37e3-4d28-9e84-931c28b50840",
   "metadata": {},
   "outputs": [],
   "source": [
    "#write a lambda function to check if a given no is even no \n",
    "\n",
    "is_even = lambda x : x%2 == 0 "
   ]
  },
  {
   "cell_type": "code",
   "execution_count": 15,
   "id": "b4afccec-8ff1-470e-88fd-dab6ab19ee1d",
   "metadata": {},
   "outputs": [
    {
     "data": {
      "text/plain": [
       "True"
      ]
     },
     "execution_count": 15,
     "metadata": {},
     "output_type": "execute_result"
    }
   ],
   "source": [
    "is_even(4)"
   ]
  },
  {
   "cell_type": "code",
   "execution_count": 20,
   "id": "63c92ee6-f346-4ac4-9b4b-b7e92683e63c",
   "metadata": {},
   "outputs": [
    {
     "data": {
      "text/plain": [
       "12"
      ]
     },
     "execution_count": 20,
     "metadata": {},
     "output_type": "execute_result"
    }
   ],
   "source": [
    "x = [\"python\", \"data Science\", \"Ajay\"]\n",
    "#sort based on no of characters \n",
    "len(\"data science\")"
   ]
  },
  {
   "cell_type": "code",
   "execution_count": 23,
   "id": "0f46f180-4649-4297-b3af-907d4db5d3e2",
   "metadata": {},
   "outputs": [
    {
     "data": {
      "text/plain": [
       "['Ajay', 'python', 'data Science']"
      ]
     },
     "execution_count": 23,
     "metadata": {},
     "output_type": "execute_result"
    }
   ],
   "source": [
    "sorted(x, key = lambda x: len(x))"
   ]
  },
  {
   "cell_type": "code",
   "execution_count": 27,
   "id": "ca4709b3-b597-45fc-8b2b-43b4fc74dd9e",
   "metadata": {},
   "outputs": [],
   "source": [
    "#fibonacci series 0,1, 1, 2, 3, 5 \n",
    "# resursive function calls itself again and again \n",
    "\n",
    "def gen_fib(n):\n",
    "    if n<=1:\n",
    "        return n \n",
    "    else:\n",
    "        return gen_fib(n-1) + gen_fib(n-2)\n",
    "    "
   ]
  },
  {
   "cell_type": "code",
   "execution_count": 28,
   "id": "c3361df4-c900-490f-a7c4-51ea5fdc50d0",
   "metadata": {},
   "outputs": [
    {
     "data": {
      "text/plain": [
       "5"
      ]
     },
     "execution_count": 28,
     "metadata": {},
     "output_type": "execute_result"
    }
   ],
   "source": [
    "gen_fib(5)"
   ]
  },
  {
   "cell_type": "code",
   "execution_count": 30,
   "id": "93a071c4-67c4-454a-b07a-28da673077c7",
   "metadata": {},
   "outputs": [
    {
     "ename": "TypeError",
     "evalue": "unsupported operand type(s) for -: 'list' and 'int'",
     "output_type": "error",
     "traceback": [
      "\u001b[0;31m---------------------------------------------------------------------------\u001b[0m",
      "\u001b[0;31mTypeError\u001b[0m                                 Traceback (most recent call last)",
      "Cell \u001b[0;32mIn[30], line 2\u001b[0m\n\u001b[1;32m      1\u001b[0m \u001b[38;5;66;03m# write the fibonacci series using lambda function\u001b[39;00m\n\u001b[0;32m----> 2\u001b[0m fib_lamb \u001b[38;5;241m=\u001b[39m \u001b[38;5;28;01mlambda\u001b[39;00m x: (x\u001b[38;5;241m-\u001b[39m\u001b[38;5;241m1\u001b[39m), (\u001b[43mx\u001b[49m\u001b[38;5;241;43m-\u001b[39;49m\u001b[38;5;241;43m2\u001b[39;49m)\n",
      "\u001b[0;31mTypeError\u001b[0m: unsupported operand type(s) for -: 'list' and 'int'"
     ]
    }
   ],
   "source": [
    "# write the fibonacci series using lambda function\n"
   ]
  },
  {
   "cell_type": "code",
   "execution_count": 31,
   "id": "53eef216-4ead-4ea4-a540-57e61672599f",
   "metadata": {},
   "outputs": [],
   "source": [
    "gen_fib = lambda n: n if n<=1 else gen_fib(n-1) + gen_fib(n-2)\n"
   ]
  },
  {
   "cell_type": "code",
   "execution_count": 33,
   "id": "bd5866b1-6c66-4cab-96cd-377fc7f57da6",
   "metadata": {},
   "outputs": [
    {
     "data": {
      "text/plain": [
       "[0, 1, 1, 2, 3, 5, 8, 13]"
      ]
     },
     "execution_count": 33,
     "metadata": {},
     "output_type": "execute_result"
    }
   ],
   "source": [
    "[gen_fib(i) for i in range (8)]"
   ]
  },
  {
   "cell_type": "code",
   "execution_count": 37,
   "id": "82784027-181d-4330-8295-d73aeb0ea271",
   "metadata": {},
   "outputs": [],
   "source": [
    "#another example of recursion >> factorial \n",
    "\n",
    "#write a function which gives factorial of a given no \n",
    "def fact_num(n):\n",
    "    if n==0:\n",
    "        return 1 \n",
    "    else:\n",
    "        return n*fact_num(n-1)"
   ]
  },
  {
   "cell_type": "code",
   "execution_count": 38,
   "id": "d1ba04c9-a270-40e6-b977-300d12add8c9",
   "metadata": {},
   "outputs": [
    {
     "data": {
      "text/plain": [
       "24"
      ]
     },
     "execution_count": 38,
     "metadata": {},
     "output_type": "execute_result"
    }
   ],
   "source": [
    "fact_num(4)"
   ]
  },
  {
   "cell_type": "code",
   "execution_count": 40,
   "id": "5ff6bd8a-880c-4ab8-94ac-1a1dbd29d859",
   "metadata": {},
   "outputs": [],
   "source": [
    "#write factorial using lambda function \n",
    "fact_num = lambda n:1 if n == 0 else n*fact_num(n-1)"
   ]
  },
  {
   "cell_type": "code",
   "execution_count": 41,
   "id": "df869564-22cc-429b-8a3d-7321c00cfdd8",
   "metadata": {},
   "outputs": [
    {
     "data": {
      "text/plain": [
       "24"
      ]
     },
     "execution_count": 41,
     "metadata": {},
     "output_type": "execute_result"
    }
   ],
   "source": [
    "fact_num(4)"
   ]
  },
  {
   "cell_type": "code",
   "execution_count": 42,
   "id": "8ef3757d-13f7-4029-a5d0-7efa40ee2930",
   "metadata": {},
   "outputs": [],
   "source": [
    "# Map function >> execuse a specified function for iterable \n",
    "#syntax >> map(func, iterable)"
   ]
  },
  {
   "cell_type": "code",
   "execution_count": 43,
   "id": "c353e671-a58a-48b6-b21e-613cb7a888c7",
   "metadata": {},
   "outputs": [
    {
     "name": "stdout",
     "output_type": "stream",
     "text": [
      "Help on class map in module builtins:\n",
      "\n",
      "class map(object)\n",
      " |  map(func, *iterables) --> map object\n",
      " |  \n",
      " |  Make an iterator that computes the function using arguments from\n",
      " |  each of the iterables.  Stops when the shortest iterable is exhausted.\n",
      " |  \n",
      " |  Methods defined here:\n",
      " |  \n",
      " |  __getattribute__(self, name, /)\n",
      " |      Return getattr(self, name).\n",
      " |  \n",
      " |  __iter__(self, /)\n",
      " |      Implement iter(self).\n",
      " |  \n",
      " |  __next__(self, /)\n",
      " |      Implement next(self).\n",
      " |  \n",
      " |  __reduce__(...)\n",
      " |      Return state information for pickling.\n",
      " |  \n",
      " |  ----------------------------------------------------------------------\n",
      " |  Static methods defined here:\n",
      " |  \n",
      " |  __new__(*args, **kwargs) from builtins.type\n",
      " |      Create and return a new object.  See help(type) for accurate signature.\n",
      "\n"
     ]
    }
   ],
   "source": [
    "help(map)"
   ]
  },
  {
   "cell_type": "code",
   "execution_count": 44,
   "id": "48df6eac-4558-4db3-9de7-1c70b2327d91",
   "metadata": {},
   "outputs": [],
   "source": [
    "l = [1, 2, 3, 4, 5]"
   ]
  },
  {
   "cell_type": "code",
   "execution_count": 45,
   "id": "6bc51efe-68ce-4c45-850a-ae5aeedf6918",
   "metadata": {},
   "outputs": [
    {
     "data": {
      "text/plain": [
       "[1, 2, 3, 4, 5]"
      ]
     },
     "execution_count": 45,
     "metadata": {},
     "output_type": "execute_result"
    }
   ],
   "source": [
    "l"
   ]
  },
  {
   "cell_type": "code",
   "execution_count": 52,
   "id": "4048f84d-da5b-4d77-b326-da5baee48d4b",
   "metadata": {},
   "outputs": [],
   "source": [
    "def square(l):\n",
    "    sq = []\n",
    "    for i in l:\n",
    "        sq.append(i**2)\n",
    "    return sq    "
   ]
  },
  {
   "cell_type": "code",
   "execution_count": 54,
   "id": "f2a18807-cc7d-4b39-bd29-02a560ae9977",
   "metadata": {},
   "outputs": [
    {
     "data": {
      "text/plain": [
       "[1, 4, 9, 16, 25]"
      ]
     },
     "execution_count": 54,
     "metadata": {},
     "output_type": "execute_result"
    }
   ],
   "source": [
    "square(l)"
   ]
  },
  {
   "cell_type": "code",
   "execution_count": 55,
   "id": "d219b2e1-430e-4814-8883-f3618a9117fa",
   "metadata": {},
   "outputs": [],
   "source": [
    "def sq(x):\n",
    "    return x**2"
   ]
  },
  {
   "cell_type": "code",
   "execution_count": 58,
   "id": "7f49ccc4-80c5-44f5-bfd5-b34c6bbef5a5",
   "metadata": {},
   "outputs": [
    {
     "data": {
      "text/plain": [
       "[1, 4, 9, 16, 25]"
      ]
     },
     "execution_count": 58,
     "metadata": {},
     "output_type": "execute_result"
    }
   ],
   "source": [
    "list(map(sq, l)) # map will map the function sq to each of the element in list l"
   ]
  },
  {
   "cell_type": "code",
   "execution_count": 59,
   "id": "6e5dc927-1a03-45d5-b9ea-850050fcc3ab",
   "metadata": {},
   "outputs": [
    {
     "data": {
      "text/plain": [
       "[1, 4, 9, 16, 25]"
      ]
     },
     "execution_count": 59,
     "metadata": {},
     "output_type": "execute_result"
    }
   ],
   "source": [
    "#lambda function \n",
    "list(map(lambda x: x**2, l))"
   ]
  },
  {
   "cell_type": "code",
   "execution_count": 61,
   "id": "108dd299-6944-4d54-a06e-db5b2f8129ac",
   "metadata": {},
   "outputs": [
    {
     "data": {
      "text/plain": [
       "[11, 12, 13, 14, 15]"
      ]
     },
     "execution_count": 61,
     "metadata": {},
     "output_type": "execute_result"
    }
   ],
   "source": [
    "#write a map function which adds 10 to every no of list \n",
    "list(map(lambda x: x+10, l))"
   ]
  },
  {
   "cell_type": "code",
   "execution_count": 63,
   "id": "32a94e33-1de0-4420-acb9-14c3753f2060",
   "metadata": {},
   "outputs": [
    {
     "data": {
      "text/plain": [
       "[1, 4, 9, 16, 25]"
      ]
     },
     "execution_count": 63,
     "metadata": {},
     "output_type": "execute_result"
    }
   ],
   "source": [
    "a = lambda x: x**2\n",
    "list(map(a,l))"
   ]
  },
  {
   "cell_type": "code",
   "execution_count": 67,
   "id": "05659656-2238-458e-bd2f-fa4992db0320",
   "metadata": {},
   "outputs": [
    {
     "data": {
      "text/plain": [
       "[1, 2, 3, 100]"
      ]
     },
     "execution_count": 67,
     "metadata": {},
     "output_type": "execute_result"
    }
   ],
   "source": [
    "l = [\"1\", \"2\", \"3\", \"100\"]\n",
    "list(map(lambda x: int(x), l))"
   ]
  },
  {
   "cell_type": "code",
   "execution_count": 68,
   "id": "d8bbf2b0-f74b-412c-8080-be0e894c2f81",
   "metadata": {},
   "outputs": [
    {
     "data": {
      "text/plain": [
       "[4, 3, 2, 2]"
      ]
     },
     "execution_count": 68,
     "metadata": {},
     "output_type": "execute_result"
    }
   ],
   "source": [
    "grades = [\"A\", \"B\", \"C\", \"D\"] #convert grades into cgpa, A>4, B>3 and 2 \n",
    "list(map(lambda grade: 4 if grade == \"A\" else(3 if grade == \"B\" else 2), grades))"
   ]
  },
  {
   "cell_type": "code",
   "execution_count": 1,
   "id": "23f0d21d-f3c7-4c9c-85d3-0418e825e211",
   "metadata": {},
   "outputs": [],
   "source": [
    "#reduce >> folding/reduction \n",
    "\n",
    "from functools import reduce \n",
    "l = [2,1,3,4,5,6]\n"
   ]
  },
  {
   "cell_type": "code",
   "execution_count": 2,
   "id": "bd54f888-5620-407f-9ace-b1f1778dd026",
   "metadata": {},
   "outputs": [
    {
     "data": {
      "text/plain": [
       "21"
      ]
     },
     "execution_count": 2,
     "metadata": {},
     "output_type": "execute_result"
    }
   ],
   "source": [
    "reduce(lambda x, y: x+y, l)"
   ]
  },
  {
   "cell_type": "code",
   "execution_count": 3,
   "id": "41ac21f9-ebe8-4c03-aafd-caae8618d0a6",
   "metadata": {},
   "outputs": [
    {
     "ename": "TypeError",
     "evalue": "<lambda>() missing 1 required positional argument: 'z'",
     "output_type": "error",
     "traceback": [
      "\u001b[0;31m---------------------------------------------------------------------------\u001b[0m",
      "\u001b[0;31mTypeError\u001b[0m                                 Traceback (most recent call last)",
      "Cell \u001b[0;32mIn[3], line 1\u001b[0m\n\u001b[0;32m----> 1\u001b[0m \u001b[43mreduce\u001b[49m\u001b[43m(\u001b[49m\u001b[38;5;28;43;01mlambda\u001b[39;49;00m\u001b[43m \u001b[49m\u001b[43mx\u001b[49m\u001b[43m,\u001b[49m\u001b[43m \u001b[49m\u001b[43my\u001b[49m\u001b[43m,\u001b[49m\u001b[43mz\u001b[49m\u001b[43m:\u001b[49m\u001b[43m \u001b[49m\u001b[43mx\u001b[49m\u001b[38;5;241;43m+\u001b[39;49m\u001b[43my\u001b[49m\u001b[43m,\u001b[49m\u001b[43m \u001b[49m\u001b[43ml\u001b[49m\u001b[43m)\u001b[49m\n",
      "\u001b[0;31mTypeError\u001b[0m: <lambda>() missing 1 required positional argument: 'z'"
     ]
    }
   ],
   "source": [
    "reduce(lambda x, y,z: x+y, l)"
   ]
  },
  {
   "cell_type": "code",
   "execution_count": 4,
   "id": "46e69d7f-c6f0-4de8-988e-13eff9784848",
   "metadata": {},
   "outputs": [
    {
     "data": {
      "text/plain": [
       "200"
      ]
     },
     "execution_count": 4,
     "metadata": {},
     "output_type": "execute_result"
    }
   ],
   "source": [
    "numbers = [1, 2, 100, 5, 6, 8, 7, 200, 101, 3]\n",
    "reduce(lambda x,y: x if x>y else y, numbers)"
   ]
  },
  {
   "cell_type": "code",
   "execution_count": 5,
   "id": "21d3bafa-a129-4230-89af-420b37b108fa",
   "metadata": {},
   "outputs": [
    {
     "data": {
      "text/plain": [
       "20361600000"
      ]
     },
     "execution_count": 5,
     "metadata": {},
     "output_type": "execute_result"
    }
   ],
   "source": [
    "reduce(lambda x,y: x*y, numbers)"
   ]
  },
  {
   "cell_type": "code",
   "execution_count": 7,
   "id": "4d27382e-322b-4b56-8916-83b57b15a2d9",
   "metadata": {},
   "outputs": [
    {
     "data": {
      "text/plain": [
       "24"
      ]
     },
     "execution_count": 7,
     "metadata": {},
     "output_type": "execute_result"
    }
   ],
   "source": [
    "#a function to get factorial using reduce \n",
    "reduce(lambda x,y: x*y, range(1,5))"
   ]
  },
  {
   "cell_type": "code",
   "execution_count": 8,
   "id": "ca81b15b-adc9-45bf-9b1b-9824319bf334",
   "metadata": {},
   "outputs": [],
   "source": [
    "def factorial(n):\n",
    "    return reduce(lambda x, y: x*y, range(1,n+1))"
   ]
  },
  {
   "cell_type": "code",
   "execution_count": 9,
   "id": "2a090431-c052-405b-9836-3df40d133ec2",
   "metadata": {},
   "outputs": [
    {
     "data": {
      "text/plain": [
       "3628800"
      ]
     },
     "execution_count": 9,
     "metadata": {},
     "output_type": "execute_result"
    }
   ],
   "source": [
    "factorial(10)"
   ]
  },
  {
   "cell_type": "code",
   "execution_count": 10,
   "id": "c7ea0bf7-188e-41a8-b2c7-6cf084631a6b",
   "metadata": {},
   "outputs": [],
   "source": [
    "#filter >> is used to filter elements from iterable\n",
    "#Syntax : filter(function, iterable)"
   ]
  },
  {
   "cell_type": "code",
   "execution_count": 11,
   "id": "6152ec92-4cc5-44d2-b91b-6ec3a91002e0",
   "metadata": {},
   "outputs": [
    {
     "data": {
      "text/plain": [
       "[2, 1, 3, 4, 5, 6]"
      ]
     },
     "execution_count": 11,
     "metadata": {},
     "output_type": "execute_result"
    }
   ],
   "source": [
    "l"
   ]
  },
  {
   "cell_type": "code",
   "execution_count": 12,
   "id": "f9a8d5a1-8030-4c79-8ab8-a66b652035ae",
   "metadata": {},
   "outputs": [
    {
     "ename": "TypeError",
     "evalue": "'int' object is not iterable",
     "output_type": "error",
     "traceback": [
      "\u001b[0;31m---------------------------------------------------------------------------\u001b[0m",
      "\u001b[0;31mTypeError\u001b[0m                                 Traceback (most recent call last)",
      "Cell \u001b[0;32mIn[12], line 1\u001b[0m\n\u001b[0;32m----> 1\u001b[0m \u001b[38;5;28mlist\u001b[39m(\u001b[38;5;28;43mfilter\u001b[39;49m\u001b[43m(\u001b[49m\u001b[38;5;28;43;01mlambda\u001b[39;49;00m\u001b[43m \u001b[49m\u001b[43mx\u001b[49m\u001b[43m:\u001b[49m\u001b[43m \u001b[49m\u001b[43mx\u001b[49m\u001b[38;5;241;43m%\u001b[39;49m\u001b[38;5;241;43m2\u001b[39;49m\u001b[43m \u001b[49m\u001b[38;5;241;43m==\u001b[39;49m\u001b[43m \u001b[49m\u001b[38;5;241;43m0\u001b[39;49m\u001b[43m,\u001b[49m\u001b[43m \u001b[49m\u001b[38;5;241;43m1\u001b[39;49m\u001b[43m)\u001b[49m)\n",
      "\u001b[0;31mTypeError\u001b[0m: 'int' object is not iterable"
     ]
    }
   ],
   "source": [
    "list(filter(lambda x: x%2 == 0, 1))"
   ]
  },
  {
   "cell_type": "code",
   "execution_count": null,
   "id": "f0a63fed-55d5-41dc-a94f-dbe2149fabe9",
   "metadata": {},
   "outputs": [],
   "source": []
  }
 ],
 "metadata": {
  "kernelspec": {
   "display_name": "Python 3 (ipykernel)",
   "language": "python",
   "name": "python3"
  },
  "language_info": {
   "codemirror_mode": {
    "name": "ipython",
    "version": 3
   },
   "file_extension": ".py",
   "mimetype": "text/x-python",
   "name": "python",
   "nbconvert_exporter": "python",
   "pygments_lexer": "ipython3",
   "version": "3.10.8"
  }
 },
 "nbformat": 4,
 "nbformat_minor": 5
}
