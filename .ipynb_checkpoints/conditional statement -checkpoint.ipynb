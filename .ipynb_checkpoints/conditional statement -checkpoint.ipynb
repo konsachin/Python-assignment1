{
 "cells": [
  {
   "cell_type": "code",
   "execution_count": 1,
   "id": "090f8637-b9e7-408b-881c-b2962e05dd08",
   "metadata": {},
   "outputs": [],
   "source": [
    "# conditional statement \n"
   ]
  },
  {
   "cell_type": "code",
   "execution_count": 2,
   "id": "ca922787-3f04-4a57-af45-cd704ad0fd51",
   "metadata": {},
   "outputs": [],
   "source": [
    "# 1) if Condition\n",
    "# 2) if else \n",
    "# 3) if elif else \n",
    "# 4) nested if else "
   ]
  },
  {
   "cell_type": "code",
   "execution_count": 3,
   "id": "c756dfde-d7d9-4a2b-bdd3-185a105001f9",
   "metadata": {},
   "outputs": [],
   "source": [
    "# if conditions\n",
    "#if condtions true;\n",
    "    #executed this block of code "
   ]
  },
  {
   "cell_type": "code",
   "execution_count": 5,
   "id": "aaee0209-577e-4ace-b2a9-cbbe114ad60d",
   "metadata": {},
   "outputs": [
    {
     "data": {
      "text/plain": [
       "True"
      ]
     },
     "execution_count": 5,
     "metadata": {},
     "output_type": "execute_result"
    }
   ],
   "source": [
    "5==5"
   ]
  },
  {
   "cell_type": "code",
   "execution_count": 6,
   "id": "1de4ab0a-b8bc-4545-b915-d40fe555a79e",
   "metadata": {},
   "outputs": [
    {
     "data": {
      "text/plain": [
       "False"
      ]
     },
     "execution_count": 6,
     "metadata": {},
     "output_type": "execute_result"
    }
   ],
   "source": [
    "3>4"
   ]
  },
  {
   "cell_type": "code",
   "execution_count": 9,
   "id": "8dd4f8bc-d35c-4300-8af8-eeca9e32ffab",
   "metadata": {},
   "outputs": [
    {
     "name": "stdout",
     "output_type": "stream",
     "text": [
      " a is greater than 100\n"
     ]
    }
   ],
   "source": [
    "a = 200\n",
    "if a > 100: #to execute the block of code if the condition is true \n",
    "    print(\" a is greater than 100\")\n",
    "    "
   ]
  },
  {
   "cell_type": "code",
   "execution_count": 10,
   "id": "7890554e-edf4-4693-8b76-9f16fa38bc79",
   "metadata": {},
   "outputs": [
    {
     "name": "stdout",
     "output_type": "stream",
     "text": [
      "i will not play cricket\n"
     ]
    }
   ],
   "source": [
    "weather = \"rainy\"\n",
    "if weather == \"rainy\":\n",
    "    print(\"i will not play cricket\")"
   ]
  },
  {
   "cell_type": "code",
   "execution_count": 11,
   "id": "964c8a06-f757-40dc-b296-51acc707ba86",
   "metadata": {},
   "outputs": [],
   "source": [
    "# conditional statements are used to code decision"
   ]
  },
  {
   "cell_type": "code",
   "execution_count": 21,
   "id": "1d5a45f0-3c4b-4908-8bea-b07fe7d8cdbe",
   "metadata": {},
   "outputs": [
    {
     "name": "stdout",
     "output_type": "stream",
     "text": [
      "this is a room temp\n"
     ]
    }
   ],
   "source": [
    "temp = 25 \n",
    "if temp == 25:\n",
    "    print(\"this is a room temp\")"
   ]
  },
  {
   "cell_type": "code",
   "execution_count": 20,
   "id": "3755df93-75a0-4d66-b874-20920b7e3fa1",
   "metadata": {},
   "outputs": [
    {
     "name": "stdout",
     "output_type": "stream",
     "text": [
      "i am studing in pwskills\n"
     ]
    }
   ],
   "source": [
    "is_ds_course = True\n",
    "if is_ds_course:\n",
    "    print(\"i am studing in pwskills\")"
   ]
  },
  {
   "cell_type": "code",
   "execution_count": 24,
   "id": "593c3648-56c8-46e8-8508-39cb3d7a32bd",
   "metadata": {},
   "outputs": [
    {
     "name": "stdout",
     "output_type": "stream",
     "text": [
      "its a positive no\n"
     ]
    }
   ],
   "source": [
    "num = 2\n",
    "if num > 0:\n",
    "    print(\"its a positive no\")"
   ]
  },
  {
   "cell_type": "code",
   "execution_count": 25,
   "id": "c766db8b-aa09-4504-bf2f-5f3edcdd8575",
   "metadata": {},
   "outputs": [
    {
     "name": "stdout",
     "output_type": "stream",
     "text": [
      "this person is ultra richf\n"
     ]
    }
   ],
   "source": [
    "salary = 100000\n",
    "if salary > 10000:\n",
    "    print(\"this person is ultra richf\")"
   ]
  },
  {
   "cell_type": "code",
   "execution_count": 27,
   "id": "97da2f4b-42ed-4d12-a62f-3cb20d0402a1",
   "metadata": {},
   "outputs": [
    {
     "name": "stdout",
     "output_type": "stream",
     "text": [
      "I will watch a movie\n"
     ]
    }
   ],
   "source": [
    "# if-else \n",
    "\n",
    "is_ds_course = False\n",
    "if is_ds_course:\n",
    "    print(\"i am studing in pwskills and watching the lecture\")\n",
    "else:\n",
    "    print(\"I will watch a movie\")\n",
    "    \n",
    "    "
   ]
  },
  {
   "cell_type": "code",
   "execution_count": 30,
   "id": "966f3197-8f5d-40aa-ba4d-9f9b810ae245",
   "metadata": {},
   "outputs": [
    {
     "name": "stdout",
     "output_type": "stream",
     "text": [
      "x is less than equals 5\n"
     ]
    }
   ],
   "source": [
    "x = 1\n",
    "if x > 5:\n",
    "    print(\"x is greater than 5\")\n",
    "else:\n",
    "    print(\"x is less than equals 5\")"
   ]
  },
  {
   "cell_type": "code",
   "execution_count": 31,
   "id": "0256e778-f0e2-468c-8dc8-a0e28061029b",
   "metadata": {},
   "outputs": [
    {
     "name": "stdout",
     "output_type": "stream",
     "text": [
      "go to a home and be a responsible citizen\n"
     ]
    }
   ],
   "source": [
    "age = 17 \n",
    "if age >=21:\n",
    "    print(\"you are allowed to enter the bar and get served\")\n",
    "else:\n",
    "    print(\"go to a home and be a responsible citizen\")\n",
    "    "
   ]
  },
  {
   "cell_type": "code",
   "execution_count": 32,
   "id": "84c9cd3d-860b-48c0-aca5-12d6247ad29d",
   "metadata": {},
   "outputs": [
    {
     "data": {
      "text/plain": [
       "0"
      ]
     },
     "execution_count": 32,
     "metadata": {},
     "output_type": "execute_result"
    }
   ],
   "source": [
    "# to check if a no is even \n",
    "\n",
    "6 % 2 "
   ]
  },
  {
   "cell_type": "code",
   "execution_count": 34,
   "id": "06794c93-2e95-4ae2-a597-aab1e1550076",
   "metadata": {},
   "outputs": [
    {
     "name": "stdout",
     "output_type": "stream",
     "text": [
      "even\n"
     ]
    }
   ],
   "source": [
    "num = 8\n",
    "if num % 2 == 0:\n",
    "    print(\"even\")\n",
    "else:\n",
    "    print(\"odd\")"
   ]
  },
  {
   "cell_type": "code",
   "execution_count": 35,
   "id": "336b9d92-47c6-4a42-a96a-0a7b2e45d67c",
   "metadata": {},
   "outputs": [
    {
     "name": "stdout",
     "output_type": "stream",
     "text": [
      "pass\n"
     ]
    }
   ],
   "source": [
    "score = 70 \n",
    "if score >= 33:\n",
    "    print(\"pass\")\n",
    "else:\n",
    "    print(\"repeat the class\")"
   ]
  },
  {
   "cell_type": "code",
   "execution_count": 40,
   "id": "aa76bef2-5667-4625-8ce6-1a220bb3388c",
   "metadata": {},
   "outputs": [
    {
     "name": "stdout",
     "output_type": "stream",
     "text": [
      "equals to 100\n"
     ]
    }
   ],
   "source": [
    "#if -elif -else \n",
    "\n",
    "a = 100\n",
    "if a > 100:\n",
    "    print(\"no is greater than 100\")\n",
    "elif a < 100:\n",
    "    print(\"the no is less than 100\")\n",
    "else: \n",
    "    print(\"equals to 100\")\n"
   ]
  },
  {
   "cell_type": "code",
   "execution_count": 43,
   "id": "c424e6c3-d25d-4b51-9011-b6b616bbf5db",
   "metadata": {},
   "outputs": [
    {
     "name": "stdout",
     "output_type": "stream",
     "text": [
      "you are fail\n"
     ]
    }
   ],
   "source": [
    "score = 50\n",
    "if score >= 90:\n",
    "    print(\"the grade is A+\")\n",
    "elif 80<=score<90:\n",
    "    print(\"the grade is A\")\n",
    "elif 70<=score<80:\n",
    "    print(\"the grade is B+\")\n",
    "elif 60<=score<70:\n",
    "    print(\"the grade is B\")\n",
    "else:\n",
    "    print(\"you are fail\")"
   ]
  },
  {
   "cell_type": "code",
   "execution_count": null,
   "id": "584da33c-2f2b-4cee-ad41-f5f4ea4cef7b",
   "metadata": {},
   "outputs": [],
   "source": []
  }
 ],
 "metadata": {
  "kernelspec": {
   "display_name": "Python 3 (ipykernel)",
   "language": "python",
   "name": "python3"
  },
  "language_info": {
   "codemirror_mode": {
    "name": "ipython",
    "version": 3
   },
   "file_extension": ".py",
   "mimetype": "text/x-python",
   "name": "python",
   "nbconvert_exporter": "python",
   "pygments_lexer": "ipython3",
   "version": "3.10.8"
  }
 },
 "nbformat": 4,
 "nbformat_minor": 5
}
