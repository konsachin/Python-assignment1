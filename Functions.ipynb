{
 "cells": [
  {
   "cell_type": "code",
   "execution_count": 1,
   "id": "fe7c8c4a-0869-4812-a12d-47f6270e93dd",
   "metadata": {},
   "outputs": [
    {
     "name": "stdout",
     "output_type": "stream",
     "text": [
      "hello world\n"
     ]
    }
   ],
   "source": [
    "print(\"hello world\")"
   ]
  },
  {
   "cell_type": "code",
   "execution_count": 2,
   "id": "4b18ceec-0041-4957-9295-89f0a58f6f1e",
   "metadata": {},
   "outputs": [
    {
     "data": {
      "text/plain": [
       "5"
      ]
     },
     "execution_count": 2,
     "metadata": {},
     "output_type": "execute_result"
    }
   ],
   "source": [
    "len(\"hello\")"
   ]
  },
  {
   "cell_type": "code",
   "execution_count": 3,
   "id": "b17ee221-4c62-4eca-b795-4032a3266a4d",
   "metadata": {},
   "outputs": [
    {
     "data": {
      "text/plain": [
       "int"
      ]
     },
     "execution_count": 3,
     "metadata": {},
     "output_type": "execute_result"
    }
   ],
   "source": [
    "type(5)"
   ]
  },
  {
   "cell_type": "code",
   "execution_count": 4,
   "id": "979d2e77-cc2b-45b8-af12-05cc33c7d279",
   "metadata": {},
   "outputs": [],
   "source": [
    "#inbuilt functions of python >> print, len, type\n",
    "#keep your code neat, clean, organised , reusable, saves the time "
   ]
  },
  {
   "cell_type": "code",
   "execution_count": 5,
   "id": "4081bcdb-39f7-4b0d-bcc8-1c49589cd405",
   "metadata": {},
   "outputs": [],
   "source": [
    "#function >> it is a block of code that performs some specific computation and it can be"
   ]
  },
  {
   "cell_type": "code",
   "execution_count": 6,
   "id": "a8c6abdd-7e8f-46c5-8ee5-b887e155fe57",
   "metadata": {},
   "outputs": [],
   "source": [
    "#inbuilt >> print, len, type\n",
    "#user define"
   ]
  },
  {
   "cell_type": "code",
   "execution_count": 7,
   "id": "ce897fbd-6f7f-44a7-9dca-9e22a4b918d6",
   "metadata": {},
   "outputs": [
    {
     "data": {
      "text/plain": [
       "2"
      ]
     },
     "execution_count": 7,
     "metadata": {},
     "output_type": "execute_result"
    }
   ],
   "source": [
    "int(2.5)"
   ]
  },
  {
   "cell_type": "code",
   "execution_count": 8,
   "id": "1286be44-75c9-4967-a4d9-d5a8c58a245c",
   "metadata": {},
   "outputs": [
    {
     "data": {
      "text/plain": [
       "7"
      ]
     },
     "execution_count": 8,
     "metadata": {},
     "output_type": "execute_result"
    }
   ],
   "source": [
    "import math as m \n",
    "m.ceil(6.5)"
   ]
  },
  {
   "cell_type": "code",
   "execution_count": 9,
   "id": "c2f4e4ce-377e-48ee-8ffd-6f79ac3ca677",
   "metadata": {},
   "outputs": [
    {
     "data": {
      "text/plain": [
       "6"
      ]
     },
     "execution_count": 9,
     "metadata": {},
     "output_type": "execute_result"
    }
   ],
   "source": [
    "m.floor(6.5)"
   ]
  },
  {
   "cell_type": "code",
   "execution_count": 10,
   "id": "c9436234-35a8-481b-9108-cbdef856fc2d",
   "metadata": {},
   "outputs": [
    {
     "name": "stdout",
     "output_type": "stream",
     "text": [
      "Help on module math:\n",
      "\n",
      "NAME\n",
      "    math\n",
      "\n",
      "MODULE REFERENCE\n",
      "    https://docs.python.org/3.10/library/math.html\n",
      "    \n",
      "    The following documentation is automatically generated from the Python\n",
      "    source files.  It may be incomplete, incorrect or include features that\n",
      "    are considered implementation detail and may vary between Python\n",
      "    implementations.  When in doubt, consult the module reference at the\n",
      "    location listed above.\n",
      "\n",
      "DESCRIPTION\n",
      "    This module provides access to the mathematical functions\n",
      "    defined by the C standard.\n",
      "\n",
      "FUNCTIONS\n",
      "    acos(x, /)\n",
      "        Return the arc cosine (measured in radians) of x.\n",
      "        \n",
      "        The result is between 0 and pi.\n",
      "    \n",
      "    acosh(x, /)\n",
      "        Return the inverse hyperbolic cosine of x.\n",
      "    \n",
      "    asin(x, /)\n",
      "        Return the arc sine (measured in radians) of x.\n",
      "        \n",
      "        The result is between -pi/2 and pi/2.\n",
      "    \n",
      "    asinh(x, /)\n",
      "        Return the inverse hyperbolic sine of x.\n",
      "    \n",
      "    atan(x, /)\n",
      "        Return the arc tangent (measured in radians) of x.\n",
      "        \n",
      "        The result is between -pi/2 and pi/2.\n",
      "    \n",
      "    atan2(y, x, /)\n",
      "        Return the arc tangent (measured in radians) of y/x.\n",
      "        \n",
      "        Unlike atan(y/x), the signs of both x and y are considered.\n",
      "    \n",
      "    atanh(x, /)\n",
      "        Return the inverse hyperbolic tangent of x.\n",
      "    \n",
      "    ceil(x, /)\n",
      "        Return the ceiling of x as an Integral.\n",
      "        \n",
      "        This is the smallest integer >= x.\n",
      "    \n",
      "    comb(n, k, /)\n",
      "        Number of ways to choose k items from n items without repetition and without order.\n",
      "        \n",
      "        Evaluates to n! / (k! * (n - k)!) when k <= n and evaluates\n",
      "        to zero when k > n.\n",
      "        \n",
      "        Also called the binomial coefficient because it is equivalent\n",
      "        to the coefficient of k-th term in polynomial expansion of the\n",
      "        expression (1 + x)**n.\n",
      "        \n",
      "        Raises TypeError if either of the arguments are not integers.\n",
      "        Raises ValueError if either of the arguments are negative.\n",
      "    \n",
      "    copysign(x, y, /)\n",
      "        Return a float with the magnitude (absolute value) of x but the sign of y.\n",
      "        \n",
      "        On platforms that support signed zeros, copysign(1.0, -0.0)\n",
      "        returns -1.0.\n",
      "    \n",
      "    cos(x, /)\n",
      "        Return the cosine of x (measured in radians).\n",
      "    \n",
      "    cosh(x, /)\n",
      "        Return the hyperbolic cosine of x.\n",
      "    \n",
      "    degrees(x, /)\n",
      "        Convert angle x from radians to degrees.\n",
      "    \n",
      "    dist(p, q, /)\n",
      "        Return the Euclidean distance between two points p and q.\n",
      "        \n",
      "        The points should be specified as sequences (or iterables) of\n",
      "        coordinates.  Both inputs must have the same dimension.\n",
      "        \n",
      "        Roughly equivalent to:\n",
      "            sqrt(sum((px - qx) ** 2.0 for px, qx in zip(p, q)))\n",
      "    \n",
      "    erf(x, /)\n",
      "        Error function at x.\n",
      "    \n",
      "    erfc(x, /)\n",
      "        Complementary error function at x.\n",
      "    \n",
      "    exp(x, /)\n",
      "        Return e raised to the power of x.\n",
      "    \n",
      "    expm1(x, /)\n",
      "        Return exp(x)-1.\n",
      "        \n",
      "        This function avoids the loss of precision involved in the direct evaluation of exp(x)-1 for small x.\n",
      "    \n",
      "    fabs(x, /)\n",
      "        Return the absolute value of the float x.\n",
      "    \n",
      "    factorial(x, /)\n",
      "        Find x!.\n",
      "        \n",
      "        Raise a ValueError if x is negative or non-integral.\n",
      "    \n",
      "    floor(x, /)\n",
      "        Return the floor of x as an Integral.\n",
      "        \n",
      "        This is the largest integer <= x.\n",
      "    \n",
      "    fmod(x, y, /)\n",
      "        Return fmod(x, y), according to platform C.\n",
      "        \n",
      "        x % y may differ.\n",
      "    \n",
      "    frexp(x, /)\n",
      "        Return the mantissa and exponent of x, as pair (m, e).\n",
      "        \n",
      "        m is a float and e is an int, such that x = m * 2.**e.\n",
      "        If x is 0, m and e are both 0.  Else 0.5 <= abs(m) < 1.0.\n",
      "    \n",
      "    fsum(seq, /)\n",
      "        Return an accurate floating point sum of values in the iterable seq.\n",
      "        \n",
      "        Assumes IEEE-754 floating point arithmetic.\n",
      "    \n",
      "    gamma(x, /)\n",
      "        Gamma function at x.\n",
      "    \n",
      "    gcd(*integers)\n",
      "        Greatest Common Divisor.\n",
      "    \n",
      "    hypot(...)\n",
      "        hypot(*coordinates) -> value\n",
      "        \n",
      "        Multidimensional Euclidean distance from the origin to a point.\n",
      "        \n",
      "        Roughly equivalent to:\n",
      "            sqrt(sum(x**2 for x in coordinates))\n",
      "        \n",
      "        For a two dimensional point (x, y), gives the hypotenuse\n",
      "        using the Pythagorean theorem:  sqrt(x*x + y*y).\n",
      "        \n",
      "        For example, the hypotenuse of a 3/4/5 right triangle is:\n",
      "        \n",
      "            >>> hypot(3.0, 4.0)\n",
      "            5.0\n",
      "    \n",
      "    isclose(a, b, *, rel_tol=1e-09, abs_tol=0.0)\n",
      "        Determine whether two floating point numbers are close in value.\n",
      "        \n",
      "          rel_tol\n",
      "            maximum difference for being considered \"close\", relative to the\n",
      "            magnitude of the input values\n",
      "          abs_tol\n",
      "            maximum difference for being considered \"close\", regardless of the\n",
      "            magnitude of the input values\n",
      "        \n",
      "        Return True if a is close in value to b, and False otherwise.\n",
      "        \n",
      "        For the values to be considered close, the difference between them\n",
      "        must be smaller than at least one of the tolerances.\n",
      "        \n",
      "        -inf, inf and NaN behave similarly to the IEEE 754 Standard.  That\n",
      "        is, NaN is not close to anything, even itself.  inf and -inf are\n",
      "        only close to themselves.\n",
      "    \n",
      "    isfinite(x, /)\n",
      "        Return True if x is neither an infinity nor a NaN, and False otherwise.\n",
      "    \n",
      "    isinf(x, /)\n",
      "        Return True if x is a positive or negative infinity, and False otherwise.\n",
      "    \n",
      "    isnan(x, /)\n",
      "        Return True if x is a NaN (not a number), and False otherwise.\n",
      "    \n",
      "    isqrt(n, /)\n",
      "        Return the integer part of the square root of the input.\n",
      "    \n",
      "    lcm(*integers)\n",
      "        Least Common Multiple.\n",
      "    \n",
      "    ldexp(x, i, /)\n",
      "        Return x * (2**i).\n",
      "        \n",
      "        This is essentially the inverse of frexp().\n",
      "    \n",
      "    lgamma(x, /)\n",
      "        Natural logarithm of absolute value of Gamma function at x.\n",
      "    \n",
      "    log(...)\n",
      "        log(x, [base=math.e])\n",
      "        Return the logarithm of x to the given base.\n",
      "        \n",
      "        If the base not specified, returns the natural logarithm (base e) of x.\n",
      "    \n",
      "    log10(x, /)\n",
      "        Return the base 10 logarithm of x.\n",
      "    \n",
      "    log1p(x, /)\n",
      "        Return the natural logarithm of 1+x (base e).\n",
      "        \n",
      "        The result is computed in a way which is accurate for x near zero.\n",
      "    \n",
      "    log2(x, /)\n",
      "        Return the base 2 logarithm of x.\n",
      "    \n",
      "    modf(x, /)\n",
      "        Return the fractional and integer parts of x.\n",
      "        \n",
      "        Both results carry the sign of x and are floats.\n",
      "    \n",
      "    nextafter(x, y, /)\n",
      "        Return the next floating-point value after x towards y.\n",
      "    \n",
      "    perm(n, k=None, /)\n",
      "        Number of ways to choose k items from n items without repetition and with order.\n",
      "        \n",
      "        Evaluates to n! / (n - k)! when k <= n and evaluates\n",
      "        to zero when k > n.\n",
      "        \n",
      "        If k is not specified or is None, then k defaults to n\n",
      "        and the function returns n!.\n",
      "        \n",
      "        Raises TypeError if either of the arguments are not integers.\n",
      "        Raises ValueError if either of the arguments are negative.\n",
      "    \n",
      "    pow(x, y, /)\n",
      "        Return x**y (x to the power of y).\n",
      "    \n",
      "    prod(iterable, /, *, start=1)\n",
      "        Calculate the product of all the elements in the input iterable.\n",
      "        \n",
      "        The default start value for the product is 1.\n",
      "        \n",
      "        When the iterable is empty, return the start value.  This function is\n",
      "        intended specifically for use with numeric values and may reject\n",
      "        non-numeric types.\n",
      "    \n",
      "    radians(x, /)\n",
      "        Convert angle x from degrees to radians.\n",
      "    \n",
      "    remainder(x, y, /)\n",
      "        Difference between x and the closest integer multiple of y.\n",
      "        \n",
      "        Return x - n*y where n*y is the closest integer multiple of y.\n",
      "        In the case where x is exactly halfway between two multiples of\n",
      "        y, the nearest even value of n is used. The result is always exact.\n",
      "    \n",
      "    sin(x, /)\n",
      "        Return the sine of x (measured in radians).\n",
      "    \n",
      "    sinh(x, /)\n",
      "        Return the hyperbolic sine of x.\n",
      "    \n",
      "    sqrt(x, /)\n",
      "        Return the square root of x.\n",
      "    \n",
      "    tan(x, /)\n",
      "        Return the tangent of x (measured in radians).\n",
      "    \n",
      "    tanh(x, /)\n",
      "        Return the hyperbolic tangent of x.\n",
      "    \n",
      "    trunc(x, /)\n",
      "        Truncates the Real x to the nearest Integral toward 0.\n",
      "        \n",
      "        Uses the __trunc__ magic method.\n",
      "    \n",
      "    ulp(x, /)\n",
      "        Return the value of the least significant bit of the float x.\n",
      "\n",
      "DATA\n",
      "    e = 2.718281828459045\n",
      "    inf = inf\n",
      "    nan = nan\n",
      "    pi = 3.141592653589793\n",
      "    tau = 6.283185307179586\n",
      "\n",
      "FILE\n",
      "    /opt/conda/lib/python3.10/lib-dynload/math.cpython-310-x86_64-linux-gnu.so\n",
      "\n",
      "\n"
     ]
    }
   ],
   "source": [
    "help(m)"
   ]
  },
  {
   "cell_type": "code",
   "execution_count": 11,
   "id": "89560d3e-38c8-4f00-9bef-391f73246f35",
   "metadata": {},
   "outputs": [],
   "source": [
    "#syntax of function \n",
    "#def func():\n",
    "    #do something \n",
    "    #do something "
   ]
  },
  {
   "cell_type": "code",
   "execution_count": 12,
   "id": "249ff5ac-5131-4e58-bcc5-f20d7217dd67",
   "metadata": {},
   "outputs": [
    {
     "name": "stdout",
     "output_type": "stream",
     "text": [
      "welcome to class Rahul\n",
      "welcome to class sam\n",
      "welcome to class gaytri\n"
     ]
    }
   ],
   "source": [
    "print(\"welcome to class Rahul\")\n",
    "print(\"welcome to class sam\")\n",
    "print(\"welcome to class gaytri\")"
   ]
  },
  {
   "cell_type": "code",
   "execution_count": 13,
   "id": "9d659153-ce76-4687-985a-54b077836134",
   "metadata": {},
   "outputs": [],
   "source": [
    "def greeting(name):\n",
    "    print(\"welcome to the class\", name)"
   ]
  },
  {
   "cell_type": "code",
   "execution_count": 14,
   "id": "0b0e8bf6-b7b8-4fc6-9970-7a9c5d41d14e",
   "metadata": {},
   "outputs": [
    {
     "name": "stdout",
     "output_type": "stream",
     "text": [
      "welcome to the class Ajay\n"
     ]
    }
   ],
   "source": [
    "greeting(\"Ajay\")"
   ]
  },
  {
   "cell_type": "code",
   "execution_count": 15,
   "id": "7f3017d5-044d-40e7-a2cd-f8eabc99ede9",
   "metadata": {},
   "outputs": [
    {
     "name": "stdout",
     "output_type": "stream",
     "text": [
      "welcome to the class sachin\n"
     ]
    }
   ],
   "source": [
    "greeting(\"sachin\")"
   ]
  },
  {
   "cell_type": "code",
   "execution_count": 16,
   "id": "a403ded8-e715-4599-b574-51285d39259c",
   "metadata": {},
   "outputs": [
    {
     "name": "stdout",
     "output_type": "stream",
     "text": [
      "welcome to the class wasim\n"
     ]
    }
   ],
   "source": [
    "greeting(\"wasim\")"
   ]
  },
  {
   "cell_type": "code",
   "execution_count": 17,
   "id": "1086f89f-258c-4f61-bb1d-1860fadded07",
   "metadata": {},
   "outputs": [],
   "source": [
    "def func():\n",
    "    print(\"this is my first function\")"
   ]
  },
  {
   "cell_type": "code",
   "execution_count": 19,
   "id": "34a803b3-2622-42fd-a48e-a567f3b8b82c",
   "metadata": {},
   "outputs": [
    {
     "name": "stdout",
     "output_type": "stream",
     "text": [
      "this is my first function\n"
     ]
    }
   ],
   "source": [
    "func()"
   ]
  },
  {
   "cell_type": "code",
   "execution_count": 20,
   "id": "25832c21-d218-41d1-b501-bdb46e0bb640",
   "metadata": {},
   "outputs": [],
   "source": [
    "def actor():\n",
    "    print(\"i am better than my fav actor\")"
   ]
  },
  {
   "cell_type": "code",
   "execution_count": 21,
   "id": "65fbec0c-12cd-459f-a421-5752db018c4d",
   "metadata": {},
   "outputs": [
    {
     "name": "stdout",
     "output_type": "stream",
     "text": [
      "i am better than my fav actor\n"
     ]
    }
   ],
   "source": [
    "actor()"
   ]
  },
  {
   "cell_type": "code",
   "execution_count": 24,
   "id": "273048b1-0ccd-49d3-bfbd-e5df28779a3d",
   "metadata": {},
   "outputs": [],
   "source": [
    "def actor(name):\n",
    "    print(\"i am better than\", name)"
   ]
  },
  {
   "cell_type": "code",
   "execution_count": 25,
   "id": "8dafcef0-0c87-405b-aa32-ab666d7bb6f6",
   "metadata": {},
   "outputs": [
    {
     "name": "stdout",
     "output_type": "stream",
     "text": [
      "i am better than srk\n"
     ]
    }
   ],
   "source": [
    "actor(\"srk\")"
   ]
  },
  {
   "cell_type": "code",
   "execution_count": 26,
   "id": "ea03a381-b86d-45ba-99e3-a2d6b7193388",
   "metadata": {},
   "outputs": [],
   "source": [
    "def func():\n",
    "    print(\"this is my first function\")"
   ]
  },
  {
   "cell_type": "code",
   "execution_count": 27,
   "id": "b0cfb1f3-4d84-4a17-bf91-e1c185220c1d",
   "metadata": {},
   "outputs": [
    {
     "name": "stdout",
     "output_type": "stream",
     "text": [
      "this is my first function\n"
     ]
    }
   ],
   "source": [
    "func() #calling of a function"
   ]
  },
  {
   "cell_type": "code",
   "execution_count": 28,
   "id": "c7ba0844-4b92-480f-9390-a8fdd95b2888",
   "metadata": {},
   "outputs": [
    {
     "data": {
      "text/plain": [
       "'this is my first functionin python'"
      ]
     },
     "execution_count": 28,
     "metadata": {},
     "output_type": "execute_result"
    }
   ],
   "source": [
    "\"this is my first function\" + \"in python\""
   ]
  },
  {
   "cell_type": "code",
   "execution_count": 31,
   "id": "b213b798-831c-4402-8bf6-37911367ae31",
   "metadata": {},
   "outputs": [
    {
     "name": "stdout",
     "output_type": "stream",
     "text": [
      "this is my first function\n"
     ]
    },
    {
     "ename": "TypeError",
     "evalue": "unsupported operand type(s) for +: 'NoneType' and 'str'",
     "output_type": "error",
     "traceback": [
      "\u001b[0;31m---------------------------------------------------------------------------\u001b[0m",
      "\u001b[0;31mTypeError\u001b[0m                                 Traceback (most recent call last)",
      "Cell \u001b[0;32mIn[31], line 1\u001b[0m\n\u001b[0;32m----> 1\u001b[0m \u001b[43mfunc\u001b[49m\u001b[43m(\u001b[49m\u001b[43m)\u001b[49m\u001b[43m \u001b[49m\u001b[38;5;241;43m+\u001b[39;49m\u001b[43m \u001b[49m\u001b[38;5;124;43m\"\u001b[39;49m\u001b[38;5;124;43m in python\u001b[39;49m\u001b[38;5;124;43m\"\u001b[39;49m\n",
      "\u001b[0;31mTypeError\u001b[0m: unsupported operand type(s) for +: 'NoneType' and 'str'"
     ]
    }
   ],
   "source": [
    "func() + \" in python\""
   ]
  },
  {
   "cell_type": "code",
   "execution_count": 33,
   "id": "db610b59-0d41-4092-bf6c-ef048ec5532b",
   "metadata": {},
   "outputs": [
    {
     "name": "stdout",
     "output_type": "stream",
     "text": [
      "this is my first function\n",
      "<class 'NoneType'>\n"
     ]
    }
   ],
   "source": [
    "# by default fun() return nonetype\n",
    "print(type(func()))"
   ]
  },
  {
   "cell_type": "code",
   "execution_count": 38,
   "id": "6861a49e-7442-497a-a4db-dfea78573241",
   "metadata": {},
   "outputs": [],
   "source": [
    "def func(name):\n",
    "     return f\"this is my first function {name}\""
   ]
  },
  {
   "cell_type": "code",
   "execution_count": 39,
   "id": "a12eb6f7-4a90-40e4-9350-9621e1a0bbf0",
   "metadata": {},
   "outputs": [
    {
     "data": {
      "text/plain": [
       "'this is my first function Ajayin python'"
      ]
     },
     "execution_count": 39,
     "metadata": {},
     "output_type": "execute_result"
    }
   ],
   "source": [
    "func(\"Ajay\") + \"in python\""
   ]
  },
  {
   "cell_type": "code",
   "execution_count": 1,
   "id": "93cadf95-d4aa-4b56-85bb-d880b4fba75c",
   "metadata": {},
   "outputs": [
    {
     "name": "stdout",
     "output_type": "stream",
     "text": [
      "hello world\n"
     ]
    }
   ],
   "source": [
    "print(\"hello world\")"
   ]
  },
  {
   "cell_type": "code",
   "execution_count": 2,
   "id": "20e11d16-c8d6-4b7c-b165-44493f755d0e",
   "metadata": {},
   "outputs": [],
   "source": [
    "def func():\n",
    "    print(\"this is my first function\")"
   ]
  },
  {
   "cell_type": "code",
   "execution_count": 3,
   "id": "c336b985-2b96-4d15-b249-8eaba63b1e40",
   "metadata": {},
   "outputs": [
    {
     "name": "stdout",
     "output_type": "stream",
     "text": [
      "this is my first function\n"
     ]
    }
   ],
   "source": [
    "func()"
   ]
  },
  {
   "cell_type": "code",
   "execution_count": 4,
   "id": "1d6ccda3-c2c3-4903-8fac-0c9fd0b7def7",
   "metadata": {},
   "outputs": [],
   "source": [
    "def func(args):\n",
    "    return args ** 2"
   ]
  },
  {
   "cell_type": "code",
   "execution_count": 5,
   "id": "fd6faebd-0a07-4bc4-8d6f-86386958a036",
   "metadata": {},
   "outputs": [
    {
     "data": {
      "text/plain": [
       "640000"
      ]
     },
     "execution_count": 5,
     "metadata": {},
     "output_type": "execute_result"
    }
   ],
   "source": [
    "func(800)"
   ]
  },
  {
   "cell_type": "code",
   "execution_count": 14,
   "id": "31e1bad6-6833-44df-ad1c-6c437650c514",
   "metadata": {},
   "outputs": [],
   "source": [
    "def func():\n",
    "    return 1,2,3, \"siya ram\", 3+5j\n",
    "a , b, c, d, e = func()"
   ]
  },
  {
   "cell_type": "code",
   "execution_count": 15,
   "id": "bb7f7375-207b-4404-89d1-635dc4ab2eee",
   "metadata": {},
   "outputs": [
    {
     "data": {
      "text/plain": [
       "1"
      ]
     },
     "execution_count": 15,
     "metadata": {},
     "output_type": "execute_result"
    }
   ],
   "source": [
    "a "
   ]
  },
  {
   "cell_type": "code",
   "execution_count": 16,
   "id": "a108328b-41a7-439b-84d0-1ecdaec10003",
   "metadata": {},
   "outputs": [
    {
     "data": {
      "text/plain": [
       "2"
      ]
     },
     "execution_count": 16,
     "metadata": {},
     "output_type": "execute_result"
    }
   ],
   "source": [
    "b"
   ]
  },
  {
   "cell_type": "code",
   "execution_count": 17,
   "id": "ce132b93-36bf-4946-a0ab-2e970a9f32b8",
   "metadata": {},
   "outputs": [
    {
     "data": {
      "text/plain": [
       "3"
      ]
     },
     "execution_count": 17,
     "metadata": {},
     "output_type": "execute_result"
    }
   ],
   "source": [
    "c"
   ]
  },
  {
   "cell_type": "code",
   "execution_count": 1,
   "id": "8b0c2eea-eae0-4784-8c62-21a245a1abdb",
   "metadata": {},
   "outputs": [],
   "source": [
    "#write a function to add two numbers \n",
    "\n",
    "def add(a , b):\n",
    "    return a+b \n"
   ]
  },
  {
   "cell_type": "code",
   "execution_count": 2,
   "id": "9967597d-9435-4504-b078-1a60ecc94aaa",
   "metadata": {},
   "outputs": [
    {
     "data": {
      "text/plain": [
       "13"
      ]
     },
     "execution_count": 2,
     "metadata": {},
     "output_type": "execute_result"
    }
   ],
   "source": [
    "add(6, 7)"
   ]
  },
  {
   "cell_type": "code",
   "execution_count": 6,
   "id": "9a21a26c-cfbc-470a-a5c4-58e1193699c4",
   "metadata": {},
   "outputs": [],
   "source": [
    "# write a function to square a number\n",
    "\n",
    "def square( a ):\n",
    "    return a** 2"
   ]
  },
  {
   "cell_type": "code",
   "execution_count": 8,
   "id": "d77cfc7f-665d-4fe8-9040-1292c85f9049",
   "metadata": {},
   "outputs": [
    {
     "data": {
      "text/plain": [
       "25"
      ]
     },
     "execution_count": 8,
     "metadata": {},
     "output_type": "execute_result"
    }
   ],
   "source": [
    "square(5 )"
   ]
  },
  {
   "cell_type": "code",
   "execution_count": 9,
   "id": "0cfa191f-87e7-4b3c-94a8-e1d7fe119906",
   "metadata": {},
   "outputs": [
    {
     "data": {
      "text/plain": [
       "'PWskills'"
      ]
     },
     "execution_count": 9,
     "metadata": {},
     "output_type": "execute_result"
    }
   ],
   "source": [
    "def add(a , b):\n",
    "    return a+b \n",
    "\n",
    "add (\"PW\", \"skills\")"
   ]
  },
  {
   "cell_type": "code",
   "execution_count": 10,
   "id": "2225dc05-289e-4392-ae21-50fac377d467",
   "metadata": {},
   "outputs": [
    {
     "data": {
      "text/plain": [
       "[1, 2, 3, 4, 5, 6]"
      ]
     },
     "execution_count": 10,
     "metadata": {},
     "output_type": "execute_result"
    }
   ],
   "source": [
    "add([1,2,3], [4,5,6])"
   ]
  },
  {
   "cell_type": "code",
   "execution_count": 11,
   "id": "903af6b6-0fb4-4a9d-9195-51208d6df255",
   "metadata": {},
   "outputs": [
    {
     "data": {
      "text/plain": [
       "'PWskills'"
      ]
     },
     "execution_count": 11,
     "metadata": {},
     "output_type": "execute_result"
    }
   ],
   "source": [
    "def add(a , b):  #by default a is first place and b is 2nd place \n",
    "    return a+b \n",
    "\n",
    "add (\"PW\", \"skills\")"
   ]
  },
  {
   "cell_type": "code",
   "execution_count": 15,
   "id": "a450a1c1-062d-4911-b95f-8a8871a8a5ef",
   "metadata": {},
   "outputs": [
    {
     "data": {
      "text/plain": [
       "'pwskills'"
      ]
     },
     "execution_count": 15,
     "metadata": {},
     "output_type": "execute_result"
    }
   ],
   "source": [
    "def add(a , b):  #by default a is first place and b is 2nd place \n",
    "    return a+b \n",
    "\n",
    "add ( b = \"skills\", a = \"pw\")"
   ]
  },
  {
   "cell_type": "code",
   "execution_count": 17,
   "id": "2c915f5c-737b-4c1d-bcd7-5d71a32377d5",
   "metadata": {},
   "outputs": [
    {
     "data": {
      "text/plain": [
       "2"
      ]
     },
     "execution_count": 17,
     "metadata": {},
     "output_type": "execute_result"
    }
   ],
   "source": [
    "def add(a , b=0):\n",
    "    return a+b \n",
    "add (2)"
   ]
  },
  {
   "cell_type": "code",
   "execution_count": 20,
   "id": "f9d5eb7c-c7f8-4fd6-9908-1faa24f0986e",
   "metadata": {},
   "outputs": [],
   "source": [
    "#write a function with takes two nos from user an add \n",
    "\n",
    "def add_two_nos():\n",
    "    a = int(input(\"enter the first no\"))\n",
    "    b = int(input(\"enter the first no\"))\n",
    "    return a+b "
   ]
  },
  {
   "cell_type": "code",
   "execution_count": 21,
   "id": "55310a18-e254-43af-9a2d-36fdf678ae45",
   "metadata": {},
   "outputs": [
    {
     "name": "stdin",
     "output_type": "stream",
     "text": [
      "enter the first no 4\n",
      "enter the first no 2\n"
     ]
    },
    {
     "data": {
      "text/plain": [
       "6"
      ]
     },
     "execution_count": 21,
     "metadata": {},
     "output_type": "execute_result"
    }
   ],
   "source": [
    "add_two_nos()"
   ]
  },
  {
   "cell_type": "code",
   "execution_count": 22,
   "id": "941936ee-eb3e-4532-9d53-8fd3fa7c3f9e",
   "metadata": {},
   "outputs": [],
   "source": [
    "# write a function that takes list as input and return all numeric values in list"
   ]
  },
  {
   "cell_type": "code",
   "execution_count": 23,
   "id": "e3fe4072-d525-487c-821a-45f105d71574",
   "metadata": {},
   "outputs": [
    {
     "data": {
      "text/plain": [
       "str"
      ]
     },
     "execution_count": 23,
     "metadata": {},
     "output_type": "execute_result"
    }
   ],
   "source": [
    "type(\"Ajay\")"
   ]
  },
  {
   "cell_type": "code",
   "execution_count": 27,
   "id": "037850e9-7512-4903-9e80-04413176e01d",
   "metadata": {},
   "outputs": [
    {
     "data": {
      "text/plain": [
       "[1, 2, 3, 4]"
      ]
     },
     "execution_count": 27,
     "metadata": {},
     "output_type": "execute_result"
    }
   ],
   "source": [
    "l = [ 1 , 2, 3, 4, \"potato\", \"Anda\", \"bhurji\"]\n",
    "\n",
    "def only_numeric(a):\n",
    "    result = []\n",
    "    for i in a:\n",
    "        if type(i) == int or type(i) == float:\n",
    "            result.append(i)\n",
    "    return result   \n",
    "\n",
    "only_numeric(l)"
   ]
  },
  {
   "cell_type": "code",
   "execution_count": 30,
   "id": "c1e6fb19-4ee2-4a33-9e80-20484b5504b1",
   "metadata": {},
   "outputs": [
    {
     "data": {
      "text/plain": [
       "[1, 2, 3, 4, 3.5]"
      ]
     },
     "execution_count": 30,
     "metadata": {},
     "output_type": "execute_result"
    }
   ],
   "source": [
    "l = [ 1 , 2, 3, 4, \"potato\", \"Anda\", \"bhurji\", [2,3.5,4, \"ram\"]]\n",
    "\n",
    "def only_numeric(a):\n",
    "    result = []\n",
    "    for i in a:\n",
    "        if type(i) == list:\n",
    "            for j in i:\n",
    "                if type(i) ==   int or type(j) == float:\n",
    "                    result.append(j)\n",
    "        else:\n",
    "            \n",
    "            if type(i) == int or type(i) == float:\n",
    "                result.append(i)\n",
    "    return result   \n",
    "\n",
    "only_numeric(l)"
   ]
  },
  {
   "cell_type": "code",
   "execution_count": 31,
   "id": "f01158ce-99f4-4d5a-8373-a3667dbde168",
   "metadata": {},
   "outputs": [],
   "source": [
    "def sum_(a, b):\n",
    "    return a+b"
   ]
  },
  {
   "cell_type": "code",
   "execution_count": 32,
   "id": "5e1b979e-0dc0-4b68-9c30-beaff6cc70e5",
   "metadata": {},
   "outputs": [
    {
     "data": {
      "text/plain": [
       "13"
      ]
     },
     "execution_count": 32,
     "metadata": {},
     "output_type": "execute_result"
    }
   ],
   "source": [
    "sum_(6,7)"
   ]
  },
  {
   "cell_type": "code",
   "execution_count": 33,
   "id": "bc2ac7e1-bf8b-4c6f-8182-90fd9ba2dcd2",
   "metadata": {},
   "outputs": [],
   "source": [
    "#variable length argument \n",
    "#say you dont know no of args, and you want to sum all the provided no \n"
   ]
  },
  {
   "cell_type": "code",
   "execution_count": 2,
   "id": "f25f19aa-7305-46e6-b589-51780c260824",
   "metadata": {},
   "outputs": [],
   "source": [
    "#variable length arguement, with fixed argument \n",
    "def sum_(*args):\n",
    "    total = 0 \n",
    "    for i in args:\n",
    "        total = total+i\n",
    "    return total"
   ]
  },
  {
   "cell_type": "code",
   "execution_count": 3,
   "id": "bd7b2205-0894-497e-8331-100ef3dbf200",
   "metadata": {},
   "outputs": [
    {
     "data": {
      "text/plain": [
       "18"
      ]
     },
     "execution_count": 3,
     "metadata": {},
     "output_type": "execute_result"
    }
   ],
   "source": [
    "sum_(5,6,7)"
   ]
  },
  {
   "cell_type": "code",
   "execution_count": 6,
   "id": "0296c5de-9ba8-44fd-98cd-ab2818034249",
   "metadata": {},
   "outputs": [],
   "source": [
    "# write a function that takes any no of arguments but returns only the list \n",
    "\n",
    "def return_list(*args):\n",
    "    result = []\n",
    "    for i in args:\n",
    "        if type(i) == list:\n",
    "            result.append(i)\n",
    "    return result \n"
   ]
  },
  {
   "cell_type": "code",
   "execution_count": 7,
   "id": "1732ad16-d6af-4c4e-836e-bbeec875bdf5",
   "metadata": {},
   "outputs": [
    {
     "data": {
      "text/plain": [
       "[[1]]"
      ]
     },
     "execution_count": 7,
     "metadata": {},
     "output_type": "execute_result"
    }
   ],
   "source": [
    "return_list(\"aabra\", \"dabra\", 1, 2, 3, \"Ajay\", [1], )"
   ]
  },
  {
   "cell_type": "code",
   "execution_count": 8,
   "id": "6f5a6e0a-332b-4f29-af76-3bc5b4cd3e9b",
   "metadata": {},
   "outputs": [
    {
     "data": {
      "text/plain": [
       "'Ajay is working on NLP'"
      ]
     },
     "execution_count": 8,
     "metadata": {},
     "output_type": "execute_result"
    }
   ],
   "source": [
    "def team( name, project):\n",
    "    return f\"{name} is working on {project}\"\n",
    "team(\"Ajay\", \"NLP\")"
   ]
  },
  {
   "cell_type": "code",
   "execution_count": 9,
   "id": "18038123-be15-4ce2-a0f5-753d56ab98ad",
   "metadata": {},
   "outputs": [],
   "source": [
    "#accept any no of argument \n",
    "#treat as key value pair \n",
    "\n",
    "def func_kwargs(**kwargs):\n",
    "    return kwargs "
   ]
  },
  {
   "cell_type": "code",
   "execution_count": 11,
   "id": "e2f74345-5443-461e-be00-831756422696",
   "metadata": {},
   "outputs": [
    {
     "data": {
      "text/plain": [
       "{'a': 'ram', 'b': 'shaym', 'c': (1, 2, 3)}"
      ]
     },
     "execution_count": 11,
     "metadata": {},
     "output_type": "execute_result"
    }
   ],
   "source": [
    "func_kwargs (a= \"ram\", b= \"shaym\", c = (1,2,3))"
   ]
  },
  {
   "cell_type": "code",
   "execution_count": 12,
   "id": "ce1daaeb-ff14-4a38-b963-24df38743204",
   "metadata": {},
   "outputs": [],
   "source": [
    "#write a function which takes variable key word argument, return only the values which is a list \n"
   ]
  },
  {
   "cell_type": "code",
   "execution_count": 15,
   "id": "3695155b-afd3-42ed-a18d-a0138a354983",
   "metadata": {},
   "outputs": [
    {
     "data": {
      "text/plain": [
       "('c', [1, 2, 3])"
      ]
     },
     "execution_count": 15,
     "metadata": {},
     "output_type": "execute_result"
    }
   ],
   "source": [
    "def test(**kwargs):\n",
    "    for i in kwargs.keys():\n",
    "        if type(kwargs[i]) == list:\n",
    "                return i, kwargs[i]\n",
    "test( a= \"ram\", b= \"shaym\", c = [1,2,3])                "
   ]
  },
  {
   "cell_type": "code",
   "execution_count": 18,
   "id": "2d58a1d3-f1f0-45b3-9b33-c9fac751295b",
   "metadata": {},
   "outputs": [
    {
     "name": "stdout",
     "output_type": "stream",
     "text": [
      "hello, welcome\n"
     ]
    }
   ],
   "source": [
    "# local variable and global variable \n",
    "\n",
    "def greet():\n",
    "    message = \"hello, welcome\"  #message is a local variable, only be accessed inside the function\n",
    "    print(message)\n",
    "    \n",
    "greet()    "
   ]
  },
  {
   "cell_type": "code",
   "execution_count": 19,
   "id": "81cc595d-b37e-4dac-8bab-1d43cd7da397",
   "metadata": {},
   "outputs": [
    {
     "ename": "NameError",
     "evalue": "name 'message' is not defined",
     "output_type": "error",
     "traceback": [
      "\u001b[0;31m---------------------------------------------------------------------------\u001b[0m",
      "\u001b[0;31mNameError\u001b[0m                                 Traceback (most recent call last)",
      "Cell \u001b[0;32mIn[19], line 1\u001b[0m\n\u001b[0;32m----> 1\u001b[0m \u001b[38;5;28mprint\u001b[39m(\u001b[43mmessage\u001b[49m)\n",
      "\u001b[0;31mNameError\u001b[0m: name 'message' is not defined"
     ]
    }
   ],
   "source": [
    "print(message)"
   ]
  },
  {
   "cell_type": "code",
   "execution_count": 20,
   "id": "348a1d34-0ed8-4563-aadf-cdeb14dfe143",
   "metadata": {},
   "outputs": [
    {
     "name": "stdout",
     "output_type": "stream",
     "text": [
      "hello, welcome to the course\n"
     ]
    }
   ],
   "source": [
    "subpart = \" to the course\" #global var, defined outside the function, you can access anywhere \n",
    "def greet():\n",
    "    message = \"hello, welcome\"  + subpart\n",
    "    print(message)\n",
    "    \n",
    "greet()  "
   ]
  },
  {
   "cell_type": "code",
   "execution_count": 21,
   "id": "7a32e2ef-816a-4e49-adcd-616aef45ddb6",
   "metadata": {},
   "outputs": [
    {
     "data": {
      "text/plain": [
       "' to the course'"
      ]
     },
     "execution_count": 21,
     "metadata": {},
     "output_type": "execute_result"
    }
   ],
   "source": [
    "subpart"
   ]
  },
  {
   "cell_type": "code",
   "execution_count": 24,
   "id": "3f6563c8-1b31-4492-9a28-1e52b750b3a5",
   "metadata": {},
   "outputs": [],
   "source": [
    "# function inside function \n",
    "\n",
    "def marks_in_subject(**kwargs):\n",
    "    def total_marks (marks_list):\n",
    "        return sum(marks_list)\n",
    "    \n",
    "    marks_list = []\n",
    "    for subject, marks in kwargs.item():\n",
    "        marks_list.append(marks)\n",
    "        \n",
    "    return total_marks(marks_list)    "
   ]
  },
  {
   "cell_type": "code",
   "execution_count": 25,
   "id": "b96be567-abc7-422d-8acf-0f7f64f10e60",
   "metadata": {},
   "outputs": [
    {
     "ename": "AttributeError",
     "evalue": "'dict' object has no attribute 'item'",
     "output_type": "error",
     "traceback": [
      "\u001b[0;31m---------------------------------------------------------------------------\u001b[0m",
      "\u001b[0;31mAttributeError\u001b[0m                            Traceback (most recent call last)",
      "Cell \u001b[0;32mIn[25], line 1\u001b[0m\n\u001b[0;32m----> 1\u001b[0m \u001b[43mmarks_in_subject\u001b[49m\u001b[43m(\u001b[49m\u001b[43ma\u001b[49m\u001b[43m \u001b[49m\u001b[38;5;241;43m=\u001b[39;49m\u001b[43m \u001b[49m\u001b[38;5;241;43m1\u001b[39;49m\u001b[43m,\u001b[49m\u001b[43m \u001b[49m\u001b[43mb\u001b[49m\u001b[38;5;241;43m=\u001b[39;49m\u001b[43m \u001b[49m\u001b[38;5;241;43m33\u001b[39;49m\u001b[43m,\u001b[49m\u001b[43m \u001b[49m\u001b[43mc\u001b[49m\u001b[38;5;241;43m=\u001b[39;49m\u001b[38;5;241;43m38\u001b[39;49m\u001b[43m)\u001b[49m\n",
      "Cell \u001b[0;32mIn[24], line 8\u001b[0m, in \u001b[0;36mmarks_in_subject\u001b[0;34m(**kwargs)\u001b[0m\n\u001b[1;32m      5\u001b[0m     \u001b[38;5;28;01mreturn\u001b[39;00m \u001b[38;5;28msum\u001b[39m(marks_list)\n\u001b[1;32m      7\u001b[0m marks_list \u001b[38;5;241m=\u001b[39m []\n\u001b[0;32m----> 8\u001b[0m \u001b[38;5;28;01mfor\u001b[39;00m subject, marks \u001b[38;5;129;01min\u001b[39;00m \u001b[43mkwargs\u001b[49m\u001b[38;5;241;43m.\u001b[39;49m\u001b[43mitem\u001b[49m():\n\u001b[1;32m      9\u001b[0m     marks_list\u001b[38;5;241m.\u001b[39mappend(marks)\n\u001b[1;32m     11\u001b[0m \u001b[38;5;28;01mreturn\u001b[39;00m total_marks(marks_list)\n",
      "\u001b[0;31mAttributeError\u001b[0m: 'dict' object has no attribute 'item'"
     ]
    }
   ],
   "source": [
    "marks_in_subject(a = 1, b= 33, c=38)"
   ]
  },
  {
   "cell_type": "code",
   "execution_count": 27,
   "id": "f793b701-0c4c-4477-bf6a-97d44ff5223a",
   "metadata": {},
   "outputs": [
    {
     "data": {
      "text/plain": [
       "32"
      ]
     },
     "execution_count": 27,
     "metadata": {},
     "output_type": "execute_result"
    }
   ],
   "source": [
    "#find power of a no \n",
    "\n",
    "def find_power(num, power):\n",
    "    \"\"\"\n",
    "    This function returns the power of no \n",
    "    Args:\n",
    "        num(int):insert any integer value\n",
    "        power(int):insert any integer value\n",
    "        \"\"\"\n",
    "    return num**power\n",
    "find_power(2,5)"
   ]
  },
  {
   "cell_type": "code",
   "execution_count": null,
   "id": "cb23d3f9-a15b-49c0-a80a-91b15a6c417c",
   "metadata": {},
   "outputs": [],
   "source": []
  }
 ],
 "metadata": {
  "kernelspec": {
   "display_name": "Python 3 (ipykernel)",
   "language": "python",
   "name": "python3"
  },
  "language_info": {
   "codemirror_mode": {
    "name": "ipython",
    "version": 3
   },
   "file_extension": ".py",
   "mimetype": "text/x-python",
   "name": "python",
   "nbconvert_exporter": "python",
   "pygments_lexer": "ipython3",
   "version": "3.10.8"
  }
 },
 "nbformat": 4,
 "nbformat_minor": 5
}
