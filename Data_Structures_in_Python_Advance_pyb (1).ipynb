{
  "nbformat": 4,
  "nbformat_minor": 0,
  "metadata": {
    "colab": {
      "provenance": []
    },
    "kernelspec": {
      "name": "python3",
      "display_name": "Python 3"
    },
    "language_info": {
      "name": "python"
    }
  },
  "cells": [
    {
      "cell_type": "code",
      "execution_count": null,
      "metadata": {
        "id": "1z6acKBZGwGO"
      },
      "outputs": [],
      "source": [
        "#Assignments: Data Structures in Python Advance\n"
      ]
    },
    {
      "cell_type": "code",
      "source": [
        "#Q1)Write a code to reverse a string\n",
        "\n",
        "# Function to reverse a string\n",
        "def reverse_string(s):\n",
        "    return s[::-1]\n",
        "\n",
        "# Example usage\n",
        "input_string = \"Hello, World!\"\n",
        "reversed_string = reverse_string(input_string)\n",
        "print(\"Reversed String:\", reversed_string)\n"
      ],
      "metadata": {
        "colab": {
          "base_uri": "https://localhost:8080/"
        },
        "id": "QTYng5XNHFvg",
        "outputId": "708db28c-bfaa-4525-8aea-ba4ab4bc6ff6"
      },
      "execution_count": null,
      "outputs": [
        {
          "output_type": "stream",
          "name": "stdout",
          "text": [
            "Reversed String: !dlroW ,olleH\n"
          ]
        }
      ]
    },
    {
      "cell_type": "code",
      "source": [
        "#Q2) Write a code to count the number of vowels in a string\n",
        "\n",
        "# Function to count vowels in a string\n",
        "def count_vowels(s):\n",
        "    vowels = \"aeiouAEIOU\"\n",
        "    count = sum(1 for char in s if char in vowels)\n",
        "    return count\n",
        "\n",
        "# Example usage\n",
        "input_string = \"Hello, World!\"\n",
        "vowel_count = count_vowels(input_string)\n",
        "print(\"Number of vowels:\", vowel_count)\n"
      ],
      "metadata": {
        "colab": {
          "base_uri": "https://localhost:8080/"
        },
        "id": "cHJmzUqNHlUb",
        "outputId": "c5bf03df-864c-4b8c-bad9-534c2fdd7edb"
      },
      "execution_count": null,
      "outputs": [
        {
          "output_type": "stream",
          "name": "stdout",
          "text": [
            "Number of vowels: 3\n"
          ]
        }
      ]
    },
    {
      "cell_type": "code",
      "source": [
        "#Q3) Write a code to check if a given string is a palindrome or not\n",
        "\n",
        "# Function to check if a string is a palindrome\n",
        "def is_palindrome(s):\n",
        "    # Convert the string to lowercase and remove spaces\n",
        "    s = s.replace(\" \", \"\").lower()\n",
        "    return s == s[::-1]\n",
        "\n",
        "# Example usage\n",
        "input_string = \"A man a plan a canal Panama\"\n",
        "if is_palindrome(input_string):\n",
        "    print(\"The string is a palindrome.\")\n",
        "else:\n",
        "    print(\"The string is not a palindrome.\")\n"
      ],
      "metadata": {
        "colab": {
          "base_uri": "https://localhost:8080/"
        },
        "id": "xVutNB4XIMS3",
        "outputId": "6fc783f2-3285-4657-fcdb-8fc7fe5191f7"
      },
      "execution_count": null,
      "outputs": [
        {
          "output_type": "stream",
          "name": "stdout",
          "text": [
            "The string is a palindrome.\n"
          ]
        }
      ]
    },
    {
      "cell_type": "code",
      "source": [
        "#Q4) Write a code to check if two given strings are anagrams of each other\n",
        "\n",
        "# Function to check if two strings are anagrams\n",
        "def are_anagrams(str1, str2):\n",
        "    # Remove spaces and convert strings to lowercase\n",
        "    str1 = str1.replace(\" \", \"\").lower()\n",
        "    str2 = str2.replace(\" \", \"\").lower()\n",
        "\n",
        "    # Sort the characters and compare\n",
        "    return sorted(str1) == sorted(str2)\n",
        "\n",
        "# Example usage\n",
        "string1 = \"Listen\"\n",
        "string2 = \"Silent\"\n",
        "if are_anagrams(string1, string2):\n",
        "    print(\"The strings are anagrams.\")\n",
        "else:\n",
        "    print(\"The strings are not anagrams.\")\n"
      ],
      "metadata": {
        "colab": {
          "base_uri": "https://localhost:8080/"
        },
        "id": "xgYFW-UjIdZt",
        "outputId": "a53c1715-d9de-49ed-b73b-4fe7fe6504f8"
      },
      "execution_count": null,
      "outputs": [
        {
          "output_type": "stream",
          "name": "stdout",
          "text": [
            "The strings are anagrams.\n"
          ]
        }
      ]
    },
    {
      "cell_type": "code",
      "source": [
        "#Q5) Write a code to find all occurrences of a given substring within another string\n",
        "\n",
        "# Function to find all occurrences of a substring in a string\n",
        "def find_substring_occurrences(s, sub):\n",
        "    occurrences = []\n",
        "    start = 0\n",
        "\n",
        "    while True:\n",
        "        start = s.find(sub, start)\n",
        "        if start == -1:  # No more occurrences found\n",
        "            break\n",
        "        occurrences.append(start)\n",
        "        start += len(sub)  # Move to the next possible start position\n",
        "\n",
        "    return occurrences\n",
        "\n",
        "# Example usage\n",
        "string = \"abracadabra\"\n",
        "substring = \"abra\"\n",
        "occurrences = find_substring_occurrences(string, substring)\n",
        "\n",
        "if occurrences:\n",
        "    print(f\"The substring '{substring}' was found at positions: {occurrences}\")\n",
        "else:\n",
        "    print(f\"The substring '{substring}' was not found.\")\n"
      ],
      "metadata": {
        "colab": {
          "base_uri": "https://localhost:8080/"
        },
        "id": "fM9xvwhnIneK",
        "outputId": "6030c663-fcd6-4020-b71d-e9aa9c4d0f7b"
      },
      "execution_count": null,
      "outputs": [
        {
          "output_type": "stream",
          "name": "stdout",
          "text": [
            "The substring 'abra' was found at positions: [0, 7]\n"
          ]
        }
      ]
    },
    {
      "cell_type": "code",
      "source": [
        "#Q6) to perform basic string compression using the counts of repeated characters\n",
        "\n",
        "# Function to compress a string\n",
        "def compress_string(s):\n",
        "    compressed = []\n",
        "    count = 1\n",
        "\n",
        "    for i in range(1, len(s)):\n",
        "        if s[i] == s[i - 1]:\n",
        "            count += 1\n",
        "        else:\n",
        "            compressed.append(s[i - 1] + str(count))\n",
        "            count = 1\n",
        "\n",
        "    # Add the last character and its count\n",
        "    compressed.append(s[-1] + str(count))\n",
        "\n",
        "    # Join the compressed list into a string\n",
        "    compressed_string = ''.join(compressed)\n",
        "\n",
        "    # Return the original string if compression doesn't make it shorter\n",
        "    return compressed_string if len(compressed_string) < len(s) else s\n",
        "\n",
        "# Example usage\n",
        "input_string = \"aaabcccccaaa\"\n",
        "compressed_string\n"
      ],
      "metadata": {
        "colab": {
          "base_uri": "https://localhost:8080/",
          "height": 176
        },
        "id": "8koCMJvSI2r4",
        "outputId": "bdb6fbe5-f94a-4e7b-a41b-62c1f87b0bdf"
      },
      "execution_count": null,
      "outputs": [
        {
          "output_type": "error",
          "ename": "NameError",
          "evalue": "name 'compressed_string' is not defined",
          "traceback": [
            "\u001b[0;31m---------------------------------------------------------------------------\u001b[0m",
            "\u001b[0;31mNameError\u001b[0m                                 Traceback (most recent call last)",
            "\u001b[0;32m<ipython-input-12-282049138f7a>\u001b[0m in \u001b[0;36m<cell line: 26>\u001b[0;34m()\u001b[0m\n\u001b[1;32m     24\u001b[0m \u001b[0;31m# Example usage\u001b[0m\u001b[0;34m\u001b[0m\u001b[0;34m\u001b[0m\u001b[0m\n\u001b[1;32m     25\u001b[0m \u001b[0minput_string\u001b[0m \u001b[0;34m=\u001b[0m \u001b[0;34m\"aaabcccccaaa\"\u001b[0m\u001b[0;34m\u001b[0m\u001b[0;34m\u001b[0m\u001b[0m\n\u001b[0;32m---> 26\u001b[0;31m \u001b[0mcompressed_string\u001b[0m\u001b[0;34m\u001b[0m\u001b[0;34m\u001b[0m\u001b[0m\n\u001b[0m",
            "\u001b[0;31mNameError\u001b[0m: name 'compressed_string' is not defined"
          ]
        }
      ]
    },
    {
      "cell_type": "code",
      "source": [
        "#Q7) Write a code to determine if a string has all unique characters\n",
        "# Function to check if a string has all unique characters\n",
        "def has_unique_characters(s):\n",
        "    # Use a set to track characters we've seen\n",
        "    seen_characters = set()\n",
        "\n",
        "    for char in s:\n",
        "        if char in seen_characters:\n",
        "            return False\n",
        "        seen_characters.add(char)\n",
        "\n",
        "    return True\n",
        "\n",
        "# Example usage\n",
        "input_string = \"abcdefg\"\n",
        "if has_unique_characters(input_string):\n",
        "    print(\"The string has all unique characters.\")\n",
        "else:\n",
        "    print(\"The string does not have all unique characters.\")\n"
      ],
      "metadata": {
        "colab": {
          "base_uri": "https://localhost:8080/"
        },
        "id": "A21nMcH2JIBR",
        "outputId": "94fdb988-866a-4bfb-bc71-6ed4809f49ea"
      },
      "execution_count": null,
      "outputs": [
        {
          "output_type": "stream",
          "name": "stdout",
          "text": [
            "The string has all unique characters.\n"
          ]
        }
      ]
    },
    {
      "cell_type": "code",
      "source": [
        "#Q8) Write a code to convert a given string to uppercase or lowercase\n",
        "\n",
        "# Function to convert a string to uppercase\n",
        "def to_uppercase(s):\n",
        "    return s.upper()\n",
        "\n",
        "# Function to convert a string to lowercase\n",
        "def to_lowercase(s):\n",
        "    return s.lower()\n",
        "\n",
        "# Example usage\n",
        "input_string = \"Hello, World!\"\n",
        "\n",
        "uppercase_string = to_uppercase(input_string)\n",
        "lowercase_string = to_lowercase(input_string)\n",
        "\n",
        "print(\"Uppercase:\", uppercase_string)\n",
        "print(\"Lowercase:\", lowercase_string)\n"
      ],
      "metadata": {
        "colab": {
          "base_uri": "https://localhost:8080/"
        },
        "id": "SFeYUXOhJVex",
        "outputId": "d4b77a21-7f09-46c0-a67d-13b18774cadd"
      },
      "execution_count": null,
      "outputs": [
        {
          "output_type": "stream",
          "name": "stdout",
          "text": [
            "Uppercase: HELLO, WORLD!\n",
            "Lowercase: hello, world!\n"
          ]
        }
      ]
    },
    {
      "cell_type": "code",
      "source": [
        "#Q9) Write a code to count the number of words in a string\n",
        "\n",
        "# Function to count the number of words in a string\n",
        "def count_words(s):\n",
        "    # Split the string into words based on spaces\n",
        "    words = s.split()\n",
        "    return len(words)\n",
        "\n",
        "# Example usage\n",
        "input_string = \"Hello, how are you doing today?\"\n",
        "word_count = count_words(input_string)\n",
        "print(\"Number of words:\", word_count)\n"
      ],
      "metadata": {
        "colab": {
          "base_uri": "https://localhost:8080/"
        },
        "id": "CdmBtc43Jpxq",
        "outputId": "ff7b7a05-3bc7-4c26-eb45-cffb27702b25"
      },
      "execution_count": null,
      "outputs": [
        {
          "output_type": "stream",
          "name": "stdout",
          "text": [
            "Number of words: 6\n"
          ]
        }
      ]
    },
    {
      "cell_type": "code",
      "source": [
        "#10) Write a code to concatenate two strings without using the + operator\n",
        "\n",
        "# Function to concatenate two strings\n",
        "def concatenate_strings(str1, str2):\n",
        "    # Use the join method to concatenate\n",
        "    return \"\".join([str1, str2])\n",
        "\n",
        "# Example usage\n",
        "string1 = \"Hello, \"\n",
        "string2 = \"World!\"\n",
        "concatenated_string = concatenate_strings(string1, string2)\n",
        "print(\"Concatenated String:\", concatenated_string)\n"
      ],
      "metadata": {
        "colab": {
          "base_uri": "https://localhost:8080/"
        },
        "id": "U4AcZhe0J3-b",
        "outputId": "f815ea28-6e96-4d81-eb19-f99c8fe2c2c4"
      },
      "execution_count": null,
      "outputs": [
        {
          "output_type": "stream",
          "name": "stdout",
          "text": [
            "Concatenated String: Hello, World!\n"
          ]
        }
      ]
    },
    {
      "cell_type": "code",
      "source": [
        "#Q11) Write a code to remove all occurrences of a specific element from a lis\n",
        "# Function to remove all occurrences of a specific element from a list\n",
        "def remove_occurrences(lst, element):\n",
        "    return [item for item in lst if item != element]\n",
        "\n",
        "# Example usage\n",
        "my_list = [1, 2, 3, 4, 2, 5, 2]\n",
        "element_to_remove = 2\n",
        "new_list = remove_occurrences(my_list, element_to_remove)\n",
        "print(\"List after removal:\", new_list)\n",
        "\n"
      ],
      "metadata": {
        "colab": {
          "base_uri": "https://localhost:8080/"
        },
        "id": "EOGx86IOKEgv",
        "outputId": "1c7c3f4a-7817-4235-f03e-4736cb15a2be"
      },
      "execution_count": null,
      "outputs": [
        {
          "output_type": "stream",
          "name": "stdout",
          "text": [
            "List after removal: [1, 3, 4, 5]\n"
          ]
        }
      ]
    },
    {
      "cell_type": "code",
      "source": [
        "#Q12) Implement a code to find the second largest number in a given list of integers\n",
        "\n",
        "# Function to find the second largest number in a list\n",
        "def find_second_largest(lst):\n",
        "    if len(lst) < 2:\n",
        "        raise ValueError(\"List must contain at least two elements\")\n",
        "\n",
        "    # Initialize the largest and second largest\n",
        "    largest = second_largest = float('-inf')\n",
        "\n",
        "    for number in lst:\n",
        "        if number > largest:\n",
        "            second_largest = largest\n",
        "            largest = number\n",
        "        elif number > second_largest and number < largest:\n",
        "            second_largest = number\n",
        "\n",
        "    if second_largest == float('-inf'):\n",
        "        raise ValueError(\"There is no second largest element\")\n",
        "\n",
        "    return second_largest\n",
        "\n",
        "numbers = [10, 20, 4, 45, 99, 99, 101]\n",
        "second_largest = find_second_largest(numbers)\n",
        "print(\"Second largest number:\", second_largest)\n",
        "\n"
      ],
      "metadata": {
        "colab": {
          "base_uri": "https://localhost:8080/"
        },
        "id": "m8OJn-lrKP3_",
        "outputId": "ea6db4ea-9ea0-468d-c157-f0d1cf70e31a"
      },
      "execution_count": null,
      "outputs": [
        {
          "output_type": "stream",
          "name": "stdout",
          "text": [
            "Second largest number: 99\n"
          ]
        }
      ]
    },
    {
      "cell_type": "code",
      "source": [
        "#Q13) Create a code to count the occurrences of each element in a list and return a dictionary with elements as keys and their counts as values\n",
        "\n",
        "def count_occurrences(lst):\n",
        "    counts = {}\n",
        "    for item in lst:\n",
        "        if item in counts:\n",
        "            counts[item] += 1\n",
        "        else:\n",
        "            counts[item] = 1\n",
        "    return counts\n",
        "\n",
        "# Example usage\n",
        "my_list = ['apple', 'banana', 'apple', 'orange', 'banana', 'apple']\n",
        "result = count_occurrences(my_list)\n",
        "print(result)\n"
      ],
      "metadata": {
        "id": "EMzTZ9YyKcMK",
        "colab": {
          "base_uri": "https://localhost:8080/"
        },
        "outputId": "1b7fb137-bc6d-49dd-9f4b-f20d355d0632"
      },
      "execution_count": 1,
      "outputs": [
        {
          "output_type": "stream",
          "name": "stdout",
          "text": [
            "{'apple': 3, 'banana': 2, 'orange': 1}\n"
          ]
        }
      ]
    },
    {
      "cell_type": "code",
      "source": [
        "#Q14) Write a code to reverse a list in-place without using any built-in reverse functions\n",
        "\n",
        "def reverse_list(lst):\n",
        "    left = 0\n",
        "    right = len(lst) - 1\n",
        "\n",
        "    while left < right:\n",
        "        # Swap the elements at the left and right indices\n",
        "        lst[left], lst[right] = lst[right], lst[left]\n",
        "        left += 1\n",
        "        right -= 1\n",
        "\n",
        "# Example usage\n",
        "my_list = [1, 2, 3, 4, 5]\n",
        "reverse_list(my_list)\n",
        "print(my_list)\n"
      ],
      "metadata": {
        "colab": {
          "base_uri": "https://localhost:8080/"
        },
        "id": "K8c60psgs1oH",
        "outputId": "b1d15366-dc73-41f2-d38a-f0d42e7195aa"
      },
      "execution_count": 2,
      "outputs": [
        {
          "output_type": "stream",
          "name": "stdout",
          "text": [
            "[5, 4, 3, 2, 1]\n"
          ]
        }
      ]
    },
    {
      "cell_type": "code",
      "source": [
        "#Q15)Implement a code to find and remove duplicates from a list while preserving the original order of elements\n",
        "\n",
        "def reverse_list(lst):\n",
        "    left = 0\n",
        "    right = len(lst) - 1\n",
        "\n",
        "    while left < right:\n",
        "        # Swap the elements at the left and right indices\n",
        "        lst[left], lst[right] = lst[right], lst[left]\n",
        "        left += 1\n",
        "        right -= 1\n",
        "\n",
        "# Example usage\n",
        "my_list = [1, 2, 3, 4, 5]\n",
        "reverse_list(my_list)\n",
        "print(my_list)\n"
      ],
      "metadata": {
        "colab": {
          "base_uri": "https://localhost:8080/"
        },
        "id": "_ojHNZ8mtK1o",
        "outputId": "5436aa9c-519c-480c-9ba9-8384f89545a1"
      },
      "execution_count": 1,
      "outputs": [
        {
          "output_type": "stream",
          "name": "stdout",
          "text": [
            "[5, 4, 3, 2, 1]\n"
          ]
        }
      ]
    },
    {
      "cell_type": "code",
      "source": [
        "#Q16)Create a code to check if a given list is sorted (either in ascending or descending order) or not\n",
        "\n",
        "def is_sorted(lst):\n",
        "    if all(lst[i] <= lst[i + 1] for i in range(len(lst) - 1)):\n",
        "        return \"List is sorted in ascending order\"\n",
        "    elif all(lst[i] >= lst[i + 1] for i in range(len(lst) - 1)):\n",
        "        return \"List is sorted in descending order\"\n",
        "    else:\n",
        "        return \"List is not sorted\"\n",
        "\n",
        "# Example usage\n",
        "my_list1 = [1, 2, 3, 4, 5]\n",
        "my_list2 = [5, 4, 3, 2, 1]\n",
        "my_list3 = [3, 1, 4, 2, 5]\n",
        "\n",
        "print(is_sorted(my_list1))  # Ascending\n",
        "print(is_sorted(my_list2))  # Descending\n",
        "print(is_sorted(my_list3))  # Not sorted\n"
      ],
      "metadata": {
        "colab": {
          "base_uri": "https://localhost:8080/"
        },
        "id": "SvJdxXtwyV_B",
        "outputId": "61232dee-7531-4fad-e4b8-f7eb89d57629"
      },
      "execution_count": 2,
      "outputs": [
        {
          "output_type": "stream",
          "name": "stdout",
          "text": [
            "List is sorted in ascending order\n",
            "List is sorted in descending order\n",
            "List is not sorted\n"
          ]
        }
      ]
    },
    {
      "cell_type": "code",
      "source": [
        "#Q17) Write a code to merge two sorted lists into a single sorted list\n",
        "\n",
        "def merge_sorted_lists(list1, list2):\n",
        "    merged_list = []\n",
        "    i, j = 0, 0\n",
        "\n",
        "    # Traverse both lists and merge them\n",
        "    while i < len(list1) and j < len(list2):\n",
        "        if list1[i] <= list2[j]:\n",
        "            merged_list.append(list1[i])\n",
        "            i += 1\n",
        "        else:\n",
        "            merged_list.append(list2[j])\n",
        "            j += 1\n",
        "\n",
        "    # Add remaining elements of list1 (if any)\n",
        "    while i < len(list1):\n",
        "        merged_list.append(list1[i])\n",
        "        i += 1\n",
        "\n",
        "    # Add remaining elements of list2 (if any)\n",
        "    while j < len(list2):\n",
        "        merged_list.append(list2[j])\n",
        "        j += 1\n",
        "\n",
        "    return merged_list\n",
        "\n",
        "# Example usage\n",
        "list1 = [1, 3, 5, 7]\n",
        "list2 = [2, 4, 6, 8]\n",
        "merged_list = merge_sorted_lists(list1, list2)\n",
        "print(merged_list)\n"
      ],
      "metadata": {
        "colab": {
          "base_uri": "https://localhost:8080/"
        },
        "id": "R-b_iqmcykxg",
        "outputId": "72c0dcfe-83e2-4336-afa2-a26f15c98521"
      },
      "execution_count": 4,
      "outputs": [
        {
          "output_type": "stream",
          "name": "stdout",
          "text": [
            "[1, 2, 3, 4, 5, 6, 7, 8]\n"
          ]
        }
      ]
    },
    {
      "cell_type": "code",
      "source": [
        "#Q18)Implement a code to find the intersection of two given lists\n",
        "\n",
        "def find_intersection(list1, list2):\n",
        "    # Use a set to store the intersection of the two lists\n",
        "    intersection = set(list1) & set(list2)\n",
        "    return list(intersection)\n",
        "\n",
        "# Example usage\n",
        "list1 = [1, 2, 3, 4, 5]\n",
        "list2 = [4, 5, 6, 7, 8]\n",
        "result = find_intersection(list1, list2)\n",
        "print(result)\n"
      ],
      "metadata": {
        "colab": {
          "base_uri": "https://localhost:8080/"
        },
        "id": "HUmnPIkTyz-v",
        "outputId": "1796c8b5-5227-42f1-d253-617686646417"
      },
      "execution_count": 5,
      "outputs": [
        {
          "output_type": "stream",
          "name": "stdout",
          "text": [
            "[4, 5]\n"
          ]
        }
      ]
    },
    {
      "cell_type": "code",
      "source": [
        "#Q19) Create a code to find the union of two lists without duplicates\n",
        "\n",
        "def find_union(list1, list2):\n",
        "    # Use a set to automatically remove duplicates\n",
        "    union_set = set(list1) | set(list2)\n",
        "    return list(union_set)\n",
        "\n",
        "# Example usage\n",
        "list1 = [1, 2, 3, 4]\n",
        "list2 = [3, 4, 5, 6]\n",
        "result = find_union(list1, list2)\n",
        "print(result)\n"
      ],
      "metadata": {
        "colab": {
          "base_uri": "https://localhost:8080/"
        },
        "id": "mRiQ6JJGzfEg",
        "outputId": "e5b5a471-f275-4177-b652-6ca0633b3ad4"
      },
      "execution_count": 6,
      "outputs": [
        {
          "output_type": "stream",
          "name": "stdout",
          "text": [
            "[1, 2, 3, 4, 5, 6]\n"
          ]
        }
      ]
    },
    {
      "cell_type": "code",
      "source": [
        "#20) Write a code to shuffle a given list randomly without using any built-in shuffle functions\n",
        "\n",
        "import random\n",
        "\n",
        "def shuffle_list(lst):\n",
        "    # Loop through the list and swap each element with a randomly chosen element\n",
        "    for i in range(len(lst)):\n",
        "        # Pick a random index to swap with\n",
        "        rand_index = random.randint(0, len(lst) - 1)\n",
        "        # Swap elements at i and rand_index\n",
        "        lst[i], lst[rand_index] = lst[rand_index], lst[i]\n",
        "\n",
        "# Example usage\n",
        "my_list = [1, 2, 3, 4, 5]\n",
        "shuffle_list(my_list)\n",
        "print(my_list)\n"
      ],
      "metadata": {
        "colab": {
          "base_uri": "https://localhost:8080/"
        },
        "id": "5uFu8gP6zupL",
        "outputId": "fa3a9bf6-bf84-4783-de52-7c50034ca807"
      },
      "execution_count": 7,
      "outputs": [
        {
          "output_type": "stream",
          "name": "stdout",
          "text": [
            "[2, 5, 4, 1, 3]\n"
          ]
        }
      ]
    },
    {
      "cell_type": "code",
      "source": [
        "#Q21) Write a code that takes two tuples as input and returns a new tuple containing elements that are common to both input tuple\n",
        "\n",
        "def common_elements(tuple1, tuple2):\n",
        "    # Use set intersection to find common elements\n",
        "    common_set = set(tuple1) & set(tuple2)\n",
        "    # Convert the set back to a tuple\n",
        "    return tuple(common_set)\n",
        "\n",
        "# Example usage\n",
        "tuple1 = (1, 2, 3, 4)\n",
        "tuple2 = (3, 4, 5, 6)\n",
        "result = common_elements(tuple1, tuple2)\n",
        "print(result)\n"
      ],
      "metadata": {
        "colab": {
          "base_uri": "https://localhost:8080/"
        },
        "id": "e0DwLW491dg_",
        "outputId": "437bcf51-6dd3-4b6e-843a-822f78c30573"
      },
      "execution_count": 8,
      "outputs": [
        {
          "output_type": "stream",
          "name": "stdout",
          "text": [
            "(3, 4)\n"
          ]
        }
      ]
    },
    {
      "cell_type": "code",
      "source": [
        "#Q22) Create a code that prompts the user to enter two sets of integers separated by commas. Then, print the intersection of these two sets\n",
        "\n",
        "def get_set_from_input(prompt):\n",
        "    # Prompt the user for input and convert the comma-separated string to a set of integers\n",
        "    user_input = input(prompt)\n",
        "    return set(map(int, user_input.split(',')))\n",
        "\n",
        "# Prompt the user for two sets of integers\n",
        "set1 = get_set_from_input(\"Enter the first set of integers (separated by commas): \")\n",
        "set2 = get_set_from_input(\"Enter the second set of integers (separated by commas): \")\n",
        "\n",
        "# Find and print the intersection of the two sets\n",
        "intersection = set1 & set2\n",
        "print(\"Intersection of the two sets:\", intersection)\n"
      ],
      "metadata": {
        "colab": {
          "base_uri": "https://localhost:8080/"
        },
        "id": "70i3kZ9_22k0",
        "outputId": "afe7b23d-4f69-4090-bc79-ae4727b4f12f"
      },
      "execution_count": 9,
      "outputs": [
        {
          "output_type": "stream",
          "name": "stdout",
          "text": [
            "Enter the first set of integers (separated by commas): 1, 2, 3 , 4, 5 \n",
            "Enter the second set of integers (separated by commas): 4, 5, 6, 7, 8\n",
            "Intersection of the two sets: {4, 5}\n"
          ]
        }
      ]
    },
    {
      "cell_type": "code",
      "source": [
        "#Q23) Write a code to concatenate two tuples. The function should take two tuples as input and return a new tuple containing elements from both input tuples.\n",
        "def concatenate_tuples(tuple1, tuple2):\n",
        "    # Concatenate the two tuples using the + operator\n",
        "    return tuple1 + tuple2\n",
        "\n",
        "# Example usage\n",
        "tuple1 = (1, 2, 3)\n",
        "tuple2 = (4, 5, 6)\n",
        "result = concatenate_tuples(tuple1, tuple2)\n",
        "print(result)\n"
      ],
      "metadata": {
        "colab": {
          "base_uri": "https://localhost:8080/"
        },
        "id": "qFCTk7Wk3W6c",
        "outputId": "8f5b56af-5384-4057-d21c-7ed0e4f18747"
      },
      "execution_count": 10,
      "outputs": [
        {
          "output_type": "stream",
          "name": "stdout",
          "text": [
            "(1, 2, 3, 4, 5, 6)\n"
          ]
        }
      ]
    },
    {
      "cell_type": "code",
      "source": [
        "#Q24) Develop a code that prompts the user to input two sets of strings. Then, print the elements that are present in the first set but not in the second set\n",
        "\n",
        "def get_set_from_input(prompt):\n",
        "    # Prompt the user for input and convert the comma-separated string to a set of strings\n",
        "    user_input = input(prompt)\n",
        "    return set(user_input.split(','))\n",
        "\n",
        "# Prompt the user for two sets of strings\n",
        "set1 = get_set_from_input(\"Enter the first set of strings (separated by commas): \")\n",
        "set2 = get_set_from_input(\"Enter the second set of strings (separated by commas): \")\n",
        "\n",
        "# Find and print elements that are in set1 but not in set2\n",
        "difference = set1 - set2\n",
        "print(\"Elements in the first set but not in the second set:\", difference)\n",
        "\n"
      ],
      "metadata": {
        "colab": {
          "base_uri": "https://localhost:8080/"
        },
        "id": "JAnjYGgB3zKe",
        "outputId": "82c45a35-e785-43a9-8c41-cd4044a86477"
      },
      "execution_count": 12,
      "outputs": [
        {
          "output_type": "stream",
          "name": "stdout",
          "text": [
            "Enter the first set of strings (separated by commas): apple,banana,orange\n",
            "Enter the second set of strings (separated by commas): banana,grape,orange\n",
            "Elements in the first set but not in the second set: {'apple'}\n"
          ]
        }
      ]
    },
    {
      "cell_type": "code",
      "source": [
        "#Q25) Create a code that takes a tuple and two integers as input. The function should return a new tuple containing elements from the original tuple within the specified range of indices\n",
        "\n",
        "def slice_tuple(tpl, start, end):\n",
        "    # Check if the indices are within the valid range\n",
        "    if start < 0 or end > len(tpl) or start > end:\n",
        "        raise ValueError(\"Invalid indices\")\n",
        "    return tpl[start:end]\n",
        "\n",
        "# Example usage\n",
        "tpl = (10, 20, 30, 40, 50, 60)\n",
        "start = 2\n",
        "end = 5\n",
        "result = slice_tuple(tpl, start, end)\n",
        "print(result)\n"
      ],
      "metadata": {
        "colab": {
          "base_uri": "https://localhost:8080/"
        },
        "id": "YwdTLYSX3_91",
        "outputId": "4bfca846-0ca6-4da8-8efc-9009717535c5"
      },
      "execution_count": 13,
      "outputs": [
        {
          "output_type": "stream",
          "name": "stdout",
          "text": [
            "(30, 40, 50)\n"
          ]
        }
      ]
    },
    {
      "cell_type": "code",
      "source": [
        "#Q26) Write a code that prompts the user to input two sets of characters. Then, print the union of these two sets\n",
        "\n",
        "def get_set_from_input(prompt):\n",
        "    # Prompt the user for input and convert the comma-separated string to a set of characters\n",
        "    user_input = input(prompt)\n",
        "    return set(user_input.split(','))\n",
        "\n",
        "# Prompt the user for two sets of characters\n",
        "set1 = get_set_from_input(\"Enter the first set of characters (separated by commas): \")\n",
        "set2 = get_set_from_input(\"Enter the second set of characters (separated by commas): \")\n",
        "\n",
        "# Find and print the union of the two sets\n",
        "union = set1 | set2\n",
        "print(\"Union of the two sets:\", union)\n"
      ],
      "metadata": {
        "colab": {
          "base_uri": "https://localhost:8080/"
        },
        "id": "woNGlM8W46u7",
        "outputId": "1139b1cd-e235-451e-d04c-413a178dfb1b"
      },
      "execution_count": 14,
      "outputs": [
        {
          "output_type": "stream",
          "name": "stdout",
          "text": [
            "Enter the first set of characters (separated by commas): a, b, c \n",
            "Enter the second set of characters (separated by commas): c, d, e \n",
            "Union of the two sets: {' d', ' e ', ' b', 'c', 'a', ' c '}\n"
          ]
        }
      ]
    },
    {
      "cell_type": "code",
      "source": [
        "#Q27) Develop a code that takes a tuple of integers as input. The function should return the maximum and minimum values from the tuple using tuple unpacking\n",
        "\n",
        "def find_max_min(tpl):\n",
        "    # Use built-in functions to find the maximum and minimum values\n",
        "    max_val = max(tpl)\n",
        "    min_val = min(tpl)\n",
        "    return max_val, min_val\n",
        "\n",
        "# Example usage\n",
        "tpl = (10, 20, 30, 40, 50)\n",
        "max_val, min_val = find_max_min(tpl)\n",
        "print(\"Maximum value:\", max_val)\n",
        "print(\"Minimum value:\", min_val)\n"
      ],
      "metadata": {
        "colab": {
          "base_uri": "https://localhost:8080/"
        },
        "id": "ktyFXUFw5q8h",
        "outputId": "08ffd1b1-990b-4619-faca-c67f4d7678e2"
      },
      "execution_count": 15,
      "outputs": [
        {
          "output_type": "stream",
          "name": "stdout",
          "text": [
            "Maximum value: 50\n",
            "Minimum value: 10\n"
          ]
        }
      ]
    },
    {
      "cell_type": "code",
      "source": [
        "#Q28) Create a code that defines two sets of integers. Then, print the union, intersection, and difference of these two sets\n",
        "\n",
        "# Define two sets of integers\n",
        "set1 = {1, 2, 3, 4, 5}\n",
        "set2 = {4, 5, 6, 7, 8}\n",
        "\n",
        "# Compute union, intersection, and difference\n",
        "union = set1 | set2\n",
        "intersection = set1 & set2\n",
        "difference = set1 - set2\n",
        "\n",
        "# Print the results\n",
        "print(\"Union of the two sets:\", union)\n",
        "print(\"Intersection of the two sets:\", intersection)\n",
        "print(\"Difference of the two sets (set1 - set2):\", difference)\n"
      ],
      "metadata": {
        "colab": {
          "base_uri": "https://localhost:8080/"
        },
        "id": "7DT3laFn6T4Z",
        "outputId": "fa7a1361-de45-4b23-864a-90b1904789b5"
      },
      "execution_count": 16,
      "outputs": [
        {
          "output_type": "stream",
          "name": "stdout",
          "text": [
            "Union of the two sets: {1, 2, 3, 4, 5, 6, 7, 8}\n",
            "Intersection of the two sets: {4, 5}\n",
            "Difference of the two sets (set1 - set2): {1, 2, 3}\n"
          ]
        }
      ]
    },
    {
      "cell_type": "code",
      "source": [
        "#Q29) Write a code that takes a tuple and an element as input. The function should return the count of occurrences of the given element in the tuple\n",
        "\n",
        "def count_occurrences(tpl, element):\n",
        "    # Use the count method of tuple to find the number of occurrences\n",
        "    return tpl.count(element)\n",
        "\n",
        "# Example usage\n",
        "tpl = (1, 2, 3, 2, 1, 2, 4)\n",
        "element = 2\n",
        "count = count_occurrences(tpl, element)\n",
        "print(f\"The element {element} occurs {count} times in the tuple.\")\n"
      ],
      "metadata": {
        "colab": {
          "base_uri": "https://localhost:8080/"
        },
        "id": "Q1U9L8iH6gcF",
        "outputId": "e19089fe-d796-4381-9f69-4281c497d1a6"
      },
      "execution_count": 17,
      "outputs": [
        {
          "output_type": "stream",
          "name": "stdout",
          "text": [
            "The element 2 occurs 3 times in the tuple.\n"
          ]
        }
      ]
    },
    {
      "cell_type": "code",
      "source": [
        "#Q30) Develop a code that prompts the user to input two sets of strings. Then, print the symmetric difference of these two sets\n",
        "\n",
        "def get_set_from_input(prompt):\n",
        "    # Prompt the user for input and convert the comma-separated string to a set of strings\n",
        "    user_input = input(prompt)\n",
        "    return set(user_input.split(','))\n",
        "\n",
        "# Prompt the user for two sets of strings\n",
        "set1 = get_set_from_input(\"Enter the first set of strings (separated by commas): \")\n",
        "set2 = get_set_from_input(\"Enter the second set of strings (separated by commas): \")\n",
        "\n",
        "# Compute the symmetric difference of the two sets\n",
        "symmetric_difference = set1 ^ set2\n",
        "\n",
        "# Print the symmetric difference\n",
        "print(\"Symmetric difference of the two sets:\", symmetric_difference)\n"
      ],
      "metadata": {
        "colab": {
          "base_uri": "https://localhost:8080/"
        },
        "id": "8jEUUhii6r6P",
        "outputId": "07db6aa1-efdb-4544-bf80-acda1ee37eb2"
      },
      "execution_count": 18,
      "outputs": [
        {
          "output_type": "stream",
          "name": "stdout",
          "text": [
            "Enter the first set of strings (separated by commas):  apple,banana,cherry\n",
            "Enter the second set of strings (separated by commas): banana,cherry,date\n",
            "Symmetric difference of the two sets: {' apple', 'date'}\n"
          ]
        }
      ]
    },
    {
      "cell_type": "code",
      "source": [
        "#Q31) Write a code that takes a list of words as input and returns a dictionary where the keys are unique words and the values are the frequencies of those words in the input list\n",
        "\n",
        "def count_word_frequencies(word_list):\n",
        "    # Initialize an empty dictionary to store word frequencies\n",
        "    frequency_dict = {}\n",
        "\n",
        "    # Iterate over each word in the list\n",
        "    for word in word_list:\n",
        "        # Update the count of each word in the dictionary\n",
        "        if word in frequency_dict:\n",
        "            frequency_dict[word] += 1\n",
        "        else:\n",
        "            frequency_dict[word] = 1\n",
        "\n",
        "    return frequency_dict\n",
        "\n",
        "# Example usage\n",
        "word_list = input(\"Enter a list of words separated by spaces: \").split()\n",
        "frequency_dict = count_word_frequencies(word_list)\n",
        "print(frequency_dict)\n"
      ],
      "metadata": {
        "colab": {
          "base_uri": "https://localhost:8080/"
        },
        "id": "4I4GB1LI76xG",
        "outputId": "ba0dd34b-22a0-4753-87a3-564b9de60fba"
      },
      "execution_count": 20,
      "outputs": [
        {
          "output_type": "stream",
          "name": "stdout",
          "text": [
            "Enter a list of words separated by spaces: apple banana apple  orange  banana  apple\n",
            "{'apple': 3, 'banana': 2, 'orange': 1}\n"
          ]
        }
      ]
    },
    {
      "cell_type": "code",
      "source": [
        "#Q32) Write a code that takes two dictionaries as input and merges them into a single dictionary. If there are common keys, the values should be added together\n",
        "\n",
        "def merge_dictionaries(dict1, dict2):\n",
        "    # Create a new dictionary to store the merged result\n",
        "    merged_dict = dict1.copy()  # Start with a copy of the first dictionary\n",
        "\n",
        "    # Iterate over the items in the second dictionary\n",
        "    for key, value in dict2.items():\n",
        "        if key in merged_dict:\n",
        "            # Add the value to the existing key if it is already present\n",
        "            merged_dict[key] += value\n",
        "        else:\n",
        "            # Otherwise, add the new key-value pair\n",
        "            merged_dict[key] = value\n",
        "\n",
        "    return merged_dict\n",
        "\n",
        "# Example usage\n",
        "dict1 = {'a': 10, 'b': 20, 'c': 30}\n",
        "dict2 = {'b': 15, 'c': 5, 'd': 10}\n",
        "\n",
        "merged_dict = merge_dictionaries(dict1, dict2)\n",
        "print(merged_dict)\n"
      ],
      "metadata": {
        "colab": {
          "base_uri": "https://localhost:8080/"
        },
        "id": "WNdNTXCS8NiN",
        "outputId": "06210e8d-ab79-434c-d869-33451b4f4335"
      },
      "execution_count": 21,
      "outputs": [
        {
          "output_type": "stream",
          "name": "stdout",
          "text": [
            "{'a': 10, 'b': 35, 'c': 35, 'd': 10}\n"
          ]
        }
      ]
    },
    {
      "cell_type": "code",
      "source": [
        "#Q33) Write a code to access a value in a nested dictionary. The function should take the dictionary and a list of keys as input, and return the corresponding value. If any of the keys do not exist in the dictionary, the function should return None\n",
        "\n",
        "def get_nested_value(d, keys):\n",
        "    # Start with the input dictionary\n",
        "    current_value = d\n",
        "\n",
        "    # Iterate over each key in the list of keys\n",
        "    for key in keys:\n",
        "        # Check if the current value is a dictionary and the key exists\n",
        "        if isinstance(current_value, dict) and key in current_value:\n",
        "            # Update the current value to the value associated with the key\n",
        "            current_value = current_value[key]\n",
        "        else:\n",
        "            # Return None if the key does not exist or current_value is not a dictionary\n",
        "            return None\n",
        "\n",
        "    return current_value\n",
        "\n",
        "# Example usage\n",
        "nested_dict = {\n",
        "    'a': {\n",
        "        'b': {\n",
        "            'c': 10\n",
        "        }\n",
        "    }\n",
        "}\n",
        "keys = ['a', 'b', 'c']\n",
        "value = get_nested_value(nested_dict, keys)\n",
        "print(value)  # Output: 10\n",
        "\n",
        "# Test with a non-existent key\n",
        "keys = ['a', 'b', 'd']\n",
        "value = get_nested_value(nested_dict, keys)\n",
        "print(value)  # Output: None\n"
      ],
      "metadata": {
        "colab": {
          "base_uri": "https://localhost:8080/"
        },
        "id": "ubrH1MKZ8uiJ",
        "outputId": "3318a79d-e619-4d8e-d677-263e9a075636"
      },
      "execution_count": 22,
      "outputs": [
        {
          "output_type": "stream",
          "name": "stdout",
          "text": [
            "10\n",
            "None\n"
          ]
        }
      ]
    },
    {
      "cell_type": "code",
      "source": [
        "#Q34) Write a code that takes a dictionary as input and returns a sorted version of it based on the values. You can choose whether to sort in ascending or descending order\n",
        "\n",
        "def sort_dict_by_values(d, ascending=True):\n",
        "    # Sort the dictionary by its values\n",
        "    sorted_dict = dict(sorted(d.items(), key=lambda item: item[1], reverse=not ascending))\n",
        "    return sorted_dict\n",
        "\n",
        "# Example usage\n",
        "my_dict = {'a': 3, 'b': 1, 'c': 2}\n",
        "\n",
        "# Sort in ascending order\n",
        "sorted_asc = sort_dict_by_values(my_dict, ascending=True)\n",
        "print(\"Sorted in ascending order:\", sorted_asc)\n",
        "\n",
        "# Sort in descending order\n",
        "sorted_desc = sort_dict_by_values(my_dict, ascending=False)\n",
        "print(\"Sorted in descending order:\", sorted_desc)\n"
      ],
      "metadata": {
        "colab": {
          "base_uri": "https://localhost:8080/"
        },
        "id": "Qwt3sSoc89tQ",
        "outputId": "91cf9265-b39d-4952-880e-f65161a6a477"
      },
      "execution_count": 23,
      "outputs": [
        {
          "output_type": "stream",
          "name": "stdout",
          "text": [
            "Sorted in ascending order: {'b': 1, 'c': 2, 'a': 3}\n",
            "Sorted in descending order: {'a': 3, 'c': 2, 'b': 1}\n"
          ]
        }
      ]
    },
    {
      "cell_type": "code",
      "source": [
        "#Q35)Write a code that inverts a dictionary, swapping keys and values. Ensure that the inverted dictionary correctly handles cases where multiple keys have the same value by storing the keys as a list in the inverted dictionary\n",
        "\n",
        "def invert_dict(d):\n",
        "    # Initialize an empty dictionary for the inverted dictionary\n",
        "    inverted_dict = {}\n",
        "\n",
        "    # Iterate over the items in the original dictionary\n",
        "    for key, value in d.items():\n",
        "        # If the value is already a key in the inverted dictionary\n",
        "        if value in inverted_dict:\n",
        "            # Append the current key to the list of keys for this value\n",
        "            inverted_dict[value].append(key)\n",
        "        else:\n",
        "            # Otherwise, create a new entry with the value as the key and the key as the single-element list\n",
        "            inverted_dict[value] = [key]\n",
        "\n",
        "    return inverted_dict\n",
        "\n",
        "# Example usage\n",
        "original_dict = {'a': 1, 'b': 2, 'c': 1, 'd': 3}\n",
        "inverted_dict = invert_dict(original_dict)\n",
        "print(inverted_dict)\n"
      ],
      "metadata": {
        "colab": {
          "base_uri": "https://localhost:8080/"
        },
        "id": "YuhOZtIB9RSt",
        "outputId": "7df24cc2-b04b-435f-e6ee-3ceda792656c"
      },
      "execution_count": 24,
      "outputs": [
        {
          "output_type": "stream",
          "name": "stdout",
          "text": [
            "{1: ['a', 'c'], 2: ['b'], 3: ['d']}\n"
          ]
        }
      ]
    },
    {
      "cell_type": "code",
      "source": [],
      "metadata": {
        "id": "AaRJsA9W9efK"
      },
      "execution_count": null,
      "outputs": []
    }
  ]
}