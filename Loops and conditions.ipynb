{
 "cells": [
  {
   "cell_type": "code",
   "execution_count": null,
   "id": "728f15de-8d79-4297-a983-7494d492eaf0",
   "metadata": {},
   "outputs": [],
   "source": [
    "#loops \n",
    "# while loop\n",
    "# for loop"
   ]
  },
  {
   "cell_type": "code",
   "execution_count": 1,
   "id": "5525cf47-060b-485c-a674-7c76df11fb49",
   "metadata": {},
   "outputs": [
    {
     "name": "stdout",
     "output_type": "stream",
     "text": [
      "1\n",
      "2\n",
      "3\n",
      "4\n",
      "5\n",
      "6\n"
     ]
    }
   ],
   "source": [
    "n = 7\n",
    "i = 1\n",
    "while i<n:\n",
    "    print(i)\n",
    "    i = i+1"
   ]
  },
  {
   "cell_type": "code",
   "execution_count": 4,
   "id": "bc2c983e-a2ec-46b6-b38d-704bb9741586",
   "metadata": {},
   "outputs": [
    {
     "name": "stdout",
     "output_type": "stream",
     "text": [
      "10\n",
      "9\n",
      "8\n",
      "7\n",
      "6\n",
      "5\n",
      "4\n",
      "3\n",
      "2\n",
      "1\n"
     ]
    }
   ],
   "source": [
    "count = 10\n",
    "while count > 0:\n",
    "    print(count)\n",
    "    count = count - 1"
   ]
  },
  {
   "cell_type": "code",
   "execution_count": 5,
   "id": "70701ce1-99eb-4354-b951-e01f149e8d63",
   "metadata": {},
   "outputs": [
    {
     "name": "stdout",
     "output_type": "stream",
     "text": [
      "1\n",
      "2\n",
      "3\n",
      "4\n",
      "5\n",
      "6\n",
      "This will be executed when the while loop is run successfully\n"
     ]
    }
   ],
   "source": [
    "n = 7\n",
    "i = 1\n",
    "while i<n:\n",
    "    print(i)\n",
    "    i = i+1\n",
    "else: \n",
    "    print(\"This will be executed when the while loop is run successfully\")"
   ]
  },
  {
   "cell_type": "code",
   "execution_count": 6,
   "id": "8a0e66c7-fa04-4f23-b876-9b875efa7298",
   "metadata": {},
   "outputs": [
    {
     "name": "stdout",
     "output_type": "stream",
     "text": [
      "1\n",
      "2\n"
     ]
    }
   ],
   "source": [
    "n = 7 #break will \n",
    "i = 1\n",
    "while i<n:\n",
    "    print(i)\n",
    "    i = i+1\n",
    "    if i == 3:\n",
    "        break\n",
    "else: \n",
    "    print(\"This will be executed when the while loop is run successfully\")"
   ]
  },
  {
   "cell_type": "code",
   "execution_count": 11,
   "id": "29f52723-17da-43ed-a4e9-f8b8f8714fdb",
   "metadata": {},
   "outputs": [
    {
     "name": "stdout",
     "output_type": "stream",
     "text": [
      "2\n",
      "4\n",
      "5\n",
      "6\n",
      "7\n",
      "This will be executed when the while loop is run successfully\n"
     ]
    }
   ],
   "source": [
    "# continue will skip that iteration\n",
    "n = 7\n",
    "i = 1\n",
    "while i<n:\n",
    "    \n",
    "    i = i+1\n",
    "    if i == 3:\n",
    "        continue\n",
    "    print(i)    \n",
    "else: \n",
    "    print(\"This will be executed when the while loop is run successfully\")"
   ]
  },
  {
   "cell_type": "code",
   "execution_count": 13,
   "id": "0e36b97a-93de-4462-a09f-94eae63d6fdc",
   "metadata": {},
   "outputs": [
    {
     "name": "stdout",
     "output_type": "stream",
     "text": [
      "p\n",
      "w\n",
      "s\n",
      "k\n",
      "i\n",
      "l\n",
      "l\n",
      "s\n"
     ]
    }
   ],
   "source": [
    "# for loops >> iterate over a sequance of elements >> strings or list \n",
    "\n",
    "for char in \"pwskills\":\n",
    "    print(char)"
   ]
  },
  {
   "cell_type": "code",
   "execution_count": 14,
   "id": "ef17cf2e-889d-478f-a273-eb92db9b6b84",
   "metadata": {},
   "outputs": [
    {
     "name": "stdout",
     "output_type": "stream",
     "text": [
      "1\n",
      "2\n",
      "3\n",
      "4\n",
      "Ajay\n",
      "Pwskills\n"
     ]
    }
   ],
   "source": [
    "l = [ 1, 2, 3, 4, \"Ajay\", \"Pwskills\"]\n",
    "for i in l:\n",
    "    print(i)"
   ]
  },
  {
   "cell_type": "code",
   "execution_count": 15,
   "id": "4ef2e161-546a-4abc-b4c8-8ecf7e362ec1",
   "metadata": {},
   "outputs": [
    {
     "name": "stdout",
     "output_type": "stream",
     "text": [
      "1\n",
      "2\n",
      "3\n",
      "4\n",
      "Ajay\n",
      "Pwskills\n",
      "this will executed when loop ends without a break\n"
     ]
    }
   ],
   "source": [
    "l = [ 1, 2, 3, 4, \"Ajay\", \"P\"]\n",
    "for i in l:\n",
    "    print(i)\n",
    "else:\n",
    "    print(\"this will executed when loop ends without a break\")"
   ]
  },
  {
   "cell_type": "code",
   "execution_count": 21,
   "id": "2a9ff0dd-3412-49e5-bd8d-b775fcc97f7d",
   "metadata": {},
   "outputs": [
    {
     "name": "stdout",
     "output_type": "stream",
     "text": [
      "1\n",
      "2\n",
      "3\n",
      "4\n"
     ]
    }
   ],
   "source": [
    "l = [ 1, 2, 3, 4, \"Ajay\", \"P\"]\n",
    "for i in l:\n",
    "    \n",
    "    if i == \"Ajay\":\n",
    "        break\n",
    "    print(i)\n",
    "else:\n",
    "    print(\"this will executed when loop ends without a break\")"
   ]
  },
  {
   "cell_type": "code",
   "execution_count": 23,
   "id": "4bd93c2e-4840-4fe3-be9c-d9c530d28d35",
   "metadata": {},
   "outputs": [
    {
     "name": "stdout",
     "output_type": "stream",
     "text": [
      "1\n",
      "2\n",
      "3\n",
      "4\n",
      "Pranav\n",
      "this will executed when loop ends without a break\n"
     ]
    }
   ],
   "source": [
    "l = [ 1, 2, 3, 4, \"Ajay\", \"Pranav\"]\n",
    "for i in l:\n",
    "    \n",
    "    if i == \"Ajay\":\n",
    "        continue\n",
    "    print(i)\n",
    "else:\n",
    "    print(\"this will executed when loop ends without a break\")"
   ]
  },
  {
   "cell_type": "code",
   "execution_count": 24,
   "id": "9a7d659d-e5fc-4f70-8212-b629450423e6",
   "metadata": {},
   "outputs": [
    {
     "data": {
      "text/plain": [
       "[0, 1, 2, 3, 4, 5, 6, 7, 8, 9]"
      ]
     },
     "execution_count": 24,
     "metadata": {},
     "output_type": "execute_result"
    }
   ],
   "source": [
    "# use cases \n",
    "list(range(0,10)) # o is included and 10 will be excluded"
   ]
  },
  {
   "cell_type": "code",
   "execution_count": 25,
   "id": "5cf65402-f8ce-4bc3-abb6-2ebc57655ac3",
   "metadata": {},
   "outputs": [
    {
     "data": {
      "text/plain": [
       "[0, 2, 4, 6, 8]"
      ]
     },
     "execution_count": 25,
     "metadata": {},
     "output_type": "execute_result"
    }
   ],
   "source": [
    "#start:Stop:step\n",
    "list(range(0, 10, 2))"
   ]
  },
  {
   "cell_type": "code",
   "execution_count": 26,
   "id": "a23dbfd2-0c99-4fba-a011-f4c1c7911945",
   "metadata": {},
   "outputs": [
    {
     "data": {
      "text/plain": [
       "[0, 3, 6, 9]"
      ]
     },
     "execution_count": 26,
     "metadata": {},
     "output_type": "execute_result"
    }
   ],
   "source": [
    "list(range(0, 10, 3))"
   ]
  },
  {
   "cell_type": "code",
   "execution_count": 35,
   "id": "f444b734-d094-4365-ab2f-d8446299b53e",
   "metadata": {},
   "outputs": [
    {
     "name": "stdout",
     "output_type": "stream",
     "text": [
      "1 * 1 = 1\n",
      "1 * 2 = 2\n",
      "1 * 3 = 3\n",
      "1 * 4 = 4\n",
      "1 * 5 = 5\n",
      "1 * 6 = 6\n",
      "1 * 7 = 7\n",
      "1 * 8 = 8\n",
      "1 * 9 = 9\n",
      "1 * 10 = 10\n",
      "\n",
      "2 * 1 = 2\n",
      "2 * 2 = 4\n",
      "2 * 3 = 6\n",
      "2 * 4 = 8\n",
      "2 * 5 = 10\n",
      "2 * 6 = 12\n",
      "2 * 7 = 14\n",
      "2 * 8 = 16\n",
      "2 * 9 = 18\n",
      "2 * 10 = 20\n",
      "\n",
      "3 * 1 = 3\n",
      "3 * 2 = 6\n",
      "3 * 3 = 9\n",
      "3 * 4 = 12\n",
      "3 * 5 = 15\n",
      "3 * 6 = 18\n",
      "3 * 7 = 21\n",
      "3 * 8 = 24\n",
      "3 * 9 = 27\n",
      "3 * 10 = 30\n",
      "\n",
      "4 * 1 = 4\n",
      "4 * 2 = 8\n",
      "4 * 3 = 12\n",
      "4 * 4 = 16\n",
      "4 * 5 = 20\n",
      "4 * 6 = 24\n",
      "4 * 7 = 28\n",
      "4 * 8 = 32\n",
      "4 * 9 = 36\n",
      "4 * 10 = 40\n",
      "\n",
      "5 * 1 = 5\n",
      "5 * 2 = 10\n",
      "5 * 3 = 15\n",
      "5 * 4 = 20\n",
      "5 * 5 = 25\n",
      "5 * 6 = 30\n",
      "5 * 7 = 35\n",
      "5 * 8 = 40\n",
      "5 * 9 = 45\n",
      "5 * 10 = 50\n",
      "\n"
     ]
    }
   ],
   "source": [
    "for i in range(1,6):\n",
    "    for j in range(1,11):\n",
    "        product = i*j\n",
    "        print(f\"{i} * {j} = {product}\")\n",
    "    print()\n",
    "              \n"
   ]
  },
  {
   "cell_type": "code",
   "execution_count": 2,
   "id": "312dc24a-e693-4920-b71d-81d6579e2e94",
   "metadata": {},
   "outputs": [
    {
     "name": "stdout",
     "output_type": "stream",
     "text": [
      "* \n",
      "* * \n",
      "* * * \n",
      "* * * * \n",
      "* * * * * \n",
      "* * * * * * \n",
      "* * * * * * * \n",
      "* * * * * * * * \n",
      "* * * * * * * * * \n",
      "* * * * * * * * * * \n"
     ]
    }
   ],
   "source": [
    "#pattern using for loop\n",
    "for i in range(10):\n",
    "    for j in range(i+1):\n",
    "        print(\"*\", end = \" \")\n",
    "    print()    "
   ]
  },
  {
   "cell_type": "code",
   "execution_count": 41,
   "id": "9320f264-ea7f-4880-9832-d5404e9ba54e",
   "metadata": {},
   "outputs": [
    {
     "name": "stdout",
     "output_type": "stream",
     "text": [
      "pwskills"
     ]
    }
   ],
   "source": [
    "for i in \"pwskills\":\n",
    "    print(i , end = \"\")"
   ]
  },
  {
   "cell_type": "code",
   "execution_count": 1,
   "id": "388681c9-73bf-4f8e-875a-26e9fb55030c",
   "metadata": {},
   "outputs": [
    {
     "name": "stdout",
     "output_type": "stream",
     "text": [
      "* \n",
      "* * \n",
      "* * * \n",
      "* * * * \n"
     ]
    }
   ],
   "source": [
    "row = 1\n",
    "while row <= 4 :\n",
    "    col = 1\n",
    "    while col <= row:\n",
    "        print(\"*\", end = \" \")\n",
    "        col += 1\n",
    "    print()\n",
    "    row+=1"
   ]
  },
  {
   "cell_type": "code",
   "execution_count": 3,
   "id": "7e1b5208-4dc9-49ae-849c-f8ddb5bba0a6",
   "metadata": {},
   "outputs": [],
   "source": [
    "# data structure "
   ]
  },
  {
   "cell_type": "code",
   "execution_count": null,
   "id": "a4ac68ff-bb01-4784-a82d-e28138b8efb7",
   "metadata": {},
   "outputs": [],
   "source": []
  }
 ],
 "metadata": {
  "kernelspec": {
   "display_name": "Python 3 (ipykernel)",
   "language": "python",
   "name": "python3"
  },
  "language_info": {
   "codemirror_mode": {
    "name": "ipython",
    "version": 3
   },
   "file_extension": ".py",
   "mimetype": "text/x-python",
   "name": "python",
   "nbconvert_exporter": "python",
   "pygments_lexer": "ipython3",
   "version": "3.10.8"
  }
 },
 "nbformat": 4,
 "nbformat_minor": 5
}
