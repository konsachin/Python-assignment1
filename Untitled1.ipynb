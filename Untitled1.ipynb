{
 "cells": [
  {
   "cell_type": "code",
   "execution_count": 5,
   "id": "89343e55-8d5d-4b9f-9826-46b6944ddb17",
   "metadata": {},
   "outputs": [
    {
     "name": "stdout",
     "output_type": "stream",
     "text": [
      "p\n",
      "w\n",
      "s\n",
      "k\n",
      "i\n",
      "l\n",
      "l\n",
      "s\n"
     ]
    }
   ],
   "source": [
    "#iterables >> data structures that can produce its elements one by one \n",
    "s = \"pwskills\"\n",
    "for i in s:\n",
    "    print(i)"
   ]
  },
  {
   "cell_type": "code",
   "execution_count": 2,
   "id": "84185516-d30a-4086-90f4-037153cae833",
   "metadata": {},
   "outputs": [
    {
     "data": {
      "text/plain": [
       "'pwskills'"
      ]
     },
     "execution_count": 2,
     "metadata": {},
     "output_type": "execute_result"
    }
   ],
   "source": [
    "s"
   ]
  },
  {
   "cell_type": "code",
   "execution_count": 6,
   "id": "2934d835-0cce-4f2f-ac56-4f340a7b648e",
   "metadata": {},
   "outputs": [
    {
     "name": "stdout",
     "output_type": "stream",
     "text": [
      "1\n",
      "2\n",
      "3\n",
      "4\n"
     ]
    }
   ],
   "source": [
    "l = [1,2,3,4]\n",
    "for i in l:\n",
    "    print(i)"
   ]
  },
  {
   "cell_type": "code",
   "execution_count": 7,
   "id": "63647693-8983-4959-94ca-34046eed5025",
   "metadata": {},
   "outputs": [
    {
     "ename": "TypeError",
     "evalue": "'int' object is not iterable",
     "output_type": "error",
     "traceback": [
      "\u001b[0;31m---------------------------------------------------------------------------\u001b[0m",
      "\u001b[0;31mTypeError\u001b[0m                                 Traceback (most recent call last)",
      "Cell \u001b[0;32mIn[7], line 1\u001b[0m\n\u001b[0;32m----> 1\u001b[0m \u001b[38;5;28;01mfor\u001b[39;00m i \u001b[38;5;129;01min\u001b[39;00m \u001b[38;5;241m5\u001b[39m:\n\u001b[1;32m      2\u001b[0m     \u001b[38;5;28mprint\u001b[39m(i)\n",
      "\u001b[0;31mTypeError\u001b[0m: 'int' object is not iterable"
     ]
    }
   ],
   "source": [
    "for i in 5:\n",
    "    print(i)"
   ]
  },
  {
   "cell_type": "code",
   "execution_count": 8,
   "id": "ce0437f5-74ef-499d-aa84-78d202c48846",
   "metadata": {},
   "outputs": [],
   "source": [
    "#iterator if something is iterable, then you will only iterate\n",
    "#how to know?\n",
    "#iterator >> iterable object >> anything which you can convert in iterator object is iterable"
   ]
  },
  {
   "cell_type": "code",
   "execution_count": 10,
   "id": "7fa6a771-6d60-42a5-a729-24fd1a791a84",
   "metadata": {},
   "outputs": [],
   "source": [
    "s = \"pwskills\" #something>> if it can cooked or not"
   ]
  },
  {
   "cell_type": "code",
   "execution_count": 11,
   "id": "ad17ae9e-1aa9-4827-aa6f-95bc723b183d",
   "metadata": {},
   "outputs": [
    {
     "data": {
      "text/plain": [
       "'pwskills'"
      ]
     },
     "execution_count": 11,
     "metadata": {},
     "output_type": "execute_result"
    }
   ],
   "source": [
    "s"
   ]
  },
  {
   "cell_type": "code",
   "execution_count": 13,
   "id": "db44417b-cb71-45af-ad19-5c963a630a22",
   "metadata": {},
   "outputs": [],
   "source": [
    "a= iter(s) #if its create an iterator object then you say it is iterable "
   ]
  },
  {
   "cell_type": "code",
   "execution_count": 14,
   "id": "39a2b282-59b4-4ca7-924d-611cb720f76c",
   "metadata": {},
   "outputs": [
    {
     "data": {
      "text/plain": [
       "'p'"
      ]
     },
     "execution_count": 14,
     "metadata": {},
     "output_type": "execute_result"
    }
   ],
   "source": [
    "next(a)"
   ]
  },
  {
   "cell_type": "code",
   "execution_count": 15,
   "id": "747fed2b-64bf-401d-9497-b58b9619ef49",
   "metadata": {},
   "outputs": [
    {
     "data": {
      "text/plain": [
       "'w'"
      ]
     },
     "execution_count": 15,
     "metadata": {},
     "output_type": "execute_result"
    }
   ],
   "source": [
    "next(a)"
   ]
  },
  {
   "cell_type": "code",
   "execution_count": 17,
   "id": "5ee10337-d670-49f2-b79b-8b43fe795966",
   "metadata": {},
   "outputs": [
    {
     "ename": "TypeError",
     "evalue": "'int' object is not iterable",
     "output_type": "error",
     "traceback": [
      "\u001b[0;31m---------------------------------------------------------------------------\u001b[0m",
      "\u001b[0;31mTypeError\u001b[0m                                 Traceback (most recent call last)",
      "Cell \u001b[0;32mIn[17], line 1\u001b[0m\n\u001b[0;32m----> 1\u001b[0m \u001b[38;5;28;01mfor\u001b[39;00m i \u001b[38;5;129;01min\u001b[39;00m \u001b[38;5;241m5\u001b[39m:\n\u001b[1;32m      2\u001b[0m     \u001b[38;5;28mprint\u001b[39m(i)\n",
      "\u001b[0;31mTypeError\u001b[0m: 'int' object is not iterable"
     ]
    }
   ],
   "source": [
    "for i in 5:\n",
    "    print(i)"
   ]
  },
  {
   "cell_type": "code",
   "execution_count": 18,
   "id": "806e9117-ed97-4f8c-b69e-1f20085526ea",
   "metadata": {},
   "outputs": [
    {
     "ename": "TypeError",
     "evalue": "'int' object is not iterable",
     "output_type": "error",
     "traceback": [
      "\u001b[0;31m---------------------------------------------------------------------------\u001b[0m",
      "\u001b[0;31mTypeError\u001b[0m                                 Traceback (most recent call last)",
      "Cell \u001b[0;32mIn[18], line 1\u001b[0m\n\u001b[0;32m----> 1\u001b[0m \u001b[38;5;28;43miter\u001b[39;49m\u001b[43m(\u001b[49m\u001b[38;5;241;43m5\u001b[39;49m\u001b[43m)\u001b[49m\n",
      "\u001b[0;31mTypeError\u001b[0m: 'int' object is not iterable"
     ]
    }
   ],
   "source": [
    "iter(5)"
   ]
  },
  {
   "cell_type": "code",
   "execution_count": 19,
   "id": "88ed0a23-ead1-4a86-8930-5830554c5ecb",
   "metadata": {},
   "outputs": [
    {
     "data": {
      "text/plain": [
       "<list_iterator at 0x7f5ea23da050>"
      ]
     },
     "execution_count": 19,
     "metadata": {},
     "output_type": "execute_result"
    }
   ],
   "source": [
    "l = [1,2,3,4,5]\n",
    "iter(l)"
   ]
  },
  {
   "cell_type": "code",
   "execution_count": 20,
   "id": "305d00b8-982f-4e94-b07e-848f3169236d",
   "metadata": {},
   "outputs": [
    {
     "data": {
      "text/plain": [
       "<set_iterator at 0x7f5ea23eff40>"
      ]
     },
     "execution_count": 20,
     "metadata": {},
     "output_type": "execute_result"
    }
   ],
   "source": [
    "s = {1,2,3}\n",
    "iter(s)"
   ]
  },
  {
   "cell_type": "code",
   "execution_count": 21,
   "id": "1759efa8-af2c-486e-b88e-9d1a4847a6ce",
   "metadata": {},
   "outputs": [],
   "source": [
    "#genrated function\n",
    "#genrateor function is a type of function which does not return a single value, istead returns an itertor object "
   ]
  },
  {
   "cell_type": "code",
   "execution_count": 22,
   "id": "5b209845-c831-40dc-b230-7f0baa78e051",
   "metadata": {},
   "outputs": [],
   "source": [
    "#regular function to square a no\n",
    "def square_no(n):\n",
    "    result = []\n",
    "    for i in range(n):\n",
    "        result.append(i**2)\n",
    "    return result     "
   ]
  },
  {
   "cell_type": "code",
   "execution_count": 23,
   "id": "58799a83-081b-4f50-86e1-1364fc06f644",
   "metadata": {},
   "outputs": [
    {
     "data": {
      "text/plain": [
       "[0, 1, 4, 9, 16, 25, 36, 49, 64, 81]"
      ]
     },
     "execution_count": 23,
     "metadata": {},
     "output_type": "execute_result"
    }
   ],
   "source": [
    "square_no(10)"
   ]
  },
  {
   "cell_type": "code",
   "execution_count": 24,
   "id": "1d9f8714-de11-41c3-a47d-686039d91c6d",
   "metadata": {},
   "outputs": [],
   "source": [
    "def square_generators(n):\n",
    "    result = []\n",
    "    for i in range(n):\n",
    "        yield i**2\n",
    "      "
   ]
  },
  {
   "cell_type": "code",
   "execution_count": 25,
   "id": "cdbbcfbb-091f-4929-afe5-10f885be119c",
   "metadata": {},
   "outputs": [],
   "source": [
    "gen = square_generators(10000000000)"
   ]
  },
  {
   "cell_type": "code",
   "execution_count": 26,
   "id": "0e4a5dc2-c196-4961-8377-fe540efbd382",
   "metadata": {},
   "outputs": [
    {
     "data": {
      "text/plain": [
       "0"
      ]
     },
     "execution_count": 26,
     "metadata": {},
     "output_type": "execute_result"
    }
   ],
   "source": [
    "next(gen)"
   ]
  },
  {
   "cell_type": "code",
   "execution_count": 27,
   "id": "62c0185c-4dcc-4225-946d-61e0b9b292d3",
   "metadata": {},
   "outputs": [
    {
     "data": {
      "text/plain": [
       "1"
      ]
     },
     "execution_count": 27,
     "metadata": {},
     "output_type": "execute_result"
    }
   ],
   "source": [
    "next(gen)"
   ]
  },
  {
   "cell_type": "code",
   "execution_count": 28,
   "id": "f4e832f3-b4df-42b4-8f0a-1fe44ca4fb67",
   "metadata": {},
   "outputs": [],
   "source": [
    "#Fibonacci series as a generator function \n",
    "\n",
    "def fib(n):\n",
    "    a = 0 \n",
    "    b = 1\n",
    "    for i in range(n):\n",
    "        yield a \n",
    "        a, b = b, a+b"
   ]
  },
  {
   "cell_type": "code",
   "execution_count": 29,
   "id": "8b8be527-39c1-40c0-9c42-f6bb88f88193",
   "metadata": {},
   "outputs": [],
   "source": [
    "f = fib(1000000000)"
   ]
  },
  {
   "cell_type": "code",
   "execution_count": 30,
   "id": "e2d7164c-3946-47f5-b50b-fe3acb94ddbd",
   "metadata": {},
   "outputs": [
    {
     "data": {
      "text/plain": [
       "0"
      ]
     },
     "execution_count": 30,
     "metadata": {},
     "output_type": "execute_result"
    }
   ],
   "source": [
    "next(f)"
   ]
  },
  {
   "cell_type": "code",
   "execution_count": 31,
   "id": "ee50a21e-e43c-476d-99dd-9e4fb9a18a4d",
   "metadata": {},
   "outputs": [
    {
     "data": {
      "text/plain": [
       "1"
      ]
     },
     "execution_count": 31,
     "metadata": {},
     "output_type": "execute_result"
    }
   ],
   "source": [
    "next(f)"
   ]
  },
  {
   "cell_type": "code",
   "execution_count": 32,
   "id": "32ed7b14-df2f-478d-b170-4a68bbaee9cc",
   "metadata": {},
   "outputs": [
    {
     "data": {
      "text/plain": [
       "1"
      ]
     },
     "execution_count": 32,
     "metadata": {},
     "output_type": "execute_result"
    }
   ],
   "source": [
    "next(f)"
   ]
  },
  {
   "cell_type": "code",
   "execution_count": null,
   "id": "77efa170-11cd-44ce-b449-7e310daf75d8",
   "metadata": {},
   "outputs": [],
   "source": []
  }
 ],
 "metadata": {
  "kernelspec": {
   "display_name": "Python 3 (ipykernel)",
   "language": "python",
   "name": "python3"
  },
  "language_info": {
   "codemirror_mode": {
    "name": "ipython",
    "version": 3
   },
   "file_extension": ".py",
   "mimetype": "text/x-python",
   "name": "python",
   "nbconvert_exporter": "python",
   "pygments_lexer": "ipython3",
   "version": "3.10.8"
  }
 },
 "nbformat": 4,
 "nbformat_minor": 5
}
