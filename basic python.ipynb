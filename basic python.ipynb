{
 "cells": [
  {
   "cell_type": "code",
   "execution_count": 1,
   "id": "ef546efa-5c1b-4648-8b53-34191e3a3999",
   "metadata": {},
   "outputs": [
    {
     "name": "stdout",
     "output_type": "stream",
     "text": [
      "hello world\n"
     ]
    }
   ],
   "source": [
    "print(\"hello world\")"
   ]
  },
  {
   "cell_type": "code",
   "execution_count": 2,
   "id": "d7557c61-69a0-43af-901d-6142d027e40a",
   "metadata": {},
   "outputs": [
    {
     "name": "stdout",
     "output_type": "stream",
     "text": [
      "1\n"
     ]
    }
   ],
   "source": [
    "a = 1\n",
    "print(a)"
   ]
  },
  {
   "cell_type": "code",
   "execution_count": 4,
   "id": "24ba4940-c6a7-4d53-8800-8cad87c9b08a",
   "metadata": {},
   "outputs": [
    {
     "name": "stdout",
     "output_type": "stream",
     "text": [
      "<class 'int'>\n"
     ]
    }
   ],
   "source": [
    "print(type(a))"
   ]
  },
  {
   "cell_type": "markdown",
   "id": "968b8000-da86-4d3f-b8ea-b47ceda92bf0",
   "metadata": {},
   "source": [
    "a is variable,  variables are placeholders where we will keep variety of data using which we can write "
   ]
  },
  {
   "cell_type": "markdown",
   "id": "9d08f335-e3ac-4827-8565-3418495fb6fa",
   "metadata": {},
   "source": [
    "# Basics\n",
    "\n",
    " - variables\n",
    " - keywords"
   ]
  },
  {
   "cell_type": "code",
   "execution_count": 6,
   "id": "e60de60f-0e4a-43da-94c7-9c9b132543b8",
   "metadata": {},
   "outputs": [],
   "source": [
    "a = 3 "
   ]
  },
  {
   "cell_type": "code",
   "execution_count": 7,
   "id": "aae33c89-12fb-45e1-9b07-2430d019fdd1",
   "metadata": {},
   "outputs": [
    {
     "data": {
      "text/plain": [
       "int"
      ]
     },
     "execution_count": 7,
     "metadata": {},
     "output_type": "execute_result"
    }
   ],
   "source": [
    "type(a)"
   ]
  },
  {
   "cell_type": "code",
   "execution_count": 8,
   "id": "51bc7f2e-8db5-4a46-aa0e-d8c9bcde74b5",
   "metadata": {},
   "outputs": [],
   "source": [
    "c = 0.3 "
   ]
  },
  {
   "cell_type": "code",
   "execution_count": 9,
   "id": "359456d2-2da4-45df-a532-f8750e1d561d",
   "metadata": {},
   "outputs": [
    {
     "data": {
      "text/plain": [
       "float"
      ]
     },
     "execution_count": 9,
     "metadata": {},
     "output_type": "execute_result"
    }
   ],
   "source": [
    "type(c)"
   ]
  },
  {
   "cell_type": "code",
   "execution_count": 10,
   "id": "49f5249b-3cfc-47af-a1c8-ccb4c4ff913a",
   "metadata": {},
   "outputs": [],
   "source": [
    "d = \"Sachin\""
   ]
  },
  {
   "cell_type": "code",
   "execution_count": 11,
   "id": "76c2365d-aef7-4578-90d9-d16d5d8981b5",
   "metadata": {},
   "outputs": [
    {
     "data": {
      "text/plain": [
       "str"
      ]
     },
     "execution_count": 11,
     "metadata": {},
     "output_type": "execute_result"
    }
   ],
   "source": [
    "type(d)"
   ]
  },
  {
   "cell_type": "code",
   "execution_count": 12,
   "id": "eb4d0ffb-eced-4eff-af25-627318efd984",
   "metadata": {},
   "outputs": [],
   "source": [
    "a = 5j"
   ]
  },
  {
   "cell_type": "code",
   "execution_count": 13,
   "id": "47724be5-6071-46c2-99ea-6c7b7d4d7fde",
   "metadata": {},
   "outputs": [
    {
     "data": {
      "text/plain": [
       "complex"
      ]
     },
     "execution_count": 13,
     "metadata": {},
     "output_type": "execute_result"
    }
   ],
   "source": [
    "type(a)"
   ]
  },
  {
   "cell_type": "code",
   "execution_count": 14,
   "id": "6deb3172-f0f8-4d26-b3c5-69cce79cc4a1",
   "metadata": {},
   "outputs": [],
   "source": [
    "a = True"
   ]
  },
  {
   "cell_type": "code",
   "execution_count": 15,
   "id": "c3452beb-1c71-47a9-9246-ac1beed81c5a",
   "metadata": {},
   "outputs": [
    {
     "data": {
      "text/plain": [
       "bool"
      ]
     },
     "execution_count": 15,
     "metadata": {},
     "output_type": "execute_result"
    }
   ],
   "source": [
    "type(a)"
   ]
  },
  {
   "cell_type": "code",
   "execution_count": 16,
   "id": "aa1e687b-50f5-4d42-a335-1e64012abfd3",
   "metadata": {},
   "outputs": [
    {
     "data": {
      "text/plain": [
       "complex"
      ]
     },
     "execution_count": 16,
     "metadata": {},
     "output_type": "execute_result"
    }
   ],
   "source": [
    "c = 5+6j\n",
    "type(c)"
   ]
  },
  {
   "cell_type": "code",
   "execution_count": 17,
   "id": "97a53c55-08ab-4213-a5ab-aece7331db1f",
   "metadata": {},
   "outputs": [
    {
     "data": {
      "text/plain": [
       "5.0"
      ]
     },
     "execution_count": 17,
     "metadata": {},
     "output_type": "execute_result"
    }
   ],
   "source": [
    "c.real"
   ]
  },
  {
   "cell_type": "code",
   "execution_count": 18,
   "id": "2ca09fad-cdbc-498e-b0d7-686baba132e0",
   "metadata": {},
   "outputs": [
    {
     "data": {
      "text/plain": [
       "6.0"
      ]
     },
     "execution_count": 18,
     "metadata": {},
     "output_type": "execute_result"
    }
   ],
   "source": [
    "c.imag"
   ]
  },
  {
   "cell_type": "code",
   "execution_count": 19,
   "id": "5571d6aa-ae33-4836-87d3-3862e9027683",
   "metadata": {},
   "outputs": [],
   "source": [
    "# rules of defining a variables \n",
    "\n",
    "#variable should only start with a letter or underscore"
   ]
  },
  {
   "cell_type": "code",
   "execution_count": 20,
   "id": "d6d8254b-1810-4220-8d52-d290d445629d",
   "metadata": {},
   "outputs": [
    {
     "name": "stdout",
     "output_type": "stream",
     "text": [
      "\n",
      "Here is a list of the Python keywords.  Enter any keyword to get more help.\n",
      "\n",
      "False               class               from                or\n",
      "None                continue            global              pass\n",
      "True                def                 if                  raise\n",
      "and                 del                 import              return\n",
      "as                  elif                in                  try\n",
      "assert              else                is                  while\n",
      "async               except              lambda              with\n",
      "await               finally             nonlocal            yield\n",
      "break               for                 not                 \n",
      "\n"
     ]
    }
   ],
   "source": [
    "help('keywords')"
   ]
  },
  {
   "cell_type": "code",
   "execution_count": 21,
   "id": "ecc389e1-b730-4e90-a571-9c628f168e21",
   "metadata": {},
   "outputs": [
    {
     "data": {
      "text/plain": [
       "str"
      ]
     },
     "execution_count": 21,
     "metadata": {},
     "output_type": "execute_result"
    }
   ],
   "source": [
    "a = \"7.8\"\n",
    "type(a)"
   ]
  },
  {
   "cell_type": "code",
   "execution_count": 22,
   "id": "9ee124e6-e6d6-4c91-a472-97f7860aa2de",
   "metadata": {},
   "outputs": [
    {
     "data": {
      "text/plain": [
       "str"
      ]
     },
     "execution_count": 22,
     "metadata": {},
     "output_type": "execute_result"
    }
   ],
   "source": [
    "a = \"5\"\n",
    "type(a)"
   ]
  },
  {
   "cell_type": "code",
   "execution_count": 24,
   "id": "ad075c53-e99b-4c93-af7b-f908869e6643",
   "metadata": {},
   "outputs": [],
   "source": [
    "# python is a case sensitive langauge "
   ]
  },
  {
   "cell_type": "code",
   "execution_count": 25,
   "id": "d5eda838-8b71-4c55-a561-7e616267371d",
   "metadata": {},
   "outputs": [],
   "source": [
    "#mutability and immutability "
   ]
  },
  {
   "cell_type": "code",
   "execution_count": 30,
   "id": "f7b06417-65a8-4e20-bab7-c64a2372b955",
   "metadata": {},
   "outputs": [],
   "source": [
    "a = \"ajay\""
   ]
  },
  {
   "cell_type": "code",
   "execution_count": 31,
   "id": "863073de-148f-441d-9e6f-b00c4cb2d62f",
   "metadata": {},
   "outputs": [
    {
     "data": {
      "text/plain": [
       "'j'"
      ]
     },
     "execution_count": 31,
     "metadata": {},
     "output_type": "execute_result"
    }
   ],
   "source": [
    "a[1]"
   ]
  },
  {
   "cell_type": "code",
   "execution_count": 32,
   "id": "53eaf908-8155-4aba-b020-8b9b5146be76",
   "metadata": {},
   "outputs": [
    {
     "data": {
      "text/plain": [
       "'j'"
      ]
     },
     "execution_count": 32,
     "metadata": {},
     "output_type": "execute_result"
    }
   ],
   "source": [
    "a[-3]"
   ]
  },
  {
   "cell_type": "code",
   "execution_count": 33,
   "id": "86e45890-a8e0-4567-8a3c-fccc970c2167",
   "metadata": {},
   "outputs": [
    {
     "ename": "TypeError",
     "evalue": "'str' object does not support item assignment",
     "output_type": "error",
     "traceback": [
      "\u001b[0;31m---------------------------------------------------------------------------\u001b[0m",
      "\u001b[0;31mTypeError\u001b[0m                                 Traceback (most recent call last)",
      "Cell \u001b[0;32mIn[33], line 1\u001b[0m\n\u001b[0;32m----> 1\u001b[0m \u001b[43ma\u001b[49m\u001b[43m[\u001b[49m\u001b[38;5;241;43m0\u001b[39;49m\u001b[43m]\u001b[49m \u001b[38;5;241m=\u001b[39m \u001b[38;5;124m\"\u001b[39m\u001b[38;5;124mw\u001b[39m\u001b[38;5;124m\"\u001b[39m\n",
      "\u001b[0;31mTypeError\u001b[0m: 'str' object does not support item assignment"
     ]
    }
   ],
   "source": [
    "a[0] = \"w\""
   ]
  },
  {
   "cell_type": "code",
   "execution_count": 37,
   "id": "05ca77a0-ad29-4c10-802b-2eecf9619563",
   "metadata": {},
   "outputs": [],
   "source": [
    "l = [\"sachin\", \"pavan\", 5, 9.0]"
   ]
  },
  {
   "cell_type": "code",
   "execution_count": 38,
   "id": "6af2978b-a18d-4121-9646-03b7924a2757",
   "metadata": {},
   "outputs": [
    {
     "data": {
      "text/plain": [
       "list"
      ]
     },
     "execution_count": 38,
     "metadata": {},
     "output_type": "execute_result"
    }
   ],
   "source": [
    "type(l)"
   ]
  },
  {
   "cell_type": "code",
   "execution_count": 39,
   "id": "5e8f2802-6283-47ad-bcb1-bcdb049ecee0",
   "metadata": {},
   "outputs": [
    {
     "data": {
      "text/plain": [
       "'sachin'"
      ]
     },
     "execution_count": 39,
     "metadata": {},
     "output_type": "execute_result"
    }
   ],
   "source": [
    "l[0]"
   ]
  },
  {
   "cell_type": "code",
   "execution_count": 40,
   "id": "cf752f1c-8e5b-4df3-abc9-01f2efb7288a",
   "metadata": {},
   "outputs": [
    {
     "data": {
      "text/plain": [
       "6"
      ]
     },
     "execution_count": 40,
     "metadata": {},
     "output_type": "execute_result"
    }
   ],
   "source": [
    "# Operators \n",
    "# python operators\n",
    "#1) Arithmatic operator (+,-,*,/)\n",
    "#2) comparison operator \n",
    "#3) logical operator \n",
    "#4) bitwise operator\n",
    "#5) membership operator\n",
    "#6) identity operator \n"
   ]
  },
  {
   "cell_type": "code",
   "execution_count": 41,
   "id": "1125913b-f982-4c6a-b8c5-958ed92646f8",
   "metadata": {},
   "outputs": [],
   "source": [
    "a = 5\n",
    "b = 6 "
   ]
  },
  {
   "cell_type": "code",
   "execution_count": 42,
   "id": "360d3a2f-ddff-45b0-873d-c3ff46c597e2",
   "metadata": {},
   "outputs": [
    {
     "data": {
      "text/plain": [
       "11"
      ]
     },
     "execution_count": 42,
     "metadata": {},
     "output_type": "execute_result"
    }
   ],
   "source": [
    "# Arithmatic operators \n",
    "a+b "
   ]
  },
  {
   "cell_type": "code",
   "execution_count": 43,
   "id": "1b5aa9fc-35bc-4846-93e4-b10fded81cb8",
   "metadata": {},
   "outputs": [
    {
     "data": {
      "text/plain": [
       "11"
      ]
     },
     "execution_count": 43,
     "metadata": {},
     "output_type": "execute_result"
    }
   ],
   "source": [
    "add = a+b\n",
    "add"
   ]
  },
  {
   "cell_type": "code",
   "execution_count": 44,
   "id": "6187f3dd-97c9-4802-8bf2-b86336800760",
   "metadata": {},
   "outputs": [
    {
     "data": {
      "text/plain": [
       "2"
      ]
     },
     "execution_count": 44,
     "metadata": {},
     "output_type": "execute_result"
    }
   ],
   "source": [
    "3-1"
   ]
  },
  {
   "cell_type": "code",
   "execution_count": 45,
   "id": "1efadfe1-78c3-4baa-8552-652de3c0d785",
   "metadata": {},
   "outputs": [
    {
     "data": {
      "text/plain": [
       "9"
      ]
     },
     "execution_count": 45,
     "metadata": {},
     "output_type": "execute_result"
    }
   ],
   "source": [
    "3 * 3"
   ]
  },
  {
   "cell_type": "code",
   "execution_count": 46,
   "id": "02e1fb1b-9eec-4dfc-99cf-2d1e95dd0096",
   "metadata": {},
   "outputs": [
    {
     "data": {
      "text/plain": [
       "40"
      ]
     },
     "execution_count": 46,
     "metadata": {},
     "output_type": "execute_result"
    }
   ],
   "source": [
    "5*8"
   ]
  },
  {
   "cell_type": "code",
   "execution_count": 47,
   "id": "88f32432-c456-4b1c-befd-c21b979d94ca",
   "metadata": {},
   "outputs": [
    {
     "data": {
      "text/plain": [
       "5.25"
      ]
     },
     "execution_count": 47,
     "metadata": {},
     "output_type": "execute_result"
    }
   ],
   "source": [
    "21 / 4"
   ]
  },
  {
   "cell_type": "code",
   "execution_count": 49,
   "id": "d9fd6766-2fc8-4100-b9ab-24fec767ad93",
   "metadata": {},
   "outputs": [
    {
     "ename": "IndentationError",
     "evalue": "unexpected indent (645780101.py, line 2)",
     "output_type": "error",
     "traceback": [
      "\u001b[0;36m  Cell \u001b[0;32mIn[49], line 2\u001b[0;36m\u001b[0m\n\u001b[0;31m    17 % 4\u001b[0m\n\u001b[0m    ^\u001b[0m\n\u001b[0;31mIndentationError\u001b[0m\u001b[0;31m:\u001b[0m unexpected indent\n"
     ]
    }
   ],
   "source": [
    "# modulus operator \n",
    " 17 % 4 "
   ]
  },
  {
   "cell_type": "code",
   "execution_count": 50,
   "id": "114b5de3-3f61-4b5f-b03f-f9c4cf1fcba8",
   "metadata": {},
   "outputs": [
    {
     "data": {
      "text/plain": [
       "16"
      ]
     },
     "execution_count": 50,
     "metadata": {},
     "output_type": "execute_result"
    }
   ],
   "source": [
    "2 ** 4"
   ]
  },
  {
   "cell_type": "code",
   "execution_count": 51,
   "id": "5a654688-305a-416e-b4fa-f26cdc775cac",
   "metadata": {},
   "outputs": [
    {
     "data": {
      "text/plain": [
       "True"
      ]
     },
     "execution_count": 51,
     "metadata": {},
     "output_type": "execute_result"
    }
   ],
   "source": [
    "#comparison operator > compare two values/objects >\n",
    "\n",
    "2 == 2\n"
   ]
  },
  {
   "cell_type": "code",
   "execution_count": 52,
   "id": "c97ca52e-d469-4b1c-949c-1a0c1128d7fd",
   "metadata": {},
   "outputs": [
    {
     "data": {
      "text/plain": [
       "False"
      ]
     },
     "execution_count": 52,
     "metadata": {},
     "output_type": "execute_result"
    }
   ],
   "source": [
    "2 != 2"
   ]
  },
  {
   "cell_type": "code",
   "execution_count": 53,
   "id": "b81c9e89-31b9-44ab-9d10-7f0a27e2a9a6",
   "metadata": {},
   "outputs": [
    {
     "data": {
      "text/plain": [
       "True"
      ]
     },
     "execution_count": 53,
     "metadata": {},
     "output_type": "execute_result"
    }
   ],
   "source": [
    "5 != 2"
   ]
  },
  {
   "cell_type": "code",
   "execution_count": 54,
   "id": "b9bdd9ed-b23e-4569-9a78-741c8d41fa9f",
   "metadata": {},
   "outputs": [
    {
     "data": {
      "text/plain": [
       "True"
      ]
     },
     "execution_count": 54,
     "metadata": {},
     "output_type": "execute_result"
    }
   ],
   "source": [
    "5 > 2"
   ]
  },
  {
   "cell_type": "code",
   "execution_count": 55,
   "id": "7f76b890-23cd-4b70-9853-c997078fbfc7",
   "metadata": {},
   "outputs": [
    {
     "data": {
      "text/plain": [
       "False"
      ]
     },
     "execution_count": 55,
     "metadata": {},
     "output_type": "execute_result"
    }
   ],
   "source": [
    "5 > 5 "
   ]
  },
  {
   "cell_type": "code",
   "execution_count": 56,
   "id": "4d1368a0-cb78-472e-b686-ab07f1aada4d",
   "metadata": {},
   "outputs": [
    {
     "data": {
      "text/plain": [
       "True"
      ]
     },
     "execution_count": 56,
     "metadata": {},
     "output_type": "execute_result"
    }
   ],
   "source": [
    "5 >= 5"
   ]
  },
  {
   "cell_type": "code",
   "execution_count": 57,
   "id": "a8343230-54ef-4a05-9917-e2c66cfefce6",
   "metadata": {},
   "outputs": [
    {
     "data": {
      "text/plain": [
       "True"
      ]
     },
     "execution_count": 57,
     "metadata": {},
     "output_type": "execute_result"
    }
   ],
   "source": [
    "# logical operator = and or not \n",
    "\n",
    "True and True"
   ]
  },
  {
   "cell_type": "code",
   "execution_count": 58,
   "id": "19fa847e-d790-4af4-8fa2-215068c3272a",
   "metadata": {},
   "outputs": [
    {
     "data": {
      "text/plain": [
       "False"
      ]
     },
     "execution_count": 58,
     "metadata": {},
     "output_type": "execute_result"
    }
   ],
   "source": [
    "False and False"
   ]
  },
  {
   "cell_type": "code",
   "execution_count": 59,
   "id": "339e9c7f-d8f9-44be-99a9-42279153f11d",
   "metadata": {},
   "outputs": [
    {
     "data": {
      "text/plain": [
       "True"
      ]
     },
     "execution_count": 59,
     "metadata": {},
     "output_type": "execute_result"
    }
   ],
   "source": [
    "True or False"
   ]
  },
  {
   "cell_type": "code",
   "execution_count": 1,
   "id": "790e1584-7ccd-4f62-a31e-7e1955679cf3",
   "metadata": {},
   "outputs": [
    {
     "data": {
      "text/plain": [
       "True"
      ]
     },
     "execution_count": 1,
     "metadata": {},
     "output_type": "execute_result"
    }
   ],
   "source": [
    "#Not operator \n",
    "not False"
   ]
  },
  {
   "cell_type": "code",
   "execution_count": 2,
   "id": "56488b2d-70a2-4950-8572-40e532966a48",
   "metadata": {},
   "outputs": [],
   "source": [
    "#Assignment Operator \n",
    "\n",
    "a = 3 \n"
   ]
  },
  {
   "cell_type": "code",
   "execution_count": 3,
   "id": "3eca0ce4-afd4-4fc6-baa6-346510a5c048",
   "metadata": {},
   "outputs": [
    {
     "data": {
      "text/plain": [
       "8"
      ]
     },
     "execution_count": 3,
     "metadata": {},
     "output_type": "execute_result"
    }
   ],
   "source": [
    "a = 3 \n",
    "a+5"
   ]
  },
  {
   "cell_type": "code",
   "execution_count": 6,
   "id": "b4750f41-9c64-41c8-a744-1cb2da25bd92",
   "metadata": {},
   "outputs": [
    {
     "data": {
      "text/plain": [
       "8"
      ]
     },
     "execution_count": 6,
     "metadata": {},
     "output_type": "execute_result"
    }
   ],
   "source": [
    "a = 3 \n",
    "a = a+5\n",
    "a"
   ]
  },
  {
   "cell_type": "code",
   "execution_count": 9,
   "id": "4401b305-05f6-432d-81e5-f86a37b45780",
   "metadata": {},
   "outputs": [
    {
     "data": {
      "text/plain": [
       "8"
      ]
     },
     "execution_count": 9,
     "metadata": {},
     "output_type": "execute_result"
    }
   ],
   "source": [
    "a = 3 \n",
    "a += 5\n",
    "a"
   ]
  },
  {
   "cell_type": "code",
   "execution_count": 10,
   "id": "594a917a-e4a4-40b4-9fcd-25f1e4e79ba9",
   "metadata": {},
   "outputs": [
    {
     "data": {
      "text/plain": [
       "6"
      ]
     },
     "execution_count": 10,
     "metadata": {},
     "output_type": "execute_result"
    }
   ],
   "source": [
    "a -= 2\n",
    "a"
   ]
  },
  {
   "cell_type": "code",
   "execution_count": 11,
   "id": "1ae126a2-5412-4cb7-b4e8-bc5f0b665617",
   "metadata": {},
   "outputs": [
    {
     "data": {
      "text/plain": [
       "True"
      ]
     },
     "execution_count": 11,
     "metadata": {},
     "output_type": "execute_result"
    }
   ],
   "source": [
    "# membership operator - \n",
    "\n",
    "a = \"Pwskills\"\n",
    "\"P\" in a "
   ]
  },
  {
   "cell_type": "code",
   "execution_count": 12,
   "id": "5ddc8f8c-1b8e-4f58-a369-44772ef1202f",
   "metadata": {},
   "outputs": [
    {
     "data": {
      "text/plain": [
       "True"
      ]
     },
     "execution_count": 12,
     "metadata": {},
     "output_type": "execute_result"
    }
   ],
   "source": [
    "\"sachin\" in [\"sachin\", \"harshit\", \"pranay\"]"
   ]
  },
  {
   "cell_type": "code",
   "execution_count": 13,
   "id": "97b47a7c-c615-4080-8ce2-8a12767c453a",
   "metadata": {},
   "outputs": [
    {
     "data": {
      "text/plain": [
       "True"
      ]
     },
     "execution_count": 13,
     "metadata": {},
     "output_type": "execute_result"
    }
   ],
   "source": [
    "\"am\" in \" I am Sachin\""
   ]
  },
  {
   "cell_type": "code",
   "execution_count": 14,
   "id": "ea581cb7-455f-4f41-8635-88aa4adfe131",
   "metadata": {},
   "outputs": [
    {
     "data": {
      "text/plain": [
       "False"
      ]
     },
     "execution_count": 14,
     "metadata": {},
     "output_type": "execute_result"
    }
   ],
   "source": [
    "\"am\" not in \" I am sachin\""
   ]
  },
  {
   "cell_type": "code",
   "execution_count": 15,
   "id": "8cbf7677-883e-41b7-b7a0-caf6ee0fa7e8",
   "metadata": {},
   "outputs": [
    {
     "data": {
      "text/plain": [
       "False"
      ]
     },
     "execution_count": 15,
     "metadata": {},
     "output_type": "execute_result"
    }
   ],
   "source": [
    "# identity operator >> compare the memory location of two objects \n",
    "\n",
    "a = 3 \n",
    "b = 5 \n",
    "a is b "
   ]
  },
  {
   "cell_type": "code",
   "execution_count": 16,
   "id": "cfc2718a-0909-4293-810f-2cebd8169c1c",
   "metadata": {},
   "outputs": [
    {
     "data": {
      "text/plain": [
       "5"
      ]
     },
     "execution_count": 16,
     "metadata": {},
     "output_type": "execute_result"
    }
   ],
   "source": [
    "a = 3 \n",
    "b = 5 \n",
    "a = b \n",
    "a"
   ]
  },
  {
   "cell_type": "code",
   "execution_count": 17,
   "id": "da93d187-20f1-4917-8b64-a7293b395199",
   "metadata": {},
   "outputs": [
    {
     "data": {
      "text/plain": [
       "5"
      ]
     },
     "execution_count": 17,
     "metadata": {},
     "output_type": "execute_result"
    }
   ],
   "source": [
    "b"
   ]
  },
  {
   "cell_type": "code",
   "execution_count": 18,
   "id": "fb16947c-fd11-429f-a3a7-47d663ab7252",
   "metadata": {},
   "outputs": [
    {
     "data": {
      "text/plain": [
       "True"
      ]
     },
     "execution_count": 18,
     "metadata": {},
     "output_type": "execute_result"
    }
   ],
   "source": [
    "a is b "
   ]
  },
  {
   "cell_type": "code",
   "execution_count": 20,
   "id": "32987fd9-0527-4777-935d-18159240d77c",
   "metadata": {},
   "outputs": [
    {
     "data": {
      "text/plain": [
       "True"
      ]
     },
     "execution_count": 20,
     "metadata": {},
     "output_type": "execute_result"
    }
   ],
   "source": [
    "a = \"pwskills\"\n",
    "b = \"pwskills\"\n",
    "a is b "
   ]
  },
  {
   "cell_type": "code",
   "execution_count": 21,
   "id": "80566d4e-1824-43ea-884c-cc308775cd0e",
   "metadata": {},
   "outputs": [
    {
     "data": {
      "text/plain": [
       "False"
      ]
     },
     "execution_count": 21,
     "metadata": {},
     "output_type": "execute_result"
    }
   ],
   "source": [
    "a = \"pwskills\"\n",
    "b = \"data\"\n",
    "a is b "
   ]
  },
  {
   "cell_type": "code",
   "execution_count": 22,
   "id": "153c9e2f-2af4-42ab-a754-2772daf4d772",
   "metadata": {},
   "outputs": [
    {
     "data": {
      "text/plain": [
       "10"
      ]
     },
     "execution_count": 22,
     "metadata": {},
     "output_type": "execute_result"
    }
   ],
   "source": [
    "#Bitwise operator  >> operations done at bit levels \n",
    "\n",
    "10 & 10 "
   ]
  },
  {
   "cell_type": "code",
   "execution_count": 23,
   "id": "8039ec9a-d9f6-4d9d-a716-888e63093eed",
   "metadata": {},
   "outputs": [
    {
     "data": {
      "text/plain": [
       "'0b1010'"
      ]
     },
     "execution_count": 23,
     "metadata": {},
     "output_type": "execute_result"
    }
   ],
   "source": [
    "bin(10)"
   ]
  },
  {
   "cell_type": "code",
   "execution_count": 24,
   "id": "625dd6f2-f315-4f00-b19d-30ef0e1b890f",
   "metadata": {},
   "outputs": [
    {
     "data": {
      "text/plain": [
       "2"
      ]
     },
     "execution_count": 24,
     "metadata": {},
     "output_type": "execute_result"
    }
   ],
   "source": [
    "18 & 3"
   ]
  },
  {
   "cell_type": "code",
   "execution_count": 25,
   "id": "37388ba5-2649-4f16-aff1-e0d2621280df",
   "metadata": {},
   "outputs": [
    {
     "data": {
      "text/plain": [
       "7"
      ]
     },
     "execution_count": 25,
     "metadata": {},
     "output_type": "execute_result"
    }
   ],
   "source": [
    "3 | 5"
   ]
  },
  {
   "cell_type": "code",
   "execution_count": 26,
   "id": "c23ee162-d07d-4986-b2ab-38f06d4ce219",
   "metadata": {},
   "outputs": [
    {
     "data": {
      "text/plain": [
       "-4"
      ]
     },
     "execution_count": 26,
     "metadata": {},
     "output_type": "execute_result"
    }
   ],
   "source": [
    "# negation \n",
    "~3"
   ]
  },
  {
   "cell_type": "code",
   "execution_count": 27,
   "id": "dddab463-0c05-4881-a529-2d5352de1204",
   "metadata": {},
   "outputs": [
    {
     "data": {
      "text/plain": [
       "-101"
      ]
     },
     "execution_count": 27,
     "metadata": {},
     "output_type": "execute_result"
    }
   ],
   "source": [
    "~100"
   ]
  },
  {
   "cell_type": "code",
   "execution_count": 28,
   "id": "ef60314c-4d14-444b-bd9d-f8a705367861",
   "metadata": {},
   "outputs": [
    {
     "data": {
      "text/plain": [
       "6"
      ]
     },
     "execution_count": 28,
     "metadata": {},
     "output_type": "execute_result"
    }
   ],
   "source": [
    "# XOR operator .. return 1 when exzctly one operand is 1 \n",
    "\n",
    "5 ^ 3 "
   ]
  },
  {
   "cell_type": "code",
   "execution_count": 29,
   "id": "bc011951-da5a-4c84-aebd-950a6999f300",
   "metadata": {},
   "outputs": [
    {
     "data": {
      "text/plain": [
       "'0b101'"
      ]
     },
     "execution_count": 29,
     "metadata": {},
     "output_type": "execute_result"
    }
   ],
   "source": [
    "bin(5)"
   ]
  },
  {
   "cell_type": "code",
   "execution_count": 30,
   "id": "fe755d7d-d107-4729-a614-4f287c6004ed",
   "metadata": {},
   "outputs": [
    {
     "data": {
      "text/plain": [
       "'0b11'"
      ]
     },
     "execution_count": 30,
     "metadata": {},
     "output_type": "execute_result"
    }
   ],
   "source": [
    "bin(3)"
   ]
  },
  {
   "cell_type": "code",
   "execution_count": 31,
   "id": "75033bcd-e42b-4bd6-942d-45d76141ab2b",
   "metadata": {},
   "outputs": [],
   "source": [
    "#shift >>left shift and right shift \n"
   ]
  },
  {
   "cell_type": "code",
   "execution_count": 32,
   "id": "4a8c043e-f634-4e45-b770-56233359c963",
   "metadata": {},
   "outputs": [
    {
     "data": {
      "text/plain": [
       "280"
      ]
     },
     "execution_count": 32,
     "metadata": {},
     "output_type": "execute_result"
    }
   ],
   "source": [
    "#left shift >> put no of zeros on right side\n",
    "\n",
    "35 << 3"
   ]
  },
  {
   "cell_type": "code",
   "execution_count": 33,
   "id": "8aef8fae-7f38-4a98-9d37-91a67abf38aa",
   "metadata": {},
   "outputs": [
    {
     "data": {
      "text/plain": [
       "'0b100011'"
      ]
     },
     "execution_count": 33,
     "metadata": {},
     "output_type": "execute_result"
    }
   ],
   "source": [
    "bin(35)"
   ]
  },
  {
   "cell_type": "code",
   "execution_count": 34,
   "id": "8a700fda-ef9a-4cb2-a290-c2f016a7a9c3",
   "metadata": {},
   "outputs": [
    {
     "data": {
      "text/plain": [
       "'0b11'"
      ]
     },
     "execution_count": 34,
     "metadata": {},
     "output_type": "execute_result"
    }
   ],
   "source": [
    "bin(3)"
   ]
  },
  {
   "cell_type": "code",
   "execution_count": 35,
   "id": "f8498e84-008f-4b19-b3cc-12428c17b0c2",
   "metadata": {},
   "outputs": [],
   "source": [
    "#right shift >> remove the no of elements "
   ]
  },
  {
   "cell_type": "code",
   "execution_count": 36,
   "id": "8925e67e-dda8-4c51-b63b-0f3580c5e096",
   "metadata": {},
   "outputs": [
    {
     "data": {
      "text/plain": [
       "35"
      ]
     },
     "execution_count": 36,
     "metadata": {},
     "output_type": "execute_result"
    }
   ],
   "source": [
    "280 >> 3"
   ]
  },
  {
   "cell_type": "code",
   "execution_count": 37,
   "id": "5202466d-5ff9-4732-9f8a-b569e8fbfd3f",
   "metadata": {},
   "outputs": [
    {
     "data": {
      "text/plain": [
       "'0b100011000'"
      ]
     },
     "execution_count": 37,
     "metadata": {},
     "output_type": "execute_result"
    }
   ],
   "source": [
    "bin(280)"
   ]
  },
  {
   "cell_type": "code",
   "execution_count": 38,
   "id": "51a11fca-dd0f-4a27-896a-f034e156f866",
   "metadata": {},
   "outputs": [
    {
     "data": {
      "text/plain": [
       "'0b100011'"
      ]
     },
     "execution_count": 38,
     "metadata": {},
     "output_type": "execute_result"
    }
   ],
   "source": [
    "bin(35)"
   ]
  },
  {
   "cell_type": "code",
   "execution_count": 39,
   "id": "b73fa679-1dd9-4196-9d32-dc47d615e60d",
   "metadata": {},
   "outputs": [],
   "source": [
    "#order of precedence \n",
    "# left of right \n",
    "a = 4\n",
    "a += 5 "
   ]
  },
  {
   "cell_type": "code",
   "execution_count": 40,
   "id": "7b89aa33-f18c-4f20-b287-56c219b26702",
   "metadata": {},
   "outputs": [
    {
     "data": {
      "text/plain": [
       "9"
      ]
     },
     "execution_count": 40,
     "metadata": {},
     "output_type": "execute_result"
    }
   ],
   "source": [
    "a"
   ]
  },
  {
   "cell_type": "code",
   "execution_count": 41,
   "id": "03d4acd2-caa1-4fb3-a8b4-ca12852171c7",
   "metadata": {},
   "outputs": [
    {
     "data": {
      "text/plain": [
       "4"
      ]
     },
     "execution_count": 41,
     "metadata": {},
     "output_type": "execute_result"
    }
   ],
   "source": [
    "2+3-1"
   ]
  },
  {
   "cell_type": "code",
   "execution_count": 42,
   "id": "1a5b15f6-b0d2-49b9-8da1-64ead5ab3c13",
   "metadata": {},
   "outputs": [
    {
     "data": {
      "text/plain": [
       "-4"
      ]
     },
     "execution_count": 42,
     "metadata": {},
     "output_type": "execute_result"
    }
   ],
   "source": [
    "4 -(5+3)"
   ]
  },
  {
   "cell_type": "code",
   "execution_count": 43,
   "id": "4dc3aa7f-6ce7-4523-aa7e-44be4ff98a57",
   "metadata": {},
   "outputs": [],
   "source": [
    "# type conversion / type casting "
   ]
  },
  {
   "cell_type": "code",
   "execution_count": 44,
   "id": "66194de4-e8ee-40d2-bcce-23c15757a988",
   "metadata": {},
   "outputs": [
    {
     "data": {
      "text/plain": [
       "str"
      ]
     },
     "execution_count": 44,
     "metadata": {},
     "output_type": "execute_result"
    }
   ],
   "source": [
    "a = \"5\"\n",
    "type(a)"
   ]
  },
  {
   "cell_type": "code",
   "execution_count": 45,
   "id": "58f8f1a3-1f3a-4a38-b920-d5ae4c7a1730",
   "metadata": {},
   "outputs": [
    {
     "data": {
      "text/plain": [
       "13"
      ]
     },
     "execution_count": 45,
     "metadata": {},
     "output_type": "execute_result"
    }
   ],
   "source": [
    "6 + 7"
   ]
  },
  {
   "cell_type": "code",
   "execution_count": 46,
   "id": "ff3886d6-1a88-43aa-8ede-b1047c6dfe79",
   "metadata": {},
   "outputs": [
    {
     "ename": "TypeError",
     "evalue": "can only concatenate str (not \"int\") to str",
     "output_type": "error",
     "traceback": [
      "\u001b[0;31m---------------------------------------------------------------------------\u001b[0m",
      "\u001b[0;31mTypeError\u001b[0m                                 Traceback (most recent call last)",
      "Cell \u001b[0;32mIn[46], line 1\u001b[0m\n\u001b[0;32m----> 1\u001b[0m \u001b[38;5;124;43m\"\u001b[39;49m\u001b[38;5;124;43m6\u001b[39;49m\u001b[38;5;124;43m\"\u001b[39;49m\u001b[43m \u001b[49m\u001b[38;5;241;43m+\u001b[39;49m\u001b[38;5;241;43m7\u001b[39;49m\n",
      "\u001b[0;31mTypeError\u001b[0m: can only concatenate str (not \"int\") to str"
     ]
    }
   ],
   "source": [
    "\"6\" +7"
   ]
  },
  {
   "cell_type": "code",
   "execution_count": 47,
   "id": "74bec16d-816c-4d36-9299-c73d899dbc6f",
   "metadata": {},
   "outputs": [
    {
     "data": {
      "text/plain": [
       "13"
      ]
     },
     "execution_count": 47,
     "metadata": {},
     "output_type": "execute_result"
    }
   ],
   "source": [
    "int(\"6\")+7"
   ]
  },
  {
   "cell_type": "code",
   "execution_count": 49,
   "id": "7dd76c43-528b-41ca-981c-458f6bf96e90",
   "metadata": {},
   "outputs": [
    {
     "data": {
      "text/plain": [
       "106"
      ]
     },
     "execution_count": 49,
     "metadata": {},
     "output_type": "execute_result"
    }
   ],
   "source": [
    "a = \"100\"\n",
    "b = 6 \n",
    "a = int(a)\n",
    "a + b"
   ]
  },
  {
   "cell_type": "code",
   "execution_count": 51,
   "id": "868eb9c7-a5cf-44b3-9841-ebf361d47dbf",
   "metadata": {},
   "outputs": [
    {
     "data": {
      "text/plain": [
       "float"
      ]
     },
     "execution_count": 51,
     "metadata": {},
     "output_type": "execute_result"
    }
   ],
   "source": [
    "a = 599\n",
    "type(float(a))"
   ]
  },
  {
   "cell_type": "code",
   "execution_count": 52,
   "id": "e46bdb1a-6918-4e89-a7a1-3338ff9c6b97",
   "metadata": {},
   "outputs": [],
   "source": [
    "# type casting is of two types>> implicit and explicit "
   ]
  },
  {
   "cell_type": "code",
   "execution_count": 53,
   "id": "a4b24560-43b9-496b-ac41-91183e7e094a",
   "metadata": {},
   "outputs": [
    {
     "data": {
      "text/plain": [
       "1100"
      ]
     },
     "execution_count": 53,
     "metadata": {},
     "output_type": "execute_result"
    }
   ],
   "source": [
    "a = 500 \n",
    "b = 600 \n",
    "a+b"
   ]
  },
  {
   "cell_type": "code",
   "execution_count": 54,
   "id": "c6b7b338-e5ad-44c8-9628-c4cede7e0d01",
   "metadata": {},
   "outputs": [
    {
     "data": {
      "text/plain": [
       "float"
      ]
     },
     "execution_count": 54,
     "metadata": {},
     "output_type": "execute_result"
    }
   ],
   "source": [
    "b = 200.3\n",
    "type(b)"
   ]
  },
  {
   "cell_type": "code",
   "execution_count": 57,
   "id": "2471cd6e-2dbf-43c0-82c1-e933ba8810c5",
   "metadata": {},
   "outputs": [
    {
     "data": {
      "text/plain": [
       "str"
      ]
     },
     "execution_count": 57,
     "metadata": {},
     "output_type": "execute_result"
    }
   ],
   "source": [
    "a = 109\n",
    "a= str(a)\n",
    "type(a)"
   ]
  },
  {
   "cell_type": "code",
   "execution_count": 58,
   "id": "dc33e95d-ca31-4294-a8a5-a7bf3d49f9dd",
   "metadata": {},
   "outputs": [
    {
     "ename": "ValueError",
     "evalue": "invalid literal for int() with base 10: 'Ajay'",
     "output_type": "error",
     "traceback": [
      "\u001b[0;31m---------------------------------------------------------------------------\u001b[0m",
      "\u001b[0;31mValueError\u001b[0m                                Traceback (most recent call last)",
      "Cell \u001b[0;32mIn[58], line 2\u001b[0m\n\u001b[1;32m      1\u001b[0m a \u001b[38;5;241m=\u001b[39m \u001b[38;5;124m\"\u001b[39m\u001b[38;5;124mAjay\u001b[39m\u001b[38;5;124m\"\u001b[39m\n\u001b[0;32m----> 2\u001b[0m a \u001b[38;5;241m=\u001b[39m \u001b[38;5;28;43mint\u001b[39;49m\u001b[43m(\u001b[49m\u001b[43ma\u001b[49m\u001b[43m)\u001b[49m\n\u001b[1;32m      3\u001b[0m \u001b[38;5;28mtype\u001b[39m(a)\n",
      "\u001b[0;31mValueError\u001b[0m: invalid literal for int() with base 10: 'Ajay'"
     ]
    }
   ],
   "source": [
    "a = \"Ajay\"\n",
    "a = int(a)\n",
    "type(a)"
   ]
  },
  {
   "cell_type": "code",
   "execution_count": null,
   "id": "4f0d1890-2f16-4861-bffc-7133a585dc8c",
   "metadata": {},
   "outputs": [],
   "source": []
  }
 ],
 "metadata": {
  "kernelspec": {
   "display_name": "Python 3 (ipykernel)",
   "language": "python",
   "name": "python3"
  },
  "language_info": {
   "codemirror_mode": {
    "name": "ipython",
    "version": 3
   },
   "file_extension": ".py",
   "mimetype": "text/x-python",
   "name": "python",
   "nbconvert_exporter": "python",
   "pygments_lexer": "ipython3",
   "version": "3.10.8"
  }
 },
 "nbformat": 4,
 "nbformat_minor": 5
}
